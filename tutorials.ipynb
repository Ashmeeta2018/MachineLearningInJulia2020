{
 "cells": [
  {
   "cell_type": "markdown",
   "source": [
    "# Machine Learning in Julia, JuliaCon2020"
   ],
   "metadata": {}
  },
  {
   "cell_type": "markdown",
   "source": [
    "A workshop introducing the machine learning toolbox\n",
    "[MLJ](https://alan-turing-institute.github.io/MLJ.jl/stable/)"
   ],
   "metadata": {}
  },
  {
   "cell_type": "markdown",
   "source": [
    "### Environment instantiation"
   ],
   "metadata": {}
  },
  {
   "cell_type": "markdown",
   "source": [
    "The following loads a Julia environment, defined in Project.toml and\n",
    "Manifest.toml files **which must be in the same directory as this\n",
    "file**:"
   ],
   "metadata": {}
  },
  {
   "outputs": [
    {
     "name": "stdout",
     "output_type": "stream",
     "text": [
      " Activating environment at `~/Dropbox/Julia7/MLJ/MachineLearningInJulia2020/Project.toml`\n"
     ]
    }
   ],
   "cell_type": "code",
   "source": [
    "include(joinpath(@__DIR__, \"setup.jl\"))"
   ],
   "metadata": {},
   "execution_count": 1
  },
  {
   "cell_type": "markdown",
   "source": [
    "If this is the notebook version of the tutorial, then it is\n",
    "recommended that you clear all cell outputs before attempting the\n",
    "tutorial."
   ],
   "metadata": {}
  },
  {
   "cell_type": "markdown",
   "source": [
    "## Contents"
   ],
   "metadata": {}
  },
  {
   "cell_type": "markdown",
   "source": [
    "- [Part 1: Data Representation](#part-1-data-representation)\n",
    "- [Part 2: Selecting, Training and Evaluating Models](#part-2-selecting-training-and-evaluating-models)"
   ],
   "metadata": {}
  },
  {
   "cell_type": "markdown",
   "source": [
    "## Part 1: Data Representation"
   ],
   "metadata": {}
  },
  {
   "cell_type": "markdown",
   "source": [
    "> **Goals:**\n",
    "> 1. Learn how MLJ specifies it's data requirements using \"scientific\" types\n",
    "> 2. Understand the options for representing tabular data\n",
    "> 3. Learn how to inspect and fix the representation of data to meet MLJ requirements"
   ],
   "metadata": {}
  },
  {
   "cell_type": "markdown",
   "source": [
    "### Scientific types"
   ],
   "metadata": {}
  },
  {
   "cell_type": "markdown",
   "source": [
    "To help you focus on the intended *purpose* or *interpretation* of\n",
    "data, MLJ models specify data requirements using *scientific types*,\n",
    "instead of machine types. An example of a scientific type is\n",
    "`OrderedFactor`. The other basic \"scalar\" scientific types are\n",
    "illustrated below:"
   ],
   "metadata": {}
  },
  {
   "cell_type": "markdown",
   "source": [
    "![](assets/scitypes.png)"
   ],
   "metadata": {}
  },
  {
   "cell_type": "markdown",
   "source": [
    "A scientific type is an ordinary Julia type (so it can be used for\n",
    "method dispatch, for example) but it usually has no instances. The\n",
    "`scitype` function is used to articulate MLJ's convention about how\n",
    "different machine types will be interpreted by MLJ models:"
   ],
   "metadata": {}
  },
  {
   "outputs": [
    {
     "output_type": "execute_result",
     "data": {
      "text/plain": "Continuous"
     },
     "metadata": {},
     "execution_count": 2
    }
   ],
   "cell_type": "code",
   "source": [
    "using MLJ\n",
    "scitype(3.141)"
   ],
   "metadata": {},
   "execution_count": 2
  },
  {
   "outputs": [
    {
     "output_type": "execute_result",
     "data": {
      "text/plain": "AbstractArray{Continuous,1}"
     },
     "metadata": {},
     "execution_count": 3
    }
   ],
   "cell_type": "code",
   "source": [
    "time = [2.3, 4.5, 4.2, 1.8, 7.1]\n",
    "scitype(time)"
   ],
   "metadata": {},
   "execution_count": 3
  },
  {
   "cell_type": "markdown",
   "source": [
    "To fix data which MLJ is interpreting incorrectly, we use the\n",
    "`coerce` method:"
   ],
   "metadata": {}
  },
  {
   "outputs": [
    {
     "output_type": "execute_result",
     "data": {
      "text/plain": "AbstractArray{Count,1}"
     },
     "metadata": {},
     "execution_count": 4
    }
   ],
   "cell_type": "code",
   "source": [
    "height = [185, 153, 163, 114, 180]\n",
    "scitype(height)"
   ],
   "metadata": {},
   "execution_count": 4
  },
  {
   "outputs": [
    {
     "output_type": "execute_result",
     "data": {
      "text/plain": "5-element Array{Float64,1}:\n 185.0\n 153.0\n 163.0\n 114.0\n 180.0"
     },
     "metadata": {},
     "execution_count": 5
    }
   ],
   "cell_type": "code",
   "source": [
    "height = coerce(height, Continuous)"
   ],
   "metadata": {},
   "execution_count": 5
  },
  {
   "cell_type": "markdown",
   "source": [
    "Here's an example of data we would want interpreted as\n",
    "`OrderedFactor` but isn't:"
   ],
   "metadata": {}
  },
  {
   "outputs": [
    {
     "output_type": "execute_result",
     "data": {
      "text/plain": "AbstractArray{Union{Missing, Textual},1}"
     },
     "metadata": {},
     "execution_count": 6
    }
   ],
   "cell_type": "code",
   "source": [
    "exam_mark = [\"rotten\", \"great\", \"bla\",  missing, \"great\"]\n",
    "scitype(exam_mark)"
   ],
   "metadata": {},
   "execution_count": 6
  },
  {
   "outputs": [
    {
     "name": "stdout",
     "output_type": "stream",
     "text": [
      "┌ Info: Trying to coerce from `Union{Missing, String}` to `OrderedFactor`.\n",
      "│ Coerced to `Union{Missing,OrderedFactor}` instead.\n",
      "└ @ MLJScientificTypes /Users/anthony/.julia/packages/MLJScientificTypes/wqfgN/src/convention/coerce.jl:126\n"
     ]
    },
    {
     "output_type": "execute_result",
     "data": {
      "text/plain": "5-element CategoricalArray{Union{Missing, String},1,UInt32}:\n \"rotten\"\n \"great\"\n \"bla\"\n missing\n \"great\""
     },
     "metadata": {},
     "execution_count": 7
    }
   ],
   "cell_type": "code",
   "source": [
    "exam_mark = coerce(exam_mark, OrderedFactor)"
   ],
   "metadata": {},
   "execution_count": 7
  },
  {
   "outputs": [
    {
     "output_type": "execute_result",
     "data": {
      "text/plain": "3-element Array{String,1}:\n \"bla\"\n \"great\"\n \"rotten\""
     },
     "metadata": {},
     "execution_count": 8
    }
   ],
   "cell_type": "code",
   "source": [
    "levels(exam_mark)"
   ],
   "metadata": {},
   "execution_count": 8
  },
  {
   "cell_type": "markdown",
   "source": [
    "Use `levels!` to put the classes in the right order:"
   ],
   "metadata": {}
  },
  {
   "outputs": [
    {
     "output_type": "execute_result",
     "data": {
      "text/plain": "true"
     },
     "metadata": {},
     "execution_count": 9
    }
   ],
   "cell_type": "code",
   "source": [
    "levels!(exam_mark, [\"rotten\", \"bla\", \"great\"])\n",
    "exam_mark[1] < exam_mark[2]"
   ],
   "metadata": {},
   "execution_count": 9
  },
  {
   "cell_type": "markdown",
   "source": [
    "When subsampling, no levels are not lost:"
   ],
   "metadata": {}
  },
  {
   "outputs": [
    {
     "output_type": "execute_result",
     "data": {
      "text/plain": "3-element Array{String,1}:\n \"rotten\"\n \"bla\"\n \"great\""
     },
     "metadata": {},
     "execution_count": 10
    }
   ],
   "cell_type": "code",
   "source": [
    "levels(exam_mark[1:2])"
   ],
   "metadata": {},
   "execution_count": 10
  },
  {
   "cell_type": "markdown",
   "source": [
    "**Note on binary data.** There is no separate scientific type for binary\n",
    "data. Binary data is `OrderedFactor{2}` if it has an intrinsic\n",
    "\"true\" class (eg, \"pass\"/\"fail\") and `Multiclass{2}` otherwise (eg,\n",
    "\"male\"/\"female\")."
   ],
   "metadata": {}
  },
  {
   "cell_type": "markdown",
   "source": [
    "### Two-dimensional data"
   ],
   "metadata": {}
  },
  {
   "cell_type": "markdown",
   "source": [
    "Whenever it makes sense, MLJ Models generally expect two-dimensional\n",
    "data to be *tabular*. All the tabular formats implementing the\n",
    "[Tables.jl API](https://juliadata.github.io/Tables.jl/stable/) (see\n",
    "this\n",
    "[list](https://github.com/JuliaData/Tables.jl/blob/master/INTEGRATIONS.md))\n",
    "have a scientific type of `Table` and can be used with such models."
   ],
   "metadata": {}
  },
  {
   "cell_type": "markdown",
   "source": [
    "The simplest example of a table is a the julia native *column\n",
    "table*, which is just a named tuple of equal-length vectors:"
   ],
   "metadata": {}
  },
  {
   "outputs": [
    {
     "output_type": "execute_result",
     "data": {
      "text/plain": "(h = [185.0, 153.0, 163.0, 114.0, 180.0],\n e = Union{Missing, CategoricalValue{String,UInt32}}[\"rotten\", \"great\", \"bla\", missing, \"great\"],\n t = [2.3, 4.5, 4.2, 1.8, 7.1],)"
     },
     "metadata": {},
     "execution_count": 11
    }
   ],
   "cell_type": "code",
   "source": [
    "column_table = (h=height, e=exam_mark, t=time)"
   ],
   "metadata": {},
   "execution_count": 11
  },
  {
   "outputs": [
    {
     "output_type": "execute_result",
     "data": {
      "text/plain": "Table{Union{AbstractArray{Union{Missing, OrderedFactor{3}},1}, AbstractArray{Continuous,1}}}"
     },
     "metadata": {},
     "execution_count": 12
    }
   ],
   "cell_type": "code",
   "source": [
    "scitype(column_table)"
   ],
   "metadata": {},
   "execution_count": 12
  },
  {
   "cell_type": "markdown",
   "source": [
    "Notice the `Table{K}` type parameter `K` encodes the scientific\n",
    "types of the columns. (This is useful when comparing table scitypes\n",
    "with `<:`). To inspect the individual column scitypes, we use the\n",
    "`schema` method instead:"
   ],
   "metadata": {}
  },
  {
   "outputs": [
    {
     "output_type": "execute_result",
     "data": {
      "text/plain": "┌\u001b[0m─────────\u001b[0m┬\u001b[0m─────────────────────────────────────────────────\u001b[0m┬\u001b[0m──────────────────────────────────\u001b[0m┐\u001b[0m\n│\u001b[0m\u001b[22m _.names \u001b[0m│\u001b[0m\u001b[22m _.types                                         \u001b[0m│\u001b[0m\u001b[22m _.scitypes                       \u001b[0m│\u001b[0m\n├\u001b[0m─────────\u001b[0m┼\u001b[0m─────────────────────────────────────────────────\u001b[0m┼\u001b[0m──────────────────────────────────\u001b[0m┤\u001b[0m\n│\u001b[0m h       \u001b[0m│\u001b[0m Float64                                         \u001b[0m│\u001b[0m Continuous                       \u001b[0m│\u001b[0m\n│\u001b[0m e       \u001b[0m│\u001b[0m Union{Missing, CategoricalValue{String,UInt32}} \u001b[0m│\u001b[0m Union{Missing, OrderedFactor{3}} \u001b[0m│\u001b[0m\n│\u001b[0m t       \u001b[0m│\u001b[0m Float64                                         \u001b[0m│\u001b[0m Continuous                       \u001b[0m│\u001b[0m\n└\u001b[0m─────────\u001b[0m┴\u001b[0m─────────────────────────────────────────────────\u001b[0m┴\u001b[0m──────────────────────────────────\u001b[0m┘\u001b[0m\n_.nrows = 5\n"
     },
     "metadata": {},
     "execution_count": 13
    }
   ],
   "cell_type": "code",
   "source": [
    "schema(column_table)"
   ],
   "metadata": {},
   "execution_count": 13
  },
  {
   "cell_type": "markdown",
   "source": [
    "Here are four other examples of tables:"
   ],
   "metadata": {}
  },
  {
   "outputs": [
    {
     "output_type": "execute_result",
     "data": {
      "text/plain": "┌\u001b[0m─────────\u001b[0m┬\u001b[0m─────────\u001b[0m┬\u001b[0m────────────\u001b[0m┐\u001b[0m\n│\u001b[0m\u001b[22m _.names \u001b[0m│\u001b[0m\u001b[22m _.types \u001b[0m│\u001b[0m\u001b[22m _.scitypes \u001b[0m│\u001b[0m\n├\u001b[0m─────────\u001b[0m┼\u001b[0m─────────\u001b[0m┼\u001b[0m────────────\u001b[0m┤\u001b[0m\n│\u001b[0m a       \u001b[0m│\u001b[0m Int64   \u001b[0m│\u001b[0m Count      \u001b[0m│\u001b[0m\n│\u001b[0m b       \u001b[0m│\u001b[0m Float64 \u001b[0m│\u001b[0m Continuous \u001b[0m│\u001b[0m\n└\u001b[0m─────────\u001b[0m┴\u001b[0m─────────\u001b[0m┴\u001b[0m────────────\u001b[0m┘\u001b[0m\n_.nrows = 3\n"
     },
     "metadata": {},
     "execution_count": 14
    }
   ],
   "cell_type": "code",
   "source": [
    "row_table = [(a=1, b=3.4),\n",
    "             (a=2, b=4.5),\n",
    "             (a=3, b=5.6)]\n",
    "schema(row_table)"
   ],
   "metadata": {},
   "execution_count": 14
  },
  {
   "outputs": [
    {
     "output_type": "execute_result",
     "data": {
      "text/plain": "5×3 DataFrame\n│ Row │ h       │ e       │ t       │\n│     │ \u001b[90mFloat64\u001b[39m │ \u001b[90mCat…?\u001b[39m   │ \u001b[90mFloat64\u001b[39m │\n├─────┼─────────┼─────────┼─────────┤\n│ 1   │ 185.0   │ rotten  │ 2.3     │\n│ 2   │ 153.0   │ great   │ 4.5     │\n│ 3   │ 163.0   │ bla     │ 4.2     │\n│ 4   │ 114.0   │ \u001b[90mmissing\u001b[39m │ 1.8     │\n│ 5   │ 180.0   │ great   │ 7.1     │",
      "text/html": [
       "<table class=\"data-frame\"><thead><tr><th></th><th>h</th><th>e</th><th>t</th></tr><tr><th></th><th>Float64</th><th>Cat…?</th><th>Float64</th></tr></thead><tbody><p>5 rows × 3 columns</p><tr><th>1</th><td>185.0</td><td>rotten</td><td>2.3</td></tr><tr><th>2</th><td>153.0</td><td>great</td><td>4.5</td></tr><tr><th>3</th><td>163.0</td><td>bla</td><td>4.2</td></tr><tr><th>4</th><td>114.0</td><td><em>missing</em></td><td>1.8</td></tr><tr><th>5</th><td>180.0</td><td>great</td><td>7.1</td></tr></tbody></table>"
      ]
     },
     "metadata": {},
     "execution_count": 15
    }
   ],
   "cell_type": "code",
   "source": [
    "import DataFrames\n",
    "df = DataFrames.DataFrame(column_table)"
   ],
   "metadata": {},
   "execution_count": 15
  },
  {
   "outputs": [
    {
     "output_type": "execute_result",
     "data": {
      "text/plain": "┌\u001b[0m─────────\u001b[0m┬\u001b[0m─────────────────────────────────────────────────\u001b[0m┬\u001b[0m──────────────────────────────────\u001b[0m┐\u001b[0m\n│\u001b[0m\u001b[22m _.names \u001b[0m│\u001b[0m\u001b[22m _.types                                         \u001b[0m│\u001b[0m\u001b[22m _.scitypes                       \u001b[0m│\u001b[0m\n├\u001b[0m─────────\u001b[0m┼\u001b[0m─────────────────────────────────────────────────\u001b[0m┼\u001b[0m──────────────────────────────────\u001b[0m┤\u001b[0m\n│\u001b[0m h       \u001b[0m│\u001b[0m Float64                                         \u001b[0m│\u001b[0m Continuous                       \u001b[0m│\u001b[0m\n│\u001b[0m e       \u001b[0m│\u001b[0m Union{Missing, CategoricalValue{String,UInt32}} \u001b[0m│\u001b[0m Union{Missing, OrderedFactor{3}} \u001b[0m│\u001b[0m\n│\u001b[0m t       \u001b[0m│\u001b[0m Float64                                         \u001b[0m│\u001b[0m Continuous                       \u001b[0m│\u001b[0m\n└\u001b[0m─────────\u001b[0m┴\u001b[0m─────────────────────────────────────────────────\u001b[0m┴\u001b[0m──────────────────────────────────\u001b[0m┘\u001b[0m\n_.nrows = 5\n"
     },
     "metadata": {},
     "execution_count": 16
    }
   ],
   "cell_type": "code",
   "source": [
    "schema(df)"
   ],
   "metadata": {},
   "execution_count": 16
  },
  {
   "outputs": [
    {
     "output_type": "execute_result",
     "data": {
      "text/plain": "┌\u001b[0m─────────────────────────\u001b[0m┬\u001b[0m─────────\u001b[0m┬\u001b[0m────────────\u001b[0m┐\u001b[0m\n│\u001b[0m\u001b[22m _.names                 \u001b[0m│\u001b[0m\u001b[22m _.types \u001b[0m│\u001b[0m\u001b[22m _.scitypes \u001b[0m│\u001b[0m\n├\u001b[0m─────────────────────────\u001b[0m┼\u001b[0m─────────\u001b[0m┼\u001b[0m────────────\u001b[0m┤\u001b[0m\n│\u001b[0m surgery                 \u001b[0m│\u001b[0m Int64   \u001b[0m│\u001b[0m Count      \u001b[0m│\u001b[0m\n│\u001b[0m age                     \u001b[0m│\u001b[0m Int64   \u001b[0m│\u001b[0m Count      \u001b[0m│\u001b[0m\n│\u001b[0m rectal_temperature      \u001b[0m│\u001b[0m Float64 \u001b[0m│\u001b[0m Continuous \u001b[0m│\u001b[0m\n│\u001b[0m pulse                   \u001b[0m│\u001b[0m Int64   \u001b[0m│\u001b[0m Count      \u001b[0m│\u001b[0m\n│\u001b[0m respiratory_rate        \u001b[0m│\u001b[0m Int64   \u001b[0m│\u001b[0m Count      \u001b[0m│\u001b[0m\n│\u001b[0m temperature_extremities \u001b[0m│\u001b[0m Int64   \u001b[0m│\u001b[0m Count      \u001b[0m│\u001b[0m\n│\u001b[0m mucous_membranes        \u001b[0m│\u001b[0m Int64   \u001b[0m│\u001b[0m Count      \u001b[0m│\u001b[0m\n│\u001b[0m capillary_refill_time   \u001b[0m│\u001b[0m Int64   \u001b[0m│\u001b[0m Count      \u001b[0m│\u001b[0m\n│\u001b[0m pain                    \u001b[0m│\u001b[0m Int64   \u001b[0m│\u001b[0m Count      \u001b[0m│\u001b[0m\n│\u001b[0m peristalsis             \u001b[0m│\u001b[0m Int64   \u001b[0m│\u001b[0m Count      \u001b[0m│\u001b[0m\n│\u001b[0m abdominal_distension    \u001b[0m│\u001b[0m Int64   \u001b[0m│\u001b[0m Count      \u001b[0m│\u001b[0m\n│\u001b[0m packed_cell_volume      \u001b[0m│\u001b[0m Float64 \u001b[0m│\u001b[0m Continuous \u001b[0m│\u001b[0m\n│\u001b[0m total_protein           \u001b[0m│\u001b[0m Float64 \u001b[0m│\u001b[0m Continuous \u001b[0m│\u001b[0m\n│\u001b[0m outcome                 \u001b[0m│\u001b[0m Int64   \u001b[0m│\u001b[0m Count      \u001b[0m│\u001b[0m\n│\u001b[0m surgical_lesion         \u001b[0m│\u001b[0m Int64   \u001b[0m│\u001b[0m Count      \u001b[0m│\u001b[0m\n│\u001b[0m cp_data                 \u001b[0m│\u001b[0m Int64   \u001b[0m│\u001b[0m Count      \u001b[0m│\u001b[0m\n└\u001b[0m─────────────────────────\u001b[0m┴\u001b[0m─────────\u001b[0m┴\u001b[0m────────────\u001b[0m┘\u001b[0m\n_.nrows = 366\n"
     },
     "metadata": {},
     "execution_count": 17
    }
   ],
   "cell_type": "code",
   "source": [
    "using CSV\n",
    "file = CSV.File(joinpath(DIR, \"data\", \"horse.csv\"));\n",
    "schema(file) # (triggers a file read)"
   ],
   "metadata": {},
   "execution_count": 17
  },
  {
   "cell_type": "markdown",
   "source": [
    "Most MLJ models do not accept matrix in lieu of a table, but you can\n",
    "wrap a matrix as a table:"
   ],
   "metadata": {}
  },
  {
   "outputs": [
    {
     "output_type": "execute_result",
     "data": {
      "text/plain": "┌\u001b[0m─────────\u001b[0m┬\u001b[0m─────────\u001b[0m┬\u001b[0m────────────\u001b[0m┐\u001b[0m\n│\u001b[0m\u001b[22m _.names \u001b[0m│\u001b[0m\u001b[22m _.types \u001b[0m│\u001b[0m\u001b[22m _.scitypes \u001b[0m│\u001b[0m\n├\u001b[0m─────────\u001b[0m┼\u001b[0m─────────\u001b[0m┼\u001b[0m────────────\u001b[0m┤\u001b[0m\n│\u001b[0m x1      \u001b[0m│\u001b[0m Float64 \u001b[0m│\u001b[0m Continuous \u001b[0m│\u001b[0m\n│\u001b[0m x2      \u001b[0m│\u001b[0m Float64 \u001b[0m│\u001b[0m Continuous \u001b[0m│\u001b[0m\n│\u001b[0m x3      \u001b[0m│\u001b[0m Float64 \u001b[0m│\u001b[0m Continuous \u001b[0m│\u001b[0m\n└\u001b[0m─────────\u001b[0m┴\u001b[0m─────────\u001b[0m┴\u001b[0m────────────\u001b[0m┘\u001b[0m\n_.nrows = 2\n"
     },
     "metadata": {},
     "execution_count": 18
    }
   ],
   "cell_type": "code",
   "source": [
    "matrix_table = MLJ.table(rand(2,3))\n",
    "schema(matrix_table)"
   ],
   "metadata": {},
   "execution_count": 18
  },
  {
   "cell_type": "markdown",
   "source": [
    "Under the hood many algorithms convert tabular data to matrices. If\n",
    "your table is a wrapped matrix like the above, then the compiler\n",
    "will generally collapse the conversions to a no-op."
   ],
   "metadata": {}
  },
  {
   "cell_type": "markdown",
   "source": [
    "**Manipulating tabular data.** In this workshop we assume\n",
    "familiarity with some kind of tabular data container (although it is\n",
    "possible, in principle, to carry out the exercises without this.)\n",
    "For a quick start introduction to `DataFrames`, see [this\n",
    "tutorial](https://alan-turing-institute.github.io/DataScienceTutorials.jl/data/dataframe/)"
   ],
   "metadata": {}
  },
  {
   "cell_type": "markdown",
   "source": [
    "### Fixing scientific types in tabular data"
   ],
   "metadata": {}
  },
  {
   "cell_type": "markdown",
   "source": [
    "To show how we can correct the scientific types of data in tables,\n",
    "we introduce a cleaned up version of the UCI Horse Colic Data Set\n",
    "(the cleaning workflow is described\n",
    "[here](https://alan-turing-institute.github.io/DataScienceTutorials.jl/end-to-end/horse/#dealing_with_missing_values))"
   ],
   "metadata": {}
  },
  {
   "outputs": [
    {
     "output_type": "execute_result",
     "data": {
      "text/plain": "4×16 DataFrame. Omitted printing of 11 columns\n│ Row │ surgery │ age   │ rectal_temperature │ pulse │ respiratory_rate │\n│     │ \u001b[90mInt64\u001b[39m   │ \u001b[90mInt64\u001b[39m │ \u001b[90mFloat64\u001b[39m            │ \u001b[90mInt64\u001b[39m │ \u001b[90mInt64\u001b[39m            │\n├─────┼─────────┼───────┼────────────────────┼───────┼──────────────────┤\n│ 1   │ 2       │ 1     │ 38.5               │ 66    │ 66               │\n│ 2   │ 1       │ 1     │ 39.2               │ 88    │ 88               │\n│ 3   │ 2       │ 1     │ 38.3               │ 40    │ 40               │\n│ 4   │ 1       │ 9     │ 39.1               │ 164   │ 164              │",
      "text/html": [
       "<table class=\"data-frame\"><thead><tr><th></th><th>surgery</th><th>age</th><th>rectal_temperature</th><th>pulse</th><th>respiratory_rate</th><th>temperature_extremities</th><th>mucous_membranes</th></tr><tr><th></th><th>Int64</th><th>Int64</th><th>Float64</th><th>Int64</th><th>Int64</th><th>Int64</th><th>Int64</th></tr></thead><tbody><p>4 rows × 16 columns (omitted printing of 9 columns)</p><tr><th>1</th><td>2</td><td>1</td><td>38.5</td><td>66</td><td>66</td><td>3</td><td>1</td></tr><tr><th>2</th><td>1</td><td>1</td><td>39.2</td><td>88</td><td>88</td><td>3</td><td>4</td></tr><tr><th>3</th><td>2</td><td>1</td><td>38.3</td><td>40</td><td>40</td><td>1</td><td>3</td></tr><tr><th>4</th><td>1</td><td>9</td><td>39.1</td><td>164</td><td>164</td><td>4</td><td>6</td></tr></tbody></table>"
      ]
     },
     "metadata": {},
     "execution_count": 19
    }
   ],
   "cell_type": "code",
   "source": [
    "using CSV\n",
    "file = CSV.File(joinpath(DIR, \"data\", \"horse.csv\"));\n",
    "horse = DataFrames.DataFrame(file); # convert to data frame without copying columns\n",
    "first(horse, 4)"
   ],
   "metadata": {},
   "execution_count": 19
  },
  {
   "cell_type": "markdown",
   "source": [
    "From [the UCI\n",
    "docs](http://archive.ics.uci.edu/ml/datasets/Horse+Colic) we can\n",
    "surmise how each variable ought to be interpreted (a step in our\n",
    "workflow that cannot reliably be left to the computer):"
   ],
   "metadata": {}
  },
  {
   "cell_type": "markdown",
   "source": [
    "variable                    | scientific type (interpretation)\n",
    "----------------------------|-----------------------------------\n",
    "`:surgery`                  | Multiclass\n",
    "`:age`                      | Multiclass\n",
    "`:rectal_temperature`       | Continuous\n",
    "`:pulse`                    | Continuous\n",
    "`:respiratory_rate`         | Continuous\n",
    "`:temperature_extremities`  | OrderedFactor\n",
    "`:mucous_membranes`         | Multiclass\n",
    "`:capillary_refill_time`    | Multiclass\n",
    "`:pain`                     | OrderedFactor\n",
    "`:peristalsis`              | OrderedFactor\n",
    "`:abdominal_distension`     | OrderedFactor\n",
    "`:packed_cell_volume`       | Continuous\n",
    "`:total_protein`            | Continuous\n",
    "`:outcome`                  | Multiclass\n",
    "`:surgical_lesion`          | OrderedFactor\n",
    "`:cp_data`                  | Multiclass"
   ],
   "metadata": {}
  },
  {
   "cell_type": "markdown",
   "source": [
    "Let's see how MLJ will actually interpret the data, as it is\n",
    "currently encoded:"
   ],
   "metadata": {}
  },
  {
   "outputs": [
    {
     "output_type": "execute_result",
     "data": {
      "text/plain": "┌\u001b[0m─────────────────────────\u001b[0m┬\u001b[0m─────────\u001b[0m┬\u001b[0m────────────\u001b[0m┐\u001b[0m\n│\u001b[0m\u001b[22m _.names                 \u001b[0m│\u001b[0m\u001b[22m _.types \u001b[0m│\u001b[0m\u001b[22m _.scitypes \u001b[0m│\u001b[0m\n├\u001b[0m─────────────────────────\u001b[0m┼\u001b[0m─────────\u001b[0m┼\u001b[0m────────────\u001b[0m┤\u001b[0m\n│\u001b[0m surgery                 \u001b[0m│\u001b[0m Int64   \u001b[0m│\u001b[0m Count      \u001b[0m│\u001b[0m\n│\u001b[0m age                     \u001b[0m│\u001b[0m Int64   \u001b[0m│\u001b[0m Count      \u001b[0m│\u001b[0m\n│\u001b[0m rectal_temperature      \u001b[0m│\u001b[0m Float64 \u001b[0m│\u001b[0m Continuous \u001b[0m│\u001b[0m\n│\u001b[0m pulse                   \u001b[0m│\u001b[0m Int64   \u001b[0m│\u001b[0m Count      \u001b[0m│\u001b[0m\n│\u001b[0m respiratory_rate        \u001b[0m│\u001b[0m Int64   \u001b[0m│\u001b[0m Count      \u001b[0m│\u001b[0m\n│\u001b[0m temperature_extremities \u001b[0m│\u001b[0m Int64   \u001b[0m│\u001b[0m Count      \u001b[0m│\u001b[0m\n│\u001b[0m mucous_membranes        \u001b[0m│\u001b[0m Int64   \u001b[0m│\u001b[0m Count      \u001b[0m│\u001b[0m\n│\u001b[0m capillary_refill_time   \u001b[0m│\u001b[0m Int64   \u001b[0m│\u001b[0m Count      \u001b[0m│\u001b[0m\n│\u001b[0m pain                    \u001b[0m│\u001b[0m Int64   \u001b[0m│\u001b[0m Count      \u001b[0m│\u001b[0m\n│\u001b[0m peristalsis             \u001b[0m│\u001b[0m Int64   \u001b[0m│\u001b[0m Count      \u001b[0m│\u001b[0m\n│\u001b[0m abdominal_distension    \u001b[0m│\u001b[0m Int64   \u001b[0m│\u001b[0m Count      \u001b[0m│\u001b[0m\n│\u001b[0m packed_cell_volume      \u001b[0m│\u001b[0m Float64 \u001b[0m│\u001b[0m Continuous \u001b[0m│\u001b[0m\n│\u001b[0m total_protein           \u001b[0m│\u001b[0m Float64 \u001b[0m│\u001b[0m Continuous \u001b[0m│\u001b[0m\n│\u001b[0m outcome                 \u001b[0m│\u001b[0m Int64   \u001b[0m│\u001b[0m Count      \u001b[0m│\u001b[0m\n│\u001b[0m surgical_lesion         \u001b[0m│\u001b[0m Int64   \u001b[0m│\u001b[0m Count      \u001b[0m│\u001b[0m\n│\u001b[0m cp_data                 \u001b[0m│\u001b[0m Int64   \u001b[0m│\u001b[0m Count      \u001b[0m│\u001b[0m\n└\u001b[0m─────────────────────────\u001b[0m┴\u001b[0m─────────\u001b[0m┴\u001b[0m────────────\u001b[0m┘\u001b[0m\n_.nrows = 366\n"
     },
     "metadata": {},
     "execution_count": 20
    }
   ],
   "cell_type": "code",
   "source": [
    "schema(horse)"
   ],
   "metadata": {},
   "execution_count": 20
  },
  {
   "cell_type": "markdown",
   "source": [
    "As a first correction step, we can get MLJ to \"guess\" the\n",
    "appropriate fix, using the `autotype` method:"
   ],
   "metadata": {}
  },
  {
   "outputs": [
    {
     "output_type": "execute_result",
     "data": {
      "text/plain": "Dict{Symbol,Type} with 11 entries:\n  :abdominal_distension    => OrderedFactor\n  :pain                    => OrderedFactor\n  :surgery                 => OrderedFactor\n  :mucous_membranes        => OrderedFactor\n  :surgical_lesion         => OrderedFactor\n  :outcome                 => OrderedFactor\n  :capillary_refill_time   => OrderedFactor\n  :age                     => OrderedFactor\n  :temperature_extremities => OrderedFactor\n  :peristalsis             => OrderedFactor\n  :cp_data                 => OrderedFactor"
     },
     "metadata": {},
     "execution_count": 21
    }
   ],
   "cell_type": "code",
   "source": [
    "autotype(horse)"
   ],
   "metadata": {},
   "execution_count": 21
  },
  {
   "cell_type": "markdown",
   "source": [
    "Okay, this is not perfect, but a step in the right direction, which\n",
    "we implement like this:"
   ],
   "metadata": {}
  },
  {
   "outputs": [
    {
     "output_type": "execute_result",
     "data": {
      "text/plain": "┌\u001b[0m─────────────────────────\u001b[0m┬\u001b[0m────────────────────────────────\u001b[0m┬\u001b[0m──────────────────\u001b[0m┐\u001b[0m\n│\u001b[0m\u001b[22m _.names                 \u001b[0m│\u001b[0m\u001b[22m _.types                        \u001b[0m│\u001b[0m\u001b[22m _.scitypes       \u001b[0m│\u001b[0m\n├\u001b[0m─────────────────────────\u001b[0m┼\u001b[0m────────────────────────────────\u001b[0m┼\u001b[0m──────────────────\u001b[0m┤\u001b[0m\n│\u001b[0m surgery                 \u001b[0m│\u001b[0m CategoricalValue{Int64,UInt32} \u001b[0m│\u001b[0m OrderedFactor{2} \u001b[0m│\u001b[0m\n│\u001b[0m age                     \u001b[0m│\u001b[0m CategoricalValue{Int64,UInt32} \u001b[0m│\u001b[0m OrderedFactor{2} \u001b[0m│\u001b[0m\n│\u001b[0m rectal_temperature      \u001b[0m│\u001b[0m Float64                        \u001b[0m│\u001b[0m Continuous       \u001b[0m│\u001b[0m\n│\u001b[0m pulse                   \u001b[0m│\u001b[0m Int64                          \u001b[0m│\u001b[0m Count            \u001b[0m│\u001b[0m\n│\u001b[0m respiratory_rate        \u001b[0m│\u001b[0m Int64                          \u001b[0m│\u001b[0m Count            \u001b[0m│\u001b[0m\n│\u001b[0m temperature_extremities \u001b[0m│\u001b[0m CategoricalValue{Int64,UInt32} \u001b[0m│\u001b[0m OrderedFactor{4} \u001b[0m│\u001b[0m\n│\u001b[0m mucous_membranes        \u001b[0m│\u001b[0m CategoricalValue{Int64,UInt32} \u001b[0m│\u001b[0m OrderedFactor{6} \u001b[0m│\u001b[0m\n│\u001b[0m capillary_refill_time   \u001b[0m│\u001b[0m CategoricalValue{Int64,UInt32} \u001b[0m│\u001b[0m OrderedFactor{3} \u001b[0m│\u001b[0m\n│\u001b[0m pain                    \u001b[0m│\u001b[0m CategoricalValue{Int64,UInt32} \u001b[0m│\u001b[0m OrderedFactor{5} \u001b[0m│\u001b[0m\n│\u001b[0m peristalsis             \u001b[0m│\u001b[0m CategoricalValue{Int64,UInt32} \u001b[0m│\u001b[0m OrderedFactor{4} \u001b[0m│\u001b[0m\n│\u001b[0m abdominal_distension    \u001b[0m│\u001b[0m CategoricalValue{Int64,UInt32} \u001b[0m│\u001b[0m OrderedFactor{4} \u001b[0m│\u001b[0m\n│\u001b[0m packed_cell_volume      \u001b[0m│\u001b[0m Float64                        \u001b[0m│\u001b[0m Continuous       \u001b[0m│\u001b[0m\n│\u001b[0m total_protein           \u001b[0m│\u001b[0m Float64                        \u001b[0m│\u001b[0m Continuous       \u001b[0m│\u001b[0m\n│\u001b[0m outcome                 \u001b[0m│\u001b[0m CategoricalValue{Int64,UInt32} \u001b[0m│\u001b[0m OrderedFactor{3} \u001b[0m│\u001b[0m\n│\u001b[0m surgical_lesion         \u001b[0m│\u001b[0m CategoricalValue{Int64,UInt32} \u001b[0m│\u001b[0m OrderedFactor{2} \u001b[0m│\u001b[0m\n│\u001b[0m cp_data                 \u001b[0m│\u001b[0m CategoricalValue{Int64,UInt32} \u001b[0m│\u001b[0m OrderedFactor{2} \u001b[0m│\u001b[0m\n└\u001b[0m─────────────────────────\u001b[0m┴\u001b[0m────────────────────────────────\u001b[0m┴\u001b[0m──────────────────\u001b[0m┘\u001b[0m\n_.nrows = 366\n"
     },
     "metadata": {},
     "execution_count": 22
    }
   ],
   "cell_type": "code",
   "source": [
    "coerce!(horse, autotype(horse));\n",
    "schema(horse)"
   ],
   "metadata": {},
   "execution_count": 22
  },
  {
   "cell_type": "markdown",
   "source": [
    "All remaining `Count` data should be `Continuous`:"
   ],
   "metadata": {}
  },
  {
   "outputs": [
    {
     "output_type": "execute_result",
     "data": {
      "text/plain": "┌\u001b[0m─────────────────────────\u001b[0m┬\u001b[0m────────────────────────────────\u001b[0m┬\u001b[0m──────────────────\u001b[0m┐\u001b[0m\n│\u001b[0m\u001b[22m _.names                 \u001b[0m│\u001b[0m\u001b[22m _.types                        \u001b[0m│\u001b[0m\u001b[22m _.scitypes       \u001b[0m│\u001b[0m\n├\u001b[0m─────────────────────────\u001b[0m┼\u001b[0m────────────────────────────────\u001b[0m┼\u001b[0m──────────────────\u001b[0m┤\u001b[0m\n│\u001b[0m surgery                 \u001b[0m│\u001b[0m CategoricalValue{Int64,UInt32} \u001b[0m│\u001b[0m OrderedFactor{2} \u001b[0m│\u001b[0m\n│\u001b[0m age                     \u001b[0m│\u001b[0m CategoricalValue{Int64,UInt32} \u001b[0m│\u001b[0m OrderedFactor{2} \u001b[0m│\u001b[0m\n│\u001b[0m rectal_temperature      \u001b[0m│\u001b[0m Float64                        \u001b[0m│\u001b[0m Continuous       \u001b[0m│\u001b[0m\n│\u001b[0m pulse                   \u001b[0m│\u001b[0m Float64                        \u001b[0m│\u001b[0m Continuous       \u001b[0m│\u001b[0m\n│\u001b[0m respiratory_rate        \u001b[0m│\u001b[0m Float64                        \u001b[0m│\u001b[0m Continuous       \u001b[0m│\u001b[0m\n│\u001b[0m temperature_extremities \u001b[0m│\u001b[0m CategoricalValue{Int64,UInt32} \u001b[0m│\u001b[0m OrderedFactor{4} \u001b[0m│\u001b[0m\n│\u001b[0m mucous_membranes        \u001b[0m│\u001b[0m CategoricalValue{Int64,UInt32} \u001b[0m│\u001b[0m OrderedFactor{6} \u001b[0m│\u001b[0m\n│\u001b[0m capillary_refill_time   \u001b[0m│\u001b[0m CategoricalValue{Int64,UInt32} \u001b[0m│\u001b[0m OrderedFactor{3} \u001b[0m│\u001b[0m\n│\u001b[0m pain                    \u001b[0m│\u001b[0m CategoricalValue{Int64,UInt32} \u001b[0m│\u001b[0m OrderedFactor{5} \u001b[0m│\u001b[0m\n│\u001b[0m peristalsis             \u001b[0m│\u001b[0m CategoricalValue{Int64,UInt32} \u001b[0m│\u001b[0m OrderedFactor{4} \u001b[0m│\u001b[0m\n│\u001b[0m abdominal_distension    \u001b[0m│\u001b[0m CategoricalValue{Int64,UInt32} \u001b[0m│\u001b[0m OrderedFactor{4} \u001b[0m│\u001b[0m\n│\u001b[0m packed_cell_volume      \u001b[0m│\u001b[0m Float64                        \u001b[0m│\u001b[0m Continuous       \u001b[0m│\u001b[0m\n│\u001b[0m total_protein           \u001b[0m│\u001b[0m Float64                        \u001b[0m│\u001b[0m Continuous       \u001b[0m│\u001b[0m\n│\u001b[0m outcome                 \u001b[0m│\u001b[0m CategoricalValue{Int64,UInt32} \u001b[0m│\u001b[0m OrderedFactor{3} \u001b[0m│\u001b[0m\n│\u001b[0m surgical_lesion         \u001b[0m│\u001b[0m CategoricalValue{Int64,UInt32} \u001b[0m│\u001b[0m OrderedFactor{2} \u001b[0m│\u001b[0m\n│\u001b[0m cp_data                 \u001b[0m│\u001b[0m CategoricalValue{Int64,UInt32} \u001b[0m│\u001b[0m OrderedFactor{2} \u001b[0m│\u001b[0m\n└\u001b[0m─────────────────────────\u001b[0m┴\u001b[0m────────────────────────────────\u001b[0m┴\u001b[0m──────────────────\u001b[0m┘\u001b[0m\n_.nrows = 366\n"
     },
     "metadata": {},
     "execution_count": 23
    }
   ],
   "cell_type": "code",
   "source": [
    "coerce!(horse, Count => Continuous);\n",
    "schema(horse)"
   ],
   "metadata": {},
   "execution_count": 23
  },
  {
   "cell_type": "markdown",
   "source": [
    "We'll correct the remaining truant entries manually:"
   ],
   "metadata": {}
  },
  {
   "outputs": [
    {
     "output_type": "execute_result",
     "data": {
      "text/plain": "┌\u001b[0m─────────────────────────\u001b[0m┬\u001b[0m────────────────────────────────\u001b[0m┬\u001b[0m──────────────────\u001b[0m┐\u001b[0m\n│\u001b[0m\u001b[22m _.names                 \u001b[0m│\u001b[0m\u001b[22m _.types                        \u001b[0m│\u001b[0m\u001b[22m _.scitypes       \u001b[0m│\u001b[0m\n├\u001b[0m─────────────────────────\u001b[0m┼\u001b[0m────────────────────────────────\u001b[0m┼\u001b[0m──────────────────\u001b[0m┤\u001b[0m\n│\u001b[0m surgery                 \u001b[0m│\u001b[0m CategoricalValue{Int64,UInt32} \u001b[0m│\u001b[0m Multiclass{2}    \u001b[0m│\u001b[0m\n│\u001b[0m age                     \u001b[0m│\u001b[0m CategoricalValue{Int64,UInt32} \u001b[0m│\u001b[0m Multiclass{2}    \u001b[0m│\u001b[0m\n│\u001b[0m rectal_temperature      \u001b[0m│\u001b[0m Float64                        \u001b[0m│\u001b[0m Continuous       \u001b[0m│\u001b[0m\n│\u001b[0m pulse                   \u001b[0m│\u001b[0m Float64                        \u001b[0m│\u001b[0m Continuous       \u001b[0m│\u001b[0m\n│\u001b[0m respiratory_rate        \u001b[0m│\u001b[0m Float64                        \u001b[0m│\u001b[0m Continuous       \u001b[0m│\u001b[0m\n│\u001b[0m temperature_extremities \u001b[0m│\u001b[0m CategoricalValue{Int64,UInt32} \u001b[0m│\u001b[0m OrderedFactor{4} \u001b[0m│\u001b[0m\n│\u001b[0m mucous_membranes        \u001b[0m│\u001b[0m CategoricalValue{Int64,UInt32} \u001b[0m│\u001b[0m Multiclass{6}    \u001b[0m│\u001b[0m\n│\u001b[0m capillary_refill_time   \u001b[0m│\u001b[0m CategoricalValue{Int64,UInt32} \u001b[0m│\u001b[0m Multiclass{3}    \u001b[0m│\u001b[0m\n│\u001b[0m pain                    \u001b[0m│\u001b[0m CategoricalValue{Int64,UInt32} \u001b[0m│\u001b[0m OrderedFactor{5} \u001b[0m│\u001b[0m\n│\u001b[0m peristalsis             \u001b[0m│\u001b[0m CategoricalValue{Int64,UInt32} \u001b[0m│\u001b[0m OrderedFactor{4} \u001b[0m│\u001b[0m\n│\u001b[0m abdominal_distension    \u001b[0m│\u001b[0m CategoricalValue{Int64,UInt32} \u001b[0m│\u001b[0m OrderedFactor{4} \u001b[0m│\u001b[0m\n│\u001b[0m packed_cell_volume      \u001b[0m│\u001b[0m Float64                        \u001b[0m│\u001b[0m Continuous       \u001b[0m│\u001b[0m\n│\u001b[0m total_protein           \u001b[0m│\u001b[0m Float64                        \u001b[0m│\u001b[0m Continuous       \u001b[0m│\u001b[0m\n│\u001b[0m outcome                 \u001b[0m│\u001b[0m CategoricalValue{Int64,UInt32} \u001b[0m│\u001b[0m Multiclass{3}    \u001b[0m│\u001b[0m\n│\u001b[0m surgical_lesion         \u001b[0m│\u001b[0m CategoricalValue{Int64,UInt32} \u001b[0m│\u001b[0m OrderedFactor{2} \u001b[0m│\u001b[0m\n│\u001b[0m cp_data                 \u001b[0m│\u001b[0m CategoricalValue{Int64,UInt32} \u001b[0m│\u001b[0m Multiclass{2}    \u001b[0m│\u001b[0m\n└\u001b[0m─────────────────────────\u001b[0m┴\u001b[0m────────────────────────────────\u001b[0m┴\u001b[0m──────────────────\u001b[0m┘\u001b[0m\n_.nrows = 366\n"
     },
     "metadata": {},
     "execution_count": 24
    }
   ],
   "cell_type": "code",
   "source": [
    "coerce!(horse,\n",
    "        :surgery               => Multiclass,\n",
    "        :age                   => Multiclass,\n",
    "        :mucous_membranes      => Multiclass,\n",
    "        :capillary_refill_time => Multiclass,\n",
    "        :outcome               => Multiclass,\n",
    "        :cp_data               => Multiclass);\n",
    "schema(horse)"
   ],
   "metadata": {},
   "execution_count": 24
  },
  {
   "cell_type": "markdown",
   "source": [
    "### Resources for Part 1\n",
    "\n",
    "- From the MLJ manual:\n",
    "   - [A preview of data type specification in\n",
    "  MLJ](https://alan-turing-institute.github.io/MLJ.jl/dev/getting_started/#A-preview-of-data-type-specification-in-MLJ-1)\n",
    "   - [Data containers and scientific types](https://alan-turing-institute.github.io/MLJ.jl/dev/getting_started/#Data-containers-and-scientific-types-1)\n",
    "   - [Working with Categorical Data](https://alan-turing-institute.github.io/MLJ.jl/dev/working_with_categorical_data/)\n",
    "- [Summary](https://alan-turing-institute.github.io/MLJScientificTypes.jl/dev/#Summary-of-the-MLJ-convention-1) of the MLJ convention for representing scientific types\n",
    "- [MLJScientificTypes.jl](https://alan-turing-institute.github.io/MLJScientificTypes.jl/dev/)\n",
    "- From Data Science Tutorials:\n",
    "    - [Data interpretation: Scientific Types](https://alan-turing-institute.github.io/DataScienceTutorials.jl/data/scitype/)\n",
    "    - [Horse colic data](https://alan-turing-institute.github.io/DataScienceTutorials.jl/end-to-end/horse/)\n",
    "- [UCI Horse Colic Data Set](http://archive.ics.uci.edu/ml/datasets/Horse+Colic)"
   ],
   "metadata": {}
  },
  {
   "cell_type": "markdown",
   "source": [
    "### Exercises for Part 1"
   ],
   "metadata": {}
  },
  {
   "cell_type": "markdown",
   "source": [
    "#### Exercise 1"
   ],
   "metadata": {}
  },
  {
   "cell_type": "markdown",
   "source": [
    "Try to guess how each code snippet below will evaluate:"
   ],
   "metadata": {}
  },
  {
   "outputs": [
    {
     "output_type": "execute_result",
     "data": {
      "text/plain": "Count"
     },
     "metadata": {},
     "execution_count": 25
    }
   ],
   "cell_type": "code",
   "source": [
    "scitype(42)"
   ],
   "metadata": {},
   "execution_count": 25
  },
  {
   "outputs": [
    {
     "output_type": "execute_result",
     "data": {
      "text/plain": "AbstractArray{Textual,1}"
     },
     "metadata": {},
     "execution_count": 26
    }
   ],
   "cell_type": "code",
   "source": [
    "questions = [\"who\", \"why\", \"what\", \"when\"]\n",
    "scitype(questions)"
   ],
   "metadata": {},
   "execution_count": 26
  },
  {
   "outputs": [
    {
     "output_type": "execute_result",
     "data": {
      "text/plain": "Textual"
     },
     "metadata": {},
     "execution_count": 27
    }
   ],
   "cell_type": "code",
   "source": [
    "elscitype(questions)"
   ],
   "metadata": {},
   "execution_count": 27
  },
  {
   "outputs": [
    {
     "output_type": "execute_result",
     "data": {
      "text/plain": "Tuple{Continuous,Count,Textual}"
     },
     "metadata": {},
     "execution_count": 28
    }
   ],
   "cell_type": "code",
   "source": [
    "t = (3.141, 42, \"how\")\n",
    "scitype(t)"
   ],
   "metadata": {},
   "execution_count": 28
  },
  {
   "outputs": [
    {
     "output_type": "execute_result",
     "data": {
      "text/plain": "2×3 Array{Float64,2}:\n 0.125186  0.613498  0.043456\n 0.275349  0.569883  0.653459"
     },
     "metadata": {},
     "execution_count": 29
    }
   ],
   "cell_type": "code",
   "source": [
    "A = rand(2, 3)"
   ],
   "metadata": {},
   "execution_count": 29
  },
  {
   "cell_type": "markdown",
   "source": [
    "-"
   ],
   "metadata": {}
  },
  {
   "outputs": [
    {
     "output_type": "execute_result",
     "data": {
      "text/plain": "AbstractArray{Continuous,2}"
     },
     "metadata": {},
     "execution_count": 30
    }
   ],
   "cell_type": "code",
   "source": [
    "scitype(A)"
   ],
   "metadata": {},
   "execution_count": 30
  },
  {
   "outputs": [
    {
     "output_type": "execute_result",
     "data": {
      "text/plain": "Continuous"
     },
     "metadata": {},
     "execution_count": 31
    }
   ],
   "cell_type": "code",
   "source": [
    "elscitype(A)"
   ],
   "metadata": {},
   "execution_count": 31
  },
  {
   "outputs": [
    {
     "output_type": "execute_result",
     "data": {
      "text/plain": "2×3 SparseMatrixCSC{Float64,Int64} with 6 stored entries:\n  [1, 1]  =  0.125186\n  [2, 1]  =  0.275349\n  [1, 2]  =  0.613498\n  [2, 2]  =  0.569883\n  [1, 3]  =  0.043456\n  [2, 3]  =  0.653459"
     },
     "metadata": {},
     "execution_count": 32
    }
   ],
   "cell_type": "code",
   "source": [
    "using SparseArrays\n",
    "Asparse = sparse(A)"
   ],
   "metadata": {},
   "execution_count": 32
  },
  {
   "outputs": [
    {
     "output_type": "execute_result",
     "data": {
      "text/plain": "AbstractArray{Continuous,2}"
     },
     "metadata": {},
     "execution_count": 33
    }
   ],
   "cell_type": "code",
   "source": [
    "scitype(Asparse)"
   ],
   "metadata": {},
   "execution_count": 33
  },
  {
   "outputs": [
    {
     "output_type": "execute_result",
     "data": {
      "text/plain": "2×3 CategoricalArray{Float64,2,UInt32}:\n 0.12518583927344973  0.6134977059280065  0.04345602836867024\n 0.27534934198023686  0.5698825589352163  0.6534585348686746"
     },
     "metadata": {},
     "execution_count": 34
    }
   ],
   "cell_type": "code",
   "source": [
    "using CategoricalArrays\n",
    "C1 = categorical(A)"
   ],
   "metadata": {},
   "execution_count": 34
  },
  {
   "outputs": [
    {
     "output_type": "execute_result",
     "data": {
      "text/plain": "AbstractArray{Multiclass{6},2}"
     },
     "metadata": {},
     "execution_count": 35
    }
   ],
   "cell_type": "code",
   "source": [
    "scitype(C1)"
   ],
   "metadata": {},
   "execution_count": 35
  },
  {
   "outputs": [
    {
     "output_type": "execute_result",
     "data": {
      "text/plain": "Multiclass{6}"
     },
     "metadata": {},
     "execution_count": 36
    }
   ],
   "cell_type": "code",
   "source": [
    "elscitype(C1)"
   ],
   "metadata": {},
   "execution_count": 36
  },
  {
   "outputs": [
    {
     "output_type": "execute_result",
     "data": {
      "text/plain": "AbstractArray{OrderedFactor{6},2}"
     },
     "metadata": {},
     "execution_count": 37
    }
   ],
   "cell_type": "code",
   "source": [
    "C2 = categorical(A, ordered=true)\n",
    "scitype(C2)"
   ],
   "metadata": {},
   "execution_count": 37
  },
  {
   "outputs": [
    {
     "output_type": "execute_result",
     "data": {
      "text/plain": "AbstractArray{Union{Missing, Count},1}"
     },
     "metadata": {},
     "execution_count": 38
    }
   ],
   "cell_type": "code",
   "source": [
    "v = [1, 2, missing, 4]\n",
    "scitype(v)"
   ],
   "metadata": {},
   "execution_count": 38
  },
  {
   "outputs": [
    {
     "output_type": "execute_result",
     "data": {
      "text/plain": "Union{Missing, Count}"
     },
     "metadata": {},
     "execution_count": 39
    }
   ],
   "cell_type": "code",
   "source": [
    "elscitype(v)"
   ],
   "metadata": {},
   "execution_count": 39
  },
  {
   "outputs": [
    {
     "output_type": "execute_result",
     "data": {
      "text/plain": "AbstractArray{Union{Missing, Count},1}"
     },
     "metadata": {},
     "execution_count": 40
    }
   ],
   "cell_type": "code",
   "source": [
    "scitype(v[1:2])"
   ],
   "metadata": {},
   "execution_count": 40
  },
  {
   "cell_type": "markdown",
   "source": [
    "Can you guess at the general behaviour of\n",
    "`scitype` with respect to tuples, abstract arrays and missing\n",
    "values? The answers are\n",
    "[here](https://github.com/alan-turing-institute/ScientificTypes.jl#2-the-scitype-and-scitype-methods)\n",
    "(ignore \"Property 1\")."
   ],
   "metadata": {}
  },
  {
   "cell_type": "markdown",
   "source": [
    "#### Exercise 2"
   ],
   "metadata": {}
  },
  {
   "cell_type": "markdown",
   "source": [
    "Coerce the following vector to make MLJ recognize it as a vector of\n",
    "ordered factors (with an appropriate ordering):"
   ],
   "metadata": {}
  },
  {
   "outputs": [
    {
     "output_type": "execute_result",
     "data": {
      "text/plain": "7-element Array{Union{Missing, String},1}:\n \"good\"\n \"poor\"\n \"poor\"\n \"excellent\"\n missing\n \"good\"\n \"excellent\""
     },
     "metadata": {},
     "execution_count": 41
    }
   ],
   "cell_type": "code",
   "source": [
    "quality = [\"good\", \"poor\", \"poor\", \"excellent\", missing, \"good\", \"excellent\"]"
   ],
   "metadata": {},
   "execution_count": 41
  },
  {
   "cell_type": "markdown",
   "source": [
    "#### Exercise 3 (fixing scitypes in a table)"
   ],
   "metadata": {}
  },
  {
   "cell_type": "markdown",
   "source": [
    "Fix the scitypes for the [House Prices in King\n",
    "County](https://mlr3gallery.mlr-org.com/posts/2020-01-30-house-prices-in-king-county/)\n",
    "dataset:"
   ],
   "metadata": {}
  },
  {
   "outputs": [
    {
     "output_type": "execute_result",
     "data": {
      "text/plain": "4×19 DataFrame. Omitted printing of 12 columns\n│ Row │ price    │ bedrooms │ bathrooms │ sqft_living │ sqft_lot │ floors  │ waterfront │\n│     │ \u001b[90mFloat64\u001b[39m  │ \u001b[90mInt64\u001b[39m    │ \u001b[90mFloat64\u001b[39m   │ \u001b[90mInt64\u001b[39m       │ \u001b[90mInt64\u001b[39m    │ \u001b[90mFloat64\u001b[39m │ \u001b[90mInt64\u001b[39m      │\n├─────┼──────────┼──────────┼───────────┼─────────────┼──────────┼─────────┼────────────┤\n│ 1   │ 221900.0 │ 3        │ 1.0       │ 1180        │ 5650     │ 1.0     │ 0          │\n│ 2   │ 538000.0 │ 3        │ 2.25      │ 2570        │ 7242     │ 2.0     │ 0          │\n│ 3   │ 180000.0 │ 2        │ 1.0       │ 770         │ 10000    │ 1.0     │ 0          │\n│ 4   │ 604000.0 │ 4        │ 3.0       │ 1960        │ 5000     │ 1.0     │ 0          │",
      "text/html": [
       "<table class=\"data-frame\"><thead><tr><th></th><th>price</th><th>bedrooms</th><th>bathrooms</th><th>sqft_living</th><th>sqft_lot</th><th>floors</th><th>waterfront</th><th>view</th><th>condition</th></tr><tr><th></th><th>Float64</th><th>Int64</th><th>Float64</th><th>Int64</th><th>Int64</th><th>Float64</th><th>Int64</th><th>Int64</th><th>Int64</th></tr></thead><tbody><p>4 rows × 19 columns (omitted printing of 10 columns)</p><tr><th>1</th><td>221900.0</td><td>3</td><td>1.0</td><td>1180</td><td>5650</td><td>1.0</td><td>0</td><td>0</td><td>3</td></tr><tr><th>2</th><td>538000.0</td><td>3</td><td>2.25</td><td>2570</td><td>7242</td><td>2.0</td><td>0</td><td>0</td><td>3</td></tr><tr><th>3</th><td>180000.0</td><td>2</td><td>1.0</td><td>770</td><td>10000</td><td>1.0</td><td>0</td><td>0</td><td>3</td></tr><tr><th>4</th><td>604000.0</td><td>4</td><td>3.0</td><td>1960</td><td>5000</td><td>1.0</td><td>0</td><td>0</td><td>5</td></tr></tbody></table>"
      ]
     },
     "metadata": {},
     "execution_count": 42
    }
   ],
   "cell_type": "code",
   "source": [
    "file = CSV.File(joinpath(DIR, \"data\", \"house.csv\"));\n",
    "house = DataFrames.DataFrame(file); # convert to data frame without copying columns\n",
    "first(house, 4)"
   ],
   "metadata": {},
   "execution_count": 42
  },
  {
   "cell_type": "markdown",
   "source": [
    "(Two features in the original data set have been deemed uninformative\n",
    "and dropped, namely `:id` and `:date`. The original feature\n",
    "`:yr_renovated` has been replaced by the `Bool` feature `is_renovated`.)"
   ],
   "metadata": {}
  },
  {
   "cell_type": "markdown",
   "source": [
    "## Part 2: Selecting, Training and Evaluating Models"
   ],
   "metadata": {}
  },
  {
   "cell_type": "markdown",
   "source": [
    "> **Goals:**\n",
    "> 1. Search MLJ's database of model metadata to identify model candidates for a supervised learning task.\n",
    "> 2. Evaluate the performance of a model on a holdout set using basic `fit!`/`predict` workflow.\n",
    "> 3. Evaluate performance using other resampling strategies, such as cross-validation, in one line, using `evaluate!`\n",
    "> 4. Plot a \"learning curve\", to inspect performance as a function of some model hyper-parameter, such as an iteration parameter"
   ],
   "metadata": {}
  },
  {
   "cell_type": "markdown",
   "source": [
    "The \"Hello World!\" of machine learning is to classify Fisher's\n",
    "famous iris data set. This time, we'll grab the data from\n",
    "[OpenML](https://www.openml.org):"
   ],
   "metadata": {}
  },
  {
   "outputs": [
    {
     "output_type": "execute_result",
     "data": {
      "text/plain": "4×5 DataFrame\n│ Row │ sepallength │ sepalwidth │ petallength │ petalwidth │ class       │\n│     │ \u001b[90mFloat64\u001b[39m     │ \u001b[90mFloat64\u001b[39m    │ \u001b[90mFloat64\u001b[39m     │ \u001b[90mFloat64\u001b[39m    │ \u001b[90mSubString…\u001b[39m  │\n├─────┼─────────────┼────────────┼─────────────┼────────────┼─────────────┤\n│ 1   │ 5.1         │ 3.5        │ 1.4         │ 0.2        │ Iris-setosa │\n│ 2   │ 4.9         │ 3.0        │ 1.4         │ 0.2        │ Iris-setosa │\n│ 3   │ 4.7         │ 3.2        │ 1.3         │ 0.2        │ Iris-setosa │\n│ 4   │ 4.6         │ 3.1        │ 1.5         │ 0.2        │ Iris-setosa │",
      "text/html": [
       "<table class=\"data-frame\"><thead><tr><th></th><th>sepallength</th><th>sepalwidth</th><th>petallength</th><th>petalwidth</th><th>class</th></tr><tr><th></th><th>Float64</th><th>Float64</th><th>Float64</th><th>Float64</th><th>SubStri…</th></tr></thead><tbody><p>4 rows × 5 columns</p><tr><th>1</th><td>5.1</td><td>3.5</td><td>1.4</td><td>0.2</td><td>Iris-setosa</td></tr><tr><th>2</th><td>4.9</td><td>3.0</td><td>1.4</td><td>0.2</td><td>Iris-setosa</td></tr><tr><th>3</th><td>4.7</td><td>3.2</td><td>1.3</td><td>0.2</td><td>Iris-setosa</td></tr><tr><th>4</th><td>4.6</td><td>3.1</td><td>1.5</td><td>0.2</td><td>Iris-setosa</td></tr></tbody></table>"
      ]
     },
     "metadata": {},
     "execution_count": 43
    }
   ],
   "cell_type": "code",
   "source": [
    "iris = OpenML.load(61); # a row table\n",
    "iris = DataFrames.DataFrame(iris);\n",
    "first(iris, 4)"
   ],
   "metadata": {},
   "execution_count": 43
  },
  {
   "cell_type": "markdown",
   "source": [
    "**Goal.** To build and evaluate models for predicting the\n",
    "`:class` variable, given the four remaining measurement variables."
   ],
   "metadata": {}
  },
  {
   "cell_type": "markdown",
   "source": [
    "### Step 1. Inspect and fix scientific types"
   ],
   "metadata": {}
  },
  {
   "outputs": [
    {
     "output_type": "execute_result",
     "data": {
      "text/plain": "┌\u001b[0m─────────────\u001b[0m┬\u001b[0m───────────────────\u001b[0m┬\u001b[0m────────────\u001b[0m┐\u001b[0m\n│\u001b[0m\u001b[22m _.names     \u001b[0m│\u001b[0m\u001b[22m _.types           \u001b[0m│\u001b[0m\u001b[22m _.scitypes \u001b[0m│\u001b[0m\n├\u001b[0m─────────────\u001b[0m┼\u001b[0m───────────────────\u001b[0m┼\u001b[0m────────────\u001b[0m┤\u001b[0m\n│\u001b[0m sepallength \u001b[0m│\u001b[0m Float64           \u001b[0m│\u001b[0m Continuous \u001b[0m│\u001b[0m\n│\u001b[0m sepalwidth  \u001b[0m│\u001b[0m Float64           \u001b[0m│\u001b[0m Continuous \u001b[0m│\u001b[0m\n│\u001b[0m petallength \u001b[0m│\u001b[0m Float64           \u001b[0m│\u001b[0m Continuous \u001b[0m│\u001b[0m\n│\u001b[0m petalwidth  \u001b[0m│\u001b[0m Float64           \u001b[0m│\u001b[0m Continuous \u001b[0m│\u001b[0m\n│\u001b[0m class       \u001b[0m│\u001b[0m SubString{String} \u001b[0m│\u001b[0m Textual    \u001b[0m│\u001b[0m\n└\u001b[0m─────────────\u001b[0m┴\u001b[0m───────────────────\u001b[0m┴\u001b[0m────────────\u001b[0m┘\u001b[0m\n_.nrows = 150\n"
     },
     "metadata": {},
     "execution_count": 44
    }
   ],
   "cell_type": "code",
   "source": [
    "schema(iris)"
   ],
   "metadata": {},
   "execution_count": 44
  },
  {
   "outputs": [
    {
     "output_type": "execute_result",
     "data": {
      "text/plain": "┌\u001b[0m─────────────\u001b[0m┬\u001b[0m─────────────────────────────────\u001b[0m┬\u001b[0m───────────────\u001b[0m┐\u001b[0m\n│\u001b[0m\u001b[22m _.names     \u001b[0m│\u001b[0m\u001b[22m _.types                         \u001b[0m│\u001b[0m\u001b[22m _.scitypes    \u001b[0m│\u001b[0m\n├\u001b[0m─────────────\u001b[0m┼\u001b[0m─────────────────────────────────\u001b[0m┼\u001b[0m───────────────\u001b[0m┤\u001b[0m\n│\u001b[0m sepallength \u001b[0m│\u001b[0m Float64                         \u001b[0m│\u001b[0m Continuous    \u001b[0m│\u001b[0m\n│\u001b[0m sepalwidth  \u001b[0m│\u001b[0m Float64                         \u001b[0m│\u001b[0m Continuous    \u001b[0m│\u001b[0m\n│\u001b[0m petallength \u001b[0m│\u001b[0m Float64                         \u001b[0m│\u001b[0m Continuous    \u001b[0m│\u001b[0m\n│\u001b[0m petalwidth  \u001b[0m│\u001b[0m Float64                         \u001b[0m│\u001b[0m Continuous    \u001b[0m│\u001b[0m\n│\u001b[0m class       \u001b[0m│\u001b[0m CategoricalValue{String,UInt32} \u001b[0m│\u001b[0m Multiclass{3} \u001b[0m│\u001b[0m\n└\u001b[0m─────────────\u001b[0m┴\u001b[0m─────────────────────────────────\u001b[0m┴\u001b[0m───────────────\u001b[0m┘\u001b[0m\n_.nrows = 150\n"
     },
     "metadata": {},
     "execution_count": 45
    }
   ],
   "cell_type": "code",
   "source": [
    "coerce!(iris, :class => Multiclass);\n",
    "schema(iris)"
   ],
   "metadata": {},
   "execution_count": 45
  },
  {
   "cell_type": "markdown",
   "source": [
    "### Step 2. Split data into input and target parts"
   ],
   "metadata": {}
  },
  {
   "cell_type": "markdown",
   "source": [
    "Here's how we split the data into target and input features, which\n",
    "is needed for MLJ supervised models. We randomize the data at the\n",
    "same time:"
   ],
   "metadata": {}
  },
  {
   "outputs": [
    {
     "output_type": "execute_result",
     "data": {
      "text/plain": "AbstractArray{Multiclass{3},1}"
     },
     "metadata": {},
     "execution_count": 46
    }
   ],
   "cell_type": "code",
   "source": [
    "y, X = unpack(iris, ==(:class), name->true; rng=123);\n",
    "scitype(y)"
   ],
   "metadata": {},
   "execution_count": 46
  },
  {
   "cell_type": "markdown",
   "source": [
    "Do `?unpack` to learn more:"
   ],
   "metadata": {}
  },
  {
   "outputs": [
    {
     "output_type": "execute_result",
     "data": {
      "text/plain": "\u001b[36m  t1, t2, ...., tk = unnpack(table, f1, f2, ... fk; wrap_singles=false)\u001b[39m\n\n  Split any Tables.jl compatible \u001b[36mtable\u001b[39m into smaller tables (or vectors) \u001b[36mt1, t2, ..., tk\u001b[39m by\n  making selections \u001b[4mwithout replacement\u001b[24m from the column names defined by the filters \u001b[36mf1\u001b[39m,\n  \u001b[36mf2\u001b[39m, ..., \u001b[36mfk\u001b[39m. A \u001b[4mfilter\u001b[24m is any object \u001b[36mf\u001b[39m such that \u001b[36mf(name)\u001b[39m is \u001b[36mtrue\u001b[39m or \u001b[36mfalse\u001b[39m for each column\n  \u001b[36mname::Symbol\u001b[39m of \u001b[36mtable\u001b[39m.\n\n  Whenever a returned table contains a single column, it is converted to a vector unless\n  \u001b[36mwrap_singles=true\u001b[39m.\n\n  Scientific type conversions can be optionally specified (note semicolon):\n\n\u001b[36m  unpack(table, t...; wrap_singles=false, col1=>scitype1, col2=>scitype2, ... )\u001b[39m\n\n\u001b[1m  Example\u001b[22m\n\u001b[1m  –––––––––\u001b[22m\n\n\u001b[36m  julia> table = DataFrame(x=[1,2], y=['a', 'b'], z=[10.0, 20.0], w=[:A, :B])\u001b[39m\n\u001b[36m  julia> Z, XY = unpack(table, ==(:z), !=(:w);\u001b[39m\n\u001b[36m                 :x=>Continuous, :y=>Multiclass)\u001b[39m\n\u001b[36m  julia> XY\u001b[39m\n\u001b[36m  2×2 DataFrame\u001b[39m\n\u001b[36m  │ Row │ x       │ y            │\u001b[39m\n\u001b[36m  │     │ Float64 │ Categorical… │\u001b[39m\n\u001b[36m  ├─────┼─────────┼──────────────┤\u001b[39m\n\u001b[36m  │ 1   │ 1.0     │ 'a'          │\u001b[39m\n\u001b[36m  │ 2   │ 2.0     │ 'b'          │\u001b[39m\n\u001b[36m  \u001b[39m\n\u001b[36m  julia> Z\u001b[39m\n\u001b[36m  2-element Array{Float64,1}:\u001b[39m\n\u001b[36m   10.0\u001b[39m\n\u001b[36m   20.0\u001b[39m",
      "text/markdown": "```\nt1, t2, ...., tk = unnpack(table, f1, f2, ... fk; wrap_singles=false)\n```\n\nSplit any Tables.jl compatible `table` into smaller tables (or vectors) `t1, t2, ..., tk` by making selections *without replacement* from the column names defined by the filters `f1`, `f2`, ..., `fk`. A *filter* is any object `f` such that `f(name)` is `true` or `false` for each column `name::Symbol` of `table`.\n\nWhenever a returned table contains a single column, it is converted to a vector unless `wrap_singles=true`.\n\nScientific type conversions can be optionally specified (note semicolon):\n\n```\nunpack(table, t...; wrap_singles=false, col1=>scitype1, col2=>scitype2, ... )\n```\n\n### Example\n\n```\njulia> table = DataFrame(x=[1,2], y=['a', 'b'], z=[10.0, 20.0], w=[:A, :B])\njulia> Z, XY = unpack(table, ==(:z), !=(:w);\n               :x=>Continuous, :y=>Multiclass)\njulia> XY\n2×2 DataFrame\n│ Row │ x       │ y            │\n│     │ Float64 │ Categorical… │\n├─────┼─────────┼──────────────┤\n│ 1   │ 1.0     │ 'a'          │\n│ 2   │ 2.0     │ 'b'          │\n\njulia> Z\n2-element Array{Float64,1}:\n 10.0\n 20.0\n```\n"
     },
     "metadata": {},
     "execution_count": 47
    }
   ],
   "cell_type": "code",
   "source": [
    "@doc unpack"
   ],
   "metadata": {},
   "execution_count": 47
  },
  {
   "cell_type": "markdown",
   "source": [
    "### On searching for a model"
   ],
   "metadata": {}
  },
  {
   "cell_type": "markdown",
   "source": [
    "Here's how to see *all* models (not immediately useful):"
   ],
   "metadata": {}
  },
  {
   "outputs": [
    {
     "output_type": "execute_result",
     "data": {
      "text/plain": "142-element Array{NamedTuple{(:name, :package_name, :is_supervised, :docstring, :hyperparameter_ranges, :hyperparameter_types, :hyperparameters, :implemented_methods, :is_pure_julia, :is_wrapper, :load_path, :package_license, :package_url, :package_uuid, :prediction_type, :supports_online, :supports_weights, :input_scitype, :target_scitype, :output_scitype),T} where T<:Tuple,1}:\n (name = ARDRegressor, package_name = ScikitLearn, ... )\n (name = AdaBoostClassifier, package_name = ScikitLearn, ... )\n (name = AdaBoostRegressor, package_name = ScikitLearn, ... )\n (name = AdaBoostStumpClassifier, package_name = DecisionTree, ... )\n (name = AffinityPropagation, package_name = ScikitLearn, ... )\n (name = AgglomerativeClustering, package_name = ScikitLearn, ... )\n (name = BaggingClassifier, package_name = ScikitLearn, ... )\n (name = BaggingRegressor, package_name = ScikitLearn, ... )\n (name = BayesianLDA, package_name = MultivariateStats, ... )\n (name = BayesianLDA, package_name = ScikitLearn, ... )\n (name = BayesianQDA, package_name = ScikitLearn, ... )\n (name = BayesianRidgeRegressor, package_name = ScikitLearn, ... )\n (name = BayesianSubspaceLDA, package_name = MultivariateStats, ... )\n (name = BernoulliNBClassifier, package_name = ScikitLearn, ... )\n (name = Birch, package_name = ScikitLearn, ... )\n (name = ComplementNBClassifier, package_name = ScikitLearn, ... )\n (name = ConstantClassifier, package_name = MLJModels, ... )\n (name = ConstantRegressor, package_name = MLJModels, ... )\n (name = ContinuousEncoder, package_name = MLJModels, ... )\n (name = DBSCAN, package_name = ScikitLearn, ... )\n (name = DecisionTreeClassifier, package_name = DecisionTree, ... )\n (name = DecisionTreeRegressor, package_name = DecisionTree, ... )\n (name = DeterministicConstantClassifier, package_name = MLJModels, ... )\n (name = DeterministicConstantRegressor, package_name = MLJModels, ... )\n (name = DeterministicSurrogate, package_name = MLJBase, ... )\n (name = DummyClassifier, package_name = ScikitLearn, ... )\n ⋮\n (name = RidgeRegressor, package_name = MLJLinearModels, ... )\n (name = RidgeRegressor, package_name = MultivariateStats, ... )\n (name = RidgeRegressor, package_name = ScikitLearn, ... )\n (name = RobustRegressor, package_name = MLJLinearModels, ... )\n (name = SGDClassifier, package_name = ScikitLearn, ... )\n (name = SGDRegressor, package_name = ScikitLearn, ... )\n (name = SVC, package_name = LIBSVM, ... )\n (name = SVMClassifier, package_name = ScikitLearn, ... )\n (name = SVMLinearClassifier, package_name = ScikitLearn, ... )\n (name = SVMLinearRegressor, package_name = ScikitLearn, ... )\n (name = SVMNuClassifier, package_name = ScikitLearn, ... )\n (name = SVMNuRegressor, package_name = ScikitLearn, ... )\n (name = SVMRegressor, package_name = ScikitLearn, ... )\n (name = SpectralClustering, package_name = ScikitLearn, ... )\n (name = Standardizer, package_name = MLJModels, ... )\n (name = StaticSurrogate, package_name = MLJBase, ... )\n (name = SubspaceLDA, package_name = MultivariateStats, ... )\n (name = TheilSenRegressor, package_name = ScikitLearn, ... )\n (name = UnivariateBoxCoxTransformer, package_name = MLJModels, ... )\n (name = UnivariateDiscretizer, package_name = MLJModels, ... )\n (name = UnivariateStandardizer, package_name = MLJModels, ... )\n (name = UnsupervisedSurrogate, package_name = MLJBase, ... )\n (name = WrappedFunction, package_name = MLJBase, ... )\n (name = XGBoostClassifier, package_name = XGBoost, ... )\n (name = XGBoostCount, package_name = XGBoost, ... )\n (name = XGBoostRegressor, package_name = XGBoost, ... )"
     },
     "metadata": {},
     "execution_count": 48
    }
   ],
   "cell_type": "code",
   "source": [
    "kitchen_sink = models()"
   ],
   "metadata": {},
   "execution_count": 48
  },
  {
   "cell_type": "markdown",
   "source": [
    "Each entry contains metadata for a model whose defining code is not yet loaded:"
   ],
   "metadata": {}
  },
  {
   "outputs": [
    {
     "output_type": "execute_result",
     "data": {
      "text/plain": "\u001b[35mAdaBoost ensemble regression.\u001b[39m\n\u001b[35m→ based on [ScikitLearn](https://github.com/cstjean/ScikitLearn.jl).\u001b[39m\n\u001b[35m→ do `@load AdaBoostRegressor pkg=\"ScikitLearn\"` to use the model.\u001b[39m\n\u001b[35m→ do `?AdaBoostRegressor` for documentation.\u001b[39m\n(name = \"AdaBoostRegressor\",\n package_name = \"ScikitLearn\",\n is_supervised = true,\n docstring = \"AdaBoost ensemble regression.\\n→ based on [ScikitLearn](https://github.com/cstjean/ScikitLearn.jl).\\n→ do `@load AdaBoostRegressor pkg=\\\"ScikitLearn\\\"` to use the model.\\n→ do `?AdaBoostRegressor` for documentation.\",\n hyperparameter_ranges = (nothing, nothing, nothing, nothing, nothing),\n hyperparameter_types = (\"Any\", \"Int64\", \"Float64\", \"String\", \"Any\"),\n hyperparameters = (:base_estimator, :n_estimators, :learning_rate, :loss, :random_state),\n implemented_methods = [:clean!, :fit, :fitted_params, :predict],\n is_pure_julia = false,\n is_wrapper = true,\n load_path = \"MLJScikitLearnInterface.AdaBoostRegressor\",\n package_license = \"BSD\",\n package_url = \"https://github.com/cstjean/ScikitLearn.jl\",\n package_uuid = \"3646fa90-6ef7-5e7e-9f22-8aca16db6324\",\n prediction_type = :deterministic,\n supports_online = false,\n supports_weights = false,\n input_scitype = Table{_s23} where _s23<:(AbstractArray{_s25,1} where _s25<:Continuous),\n target_scitype = AbstractArray{Continuous,1},\n output_scitype = Unknown,)"
     },
     "metadata": {},
     "execution_count": 49
    }
   ],
   "cell_type": "code",
   "source": [
    "meta = kitchen_sink[3]"
   ],
   "metadata": {},
   "execution_count": 49
  },
  {
   "outputs": [
    {
     "output_type": "execute_result",
     "data": {
      "text/plain": "AbstractArray{Continuous,1}"
     },
     "metadata": {},
     "execution_count": 50
    }
   ],
   "cell_type": "code",
   "source": [
    "targetscitype = meta.target_scitype"
   ],
   "metadata": {},
   "execution_count": 50
  },
  {
   "outputs": [
    {
     "output_type": "execute_result",
     "data": {
      "text/plain": "false"
     },
     "metadata": {},
     "execution_count": 51
    }
   ],
   "cell_type": "code",
   "source": [
    "scitype(y) <: targetscitype"
   ],
   "metadata": {},
   "execution_count": 51
  },
  {
   "cell_type": "markdown",
   "source": [
    "So this model won't do. Let's  find all pure julia classifiers:"
   ],
   "metadata": {}
  },
  {
   "outputs": [
    {
     "output_type": "execute_result",
     "data": {
      "text/plain": "16-element Array{NamedTuple{(:name, :package_name, :is_supervised, :docstring, :hyperparameter_ranges, :hyperparameter_types, :hyperparameters, :implemented_methods, :is_pure_julia, :is_wrapper, :load_path, :package_license, :package_url, :package_uuid, :prediction_type, :supports_online, :supports_weights, :input_scitype, :target_scitype, :output_scitype),T} where T<:Tuple,1}:\n (name = AdaBoostStumpClassifier, package_name = DecisionTree, ... )\n (name = BayesianLDA, package_name = MultivariateStats, ... )\n (name = BayesianSubspaceLDA, package_name = MultivariateStats, ... )\n (name = ConstantClassifier, package_name = MLJModels, ... )\n (name = DecisionTreeClassifier, package_name = DecisionTree, ... )\n (name = DeterministicConstantClassifier, package_name = MLJModels, ... )\n (name = EvoTreeClassifier, package_name = EvoTrees, ... )\n (name = GaussianNBClassifier, package_name = NaiveBayes, ... )\n (name = KNNClassifier, package_name = NearestNeighbors, ... )\n (name = LDA, package_name = MultivariateStats, ... )\n (name = LogisticClassifier, package_name = MLJLinearModels, ... )\n (name = MultinomialClassifier, package_name = MLJLinearModels, ... )\n (name = MultinomialNBClassifier, package_name = NaiveBayes, ... )\n (name = NeuralNetworkClassifier, package_name = MLJFlux, ... )\n (name = RandomForestClassifier, package_name = DecisionTree, ... )\n (name = SubspaceLDA, package_name = MultivariateStats, ... )"
     },
     "metadata": {},
     "execution_count": 52
    }
   ],
   "cell_type": "code",
   "source": [
    "filt(meta) = AbstractVector{Finite} <: meta.target_scitype &&\n",
    "        meta.is_pure_julia\n",
    "models(filt)"
   ],
   "metadata": {},
   "execution_count": 52
  },
  {
   "cell_type": "markdown",
   "source": [
    "Find all models with \"Classifier\" in `name` (or `docstring`):"
   ],
   "metadata": {}
  },
  {
   "outputs": [
    {
     "output_type": "execute_result",
     "data": {
      "text/plain": "39-element Array{NamedTuple{(:name, :package_name, :is_supervised, :docstring, :hyperparameter_ranges, :hyperparameter_types, :hyperparameters, :implemented_methods, :is_pure_julia, :is_wrapper, :load_path, :package_license, :package_url, :package_uuid, :prediction_type, :supports_online, :supports_weights, :input_scitype, :target_scitype, :output_scitype),T} where T<:Tuple,1}:\n (name = AdaBoostClassifier, package_name = ScikitLearn, ... )\n (name = AdaBoostStumpClassifier, package_name = DecisionTree, ... )\n (name = BaggingClassifier, package_name = ScikitLearn, ... )\n (name = BernoulliNBClassifier, package_name = ScikitLearn, ... )\n (name = ComplementNBClassifier, package_name = ScikitLearn, ... )\n (name = ConstantClassifier, package_name = MLJModels, ... )\n (name = DecisionTreeClassifier, package_name = DecisionTree, ... )\n (name = DeterministicConstantClassifier, package_name = MLJModels, ... )\n (name = DummyClassifier, package_name = ScikitLearn, ... )\n (name = EvoTreeClassifier, package_name = EvoTrees, ... )\n (name = ExtraTreesClassifier, package_name = ScikitLearn, ... )\n (name = GaussianNBClassifier, package_name = NaiveBayes, ... )\n (name = GaussianNBClassifier, package_name = ScikitLearn, ... )\n (name = GaussianProcessClassifier, package_name = ScikitLearn, ... )\n (name = GradientBoostingClassifier, package_name = ScikitLearn, ... )\n (name = ImageClassifier, package_name = MLJFlux, ... )\n (name = KNNClassifier, package_name = NearestNeighbors, ... )\n (name = KNeighborsClassifier, package_name = ScikitLearn, ... )\n (name = LGBMClassifier, package_name = LightGBM, ... )\n (name = LinearBinaryClassifier, package_name = GLM, ... )\n (name = LogisticCVClassifier, package_name = ScikitLearn, ... )\n (name = LogisticClassifier, package_name = MLJLinearModels, ... )\n (name = LogisticClassifier, package_name = ScikitLearn, ... )\n (name = MultinomialClassifier, package_name = MLJLinearModels, ... )\n (name = MultinomialNBClassifier, package_name = NaiveBayes, ... )\n (name = MultinomialNBClassifier, package_name = ScikitLearn, ... )\n (name = NeuralNetworkClassifier, package_name = MLJFlux, ... )\n (name = PassiveAggressiveClassifier, package_name = ScikitLearn, ... )\n (name = PerceptronClassifier, package_name = ScikitLearn, ... )\n (name = ProbabilisticSGDClassifier, package_name = ScikitLearn, ... )\n (name = RandomForestClassifier, package_name = DecisionTree, ... )\n (name = RandomForestClassifier, package_name = ScikitLearn, ... )\n (name = RidgeCVClassifier, package_name = ScikitLearn, ... )\n (name = RidgeClassifier, package_name = ScikitLearn, ... )\n (name = SGDClassifier, package_name = ScikitLearn, ... )\n (name = SVMClassifier, package_name = ScikitLearn, ... )\n (name = SVMLinearClassifier, package_name = ScikitLearn, ... )\n (name = SVMNuClassifier, package_name = ScikitLearn, ... )\n (name = XGBoostClassifier, package_name = XGBoost, ... )"
     },
     "metadata": {},
     "execution_count": 53
    }
   ],
   "cell_type": "code",
   "source": [
    "models(\"Classifier\")"
   ],
   "metadata": {},
   "execution_count": 53
  },
  {
   "cell_type": "markdown",
   "source": [
    "Find all (supervised) models that match my data!"
   ],
   "metadata": {}
  },
  {
   "outputs": [
    {
     "output_type": "execute_result",
     "data": {
      "text/plain": "42-element Array{NamedTuple{(:name, :package_name, :is_supervised, :docstring, :hyperparameter_ranges, :hyperparameter_types, :hyperparameters, :implemented_methods, :is_pure_julia, :is_wrapper, :load_path, :package_license, :package_url, :package_uuid, :prediction_type, :supports_online, :supports_weights, :input_scitype, :target_scitype, :output_scitype),T} where T<:Tuple,1}:\n (name = AdaBoostClassifier, package_name = ScikitLearn, ... )\n (name = AdaBoostStumpClassifier, package_name = DecisionTree, ... )\n (name = BaggingClassifier, package_name = ScikitLearn, ... )\n (name = BayesianLDA, package_name = MultivariateStats, ... )\n (name = BayesianLDA, package_name = ScikitLearn, ... )\n (name = BayesianQDA, package_name = ScikitLearn, ... )\n (name = BayesianSubspaceLDA, package_name = MultivariateStats, ... )\n (name = ConstantClassifier, package_name = MLJModels, ... )\n (name = DecisionTreeClassifier, package_name = DecisionTree, ... )\n (name = DeterministicConstantClassifier, package_name = MLJModels, ... )\n (name = DummyClassifier, package_name = ScikitLearn, ... )\n (name = EvoTreeClassifier, package_name = EvoTrees, ... )\n (name = ExtraTreesClassifier, package_name = ScikitLearn, ... )\n (name = GaussianNBClassifier, package_name = NaiveBayes, ... )\n (name = GaussianNBClassifier, package_name = ScikitLearn, ... )\n (name = GaussianProcessClassifier, package_name = ScikitLearn, ... )\n (name = GradientBoostingClassifier, package_name = ScikitLearn, ... )\n (name = KNNClassifier, package_name = NearestNeighbors, ... )\n (name = KNeighborsClassifier, package_name = ScikitLearn, ... )\n (name = LDA, package_name = MultivariateStats, ... )\n (name = LGBMClassifier, package_name = LightGBM, ... )\n (name = LinearSVC, package_name = LIBSVM, ... )\n (name = LogisticCVClassifier, package_name = ScikitLearn, ... )\n (name = LogisticClassifier, package_name = MLJLinearModels, ... )\n (name = LogisticClassifier, package_name = ScikitLearn, ... )\n (name = MultinomialClassifier, package_name = MLJLinearModels, ... )\n (name = NeuralNetworkClassifier, package_name = MLJFlux, ... )\n (name = NuSVC, package_name = LIBSVM, ... )\n (name = PassiveAggressiveClassifier, package_name = ScikitLearn, ... )\n (name = PerceptronClassifier, package_name = ScikitLearn, ... )\n (name = ProbabilisticSGDClassifier, package_name = ScikitLearn, ... )\n (name = RandomForestClassifier, package_name = DecisionTree, ... )\n (name = RandomForestClassifier, package_name = ScikitLearn, ... )\n (name = RidgeCVClassifier, package_name = ScikitLearn, ... )\n (name = RidgeClassifier, package_name = ScikitLearn, ... )\n (name = SGDClassifier, package_name = ScikitLearn, ... )\n (name = SVC, package_name = LIBSVM, ... )\n (name = SVMClassifier, package_name = ScikitLearn, ... )\n (name = SVMLinearClassifier, package_name = ScikitLearn, ... )\n (name = SVMNuClassifier, package_name = ScikitLearn, ... )\n (name = SubspaceLDA, package_name = MultivariateStats, ... )\n (name = XGBoostClassifier, package_name = XGBoost, ... )"
     },
     "metadata": {},
     "execution_count": 54
    }
   ],
   "cell_type": "code",
   "source": [
    "models(matching(X, y))"
   ],
   "metadata": {},
   "execution_count": 54
  },
  {
   "cell_type": "markdown",
   "source": [
    "### Step 3. Select and instantiate a model"
   ],
   "metadata": {}
  },
  {
   "outputs": [
    {
     "output_type": "execute_result",
     "data": {
      "text/plain": "NeuralNetworkClassifier(\n    builder = Short(\n            n_hidden = 0,\n            dropout = 0.5,\n            σ = NNlib.σ),\n    finaliser = NNlib.softmax,\n    optimiser = Flux.Optimise.ADAM(0.001, (0.9, 0.999), IdDict{Any,Any}()),\n    loss = Flux.crossentropy,\n    epochs = 10,\n    batch_size = 1,\n    lambda = 0.0,\n    alpha = 0.0,\n    optimiser_changes_trigger_retraining = false)\u001b[34m @803\u001b[39m"
     },
     "metadata": {},
     "execution_count": 55
    }
   ],
   "cell_type": "code",
   "source": [
    "model = @load NeuralNetworkClassifier"
   ],
   "metadata": {},
   "execution_count": 55
  },
  {
   "outputs": [
    {
     "output_type": "execute_result",
     "data": {
      "text/plain": "\u001b[35mA neural network model for making probabilistic predictions of a `Mutliclass` or `OrderedFactor` target, given a table of `Continuous` features. \u001b[39m\n\u001b[35m→ based on [MLJFlux](https://github.com/alan-turing-institute/MLJFlux.jl).\u001b[39m\n\u001b[35m→ do `@load NeuralNetworkClassifier pkg=\"MLJFlux\"` to use the model.\u001b[39m\n\u001b[35m→ do `?NeuralNetworkClassifier` for documentation.\u001b[39m\n(name = \"NeuralNetworkClassifier\",\n package_name = \"MLJFlux\",\n is_supervised = true,\n docstring = \"A neural network model for making probabilistic predictions of a `Mutliclass` or `OrderedFactor` target, given a table of `Continuous` features. \\n→ based on [MLJFlux](https://github.com/alan-turing-institute/MLJFlux.jl).\\n→ do `@load NeuralNetworkClassifier pkg=\\\"MLJFlux\\\"` to use the model.\\n→ do `?NeuralNetworkClassifier` for documentation.\",\n hyperparameter_ranges = (nothing, nothing, nothing, nothing, nothing, nothing, nothing, nothing, nothing),\n hyperparameter_types = (\"MLJFlux.Short\", \"typeof(NNlib.softmax)\", \"Flux.Optimise.ADAM\", \"typeof(Flux.crossentropy)\", \"Int64\", \"Int64\", \"Float64\", \"Float64\", \"Bool\"),\n hyperparameters = (:builder, :finaliser, :optimiser, :loss, :epochs, :batch_size, :lambda, :alpha, :optimiser_changes_trigger_retraining),\n implemented_methods = Any[],\n is_pure_julia = true,\n is_wrapper = false,\n load_path = \"MLJFlux.NeuralNetworkClassifier\",\n package_license = \"MIT\",\n package_url = \"https://github.com/alan-turing-institute/MLJFlux.jl\",\n package_uuid = \"094fc8d1-fd35-5302-93ea-dabda2abf845\",\n prediction_type = :probabilistic,\n supports_online = false,\n supports_weights = false,\n input_scitype = Table{#s23} where #s23<:(AbstractArray{#s25,1} where #s25<:Continuous),\n target_scitype = AbstractArray{#s38,1} where #s38<:Finite,\n output_scitype = Unknown,)"
     },
     "metadata": {},
     "execution_count": 56
    }
   ],
   "cell_type": "code",
   "source": [
    "info(model)"
   ],
   "metadata": {},
   "execution_count": 56
  },
  {
   "cell_type": "markdown",
   "source": [
    "In MLJ a *model* is just a struct containing hyper-parameters, and\n",
    "that's all. A model does not store *learned* parameters. Models are\n",
    "mutable:"
   ],
   "metadata": {}
  },
  {
   "outputs": [
    {
     "output_type": "execute_result",
     "data": {
      "text/plain": "12"
     },
     "metadata": {},
     "execution_count": 57
    }
   ],
   "cell_type": "code",
   "source": [
    "model.epochs = 12"
   ],
   "metadata": {},
   "execution_count": 57
  },
  {
   "cell_type": "markdown",
   "source": [
    "And all models have a key-word constructor that works once `@load`\n",
    "has been performed:"
   ],
   "metadata": {}
  },
  {
   "outputs": [
    {
     "output_type": "execute_result",
     "data": {
      "text/plain": "true"
     },
     "metadata": {},
     "execution_count": 58
    }
   ],
   "cell_type": "code",
   "source": [
    "NeuralNetworkClassifier(epochs=12) == model"
   ],
   "metadata": {},
   "execution_count": 58
  },
  {
   "cell_type": "markdown",
   "source": [
    "### On fitting, predicting, and inspecting models"
   ],
   "metadata": {}
  },
  {
   "cell_type": "markdown",
   "source": [
    "In MLJ a model and training/validation data are typically bound\n",
    "together in a machine:"
   ],
   "metadata": {}
  },
  {
   "outputs": [
    {
     "output_type": "execute_result",
     "data": {
      "text/plain": "\u001b[34mMachine{NeuralNetworkClassifier{Short,…}} @420\u001b[39m trained 0 times.\n  args: \n    1:\t\u001b[34mSource @371\u001b[39m ⏎ `Table{AbstractArray{Continuous,1}}`\n    2:\t\u001b[34mSource @560\u001b[39m ⏎ `AbstractArray{Multiclass{3},1}`\n"
     },
     "metadata": {},
     "execution_count": 59
    }
   ],
   "cell_type": "code",
   "source": [
    "mach = machine(model, X, y)"
   ],
   "metadata": {},
   "execution_count": 59
  },
  {
   "cell_type": "markdown",
   "source": [
    "A machine stores *learned* parameters, among other things. We'll\n",
    "train this machine on 70% of the data and evaluate on a 30% holdout\n",
    "set. Let's start by dividing all row indices into `train` and `test`\n",
    "subsets:"
   ],
   "metadata": {}
  },
  {
   "outputs": [
    {
     "output_type": "execute_result",
     "data": {
      "text/plain": "([1, 2, 3, 4, 5, 6, 7, 8, 9, 10  …  96, 97, 98, 99, 100, 101, 102, 103, 104, 105], [106, 107, 108, 109, 110, 111, 112, 113, 114, 115  …  141, 142, 143, 144, 145, 146, 147, 148, 149, 150])"
     },
     "metadata": {},
     "execution_count": 60
    }
   ],
   "cell_type": "code",
   "source": [
    "train, test = partition(eachindex(y), 0.7)"
   ],
   "metadata": {},
   "execution_count": 60
  },
  {
   "outputs": [
    {
     "name": "stdout",
     "output_type": "stream",
     "text": [
      "┌ Info: Training \u001b[34mMachine{NeuralNetworkClassifier{Short,…}} @420\u001b[39m.\n",
      "└ @ MLJBase /Users/anthony/.julia/packages/MLJBase/r3heT/src/machines.jl:317\n",
      "┌ Info: Loss is 1.099\n",
      "└ @ MLJFlux /Users/anthony/.julia/packages/MLJFlux/HxJNU/src/core.jl:95\n",
      "┌ Info: Loss is 1.089\n",
      "└ @ MLJFlux /Users/anthony/.julia/packages/MLJFlux/HxJNU/src/core.jl:95\n",
      "┌ Info: Loss is 1.082\n",
      "└ @ MLJFlux /Users/anthony/.julia/packages/MLJFlux/HxJNU/src/core.jl:95\n",
      "┌ Info: Loss is 1.071\n",
      "└ @ MLJFlux /Users/anthony/.julia/packages/MLJFlux/HxJNU/src/core.jl:95\n",
      "┌ Info: Loss is 1.062\n",
      "└ @ MLJFlux /Users/anthony/.julia/packages/MLJFlux/HxJNU/src/core.jl:95\n",
      "┌ Info: Loss is 1.051\n",
      "└ @ MLJFlux /Users/anthony/.julia/packages/MLJFlux/HxJNU/src/core.jl:95\n",
      "┌ Info: Loss is 1.043\n",
      "└ @ MLJFlux /Users/anthony/.julia/packages/MLJFlux/HxJNU/src/core.jl:95\n",
      "┌ Info: Loss is 1.032\n",
      "└ @ MLJFlux /Users/anthony/.julia/packages/MLJFlux/HxJNU/src/core.jl:95\n",
      "┌ Info: Loss is 1.021\n",
      "└ @ MLJFlux /Users/anthony/.julia/packages/MLJFlux/HxJNU/src/core.jl:95\n",
      "┌ Info: Loss is 1.011\n",
      "└ @ MLJFlux /Users/anthony/.julia/packages/MLJFlux/HxJNU/src/core.jl:95\n",
      "┌ Info: Loss is 0.9939\n",
      "└ @ MLJFlux /Users/anthony/.julia/packages/MLJFlux/HxJNU/src/core.jl:95\n",
      "┌ Info: Loss is 0.9837\n",
      "└ @ MLJFlux /Users/anthony/.julia/packages/MLJFlux/HxJNU/src/core.jl:95\n"
     ]
    },
    {
     "output_type": "execute_result",
     "data": {
      "text/plain": "\u001b[34mMachine{NeuralNetworkClassifier{Short,…}} @420\u001b[39m trained 1 time.\n  args: \n    1:\t\u001b[34mSource @371\u001b[39m ⏎ `Table{AbstractArray{Continuous,1}}`\n    2:\t\u001b[34mSource @560\u001b[39m ⏎ `AbstractArray{Multiclass{3},1}`\n"
     },
     "metadata": {},
     "execution_count": 61
    }
   ],
   "cell_type": "code",
   "source": [
    "fit!(mach, rows=train, verbosity=2)"
   ],
   "metadata": {},
   "execution_count": 61
  },
  {
   "cell_type": "markdown",
   "source": [
    "After training, one can inspect the learned parameters:"
   ],
   "metadata": {}
  },
  {
   "outputs": [
    {
     "output_type": "execute_result",
     "data": {
      "text/plain": "(chain = Chain(Chain(Dense(4, 3, σ), Dropout(0.5), Dense(3, 3)), softmax),)"
     },
     "metadata": {},
     "execution_count": 62
    }
   ],
   "cell_type": "code",
   "source": [
    "fitted_params(mach)"
   ],
   "metadata": {},
   "execution_count": 62
  },
  {
   "cell_type": "markdown",
   "source": [
    "Everything else the user might be interested in is accessed from the\n",
    "training *report*:"
   ],
   "metadata": {}
  },
  {
   "outputs": [
    {
     "output_type": "execute_result",
     "data": {
      "text/plain": "(training_losses = Any[1.09897f0, 1.0888609f0, 1.0816175f0, 1.0714965f0, 1.0621121f0, 1.0507153f0, 1.0427363f0, 1.0319378f0, 1.0205578f0, 1.0105981f0, 0.9939035f0, 0.9837377f0],)"
     },
     "metadata": {},
     "execution_count": 63
    }
   ],
   "cell_type": "code",
   "source": [
    "report(mach)"
   ],
   "metadata": {},
   "execution_count": 63
  },
  {
   "cell_type": "markdown",
   "source": [
    "Machines remember the last set of hyper-parameters used during fit,\n",
    "which, in the case of iterative models, allows for a warm restart of\n",
    "computations in the case that only the iteration parameter is\n",
    "increased:"
   ],
   "metadata": {}
  },
  {
   "outputs": [
    {
     "name": "stdout",
     "output_type": "stream",
     "text": [
      "┌ Info: Updating \u001b[34mMachine{NeuralNetworkClassifier{Short,…}} @420\u001b[39m.\n",
      "└ @ MLJBase /Users/anthony/.julia/packages/MLJBase/r3heT/src/machines.jl:318\n",
      "┌ Info: Loss is 0.968\n",
      "└ @ MLJFlux /Users/anthony/.julia/packages/MLJFlux/HxJNU/src/core.jl:95\n",
      "┌ Info: Loss is 0.9538\n",
      "└ @ MLJFlux /Users/anthony/.julia/packages/MLJFlux/HxJNU/src/core.jl:95\n",
      "┌ Info: Loss is 0.9398\n",
      "└ @ MLJFlux /Users/anthony/.julia/packages/MLJFlux/HxJNU/src/core.jl:95\n",
      "┌ Info: Loss is 0.9224\n",
      "└ @ MLJFlux /Users/anthony/.julia/packages/MLJFlux/HxJNU/src/core.jl:95\n"
     ]
    },
    {
     "output_type": "execute_result",
     "data": {
      "text/plain": "\u001b[34mMachine{NeuralNetworkClassifier{Short,…}} @420\u001b[39m trained 2 times.\n  args: \n    1:\t\u001b[34mSource @371\u001b[39m ⏎ `Table{AbstractArray{Continuous,1}}`\n    2:\t\u001b[34mSource @560\u001b[39m ⏎ `AbstractArray{Multiclass{3},1}`\n"
     },
     "metadata": {},
     "execution_count": 64
    }
   ],
   "cell_type": "code",
   "source": [
    "model.epochs = model.epochs + 4\n",
    "fit!(mach, rows=train, verbosity=2)"
   ],
   "metadata": {},
   "execution_count": 64
  },
  {
   "cell_type": "markdown",
   "source": [
    "By default (for this particular model) we can also increase\n",
    "`:learning_rate` without triggering a cold restart:"
   ],
   "metadata": {}
  },
  {
   "outputs": [
    {
     "name": "stdout",
     "output_type": "stream",
     "text": [
      "┌ Info: Updating \u001b[34mMachine{NeuralNetworkClassifier{Short,…}} @420\u001b[39m.\n",
      "└ @ MLJBase /Users/anthony/.julia/packages/MLJBase/r3heT/src/machines.jl:318\n",
      "┌ Info: Loss is 0.7768\n",
      "└ @ MLJFlux /Users/anthony/.julia/packages/MLJFlux/HxJNU/src/core.jl:95\n",
      "┌ Info: Loss is 0.7026\n",
      "└ @ MLJFlux /Users/anthony/.julia/packages/MLJFlux/HxJNU/src/core.jl:95\n",
      "┌ Info: Loss is 0.6233\n",
      "└ @ MLJFlux /Users/anthony/.julia/packages/MLJFlux/HxJNU/src/core.jl:95\n",
      "┌ Info: Loss is 0.5763\n",
      "└ @ MLJFlux /Users/anthony/.julia/packages/MLJFlux/HxJNU/src/core.jl:95\n"
     ]
    },
    {
     "output_type": "execute_result",
     "data": {
      "text/plain": "\u001b[34mMachine{NeuralNetworkClassifier{Short,…}} @420\u001b[39m trained 3 times.\n  args: \n    1:\t\u001b[34mSource @371\u001b[39m ⏎ `Table{AbstractArray{Continuous,1}}`\n    2:\t\u001b[34mSource @560\u001b[39m ⏎ `AbstractArray{Multiclass{3},1}`\n"
     },
     "metadata": {},
     "execution_count": 65
    }
   ],
   "cell_type": "code",
   "source": [
    "model.epochs = model.epochs + 4\n",
    "model.optimiser.eta = 10*model.optimiser.eta\n",
    "fit!(mach, rows=train, verbosity=2)"
   ],
   "metadata": {},
   "execution_count": 65
  },
  {
   "cell_type": "markdown",
   "source": [
    "However, change any other parameter and training will restart from\n",
    "scratch:"
   ],
   "metadata": {}
  },
  {
   "outputs": [
    {
     "name": "stdout",
     "output_type": "stream",
     "text": [
      "┌ Info: Updating \u001b[34mMachine{NeuralNetworkClassifier{Short,…}} @420\u001b[39m.\n",
      "└ @ MLJBase /Users/anthony/.julia/packages/MLJBase/r3heT/src/machines.jl:318\n",
      "┌ Info: Loss is 1.125\n",
      "└ @ MLJFlux /Users/anthony/.julia/packages/MLJFlux/HxJNU/src/core.jl:95\n",
      "┌ Info: Loss is 1.083\n",
      "└ @ MLJFlux /Users/anthony/.julia/packages/MLJFlux/HxJNU/src/core.jl:95\n",
      "┌ Info: Loss is 0.98\n",
      "└ @ MLJFlux /Users/anthony/.julia/packages/MLJFlux/HxJNU/src/core.jl:95\n",
      "┌ Info: Loss is 0.7402\n",
      "└ @ MLJFlux /Users/anthony/.julia/packages/MLJFlux/HxJNU/src/core.jl:95\n",
      "┌ Info: Loss is 0.6395\n",
      "└ @ MLJFlux /Users/anthony/.julia/packages/MLJFlux/HxJNU/src/core.jl:95\n",
      "┌ Info: Loss is 0.6151\n",
      "└ @ MLJFlux /Users/anthony/.julia/packages/MLJFlux/HxJNU/src/core.jl:95\n",
      "┌ Info: Loss is 0.5714\n",
      "└ @ MLJFlux /Users/anthony/.julia/packages/MLJFlux/HxJNU/src/core.jl:95\n",
      "┌ Info: Loss is 0.5341\n",
      "└ @ MLJFlux /Users/anthony/.julia/packages/MLJFlux/HxJNU/src/core.jl:95\n",
      "┌ Info: Loss is 0.5381\n",
      "└ @ MLJFlux /Users/anthony/.julia/packages/MLJFlux/HxJNU/src/core.jl:95\n",
      "┌ Info: Loss is 0.4965\n",
      "└ @ MLJFlux /Users/anthony/.julia/packages/MLJFlux/HxJNU/src/core.jl:95\n",
      "┌ Info: Loss is 0.4918\n",
      "└ @ MLJFlux /Users/anthony/.julia/packages/MLJFlux/HxJNU/src/core.jl:95\n",
      "┌ Info: Loss is 0.4785\n",
      "└ @ MLJFlux /Users/anthony/.julia/packages/MLJFlux/HxJNU/src/core.jl:95\n",
      "┌ Info: Loss is 0.4787\n",
      "└ @ MLJFlux /Users/anthony/.julia/packages/MLJFlux/HxJNU/src/core.jl:95\n",
      "┌ Info: Loss is 0.4533\n",
      "└ @ MLJFlux /Users/anthony/.julia/packages/MLJFlux/HxJNU/src/core.jl:95\n",
      "┌ Info: Loss is 0.4526\n",
      "└ @ MLJFlux /Users/anthony/.julia/packages/MLJFlux/HxJNU/src/core.jl:95\n",
      "┌ Info: Loss is 0.4443\n",
      "└ @ MLJFlux /Users/anthony/.julia/packages/MLJFlux/HxJNU/src/core.jl:95\n",
      "┌ Info: Loss is 0.4268\n",
      "└ @ MLJFlux /Users/anthony/.julia/packages/MLJFlux/HxJNU/src/core.jl:95\n",
      "┌ Info: Loss is 0.4783\n",
      "└ @ MLJFlux /Users/anthony/.julia/packages/MLJFlux/HxJNU/src/core.jl:95\n",
      "┌ Info: Loss is 0.4276\n",
      "└ @ MLJFlux /Users/anthony/.julia/packages/MLJFlux/HxJNU/src/core.jl:95\n",
      "┌ Info: Loss is 0.4288\n",
      "└ @ MLJFlux /Users/anthony/.julia/packages/MLJFlux/HxJNU/src/core.jl:95\n"
     ]
    },
    {
     "output_type": "execute_result",
     "data": {
      "text/plain": "\u001b[34mMachine{NeuralNetworkClassifier{Short,…}} @420\u001b[39m trained 4 times.\n  args: \n    1:\t\u001b[34mSource @371\u001b[39m ⏎ `Table{AbstractArray{Continuous,1}}`\n    2:\t\u001b[34mSource @560\u001b[39m ⏎ `AbstractArray{Multiclass{3},1}`\n"
     },
     "metadata": {},
     "execution_count": 66
    }
   ],
   "cell_type": "code",
   "source": [
    "model.lambda = 0.001\n",
    "fit!(mach, rows=train, verbosity=2)"
   ],
   "metadata": {},
   "execution_count": 66
  },
  {
   "cell_type": "markdown",
   "source": [
    "Let's train silently for a total of 50 epochs, and look at a prediction:"
   ],
   "metadata": {}
  },
  {
   "outputs": [
    {
     "name": "stdout",
     "output_type": "stream",
     "text": [
      "┌ Info: Updating \u001b[34mMachine{NeuralNetworkClassifier{Short,…}} @420\u001b[39m.\n",
      "└ @ MLJBase /Users/anthony/.julia/packages/MLJBase/r3heT/src/machines.jl:318\n",
      "\rOptimising neural net:  3%[>                        ]  ETA: 0:00:00\u001b[K\rOptimising neural net:  6%[=>                       ]  ETA: 0:00:00\u001b[K\rOptimising neural net: 10%[==>                      ]  ETA: 0:00:00\u001b[K\rOptimising neural net: 13%[===>                     ]  ETA: 0:00:00\u001b[K\rOptimising neural net: 16%[====>                    ]  ETA: 0:00:00\u001b[K\rOptimising neural net: 19%[====>                    ]  ETA: 0:00:00\u001b[K\rOptimising neural net: 23%[=====>                   ]  ETA: 0:00:00\u001b[K\rOptimising neural net: 26%[======>                  ]  ETA: 0:00:00\u001b[K\rOptimising neural net: 29%[=======>                 ]  ETA: 0:00:00\u001b[K\rOptimising neural net: 32%[========>                ]  ETA: 0:00:00\u001b[K\rOptimising neural net: 35%[========>                ]  ETA: 0:00:00\u001b[K\rOptimising neural net: 39%[=========>               ]  ETA: 0:00:00\u001b[K\rOptimising neural net: 42%[==========>              ]  ETA: 0:00:00\u001b[K\rOptimising neural net: 45%[===========>             ]  ETA: 0:00:00\u001b[K\rOptimising neural net: 48%[============>            ]  ETA: 0:00:00\u001b[K\rOptimising neural net: 52%[============>            ]  ETA: 0:00:00\u001b[K\rOptimising neural net: 55%[=============>           ]  ETA: 0:00:00\u001b[K\rOptimising neural net: 58%[==============>          ]  ETA: 0:00:00\u001b[K\rOptimising neural net: 61%[===============>         ]  ETA: 0:00:00\u001b[K\rOptimising neural net: 65%[================>        ]  ETA: 0:00:00\u001b[K\rOptimising neural net: 68%[================>        ]  ETA: 0:00:00\u001b[K\rOptimising neural net: 71%[=================>       ]  ETA: 0:00:00\u001b[K\rOptimising neural net: 74%[==================>      ]  ETA: 0:00:00\u001b[K\rOptimising neural net: 77%[===================>     ]  ETA: 0:00:00\u001b[K\rOptimising neural net: 81%[====================>    ]  ETA: 0:00:00\u001b[K\rOptimising neural net: 84%[====================>    ]  ETA: 0:00:00\u001b[K\rOptimising neural net: 87%[=====================>   ]  ETA: 0:00:00\u001b[K\rOptimising neural net: 90%[======================>  ]  ETA: 0:00:00\u001b[K\rOptimising neural net: 94%[=======================> ]  ETA: 0:00:00\u001b[K\rOptimising neural net: 97%[========================>]  ETA: 0:00:00\u001b[K\rOptimising neural net:100%[=========================] Time: 0:00:00\u001b[K\n"
     ]
    },
    {
     "output_type": "execute_result",
     "data": {
      "text/plain": "UnivariateFinite{Multiclass{3}}(Iris-setosa=>0.128, Iris-versicolor=>0.667, Iris-virginica=>0.204)"
     },
     "metadata": {},
     "execution_count": 67
    }
   ],
   "cell_type": "code",
   "source": [
    "model.epochs = 50\n",
    "fit!(mach, rows=train)\n",
    "yhat = predict(mach, X[test,:]); # or predict(mach, rows=test)\n",
    "yhat[1]"
   ],
   "metadata": {},
   "execution_count": 67
  },
  {
   "cell_type": "markdown",
   "source": [
    "What's going on here?"
   ],
   "metadata": {}
  },
  {
   "outputs": [
    {
     "output_type": "execute_result",
     "data": {
      "text/plain": ":probabilistic"
     },
     "metadata": {},
     "execution_count": 68
    }
   ],
   "cell_type": "code",
   "source": [
    "info(model).prediction_type"
   ],
   "metadata": {},
   "execution_count": 68
  },
  {
   "cell_type": "markdown",
   "source": [
    "**Important**:\n",
    "- In MLJ, a model that can predict probabilities (and not just point values) will do so by default. (These models have supertype `Proababilistic`, while point-estimate predictors have supertype `Deterministic`.)\n",
    "- For most probabilistic predictors, the predicted object is a `Distributions.Distribution` object, supporting the `Distributions.jl` [API](https://juliastats.org/Distributions.jl/latest/extends/#Create-a-Distribution-1) for such objects. In particular, the methods `rand`,  `pdf`, `mode`, `median` and `mean` will apply, where appropriate."
   ],
   "metadata": {}
  },
  {
   "cell_type": "markdown",
   "source": [
    "So, to obtain the probability of \"Iris-virginica\" in the first test\n",
    "prediction, we do"
   ],
   "metadata": {}
  },
  {
   "outputs": [
    {
     "output_type": "execute_result",
     "data": {
      "text/plain": "0.20434602f0"
     },
     "metadata": {},
     "execution_count": 69
    }
   ],
   "cell_type": "code",
   "source": [
    "pdf(yhat[1], \"Iris-virginica\")"
   ],
   "metadata": {},
   "execution_count": 69
  },
  {
   "cell_type": "markdown",
   "source": [
    "To get the most likely observation, we do"
   ],
   "metadata": {}
  },
  {
   "outputs": [
    {
     "output_type": "execute_result",
     "data": {
      "text/plain": "CategoricalValue{String,UInt32} \"Iris-versicolor\""
     },
     "metadata": {},
     "execution_count": 70
    }
   ],
   "cell_type": "code",
   "source": [
    "mode(yhat[1])"
   ],
   "metadata": {},
   "execution_count": 70
  },
  {
   "cell_type": "markdown",
   "source": [
    "These can be broadcast over multiple predictions in the usual way:"
   ],
   "metadata": {}
  },
  {
   "outputs": [
    {
     "output_type": "execute_result",
     "data": {
      "text/plain": "4-element Array{Float32,1}:\n 0.6672967\n 0.5366527\n 0.037599422\n 0.38899064"
     },
     "metadata": {},
     "execution_count": 71
    }
   ],
   "cell_type": "code",
   "source": [
    "broadcast(pdf, yhat[1:4], \"Iris-versicolor\")"
   ],
   "metadata": {},
   "execution_count": 71
  },
  {
   "outputs": [
    {
     "output_type": "execute_result",
     "data": {
      "text/plain": "4-element CategoricalArray{String,1,UInt32}:\n \"Iris-versicolor\"\n \"Iris-versicolor\"\n \"Iris-setosa\"\n \"Iris-virginica\""
     },
     "metadata": {},
     "execution_count": 72
    }
   ],
   "cell_type": "code",
   "source": [
    "mode.(yhat[1:4])"
   ],
   "metadata": {},
   "execution_count": 72
  },
  {
   "cell_type": "markdown",
   "source": [
    "Or, alternatively, you can use the `predict_mode` operation instead\n",
    "of `predict`:"
   ],
   "metadata": {}
  },
  {
   "outputs": [
    {
     "output_type": "execute_result",
     "data": {
      "text/plain": "4-element CategoricalArray{String,1,UInt32}:\n \"Iris-versicolor\"\n \"Iris-versicolor\"\n \"Iris-setosa\"\n \"Iris-virginica\""
     },
     "metadata": {},
     "execution_count": 73
    }
   ],
   "cell_type": "code",
   "source": [
    "predict_mode(mach, X[test,:])[1:4] # or predict_mode(mach, rows=test)[1:4]"
   ],
   "metadata": {},
   "execution_count": 73
  },
  {
   "cell_type": "markdown",
   "source": [
    "For a more conventional matrix of probabilities you can do this:"
   ],
   "metadata": {}
  },
  {
   "outputs": [
    {
     "output_type": "execute_result",
     "data": {
      "text/plain": "4×3 Array{Float32,2}:\n 0.128357     0.667297   0.204346\n 0.0271739    0.536653   0.436173\n 0.962401     0.0375994  1.58964f-10\n 0.000447471  0.388991   0.610562"
     },
     "metadata": {},
     "execution_count": 74
    }
   ],
   "cell_type": "code",
   "source": [
    "L = levels(y)\n",
    "pdf(yhat, L)[1:4, :]"
   ],
   "metadata": {},
   "execution_count": 74
  },
  {
   "cell_type": "markdown",
   "source": [
    "However, in a typical MLJ workflow, this is not as useful as you\n",
    "might imagine. In particular, all probablistic performance measures\n",
    "in MLJ expect distribution objects in their first slot:"
   ],
   "metadata": {}
  },
  {
   "outputs": [
    {
     "output_type": "execute_result",
     "data": {
      "text/plain": "0.32660282f0"
     },
     "metadata": {},
     "execution_count": 75
    }
   ],
   "cell_type": "code",
   "source": [
    "cross_entropy(yhat, y[test]) |> mean"
   ],
   "metadata": {},
   "execution_count": 75
  },
  {
   "cell_type": "markdown",
   "source": [
    "To apply a deterministic measure, we first need to obtain point-estimates:"
   ],
   "metadata": {}
  },
  {
   "outputs": [
    {
     "output_type": "execute_result",
     "data": {
      "text/plain": "0.022222222222222223"
     },
     "metadata": {},
     "execution_count": 76
    }
   ],
   "cell_type": "code",
   "source": [
    "misclassification_rate(mode.(yhat), y[test])"
   ],
   "metadata": {},
   "execution_count": 76
  },
  {
   "cell_type": "markdown",
   "source": [
    "We note in passing that there is also a search tool for measures\n",
    "analogous to `models`:"
   ],
   "metadata": {}
  },
  {
   "outputs": [
    {
     "output_type": "execute_result",
     "data": {
      "text/plain": "6-element Array{NamedTuple{(:name, :target_scitype, :supports_weights, :prediction_type, :orientation, :reports_each_observation, :aggregation, :is_feature_dependent, :docstring, :distribution_type),T} where T<:Tuple,1}:\n (name = accuracy, ...)\n (name = balanced_accuracy, ...)\n (name = cross_entropy, ...)\n (name = misclassification_rate, ...)\n (name = BrierScore{UnivariateFinite}, ...)\n (name = confusion_matrix, ...)"
     },
     "metadata": {},
     "execution_count": 77
    }
   ],
   "cell_type": "code",
   "source": [
    "measures(matching(y))"
   ],
   "metadata": {},
   "execution_count": 77
  },
  {
   "cell_type": "markdown",
   "source": [
    "### Step 4. Evaluate the model performance"
   ],
   "metadata": {}
  },
  {
   "cell_type": "markdown",
   "source": [
    "Naturally, MLJ provides boilerplate code for carrying out a model\n",
    "evaluation with a lot less fuss. Let's repeat the performance\n",
    "evaluation above and add an extra measure, `brier_score`:"
   ],
   "metadata": {}
  },
  {
   "outputs": [
    {
     "output_type": "execute_result",
     "data": {
      "text/plain": "┌\u001b[0m──────────────────────────────\u001b[0m┬\u001b[0m───────────────\u001b[0m┬\u001b[0m─────────────────\u001b[0m┐\u001b[0m\n│\u001b[0m\u001b[22m _.measure                    \u001b[0m│\u001b[0m\u001b[22m _.measurement \u001b[0m│\u001b[0m\u001b[22m _.per_fold      \u001b[0m│\u001b[0m\n├\u001b[0m──────────────────────────────\u001b[0m┼\u001b[0m───────────────\u001b[0m┼\u001b[0m─────────────────\u001b[0m┤\u001b[0m\n│\u001b[0m cross_entropy                \u001b[0m│\u001b[0m 0.327         \u001b[0m│\u001b[0m Float32[0.327]  \u001b[0m│\u001b[0m\n│\u001b[0m BrierScore{UnivariateFinite} \u001b[0m│\u001b[0m -0.179        \u001b[0m│\u001b[0m Float32[-0.179] \u001b[0m│\u001b[0m\n└\u001b[0m──────────────────────────────\u001b[0m┴\u001b[0m───────────────\u001b[0m┴\u001b[0m─────────────────\u001b[0m┘\u001b[0m\n_.per_observation = [[[0.405, 0.622, ..., 0.0365]], [[-0.169, -0.406, ..., -0.00256]]]\n"
     },
     "metadata": {},
     "execution_count": 78
    }
   ],
   "cell_type": "code",
   "source": [
    "evaluate!(mach, resampling=Holdout(fraction_train=0.7),\n",
    "          measures=[cross_entropy, brier_score])"
   ],
   "metadata": {},
   "execution_count": 78
  },
  {
   "cell_type": "markdown",
   "source": [
    "Or applying cross-validation instead:"
   ],
   "metadata": {}
  },
  {
   "outputs": [
    {
     "name": "stdout",
     "output_type": "stream",
     "text": [
      "\rEvaluating over 6 folds:  17%[====>                    ]  ETA: 0:00:04\u001b[K\rEvaluating over 6 folds:  33%[========>                ]  ETA: 0:00:03\u001b[K\rEvaluating over 6 folds:  50%[============>            ]  ETA: 0:00:02\u001b[K\rEvaluating over 6 folds:  67%[================>        ]  ETA: 0:00:02\u001b[K\rEvaluating over 6 folds:  83%[====================>    ]  ETA: 0:00:01\u001b[K\rEvaluating over 6 folds: 100%[=========================] Time: 0:00:04\u001b[K\n"
     ]
    },
    {
     "output_type": "execute_result",
     "data": {
      "text/plain": "┌\u001b[0m──────────────────────────────\u001b[0m┬\u001b[0m───────────────\u001b[0m┬\u001b[0m──────────────────────────────────────────────────────────\u001b[0m┐\u001b[0m\n│\u001b[0m\u001b[22m _.measure                    \u001b[0m│\u001b[0m\u001b[22m _.measurement \u001b[0m│\u001b[0m\u001b[22m _.per_fold                                               \u001b[0m│\u001b[0m\n├\u001b[0m──────────────────────────────\u001b[0m┼\u001b[0m───────────────\u001b[0m┼\u001b[0m──────────────────────────────────────────────────────────\u001b[0m┤\u001b[0m\n│\u001b[0m cross_entropy                \u001b[0m│\u001b[0m 0.334         \u001b[0m│\u001b[0m Float32[0.364, 0.185, 0.35, 0.337, 0.481, 0.288]         \u001b[0m│\u001b[0m\n│\u001b[0m BrierScore{UnivariateFinite} \u001b[0m│\u001b[0m -0.179        \u001b[0m│\u001b[0m Float32[-0.176, -0.0903, -0.183, -0.189, -0.282, -0.156] \u001b[0m│\u001b[0m\n└\u001b[0m──────────────────────────────\u001b[0m┴\u001b[0m───────────────\u001b[0m┴\u001b[0m──────────────────────────────────────────────────────────\u001b[0m┘\u001b[0m\n_.per_observation = [[[0.24, 0.452, ..., 0.314], [0.000874, 0.436, ..., 0.000738], [0.235, 0.561, ..., 0.00945], [0.00825, 0.471, ..., 0.00898], [0.569, 0.474, ..., 0.752], [0.00326, 0.431, ..., 0.00265]], [[-0.0912, -0.225, ..., -0.121], [-1.55e-6, -0.214, ..., -1.07e-6], [-0.0877, -0.318, ..., -0.000177], [-0.000135, -0.258, ..., -0.00016], [-0.294, -0.215, ..., -0.469], [-2.11e-5, -0.196, ..., -1.41e-5]]]\n"
     },
     "metadata": {},
     "execution_count": 79
    }
   ],
   "cell_type": "code",
   "source": [
    "evaluate!(mach, resampling=CV(nfolds=6),\n",
    "          measures=[cross_entropy, brier_score])"
   ],
   "metadata": {},
   "execution_count": 79
  },
  {
   "cell_type": "markdown",
   "source": [
    "Or, Monte-Carlo cross-validation (cross-validation repeated\n",
    "randomizied folds)"
   ],
   "metadata": {}
  },
  {
   "outputs": [
    {
     "name": "stdout",
     "output_type": "stream",
     "text": [
      "\rEvaluating over 18 folds:   6%[=>                       ]  ETA: 0:00:13\u001b[K\rEvaluating over 18 folds:  11%[==>                      ]  ETA: 0:00:13\u001b[K\rEvaluating over 18 folds:  17%[====>                    ]  ETA: 0:00:12\u001b[K\rEvaluating over 18 folds:  22%[=====>                   ]  ETA: 0:00:11\u001b[K\rEvaluating over 18 folds:  28%[======>                  ]  ETA: 0:00:10\u001b[K\rEvaluating over 18 folds:  33%[========>                ]  ETA: 0:00:09\u001b[K\rEvaluating over 18 folds:  39%[=========>               ]  ETA: 0:00:09\u001b[K\rEvaluating over 18 folds:  44%[===========>             ]  ETA: 0:00:08\u001b[K\rEvaluating over 18 folds:  50%[============>            ]  ETA: 0:00:07\u001b[K\rEvaluating over 18 folds:  56%[=============>           ]  ETA: 0:00:06\u001b[K\rEvaluating over 18 folds:  61%[===============>         ]  ETA: 0:00:05\u001b[K\rEvaluating over 18 folds:  67%[================>        ]  ETA: 0:00:05\u001b[K\rEvaluating over 18 folds:  72%[==================>      ]  ETA: 0:00:04\u001b[K\rEvaluating over 18 folds:  78%[===================>     ]  ETA: 0:00:03\u001b[K\rEvaluating over 18 folds:  83%[====================>    ]  ETA: 0:00:02\u001b[K\rEvaluating over 18 folds:  89%[======================>  ]  ETA: 0:00:02\u001b[K\rEvaluating over 18 folds:  94%[=======================> ]  ETA: 0:00:01\u001b[K\rEvaluating over 18 folds: 100%[=========================] Time: 0:00:13\u001b[K\n"
     ]
    },
    {
     "output_type": "execute_result",
     "data": {
      "text/plain": "┌\u001b[0m──────────────────────────────\u001b[0m┬\u001b[0m───────────────\u001b[0m┬\u001b[0m────────────────────────────────────────────────────────────────────────────────────────────────────────────────────────────────────────────────────────\u001b[0m┐\u001b[0m\n│\u001b[0m\u001b[22m _.measure                    \u001b[0m│\u001b[0m\u001b[22m _.measurement \u001b[0m│\u001b[0m\u001b[22m _.per_fold                                                                                                                                             \u001b[0m│\u001b[0m\n├\u001b[0m──────────────────────────────\u001b[0m┼\u001b[0m───────────────\u001b[0m┼\u001b[0m────────────────────────────────────────────────────────────────────────────────────────────────────────────────────────────────────────────────────────\u001b[0m┤\u001b[0m\n│\u001b[0m cross_entropy                \u001b[0m│\u001b[0m 0.297         \u001b[0m│\u001b[0m Float32[0.252, 0.354, 0.219, 0.293, 0.341, 0.32, 0.344, 0.278, 0.329, 0.267, 0.276, 0.295, 0.334, 0.268, 0.355, 0.226, 0.264, 0.325]                   \u001b[0m│\u001b[0m\n│\u001b[0m BrierScore{UnivariateFinite} \u001b[0m│\u001b[0m -0.15         \u001b[0m│\u001b[0m Float32[-0.147, -0.161, -0.0801, -0.138, -0.189, -0.172, -0.2, -0.133, -0.179, -0.129, -0.144, -0.124, -0.182, -0.139, -0.182, -0.108, -0.128, -0.176] \u001b[0m│\u001b[0m\n└\u001b[0m──────────────────────────────\u001b[0m┴\u001b[0m───────────────\u001b[0m┴\u001b[0m────────────────────────────────────────────────────────────────────────────────────────────────────────────────────────────────────────────────────────\u001b[0m┘\u001b[0m\n_.per_observation = [[[0.552, 0.0535, ..., 0.0188], [0.271, 0.431, ..., 0.233], [0.233, 0.226, ..., 0.153], [0.233, 0.424, ..., 0.226], [0.439, 0.00157, ..., 0.00147], [0.00678, 0.249, ..., 0.379], [0.268, 0.0283, ..., 0.224], [0.273, 0.508, ..., 0.146], [0.627, 0.00194, ..., 0.691], [0.072, 0.284, ..., 0.15], [0.404, 0.0179, ..., 0.0255], [0.347, 0.314, ..., 0.119], [0.514, 0.243, ..., 0.548], [0.563, 0.544, ..., 0.642], [0.32, 0.451, ..., 0.467], [0.188, 0.00459, ..., 0.256], [0.0374, 0.0367, ..., 0.0364], [0.0543, 0.051, ..., 0.277]], [[-0.296, -0.00524, ..., -0.000678], [-0.113, -0.24, ..., -0.0861], [-0.0862, -0.0816, ..., -0.0403], [-0.0804, -0.236, ..., -0.0816], [-0.206, -4.89e-6, ..., -4.29e-6], [-9.13e-5, -0.097, ..., -0.149], [-0.11, -0.00136, ..., -0.0806], [-0.0912, -0.314, ..., -0.0367], [-0.337, -7.51e-6, ..., -0.432], [-0.00767, -0.123, ..., -0.0388], [-0.186, -0.000571, ..., -0.00114], [-0.172, -0.126, ..., -0.025], [-0.244, -0.0928, ..., -0.268], [-0.279, -0.329, ..., -0.34], [-0.145, -0.247, ..., -0.209], [-0.0588, -4.2e-5, ..., -0.102], [-0.0027, -0.00259, ..., -0.00256], [-0.00452, -0.00401, ..., -0.117]]]\n"
     },
     "metadata": {},
     "execution_count": 80
    }
   ],
   "cell_type": "code",
   "source": [
    "e = evaluate!(mach, resampling=CV(nfolds=6, rng=123),\n",
    "                repeats=3,\n",
    "              measures=[cross_entropy, brier_score])"
   ],
   "metadata": {},
   "execution_count": 80
  },
  {
   "cell_type": "markdown",
   "source": [
    "One can access the following properties of the output `e` of an\n",
    "evaluation: `measure`, `measurement`, `per_fold` (measurement for\n",
    "each fold) and `per_observation` (measurement per observation, if\n",
    "reported)."
   ],
   "metadata": {}
  },
  {
   "cell_type": "markdown",
   "source": [
    "We finally note that you can restrict the rows of observations from\n",
    "which train and test folds are drawn, by specifying `rows=...`. For\n",
    "example, imagining the last 30% of target observations are `missing`\n",
    "you might have a workflow like this:"
   ],
   "metadata": {}
  },
  {
   "outputs": [
    {
     "name": "stdout",
     "output_type": "stream",
     "text": [
      "┌ Info: Creating subsamples from a subset of all rows. \n",
      "└ @ MLJBase /Users/anthony/.julia/packages/MLJBase/r3heT/src/resampling.jl:336\n",
      "\rEvaluating over 6 folds:  17%[====>                    ]  ETA: 0:00:03\u001b[K\rEvaluating over 6 folds:  33%[========>                ]  ETA: 0:00:02\u001b[K\rEvaluating over 6 folds:  50%[============>            ]  ETA: 0:00:02\u001b[K\rEvaluating over 6 folds:  67%[================>        ]  ETA: 0:00:01\u001b[K\rEvaluating over 6 folds:  83%[====================>    ]  ETA: 0:00:01\u001b[K\rEvaluating over 6 folds: 100%[=========================] Time: 0:00:03\u001b[K\n",
      "┌ Info: Training \u001b[34mMachine{NeuralNetworkClassifier{Short,…}} @914\u001b[39m.\n",
      "└ @ MLJBase /Users/anthony/.julia/packages/MLJBase/r3heT/src/machines.jl:317\n",
      "\rOptimising neural net:  2%[>                        ]  ETA: 0:00:00\u001b[K\rOptimising neural net:  4%[>                        ]  ETA: 0:00:00\u001b[K\rOptimising neural net:  6%[=>                       ]  ETA: 0:00:00\u001b[K\rOptimising neural net:  8%[=>                       ]  ETA: 0:00:00\u001b[K\rOptimising neural net: 10%[==>                      ]  ETA: 0:00:00\u001b[K\rOptimising neural net: 12%[==>                      ]  ETA: 0:00:00\u001b[K\rOptimising neural net: 14%[===>                     ]  ETA: 0:00:00\u001b[K\rOptimising neural net: 16%[===>                     ]  ETA: 0:00:00\u001b[K\rOptimising neural net: 18%[====>                    ]  ETA: 0:00:00\u001b[K\rOptimising neural net: 20%[====>                    ]  ETA: 0:00:00\u001b[K\rOptimising neural net: 22%[=====>                   ]  ETA: 0:00:00\u001b[K\rOptimising neural net: 24%[=====>                   ]  ETA: 0:00:00\u001b[K\rOptimising neural net: 25%[======>                  ]  ETA: 0:00:00\u001b[K\rOptimising neural net: 27%[======>                  ]  ETA: 0:00:00\u001b[K\rOptimising neural net: 29%[=======>                 ]  ETA: 0:00:00\u001b[K\rOptimising neural net: 31%[=======>                 ]  ETA: 0:00:00\u001b[K\rOptimising neural net: 33%[========>                ]  ETA: 0:00:00\u001b[K\rOptimising neural net: 35%[========>                ]  ETA: 0:00:00\u001b[K\rOptimising neural net: 37%[=========>               ]  ETA: 0:00:00\u001b[K\rOptimising neural net: 39%[=========>               ]  ETA: 0:00:00\u001b[K\rOptimising neural net: 41%[==========>              ]  ETA: 0:00:00\u001b[K\rOptimising neural net: 43%[==========>              ]  ETA: 0:00:00\u001b[K\rOptimising neural net: 45%[===========>             ]  ETA: 0:00:00\u001b[K\rOptimising neural net: 47%[===========>             ]  ETA: 0:00:00\u001b[K\rOptimising neural net: 49%[============>            ]  ETA: 0:00:00\u001b[K\rOptimising neural net: 51%[============>            ]  ETA: 0:00:00\u001b[K\rOptimising neural net: 53%[=============>           ]  ETA: 0:00:00\u001b[K\rOptimising neural net: 55%[=============>           ]  ETA: 0:00:00\u001b[K\rOptimising neural net: 57%[==============>          ]  ETA: 0:00:00\u001b[K\rOptimising neural net: 59%[==============>          ]  ETA: 0:00:00\u001b[K\rOptimising neural net: 61%[===============>         ]  ETA: 0:00:00\u001b[K\rOptimising neural net: 63%[===============>         ]  ETA: 0:00:00\u001b[K\rOptimising neural net: 65%[================>        ]  ETA: 0:00:00\u001b[K\rOptimising neural net: 67%[================>        ]  ETA: 0:00:00\u001b[K\rOptimising neural net: 69%[=================>       ]  ETA: 0:00:00\u001b[K\rOptimising neural net: 71%[=================>       ]  ETA: 0:00:00\u001b[K\rOptimising neural net: 73%[==================>      ]  ETA: 0:00:00\u001b[K\rOptimising neural net: 75%[==================>      ]  ETA: 0:00:00\u001b[K\rOptimising neural net: 76%[===================>     ]  ETA: 0:00:00\u001b[K\rOptimising neural net: 78%[===================>     ]  ETA: 0:00:00\u001b[K\rOptimising neural net: 80%[====================>    ]  ETA: 0:00:00\u001b[K\rOptimising neural net: 82%[====================>    ]  ETA: 0:00:00\u001b[K\rOptimising neural net: 84%[=====================>   ]  ETA: 0:00:00\u001b[K\rOptimising neural net: 86%[=====================>   ]  ETA: 0:00:00\u001b[K\rOptimising neural net: 88%[======================>  ]  ETA: 0:00:00\u001b[K\rOptimising neural net: 90%[======================>  ]  ETA: 0:00:00\u001b[K\rOptimising neural net: 92%[=======================> ]  ETA: 0:00:00\u001b[K\rOptimising neural net: 94%[=======================> ]  ETA: 0:00:00\u001b[K\rOptimising neural net: 96%[========================>]  ETA: 0:00:00\u001b[K\rOptimising neural net: 98%[========================>]  ETA: 0:00:00\u001b[K\rOptimising neural net:100%[=========================] Time: 0:00:00\u001b[K\n"
     ]
    }
   ],
   "cell_type": "code",
   "source": [
    "train, test = partition(eachindex(y), 0.7)\n",
    "mach = machine(model, X, y)\n",
    "evaluate!(mach, resampling=CV(nfolds=6),\n",
    "          measures=[cross_entropy, brier_score],\n",
    "          rows=train)     # cv estimate, resampling from `train`\n",
    "fit!(mach, rows=train)    # re-train using all of `train` observations\n",
    "predict(mach, rows=test); # and predict missing targets"
   ],
   "metadata": {},
   "execution_count": 81
  },
  {
   "cell_type": "markdown",
   "source": [
    "### On learning curves"
   ],
   "metadata": {}
  },
  {
   "cell_type": "markdown",
   "source": [
    "Since our model is an iterative one, we might want to inspect the\n",
    "out-of-sample performance as a function of the iteration\n",
    "parameter. For this we can use the `learning_curve` function (which,\n",
    "incidentally can be applied to any model hyper-parameter). This\n",
    "starts by defining a one-dimensional range object for the parameter\n",
    "(more on this when we discuss tuning in Part 4):"
   ],
   "metadata": {}
  },
  {
   "outputs": [
    {
     "name": "stdout",
     "output_type": "stream",
     "text": [
      "┌ Info: Training \u001b[34mMachine{ProbabilisticTunedModel{Grid,…}} @606\u001b[39m.\n",
      "└ @ MLJBase /Users/anthony/.julia/packages/MLJBase/r3heT/src/machines.jl:317\n",
      "┌ Info: Attempting to evaluate 22 models.\n",
      "└ @ MLJTuning /Users/anthony/.julia/packages/MLJTuning/oLVRR/src/tuned_models.jl:474\n",
      "\rEvaluating over 22 metamodels:   0%[>                        ]  ETA: N/A\u001b[K\rEvaluating over 22 metamodels:   5%[=>                       ]  ETA: 0:00:01\u001b[K\rEvaluating over 22 metamodels:   9%[==>                      ]  ETA: 0:00:01\u001b[K\rEvaluating over 22 metamodels:  14%[===>                     ]  ETA: 0:00:00\u001b[K\rEvaluating over 22 metamodels:  18%[====>                    ]  ETA: 0:00:00\u001b[K\rEvaluating over 22 metamodels:  23%[=====>                   ]  ETA: 0:00:00\u001b[K\rEvaluating over 22 metamodels:  27%[======>                  ]  ETA: 0:00:00\u001b[K\rEvaluating over 22 metamodels:  32%[=======>                 ]  ETA: 0:00:00\u001b[K\rEvaluating over 22 metamodels:  36%[=========>               ]  ETA: 0:00:00\u001b[K\rEvaluating over 22 metamodels:  41%[==========>              ]  ETA: 0:00:00\u001b[K\rEvaluating over 22 metamodels:  45%[===========>             ]  ETA: 0:00:00\u001b[K\rEvaluating over 22 metamodels:  50%[============>            ]  ETA: 0:00:00\u001b[K\rEvaluating over 22 metamodels:  55%[=============>           ]  ETA: 0:00:00\u001b[K\rEvaluating over 22 metamodels:  59%[==============>          ]  ETA: 0:00:00\u001b[K\rEvaluating over 22 metamodels:  64%[===============>         ]  ETA: 0:00:00\u001b[K\rEvaluating over 22 metamodels:  68%[=================>       ]  ETA: 0:00:00\u001b[K\rEvaluating over 22 metamodels:  73%[==================>      ]  ETA: 0:00:00\u001b[K\rEvaluating over 22 metamodels:  77%[===================>     ]  ETA: 0:00:00\u001b[K\rEvaluating over 22 metamodels:  82%[====================>    ]  ETA: 0:00:00\u001b[K\rEvaluating over 22 metamodels:  86%[=====================>   ]  ETA: 0:00:00\u001b[K\rEvaluating over 22 metamodels:  91%[======================>  ]  ETA: 0:00:00\u001b[K\rEvaluating over 22 metamodels:  95%[=======================> ]  ETA: 0:00:00\u001b[K\rEvaluating over 22 metamodels: 100%[=========================] Time: 0:00:00\u001b[K\n"
     ]
    },
    {
     "output_type": "execute_result",
     "data": {
      "text/plain": "Plot{Plots.PyPlotBackend() n=1}",
      "image/png": "[encoded data removed]",
      "text/html": [
       "<img src=\"data:image/png;base64,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\" />"
      ],
      "image/svg+xml": [
       "<?xml version=\"1.0\" encoding=\"utf-8\" standalone=\"no\"?>\n",
       "<!DOCTYPE svg PUBLIC \"-//W3C//DTD SVG 1.1//EN\"\n",
       "  \"http://www.w3.org/Graphics/SVG/1.1/DTD/svg11.dtd\">\n",
       "<!-- Created with matplotlib (https://matplotlib.org/) -->\n",
       "<svg height=\"216pt\" version=\"1.1\" viewBox=\"0 0 352.8 216\" width=\"352.8pt\" xmlns=\"http://www.w3.org/2000/svg\" xmlns:xlink=\"http://www.w3.org/1999/xlink\">\n",
       " <defs>\n",
       "  <style type=\"text/css\">\n",
       "*{stroke-linecap:butt;stroke-linejoin:round;}\n",
       "  </style>\n",
       " </defs>\n",
       " <g id=\"figure_1\">\n",
       "  <g id=\"patch_1\">\n",
       "   <path d=\"M 0 216 \n",
       "L 352.8 216 \n",
       "L 352.8 0 \n",
       "L 0 0 \n",
       "z\n",
       "\" style=\"fill:#ffffff;\"/>\n",
       "  </g>\n",
       "  <g id=\"axes_1\">\n",
       "   <g id=\"patch_2\">\n",
       "    <path d=\"M 34.763856 186.225354 \n",
       "L 349.965354 186.225354 \n",
       "L 349.965354 2.834646 \n",
       "L 34.763856 2.834646 \n",
       "z\n",
       "\" style=\"fill:#ffffff;\"/>\n",
       "   </g>\n",
       "   <g id=\"matplotlib.axis_1\">\n",
       "    <g id=\"xtick_1\">\n",
       "     <g id=\"line2d_1\">\n",
       "      <path clip-path=\"url(#p2178705586)\" d=\"M 38.644655 186.225354 \n",
       "L 38.644655 2.834646 \n",
       "\" style=\"fill:none;stroke:#000000;stroke-linecap:square;stroke-opacity:0.1;stroke-width:0.5;\"/>\n",
       "     </g>\n",
       "     <g id=\"line2d_2\">\n",
       "      <defs>\n",
       "       <path d=\"M 0 0 \n",
       "L 0 -3.5 \n",
       "\" id=\"me6de3d295e\" style=\"stroke:#000000;stroke-width:0.5;\"/>\n",
       "      </defs>\n",
       "      <g>\n",
       "       <use style=\"stroke:#000000;stroke-width:0.5;\" x=\"38.644655\" xlink:href=\"#me6de3d295e\" y=\"186.225354\"/>\n",
       "      </g>\n",
       "     </g>\n",
       "     <g id=\"text_1\">\n",
       "      <!-- $0$ -->\n",
       "      <defs>\n",
       "       <path d=\"M 31.78125 66.40625 \n",
       "Q 24.171875 66.40625 20.328125 58.90625 \n",
       "Q 16.5 51.421875 16.5 36.375 \n",
       "Q 16.5 21.390625 20.328125 13.890625 \n",
       "Q 24.171875 6.390625 31.78125 6.390625 \n",
       "Q 39.453125 6.390625 43.28125 13.890625 \n",
       "Q 47.125 21.390625 47.125 36.375 \n",
       "Q 47.125 51.421875 43.28125 58.90625 \n",
       "Q 39.453125 66.40625 31.78125 66.40625 \n",
       "z\n",
       "M 31.78125 74.21875 \n",
       "Q 44.046875 74.21875 50.515625 64.515625 \n",
       "Q 56.984375 54.828125 56.984375 36.375 \n",
       "Q 56.984375 17.96875 50.515625 8.265625 \n",
       "Q 44.046875 -1.421875 31.78125 -1.421875 \n",
       "Q 19.53125 -1.421875 13.0625 8.265625 \n",
       "Q 6.59375 17.96875 6.59375 36.375 \n",
       "Q 6.59375 54.828125 13.0625 64.515625 \n",
       "Q 19.53125 74.21875 31.78125 74.21875 \n",
       "z\n",
       "\" id=\"DejaVuSans-48\"/>\n",
       "      </defs>\n",
       "      <g transform=\"translate(36.084655 195.804104)scale(0.08 -0.08)\">\n",
       "       <use transform=\"translate(0 0.78125)\" xlink:href=\"#DejaVuSans-48\"/>\n",
       "      </g>\n",
       "     </g>\n",
       "    </g>\n",
       "    <g id=\"xtick_2\">\n",
       "     <g id=\"line2d_3\">\n",
       "      <path clip-path=\"url(#p2178705586)\" d=\"M 89.044638 186.225354 \n",
       "L 89.044638 2.834646 \n",
       "\" style=\"fill:none;stroke:#000000;stroke-linecap:square;stroke-opacity:0.1;stroke-width:0.5;\"/>\n",
       "     </g>\n",
       "     <g id=\"line2d_4\">\n",
       "      <g>\n",
       "       <use style=\"stroke:#000000;stroke-width:0.5;\" x=\"89.044638\" xlink:href=\"#me6de3d295e\" y=\"186.225354\"/>\n",
       "      </g>\n",
       "     </g>\n",
       "     <g id=\"text_2\">\n",
       "      <!-- $10$ -->\n",
       "      <defs>\n",
       "       <path d=\"M 12.40625 8.296875 \n",
       "L 28.515625 8.296875 \n",
       "L 28.515625 63.921875 \n",
       "L 10.984375 60.40625 \n",
       "L 10.984375 69.390625 \n",
       "L 28.421875 72.90625 \n",
       "L 38.28125 72.90625 \n",
       "L 38.28125 8.296875 \n",
       "L 54.390625 8.296875 \n",
       "L 54.390625 0 \n",
       "L 12.40625 0 \n",
       "z\n",
       "\" id=\"DejaVuSans-49\"/>\n",
       "      </defs>\n",
       "      <g transform=\"translate(83.924638 195.804104)scale(0.08 -0.08)\">\n",
       "       <use transform=\"translate(0 0.78125)\" xlink:href=\"#DejaVuSans-49\"/>\n",
       "       <use transform=\"translate(63.623047 0.78125)\" xlink:href=\"#DejaVuSans-48\"/>\n",
       "      </g>\n",
       "     </g>\n",
       "    </g>\n",
       "    <g id=\"xtick_3\">\n",
       "     <g id=\"line2d_5\">\n",
       "      <path clip-path=\"url(#p2178705586)\" d=\"M 139.444622 186.225354 \n",
       "L 139.444622 2.834646 \n",
       "\" style=\"fill:none;stroke:#000000;stroke-linecap:square;stroke-opacity:0.1;stroke-width:0.5;\"/>\n",
       "     </g>\n",
       "     <g id=\"line2d_6\">\n",
       "      <g>\n",
       "       <use style=\"stroke:#000000;stroke-width:0.5;\" x=\"139.444622\" xlink:href=\"#me6de3d295e\" y=\"186.225354\"/>\n",
       "      </g>\n",
       "     </g>\n",
       "     <g id=\"text_3\">\n",
       "      <!-- $20$ -->\n",
       "      <defs>\n",
       "       <path d=\"M 19.1875 8.296875 \n",
       "L 53.609375 8.296875 \n",
       "L 53.609375 0 \n",
       "L 7.328125 0 \n",
       "L 7.328125 8.296875 \n",
       "Q 12.9375 14.109375 22.625 23.890625 \n",
       "Q 32.328125 33.6875 34.8125 36.53125 \n",
       "Q 39.546875 41.84375 41.421875 45.53125 \n",
       "Q 43.3125 49.21875 43.3125 52.78125 \n",
       "Q 43.3125 58.59375 39.234375 62.25 \n",
       "Q 35.15625 65.921875 28.609375 65.921875 \n",
       "Q 23.96875 65.921875 18.8125 64.3125 \n",
       "Q 13.671875 62.703125 7.8125 59.421875 \n",
       "L 7.8125 69.390625 \n",
       "Q 13.765625 71.78125 18.9375 73 \n",
       "Q 24.125 74.21875 28.421875 74.21875 \n",
       "Q 39.75 74.21875 46.484375 68.546875 \n",
       "Q 53.21875 62.890625 53.21875 53.421875 \n",
       "Q 53.21875 48.921875 51.53125 44.890625 \n",
       "Q 49.859375 40.875 45.40625 35.40625 \n",
       "Q 44.1875 33.984375 37.640625 27.21875 \n",
       "Q 31.109375 20.453125 19.1875 8.296875 \n",
       "z\n",
       "\" id=\"DejaVuSans-50\"/>\n",
       "      </defs>\n",
       "      <g transform=\"translate(134.324622 195.804104)scale(0.08 -0.08)\">\n",
       "       <use transform=\"translate(0 0.78125)\" xlink:href=\"#DejaVuSans-50\"/>\n",
       "       <use transform=\"translate(63.623047 0.78125)\" xlink:href=\"#DejaVuSans-48\"/>\n",
       "      </g>\n",
       "     </g>\n",
       "    </g>\n",
       "    <g id=\"xtick_4\">\n",
       "     <g id=\"line2d_7\">\n",
       "      <path clip-path=\"url(#p2178705586)\" d=\"M 189.844606 186.225354 \n",
       "L 189.844606 2.834646 \n",
       "\" style=\"fill:none;stroke:#000000;stroke-linecap:square;stroke-opacity:0.1;stroke-width:0.5;\"/>\n",
       "     </g>\n",
       "     <g id=\"line2d_8\">\n",
       "      <g>\n",
       "       <use style=\"stroke:#000000;stroke-width:0.5;\" x=\"189.844606\" xlink:href=\"#me6de3d295e\" y=\"186.225354\"/>\n",
       "      </g>\n",
       "     </g>\n",
       "     <g id=\"text_4\">\n",
       "      <!-- $30$ -->\n",
       "      <defs>\n",
       "       <path d=\"M 40.578125 39.3125 \n",
       "Q 47.65625 37.796875 51.625 33 \n",
       "Q 55.609375 28.21875 55.609375 21.1875 \n",
       "Q 55.609375 10.40625 48.1875 4.484375 \n",
       "Q 40.765625 -1.421875 27.09375 -1.421875 \n",
       "Q 22.515625 -1.421875 17.65625 -0.515625 \n",
       "Q 12.796875 0.390625 7.625 2.203125 \n",
       "L 7.625 11.71875 \n",
       "Q 11.71875 9.328125 16.59375 8.109375 \n",
       "Q 21.484375 6.890625 26.8125 6.890625 \n",
       "Q 36.078125 6.890625 40.9375 10.546875 \n",
       "Q 45.796875 14.203125 45.796875 21.1875 \n",
       "Q 45.796875 27.640625 41.28125 31.265625 \n",
       "Q 36.765625 34.90625 28.71875 34.90625 \n",
       "L 20.21875 34.90625 \n",
       "L 20.21875 43.015625 \n",
       "L 29.109375 43.015625 \n",
       "Q 36.375 43.015625 40.234375 45.921875 \n",
       "Q 44.09375 48.828125 44.09375 54.296875 \n",
       "Q 44.09375 59.90625 40.109375 62.90625 \n",
       "Q 36.140625 65.921875 28.71875 65.921875 \n",
       "Q 24.65625 65.921875 20.015625 65.03125 \n",
       "Q 15.375 64.15625 9.8125 62.3125 \n",
       "L 9.8125 71.09375 \n",
       "Q 15.4375 72.65625 20.34375 73.4375 \n",
       "Q 25.25 74.21875 29.59375 74.21875 \n",
       "Q 40.828125 74.21875 47.359375 69.109375 \n",
       "Q 53.90625 64.015625 53.90625 55.328125 \n",
       "Q 53.90625 49.265625 50.4375 45.09375 \n",
       "Q 46.96875 40.921875 40.578125 39.3125 \n",
       "z\n",
       "\" id=\"DejaVuSans-51\"/>\n",
       "      </defs>\n",
       "      <g transform=\"translate(184.724606 195.804104)scale(0.08 -0.08)\">\n",
       "       <use transform=\"translate(0 0.78125)\" xlink:href=\"#DejaVuSans-51\"/>\n",
       "       <use transform=\"translate(63.623047 0.78125)\" xlink:href=\"#DejaVuSans-48\"/>\n",
       "      </g>\n",
       "     </g>\n",
       "    </g>\n",
       "    <g id=\"xtick_5\">\n",
       "     <g id=\"line2d_9\">\n",
       "      <path clip-path=\"url(#p2178705586)\" d=\"M 240.24459 186.225354 \n",
       "L 240.24459 2.834646 \n",
       "\" style=\"fill:none;stroke:#000000;stroke-linecap:square;stroke-opacity:0.1;stroke-width:0.5;\"/>\n",
       "     </g>\n",
       "     <g id=\"line2d_10\">\n",
       "      <g>\n",
       "       <use style=\"stroke:#000000;stroke-width:0.5;\" x=\"240.24459\" xlink:href=\"#me6de3d295e\" y=\"186.225354\"/>\n",
       "      </g>\n",
       "     </g>\n",
       "     <g id=\"text_5\">\n",
       "      <!-- $40$ -->\n",
       "      <defs>\n",
       "       <path d=\"M 37.796875 64.3125 \n",
       "L 12.890625 25.390625 \n",
       "L 37.796875 25.390625 \n",
       "z\n",
       "M 35.203125 72.90625 \n",
       "L 47.609375 72.90625 \n",
       "L 47.609375 25.390625 \n",
       "L 58.015625 25.390625 \n",
       "L 58.015625 17.1875 \n",
       "L 47.609375 17.1875 \n",
       "L 47.609375 0 \n",
       "L 37.796875 0 \n",
       "L 37.796875 17.1875 \n",
       "L 4.890625 17.1875 \n",
       "L 4.890625 26.703125 \n",
       "z\n",
       "\" id=\"DejaVuSans-52\"/>\n",
       "      </defs>\n",
       "      <g transform=\"translate(235.12459 195.804104)scale(0.08 -0.08)\">\n",
       "       <use transform=\"translate(0 0.78125)\" xlink:href=\"#DejaVuSans-52\"/>\n",
       "       <use transform=\"translate(63.623047 0.78125)\" xlink:href=\"#DejaVuSans-48\"/>\n",
       "      </g>\n",
       "     </g>\n",
       "    </g>\n",
       "    <g id=\"xtick_6\">\n",
       "     <g id=\"line2d_11\">\n",
       "      <path clip-path=\"url(#p2178705586)\" d=\"M 290.644573 186.225354 \n",
       "L 290.644573 2.834646 \n",
       "\" style=\"fill:none;stroke:#000000;stroke-linecap:square;stroke-opacity:0.1;stroke-width:0.5;\"/>\n",
       "     </g>\n",
       "     <g id=\"line2d_12\">\n",
       "      <g>\n",
       "       <use style=\"stroke:#000000;stroke-width:0.5;\" x=\"290.644573\" xlink:href=\"#me6de3d295e\" y=\"186.225354\"/>\n",
       "      </g>\n",
       "     </g>\n",
       "     <g id=\"text_6\">\n",
       "      <!-- $50$ -->\n",
       "      <defs>\n",
       "       <path d=\"M 10.796875 72.90625 \n",
       "L 49.515625 72.90625 \n",
       "L 49.515625 64.59375 \n",
       "L 19.828125 64.59375 \n",
       "L 19.828125 46.734375 \n",
       "Q 21.96875 47.46875 24.109375 47.828125 \n",
       "Q 26.265625 48.1875 28.421875 48.1875 \n",
       "Q 40.625 48.1875 47.75 41.5 \n",
       "Q 54.890625 34.8125 54.890625 23.390625 \n",
       "Q 54.890625 11.625 47.5625 5.09375 \n",
       "Q 40.234375 -1.421875 26.90625 -1.421875 \n",
       "Q 22.3125 -1.421875 17.546875 -0.640625 \n",
       "Q 12.796875 0.140625 7.71875 1.703125 \n",
       "L 7.71875 11.625 \n",
       "Q 12.109375 9.234375 16.796875 8.0625 \n",
       "Q 21.484375 6.890625 26.703125 6.890625 \n",
       "Q 35.15625 6.890625 40.078125 11.328125 \n",
       "Q 45.015625 15.765625 45.015625 23.390625 \n",
       "Q 45.015625 31 40.078125 35.4375 \n",
       "Q 35.15625 39.890625 26.703125 39.890625 \n",
       "Q 22.75 39.890625 18.8125 39.015625 \n",
       "Q 14.890625 38.140625 10.796875 36.28125 \n",
       "z\n",
       "\" id=\"DejaVuSans-53\"/>\n",
       "      </defs>\n",
       "      <g transform=\"translate(285.524573 195.804104)scale(0.08 -0.08)\">\n",
       "       <use transform=\"translate(0 0.78125)\" xlink:href=\"#DejaVuSans-53\"/>\n",
       "       <use transform=\"translate(63.623047 0.78125)\" xlink:href=\"#DejaVuSans-48\"/>\n",
       "      </g>\n",
       "     </g>\n",
       "    </g>\n",
       "    <g id=\"xtick_7\">\n",
       "     <g id=\"line2d_13\">\n",
       "      <path clip-path=\"url(#p2178705586)\" d=\"M 341.044557 186.225354 \n",
       "L 341.044557 2.834646 \n",
       "\" style=\"fill:none;stroke:#000000;stroke-linecap:square;stroke-opacity:0.1;stroke-width:0.5;\"/>\n",
       "     </g>\n",
       "     <g id=\"line2d_14\">\n",
       "      <g>\n",
       "       <use style=\"stroke:#000000;stroke-width:0.5;\" x=\"341.044557\" xlink:href=\"#me6de3d295e\" y=\"186.225354\"/>\n",
       "      </g>\n",
       "     </g>\n",
       "     <g id=\"text_7\">\n",
       "      <!-- $60$ -->\n",
       "      <defs>\n",
       "       <path d=\"M 33.015625 40.375 \n",
       "Q 26.375 40.375 22.484375 35.828125 \n",
       "Q 18.609375 31.296875 18.609375 23.390625 \n",
       "Q 18.609375 15.53125 22.484375 10.953125 \n",
       "Q 26.375 6.390625 33.015625 6.390625 \n",
       "Q 39.65625 6.390625 43.53125 10.953125 \n",
       "Q 47.40625 15.53125 47.40625 23.390625 \n",
       "Q 47.40625 31.296875 43.53125 35.828125 \n",
       "Q 39.65625 40.375 33.015625 40.375 \n",
       "z\n",
       "M 52.59375 71.296875 \n",
       "L 52.59375 62.3125 \n",
       "Q 48.875 64.0625 45.09375 64.984375 \n",
       "Q 41.3125 65.921875 37.59375 65.921875 \n",
       "Q 27.828125 65.921875 22.671875 59.328125 \n",
       "Q 17.53125 52.734375 16.796875 39.40625 \n",
       "Q 19.671875 43.65625 24.015625 45.921875 \n",
       "Q 28.375 48.1875 33.59375 48.1875 \n",
       "Q 44.578125 48.1875 50.953125 41.515625 \n",
       "Q 57.328125 34.859375 57.328125 23.390625 \n",
       "Q 57.328125 12.15625 50.6875 5.359375 \n",
       "Q 44.046875 -1.421875 33.015625 -1.421875 \n",
       "Q 20.359375 -1.421875 13.671875 8.265625 \n",
       "Q 6.984375 17.96875 6.984375 36.375 \n",
       "Q 6.984375 53.65625 15.1875 63.9375 \n",
       "Q 23.390625 74.21875 37.203125 74.21875 \n",
       "Q 40.921875 74.21875 44.703125 73.484375 \n",
       "Q 48.484375 72.75 52.59375 71.296875 \n",
       "z\n",
       "\" id=\"DejaVuSans-54\"/>\n",
       "      </defs>\n",
       "      <g transform=\"translate(335.924557 195.804104)scale(0.08 -0.08)\">\n",
       "       <use transform=\"translate(0 0.78125)\" xlink:href=\"#DejaVuSans-54\"/>\n",
       "       <use transform=\"translate(63.623047 0.78125)\" xlink:href=\"#DejaVuSans-48\"/>\n",
       "      </g>\n",
       "     </g>\n",
       "    </g>\n",
       "    <g id=\"text_8\">\n",
       "     <!-- epochs -->\n",
       "     <defs>\n",
       "      <path d=\"M 56.203125 29.59375 \n",
       "L 56.203125 25.203125 \n",
       "L 14.890625 25.203125 \n",
       "Q 15.484375 15.921875 20.484375 11.0625 \n",
       "Q 25.484375 6.203125 34.421875 6.203125 \n",
       "Q 39.59375 6.203125 44.453125 7.46875 \n",
       "Q 49.3125 8.734375 54.109375 11.28125 \n",
       "L 54.109375 2.78125 \n",
       "Q 49.265625 0.734375 44.1875 -0.34375 \n",
       "Q 39.109375 -1.421875 33.890625 -1.421875 \n",
       "Q 20.796875 -1.421875 13.15625 6.1875 \n",
       "Q 5.515625 13.8125 5.515625 26.8125 \n",
       "Q 5.515625 40.234375 12.765625 48.109375 \n",
       "Q 20.015625 56 32.328125 56 \n",
       "Q 43.359375 56 49.78125 48.890625 \n",
       "Q 56.203125 41.796875 56.203125 29.59375 \n",
       "z\n",
       "M 47.21875 32.234375 \n",
       "Q 47.125 39.59375 43.09375 43.984375 \n",
       "Q 39.0625 48.390625 32.421875 48.390625 \n",
       "Q 24.90625 48.390625 20.390625 44.140625 \n",
       "Q 15.875 39.890625 15.1875 32.171875 \n",
       "z\n",
       "\" id=\"DejaVuSans-101\"/>\n",
       "      <path d=\"M 18.109375 8.203125 \n",
       "L 18.109375 -20.796875 \n",
       "L 9.078125 -20.796875 \n",
       "L 9.078125 54.6875 \n",
       "L 18.109375 54.6875 \n",
       "L 18.109375 46.390625 \n",
       "Q 20.953125 51.265625 25.265625 53.625 \n",
       "Q 29.59375 56 35.59375 56 \n",
       "Q 45.5625 56 51.78125 48.09375 \n",
       "Q 58.015625 40.1875 58.015625 27.296875 \n",
       "Q 58.015625 14.40625 51.78125 6.484375 \n",
       "Q 45.5625 -1.421875 35.59375 -1.421875 \n",
       "Q 29.59375 -1.421875 25.265625 0.953125 \n",
       "Q 20.953125 3.328125 18.109375 8.203125 \n",
       "z\n",
       "M 48.6875 27.296875 \n",
       "Q 48.6875 37.203125 44.609375 42.84375 \n",
       "Q 40.53125 48.484375 33.40625 48.484375 \n",
       "Q 26.265625 48.484375 22.1875 42.84375 \n",
       "Q 18.109375 37.203125 18.109375 27.296875 \n",
       "Q 18.109375 17.390625 22.1875 11.75 \n",
       "Q 26.265625 6.109375 33.40625 6.109375 \n",
       "Q 40.53125 6.109375 44.609375 11.75 \n",
       "Q 48.6875 17.390625 48.6875 27.296875 \n",
       "z\n",
       "\" id=\"DejaVuSans-112\"/>\n",
       "      <path d=\"M 30.609375 48.390625 \n",
       "Q 23.390625 48.390625 19.1875 42.75 \n",
       "Q 14.984375 37.109375 14.984375 27.296875 \n",
       "Q 14.984375 17.484375 19.15625 11.84375 \n",
       "Q 23.34375 6.203125 30.609375 6.203125 \n",
       "Q 37.796875 6.203125 41.984375 11.859375 \n",
       "Q 46.1875 17.53125 46.1875 27.296875 \n",
       "Q 46.1875 37.015625 41.984375 42.703125 \n",
       "Q 37.796875 48.390625 30.609375 48.390625 \n",
       "z\n",
       "M 30.609375 56 \n",
       "Q 42.328125 56 49.015625 48.375 \n",
       "Q 55.71875 40.765625 55.71875 27.296875 \n",
       "Q 55.71875 13.875 49.015625 6.21875 \n",
       "Q 42.328125 -1.421875 30.609375 -1.421875 \n",
       "Q 18.84375 -1.421875 12.171875 6.21875 \n",
       "Q 5.515625 13.875 5.515625 27.296875 \n",
       "Q 5.515625 40.765625 12.171875 48.375 \n",
       "Q 18.84375 56 30.609375 56 \n",
       "z\n",
       "\" id=\"DejaVuSans-111\"/>\n",
       "      <path d=\"M 48.78125 52.59375 \n",
       "L 48.78125 44.1875 \n",
       "Q 44.96875 46.296875 41.140625 47.34375 \n",
       "Q 37.3125 48.390625 33.40625 48.390625 \n",
       "Q 24.65625 48.390625 19.8125 42.84375 \n",
       "Q 14.984375 37.3125 14.984375 27.296875 \n",
       "Q 14.984375 17.28125 19.8125 11.734375 \n",
       "Q 24.65625 6.203125 33.40625 6.203125 \n",
       "Q 37.3125 6.203125 41.140625 7.25 \n",
       "Q 44.96875 8.296875 48.78125 10.40625 \n",
       "L 48.78125 2.09375 \n",
       "Q 45.015625 0.34375 40.984375 -0.53125 \n",
       "Q 36.96875 -1.421875 32.421875 -1.421875 \n",
       "Q 20.0625 -1.421875 12.78125 6.34375 \n",
       "Q 5.515625 14.109375 5.515625 27.296875 \n",
       "Q 5.515625 40.671875 12.859375 48.328125 \n",
       "Q 20.21875 56 33.015625 56 \n",
       "Q 37.15625 56 41.109375 55.140625 \n",
       "Q 45.0625 54.296875 48.78125 52.59375 \n",
       "z\n",
       "\" id=\"DejaVuSans-99\"/>\n",
       "      <path d=\"M 54.890625 33.015625 \n",
       "L 54.890625 0 \n",
       "L 45.90625 0 \n",
       "L 45.90625 32.71875 \n",
       "Q 45.90625 40.484375 42.875 44.328125 \n",
       "Q 39.84375 48.1875 33.796875 48.1875 \n",
       "Q 26.515625 48.1875 22.3125 43.546875 \n",
       "Q 18.109375 38.921875 18.109375 30.90625 \n",
       "L 18.109375 0 \n",
       "L 9.078125 0 \n",
       "L 9.078125 75.984375 \n",
       "L 18.109375 75.984375 \n",
       "L 18.109375 46.1875 \n",
       "Q 21.34375 51.125 25.703125 53.5625 \n",
       "Q 30.078125 56 35.796875 56 \n",
       "Q 45.21875 56 50.046875 50.171875 \n",
       "Q 54.890625 44.34375 54.890625 33.015625 \n",
       "z\n",
       "\" id=\"DejaVuSans-104\"/>\n",
       "      <path d=\"M 44.28125 53.078125 \n",
       "L 44.28125 44.578125 \n",
       "Q 40.484375 46.53125 36.375 47.5 \n",
       "Q 32.28125 48.484375 27.875 48.484375 \n",
       "Q 21.1875 48.484375 17.84375 46.4375 \n",
       "Q 14.5 44.390625 14.5 40.28125 \n",
       "Q 14.5 37.15625 16.890625 35.375 \n",
       "Q 19.28125 33.59375 26.515625 31.984375 \n",
       "L 29.59375 31.296875 \n",
       "Q 39.15625 29.25 43.1875 25.515625 \n",
       "Q 47.21875 21.78125 47.21875 15.09375 \n",
       "Q 47.21875 7.46875 41.1875 3.015625 \n",
       "Q 35.15625 -1.421875 24.609375 -1.421875 \n",
       "Q 20.21875 -1.421875 15.453125 -0.5625 \n",
       "Q 10.6875 0.296875 5.421875 2 \n",
       "L 5.421875 11.28125 \n",
       "Q 10.40625 8.6875 15.234375 7.390625 \n",
       "Q 20.0625 6.109375 24.8125 6.109375 \n",
       "Q 31.15625 6.109375 34.5625 8.28125 \n",
       "Q 37.984375 10.453125 37.984375 14.40625 \n",
       "Q 37.984375 18.0625 35.515625 20.015625 \n",
       "Q 33.0625 21.96875 24.703125 23.78125 \n",
       "L 21.578125 24.515625 \n",
       "Q 13.234375 26.265625 9.515625 29.90625 \n",
       "Q 5.8125 33.546875 5.8125 39.890625 \n",
       "Q 5.8125 47.609375 11.28125 51.796875 \n",
       "Q 16.75 56 26.8125 56 \n",
       "Q 31.78125 56 36.171875 55.265625 \n",
       "Q 40.578125 54.546875 44.28125 53.078125 \n",
       "z\n",
       "\" id=\"DejaVuSans-115\"/>\n",
       "     </defs>\n",
       "     <g transform=\"translate(172.748511 209.826136)scale(0.11 -0.11)\">\n",
       "      <use xlink:href=\"#DejaVuSans-101\"/>\n",
       "      <use x=\"61.523438\" xlink:href=\"#DejaVuSans-112\"/>\n",
       "      <use x=\"125\" xlink:href=\"#DejaVuSans-111\"/>\n",
       "      <use x=\"186.181641\" xlink:href=\"#DejaVuSans-99\"/>\n",
       "      <use x=\"241.162109\" xlink:href=\"#DejaVuSans-104\"/>\n",
       "      <use x=\"304.541016\" xlink:href=\"#DejaVuSans-115\"/>\n",
       "     </g>\n",
       "    </g>\n",
       "   </g>\n",
       "   <g id=\"matplotlib.axis_2\">\n",
       "    <g id=\"ytick_1\">\n",
       "     <g id=\"line2d_15\">\n",
       "      <path clip-path=\"url(#p2178705586)\" d=\"M 34.763856 151.313661 \n",
       "L 349.965354 151.313661 \n",
       "\" style=\"fill:none;stroke:#000000;stroke-linecap:square;stroke-opacity:0.1;stroke-width:0.5;\"/>\n",
       "     </g>\n",
       "     <g id=\"line2d_16\">\n",
       "      <defs>\n",
       "       <path d=\"M 0 0 \n",
       "L 3.5 0 \n",
       "\" id=\"m02c29525a1\" style=\"stroke:#000000;stroke-width:0.5;\"/>\n",
       "      </defs>\n",
       "      <g>\n",
       "       <use style=\"stroke:#000000;stroke-width:0.5;\" x=\"34.763856\" xlink:href=\"#m02c29525a1\" y=\"151.313661\"/>\n",
       "      </g>\n",
       "     </g>\n",
       "     <g id=\"text_9\">\n",
       "      <!-- $0.4$ -->\n",
       "      <defs>\n",
       "       <path d=\"M 10.6875 12.40625 \n",
       "L 21 12.40625 \n",
       "L 21 0 \n",
       "L 10.6875 0 \n",
       "z\n",
       "\" id=\"DejaVuSans-46\"/>\n",
       "      </defs>\n",
       "      <g transform=\"translate(18.463856 154.353036)scale(0.08 -0.08)\">\n",
       "       <use transform=\"translate(0 0.78125)\" xlink:href=\"#DejaVuSans-48\"/>\n",
       "       <use transform=\"translate(63.623047 0.78125)\" xlink:href=\"#DejaVuSans-46\"/>\n",
       "       <use transform=\"translate(95.410156 0.78125)\" xlink:href=\"#DejaVuSans-52\"/>\n",
       "      </g>\n",
       "     </g>\n",
       "    </g>\n",
       "    <g id=\"ytick_2\">\n",
       "     <g id=\"line2d_17\">\n",
       "      <path clip-path=\"url(#p2178705586)\" d=\"M 34.763856 106.613634 \n",
       "L 349.965354 106.613634 \n",
       "\" style=\"fill:none;stroke:#000000;stroke-linecap:square;stroke-opacity:0.1;stroke-width:0.5;\"/>\n",
       "     </g>\n",
       "     <g id=\"line2d_18\">\n",
       "      <g>\n",
       "       <use style=\"stroke:#000000;stroke-width:0.5;\" x=\"34.763856\" xlink:href=\"#m02c29525a1\" y=\"106.613634\"/>\n",
       "      </g>\n",
       "     </g>\n",
       "     <g id=\"text_10\">\n",
       "      <!-- $0.6$ -->\n",
       "      <g transform=\"translate(18.463856 109.653009)scale(0.08 -0.08)\">\n",
       "       <use transform=\"translate(0 0.78125)\" xlink:href=\"#DejaVuSans-48\"/>\n",
       "       <use transform=\"translate(63.623047 0.78125)\" xlink:href=\"#DejaVuSans-46\"/>\n",
       "       <use transform=\"translate(95.410156 0.78125)\" xlink:href=\"#DejaVuSans-54\"/>\n",
       "      </g>\n",
       "     </g>\n",
       "    </g>\n",
       "    <g id=\"ytick_3\">\n",
       "     <g id=\"line2d_19\">\n",
       "      <path clip-path=\"url(#p2178705586)\" d=\"M 34.763856 61.913607 \n",
       "L 349.965354 61.913607 \n",
       "\" style=\"fill:none;stroke:#000000;stroke-linecap:square;stroke-opacity:0.1;stroke-width:0.5;\"/>\n",
       "     </g>\n",
       "     <g id=\"line2d_20\">\n",
       "      <g>\n",
       "       <use style=\"stroke:#000000;stroke-width:0.5;\" x=\"34.763856\" xlink:href=\"#m02c29525a1\" y=\"61.913607\"/>\n",
       "      </g>\n",
       "     </g>\n",
       "     <g id=\"text_11\">\n",
       "      <!-- $0.8$ -->\n",
       "      <defs>\n",
       "       <path d=\"M 31.78125 34.625 \n",
       "Q 24.75 34.625 20.71875 30.859375 \n",
       "Q 16.703125 27.09375 16.703125 20.515625 \n",
       "Q 16.703125 13.921875 20.71875 10.15625 \n",
       "Q 24.75 6.390625 31.78125 6.390625 \n",
       "Q 38.8125 6.390625 42.859375 10.171875 \n",
       "Q 46.921875 13.96875 46.921875 20.515625 \n",
       "Q 46.921875 27.09375 42.890625 30.859375 \n",
       "Q 38.875 34.625 31.78125 34.625 \n",
       "z\n",
       "M 21.921875 38.8125 \n",
       "Q 15.578125 40.375 12.03125 44.71875 \n",
       "Q 8.5 49.078125 8.5 55.328125 \n",
       "Q 8.5 64.0625 14.71875 69.140625 \n",
       "Q 20.953125 74.21875 31.78125 74.21875 \n",
       "Q 42.671875 74.21875 48.875 69.140625 \n",
       "Q 55.078125 64.0625 55.078125 55.328125 \n",
       "Q 55.078125 49.078125 51.53125 44.71875 \n",
       "Q 48 40.375 41.703125 38.8125 \n",
       "Q 48.828125 37.15625 52.796875 32.3125 \n",
       "Q 56.78125 27.484375 56.78125 20.515625 \n",
       "Q 56.78125 9.90625 50.3125 4.234375 \n",
       "Q 43.84375 -1.421875 31.78125 -1.421875 \n",
       "Q 19.734375 -1.421875 13.25 4.234375 \n",
       "Q 6.78125 9.90625 6.78125 20.515625 \n",
       "Q 6.78125 27.484375 10.78125 32.3125 \n",
       "Q 14.796875 37.15625 21.921875 38.8125 \n",
       "z\n",
       "M 18.3125 54.390625 \n",
       "Q 18.3125 48.734375 21.84375 45.5625 \n",
       "Q 25.390625 42.390625 31.78125 42.390625 \n",
       "Q 38.140625 42.390625 41.71875 45.5625 \n",
       "Q 45.3125 48.734375 45.3125 54.390625 \n",
       "Q 45.3125 60.0625 41.71875 63.234375 \n",
       "Q 38.140625 66.40625 31.78125 66.40625 \n",
       "Q 25.390625 66.40625 21.84375 63.234375 \n",
       "Q 18.3125 60.0625 18.3125 54.390625 \n",
       "z\n",
       "\" id=\"DejaVuSans-56\"/>\n",
       "      </defs>\n",
       "      <g transform=\"translate(18.703856 64.952982)scale(0.08 -0.08)\">\n",
       "       <use transform=\"translate(0 0.78125)\" xlink:href=\"#DejaVuSans-48\"/>\n",
       "       <use transform=\"translate(63.623047 0.78125)\" xlink:href=\"#DejaVuSans-46\"/>\n",
       "       <use transform=\"translate(92.785156 0.78125)\" xlink:href=\"#DejaVuSans-56\"/>\n",
       "      </g>\n",
       "     </g>\n",
       "    </g>\n",
       "    <g id=\"ytick_4\">\n",
       "     <g id=\"line2d_21\">\n",
       "      <path clip-path=\"url(#p2178705586)\" d=\"M 34.763856 17.213581 \n",
       "L 349.965354 17.213581 \n",
       "\" style=\"fill:none;stroke:#000000;stroke-linecap:square;stroke-opacity:0.1;stroke-width:0.5;\"/>\n",
       "     </g>\n",
       "     <g id=\"line2d_22\">\n",
       "      <g>\n",
       "       <use style=\"stroke:#000000;stroke-width:0.5;\" x=\"34.763856\" xlink:href=\"#m02c29525a1\" y=\"17.213581\"/>\n",
       "      </g>\n",
       "     </g>\n",
       "     <g id=\"text_12\">\n",
       "      <!-- $1.0$ -->\n",
       "      <g transform=\"translate(18.463856 20.252956)scale(0.08 -0.08)\">\n",
       "       <use transform=\"translate(0 0.78125)\" xlink:href=\"#DejaVuSans-49\"/>\n",
       "       <use transform=\"translate(63.623047 0.78125)\" xlink:href=\"#DejaVuSans-46\"/>\n",
       "       <use transform=\"translate(95.410156 0.78125)\" xlink:href=\"#DejaVuSans-48\"/>\n",
       "      </g>\n",
       "     </g>\n",
       "    </g>\n",
       "    <g id=\"text_13\">\n",
       "     <!-- cross entropy on holdout set -->\n",
       "     <defs>\n",
       "      <path d=\"M 41.109375 46.296875 \n",
       "Q 39.59375 47.171875 37.8125 47.578125 \n",
       "Q 36.03125 48 33.890625 48 \n",
       "Q 26.265625 48 22.1875 43.046875 \n",
       "Q 18.109375 38.09375 18.109375 28.8125 \n",
       "L 18.109375 0 \n",
       "L 9.078125 0 \n",
       "L 9.078125 54.6875 \n",
       "L 18.109375 54.6875 \n",
       "L 18.109375 46.1875 \n",
       "Q 20.953125 51.171875 25.484375 53.578125 \n",
       "Q 30.03125 56 36.53125 56 \n",
       "Q 37.453125 56 38.578125 55.875 \n",
       "Q 39.703125 55.765625 41.0625 55.515625 \n",
       "z\n",
       "\" id=\"DejaVuSans-114\"/>\n",
       "      <path id=\"DejaVuSans-32\"/>\n",
       "      <path d=\"M 54.890625 33.015625 \n",
       "L 54.890625 0 \n",
       "L 45.90625 0 \n",
       "L 45.90625 32.71875 \n",
       "Q 45.90625 40.484375 42.875 44.328125 \n",
       "Q 39.84375 48.1875 33.796875 48.1875 \n",
       "Q 26.515625 48.1875 22.3125 43.546875 \n",
       "Q 18.109375 38.921875 18.109375 30.90625 \n",
       "L 18.109375 0 \n",
       "L 9.078125 0 \n",
       "L 9.078125 54.6875 \n",
       "L 18.109375 54.6875 \n",
       "L 18.109375 46.1875 \n",
       "Q 21.34375 51.125 25.703125 53.5625 \n",
       "Q 30.078125 56 35.796875 56 \n",
       "Q 45.21875 56 50.046875 50.171875 \n",
       "Q 54.890625 44.34375 54.890625 33.015625 \n",
       "z\n",
       "\" id=\"DejaVuSans-110\"/>\n",
       "      <path d=\"M 18.3125 70.21875 \n",
       "L 18.3125 54.6875 \n",
       "L 36.8125 54.6875 \n",
       "L 36.8125 47.703125 \n",
       "L 18.3125 47.703125 \n",
       "L 18.3125 18.015625 \n",
       "Q 18.3125 11.328125 20.140625 9.421875 \n",
       "Q 21.96875 7.515625 27.59375 7.515625 \n",
       "L 36.8125 7.515625 \n",
       "L 36.8125 0 \n",
       "L 27.59375 0 \n",
       "Q 17.1875 0 13.234375 3.875 \n",
       "Q 9.28125 7.765625 9.28125 18.015625 \n",
       "L 9.28125 47.703125 \n",
       "L 2.6875 47.703125 \n",
       "L 2.6875 54.6875 \n",
       "L 9.28125 54.6875 \n",
       "L 9.28125 70.21875 \n",
       "z\n",
       "\" id=\"DejaVuSans-116\"/>\n",
       "      <path d=\"M 32.171875 -5.078125 \n",
       "Q 28.375 -14.84375 24.75 -17.8125 \n",
       "Q 21.140625 -20.796875 15.09375 -20.796875 \n",
       "L 7.90625 -20.796875 \n",
       "L 7.90625 -13.28125 \n",
       "L 13.1875 -13.28125 \n",
       "Q 16.890625 -13.28125 18.9375 -11.515625 \n",
       "Q 21 -9.765625 23.484375 -3.21875 \n",
       "L 25.09375 0.875 \n",
       "L 2.984375 54.6875 \n",
       "L 12.5 54.6875 \n",
       "L 29.59375 11.921875 \n",
       "L 46.6875 54.6875 \n",
       "L 56.203125 54.6875 \n",
       "z\n",
       "\" id=\"DejaVuSans-121\"/>\n",
       "      <path d=\"M 9.421875 75.984375 \n",
       "L 18.40625 75.984375 \n",
       "L 18.40625 0 \n",
       "L 9.421875 0 \n",
       "z\n",
       "\" id=\"DejaVuSans-108\"/>\n",
       "      <path d=\"M 45.40625 46.390625 \n",
       "L 45.40625 75.984375 \n",
       "L 54.390625 75.984375 \n",
       "L 54.390625 0 \n",
       "L 45.40625 0 \n",
       "L 45.40625 8.203125 \n",
       "Q 42.578125 3.328125 38.25 0.953125 \n",
       "Q 33.9375 -1.421875 27.875 -1.421875 \n",
       "Q 17.96875 -1.421875 11.734375 6.484375 \n",
       "Q 5.515625 14.40625 5.515625 27.296875 \n",
       "Q 5.515625 40.1875 11.734375 48.09375 \n",
       "Q 17.96875 56 27.875 56 \n",
       "Q 33.9375 56 38.25 53.625 \n",
       "Q 42.578125 51.265625 45.40625 46.390625 \n",
       "z\n",
       "M 14.796875 27.296875 \n",
       "Q 14.796875 17.390625 18.875 11.75 \n",
       "Q 22.953125 6.109375 30.078125 6.109375 \n",
       "Q 37.203125 6.109375 41.296875 11.75 \n",
       "Q 45.40625 17.390625 45.40625 27.296875 \n",
       "Q 45.40625 37.203125 41.296875 42.84375 \n",
       "Q 37.203125 48.484375 30.078125 48.484375 \n",
       "Q 22.953125 48.484375 18.875 42.84375 \n",
       "Q 14.796875 37.203125 14.796875 27.296875 \n",
       "z\n",
       "\" id=\"DejaVuSans-100\"/>\n",
       "      <path d=\"M 8.5 21.578125 \n",
       "L 8.5 54.6875 \n",
       "L 17.484375 54.6875 \n",
       "L 17.484375 21.921875 \n",
       "Q 17.484375 14.15625 20.5 10.265625 \n",
       "Q 23.53125 6.390625 29.59375 6.390625 \n",
       "Q 36.859375 6.390625 41.078125 11.03125 \n",
       "Q 45.3125 15.671875 45.3125 23.6875 \n",
       "L 45.3125 54.6875 \n",
       "L 54.296875 54.6875 \n",
       "L 54.296875 0 \n",
       "L 45.3125 0 \n",
       "L 45.3125 8.40625 \n",
       "Q 42.046875 3.421875 37.71875 1 \n",
       "Q 33.40625 -1.421875 27.6875 -1.421875 \n",
       "Q 18.265625 -1.421875 13.375 4.4375 \n",
       "Q 8.5 10.296875 8.5 21.578125 \n",
       "z\n",
       "M 31.109375 56 \n",
       "z\n",
       "\" id=\"DejaVuSans-117\"/>\n",
       "     </defs>\n",
       "     <g transform=\"translate(12.1762 173.188594)rotate(-90)scale(0.11 -0.11)\">\n",
       "      <use xlink:href=\"#DejaVuSans-99\"/>\n",
       "      <use x=\"54.980469\" xlink:href=\"#DejaVuSans-114\"/>\n",
       "      <use x=\"93.84375\" xlink:href=\"#DejaVuSans-111\"/>\n",
       "      <use x=\"155.025391\" xlink:href=\"#DejaVuSans-115\"/>\n",
       "      <use x=\"207.125\" xlink:href=\"#DejaVuSans-115\"/>\n",
       "      <use x=\"259.224609\" xlink:href=\"#DejaVuSans-32\"/>\n",
       "      <use x=\"291.011719\" xlink:href=\"#DejaVuSans-101\"/>\n",
       "      <use x=\"352.535156\" xlink:href=\"#DejaVuSans-110\"/>\n",
       "      <use x=\"415.914062\" xlink:href=\"#DejaVuSans-116\"/>\n",
       "      <use x=\"455.123047\" xlink:href=\"#DejaVuSans-114\"/>\n",
       "      <use x=\"493.986328\" xlink:href=\"#DejaVuSans-111\"/>\n",
       "      <use x=\"555.167969\" xlink:href=\"#DejaVuSans-112\"/>\n",
       "      <use x=\"618.644531\" xlink:href=\"#DejaVuSans-121\"/>\n",
       "      <use x=\"677.824219\" xlink:href=\"#DejaVuSans-32\"/>\n",
       "      <use x=\"709.611328\" xlink:href=\"#DejaVuSans-111\"/>\n",
       "      <use x=\"770.792969\" xlink:href=\"#DejaVuSans-110\"/>\n",
       "      <use x=\"834.171875\" xlink:href=\"#DejaVuSans-32\"/>\n",
       "      <use x=\"865.958984\" xlink:href=\"#DejaVuSans-104\"/>\n",
       "      <use x=\"929.337891\" xlink:href=\"#DejaVuSans-111\"/>\n",
       "      <use x=\"990.519531\" xlink:href=\"#DejaVuSans-108\"/>\n",
       "      <use x=\"1018.302734\" xlink:href=\"#DejaVuSans-100\"/>\n",
       "      <use x=\"1081.779297\" xlink:href=\"#DejaVuSans-111\"/>\n",
       "      <use x=\"1142.960938\" xlink:href=\"#DejaVuSans-117\"/>\n",
       "      <use x=\"1206.339844\" xlink:href=\"#DejaVuSans-116\"/>\n",
       "      <use x=\"1245.548828\" xlink:href=\"#DejaVuSans-32\"/>\n",
       "      <use x=\"1277.335938\" xlink:href=\"#DejaVuSans-115\"/>\n",
       "      <use x=\"1329.435547\" xlink:href=\"#DejaVuSans-101\"/>\n",
       "      <use x=\"1390.958984\" xlink:href=\"#DejaVuSans-116\"/>\n",
       "     </g>\n",
       "    </g>\n",
       "   </g>\n",
       "   <g id=\"line2d_23\">\n",
       "    <path clip-path=\"url(#p2178705586)\" d=\"M 43.684653 8.024949 \n",
       "L 48.724651 37.375279 \n",
       "L 53.76465 61.760193 \n",
       "L 58.804648 82.890908 \n",
       "L 63.844647 90.550295 \n",
       "L 68.884645 104.950115 \n",
       "L 73.924643 116.199326 \n",
       "L 78.964642 119.938579 \n",
       "L 89.044638 127.337341 \n",
       "L 94.084637 125.4539 \n",
       "L 104.164634 139.516276 \n",
       "L 114.24463 139.37941 \n",
       "L 124.324627 148.515827 \n",
       "L 134.404624 154.463383 \n",
       "L 149.524619 156.22944 \n",
       "L 169.684612 166.203603 \n",
       "L 189.844606 156.698855 \n",
       "L 210.004599 163.586792 \n",
       "L 235.204591 167.174991 \n",
       "L 265.444582 168.564392 \n",
       "L 300.72457 181.035051 \n",
       "L 341.044557 177.120619 \n",
       "\" style=\"fill:none;stroke:#009afa;\"/>\n",
       "   </g>\n",
       "   <g id=\"patch_3\">\n",
       "    <path d=\"M 34.763856 186.225354 \n",
       "L 34.763856 2.834646 \n",
       "\" style=\"fill:none;stroke:#000000;stroke-linecap:square;stroke-linejoin:miter;\"/>\n",
       "   </g>\n",
       "   <g id=\"patch_4\">\n",
       "    <path d=\"M 34.763856 186.225354 \n",
       "L 349.965354 186.225354 \n",
       "\" style=\"fill:none;stroke:#000000;stroke-linecap:square;stroke-linejoin:miter;\"/>\n",
       "   </g>\n",
       "   <g id=\"legend_1\">\n",
       "    <g id=\"patch_5\">\n",
       "     <path d=\"M 300.940354 27.377146 \n",
       "L 345.965354 27.377146 \n",
       "L 345.965354 6.834646 \n",
       "L 300.940354 6.834646 \n",
       "z\n",
       "\" style=\"fill:#ffffff;stroke:#000000;stroke-linejoin:miter;\"/>\n",
       "    </g>\n",
       "    <g id=\"line2d_24\">\n",
       "     <path d=\"M 307.340354 16.513396 \n",
       "L 323.340354 16.513396 \n",
       "\" style=\"fill:none;stroke:#009afa;stroke-linejoin:miter;\"/>\n",
       "    </g>\n",
       "    <g id=\"line2d_25\"/>\n",
       "    <g id=\"text_14\">\n",
       "     <!-- y1 -->\n",
       "     <g transform=\"translate(329.740354 19.313396)scale(0.08 -0.08)\">\n",
       "      <use xlink:href=\"#DejaVuSans-121\"/>\n",
       "      <use x=\"59.179688\" xlink:href=\"#DejaVuSans-49\"/>\n",
       "     </g>\n",
       "    </g>\n",
       "   </g>\n",
       "  </g>\n",
       " </g>\n",
       " <defs>\n",
       "  <clipPath id=\"p2178705586\">\n",
       "   <rect height=\"183.390709\" width=\"315.201498\" x=\"34.763856\" y=\"2.834646\"/>\n",
       "  </clipPath>\n",
       " </defs>\n",
       "</svg>\n"
      ]
     },
     "metadata": {},
     "execution_count": 82
    }
   ],
   "cell_type": "code",
   "source": [
    "r = range(model, :epochs, lower=1, upper=60, scale=:log)\n",
    "curve = learning_curve(mach,\n",
    "                       range=r,\n",
    "                       resampling=Holdout(fraction_train=0.7), # (default)\n",
    "                       measure=cross_entropy)\n",
    "\n",
    "using Plots\n",
    "pyplot(size=(490,300))\n",
    "plt=plot(curve.parameter_values, curve.measurements)\n",
    "xlabel!(plt, \"epochs\")\n",
    "ylabel!(plt, \"cross entropy on holdout set\")\n",
    "plt"
   ],
   "metadata": {},
   "execution_count": 82
  },
  {
   "cell_type": "markdown",
   "source": [
    "We will return to learning curves when we look at tuning in Part 4."
   ],
   "metadata": {}
  },
  {
   "cell_type": "markdown",
   "source": [
    "### Resources for Part 2"
   ],
   "metadata": {}
  },
  {
   "cell_type": "markdown",
   "source": [
    "- From the MLJ manual:\n",
    "    - [Getting Started](https://alan-turing-institute.github.io/MLJ.jl/dev/getting_started/)\n",
    "    - [Model Search](https://alan-turing-institute.github.io/MLJ.jl/dev/model_search/)\n",
    "    - [Evaluating Performance](https://alan-turing-institute.github.io/MLJ.jl/dev/evaluating_model_performance/) (using `evaluate!`)\n",
    "    - [Learning Curves](https://alan-turing-institute.github.io/MLJ.jl/dev/learning_curves/)\n",
    "    - [Performance Measures](https://alan-turing-institute.github.io/MLJ.jl/dev/performance_measures/) (loss functions, scores, etc)\n",
    "- From Data Science Tutorials:\n",
    "    - [Choosing and evaluating a model](https://alan-turing-institute.github.io/DataScienceTutorials.jl/getting-started/choosing-a-model/)\n",
    "    - [Fit, predict, transform](https://alan-turing-institute.github.io/DataScienceTutorials.jl/getting-started/fit-and-predict/)"
   ],
   "metadata": {}
  },
  {
   "cell_type": "markdown",
   "source": [
    "### Exercises for Part 2"
   ],
   "metadata": {}
  },
  {
   "cell_type": "markdown",
   "source": [
    "#### Exercise 4"
   ],
   "metadata": {}
  },
  {
   "cell_type": "markdown",
   "source": [
    "(a) Identify all supervised MLJ models that can be applied (without\n",
    "type coercion or one-hot encoding) to a supervised learning problem\n",
    "with input features `X4` and target `y4` defined below:"
   ],
   "metadata": {}
  },
  {
   "outputs": [
    {
     "output_type": "execute_result",
     "data": {
      "text/plain": "10-element Array{Int64,1}:\n 1\n 1\n 1\n 4\n 2\n 2\n 1\n 2\n 3\n 2"
     },
     "metadata": {},
     "execution_count": 83
    }
   ],
   "cell_type": "code",
   "source": [
    "import Distributions\n",
    "poisson = Distributions.Poisson\n",
    "\n",
    "age = 18 .+ 60*rand(10);\n",
    "salary = coerce(rand([:small, :big, :huge], 10), OrderedFactor);\n",
    "levels!(salary, [:small, :big, :huge]);\n",
    "X4 = DataFrames.DataFrame(age=age, salary=salary)\n",
    "\n",
    "n_devices(salary) = salary > :small ? rand(poisson(1.3)) : rand(poisson(2.9))\n",
    "y4 = [n_devices(row.salary) for row in eachrow(X4)]"
   ],
   "metadata": {},
   "execution_count": 83
  },
  {
   "cell_type": "markdown",
   "source": [
    "(b) What models can be applied if you coerce the salary to a\n",
    "`Continuous` scitype?"
   ],
   "metadata": {}
  },
  {
   "cell_type": "markdown",
   "source": [
    "#### Exercise 5 (unpack)"
   ],
   "metadata": {}
  },
  {
   "cell_type": "markdown",
   "source": [
    "After evaluating the following ..."
   ],
   "metadata": {}
  },
  {
   "outputs": [
    {
     "name": "stdout",
     "output_type": "stream",
     "text": [
      "┌───────┬─────────────────────┬─────────────────────┬─────────────────────────────────┐\n",
      "│ a     │ b                   │ c                   │ d                               │\n",
      "│ Int64 │ Float64             │ Float64             │ CategoricalValue{String,UInt32} │\n",
      "│ Count │ Continuous          │ Continuous          │ OrderedFactor{2}                │\n",
      "├───────┼─────────────────────┼─────────────────────┼─────────────────────────────────┤\n",
      "│ 1     │ 0.7354021475319545  │ 0.86327040296363    │ male                            │\n",
      "│ 2     │ 0.13367974944799244 │ 0.6698917601894889  │ female                          │\n",
      "│ 3     │ 0.3639303943326999  │ 0.11145117304266128 │ female                          │\n",
      "│ 4     │ 0.42740093125154455 │ 0.9587935331326221  │ male                            │\n",
      "└───────┴─────────────────────┴─────────────────────┴─────────────────────────────────┘\n"
     ]
    }
   ],
   "cell_type": "code",
   "source": [
    "data = (a = [1, 2, 3, 4],\n",
    "     b = rand(4),\n",
    "     c = rand(4),\n",
    "     d = coerce([\"male\", \"female\", \"female\", \"male\"], OrderedFactor));\n",
    "pretty(data)\n",
    "\n",
    "using Tables\n",
    "y, X, w = unpack(data, ==(:a),\n",
    "                 name -> elscitype(Tables.getcolumn(data, name)) == Continuous,\n",
    "                 name -> true);"
   ],
   "metadata": {},
   "execution_count": 84
  },
  {
   "cell_type": "markdown",
   "source": [
    "...attempt to guess the evaluations of the following:"
   ],
   "metadata": {}
  },
  {
   "outputs": [
    {
     "output_type": "execute_result",
     "data": {
      "text/plain": "4-element Array{Int64,1}:\n 1\n 2\n 3\n 4"
     },
     "metadata": {},
     "execution_count": 85
    }
   ],
   "cell_type": "code",
   "source": [
    "y"
   ],
   "metadata": {},
   "execution_count": 85
  },
  {
   "outputs": [
    {
     "name": "stdout",
     "output_type": "stream",
     "text": [
      "┌─────────────────────┬─────────────────────┐\n",
      "│ b                   │ c                   │\n",
      "│ Float64             │ Float64             │\n",
      "│ Continuous          │ Continuous          │\n",
      "├─────────────────────┼─────────────────────┤\n",
      "│ 0.7354021475319545  │ 0.86327040296363    │\n",
      "│ 0.13367974944799244 │ 0.6698917601894889  │\n",
      "│ 0.3639303943326999  │ 0.11145117304266128 │\n",
      "│ 0.42740093125154455 │ 0.9587935331326221  │\n",
      "└─────────────────────┴─────────────────────┘\n"
     ]
    }
   ],
   "cell_type": "code",
   "source": [
    "pretty(X)"
   ],
   "metadata": {},
   "execution_count": 86
  },
  {
   "outputs": [
    {
     "output_type": "execute_result",
     "data": {
      "text/plain": "4-element CategoricalArray{String,1,UInt32}:\n \"male\"\n \"female\"\n \"female\"\n \"male\""
     },
     "metadata": {},
     "execution_count": 87
    }
   ],
   "cell_type": "code",
   "source": [
    "w"
   ],
   "metadata": {},
   "execution_count": 87
  },
  {
   "cell_type": "markdown",
   "source": [
    "#### Exercise 6 (first steps in modelling Horse Colic)"
   ],
   "metadata": {}
  },
  {
   "cell_type": "markdown",
   "source": [
    "(a) Suppose we want to use predict the `:outcome` variable in the\n",
    "Horse Colic study introduced in Part 1, based on the remaining\n",
    "variables that are `Continuous` (one-hot encoding categorical\n",
    "variables is discussed later in Part 3) *while ignoring the others*.\n",
    "Extract from the `horse` data set (defined in Part 1) appropriate\n",
    "input features `X` and target variable `y`. (Do not, however,\n",
    "randomize the observations.)"
   ],
   "metadata": {}
  },
  {
   "cell_type": "markdown",
   "source": [
    "(b) Create a 70:30 `train`/`test` split of the data and train a\n",
    "`LogisticClassifier` model, from the `MLJLinearModels` package, on\n",
    "the `train` rows. Use `lambda=100` and default values for the\n",
    "other hyper-parameters. (Although one would normally standardize\n",
    "(whiten) the continuous features for this model, do not do so here.)\n",
    "After training:"
   ],
   "metadata": {}
  },
  {
   "cell_type": "markdown",
   "source": [
    "- (i) Recalling that a logistic classifier (aka logistic regressor) is\n",
    "  a linear-based model learning a *vector* of coefficients for each\n",
    "  feature (one coefficient for each target class), use the\n",
    "  `fitted_params` method to find this vector of coefficients in the\n",
    "  case of the `:pulse` feature. (To convert a vector of pairs `v =\n",
    "  [x1 => y1, x2 => y2, ...]` into a dictionary, do `Dict(v)`.)"
   ],
   "metadata": {}
  },
  {
   "cell_type": "markdown",
   "source": [
    "- (ii) Evaluate the `cross_entropy` performance on the `test`\n",
    "  observations."
   ],
   "metadata": {}
  },
  {
   "cell_type": "markdown",
   "source": [
    "- &star;(iii) In how many `test` observations does the predicted\n",
    "  probablility of the observed class exceed 50%?"
   ],
   "metadata": {}
  },
  {
   "cell_type": "markdown",
   "source": [
    "- (iv) Find the `misclassification_rate` in the `test`\n",
    "  set. (*Hint.* As this measure is deterministic, you will either\n",
    "  need to broadcast `mode` or use `predict_mode` instead of\n",
    "  `predict`.)"
   ],
   "metadata": {}
  },
  {
   "cell_type": "markdown",
   "source": [
    "(c) Instead use a `RandomForestClassifier` model from the\n",
    "    `DecisionTree` package and:\n",
    "\n",
    "- (i) Generate an appropriate learning curve to convince yourself\n",
    "  that out-of-sample estimates of the `cross_entropy` loss do not\n",
    "  substatially improve for `n_trees > 50`. Use default values for\n",
    "  all other hyper-parameters, and feel free to use all available\n",
    "  data to generate the curve."
   ],
   "metadata": {}
  },
  {
   "cell_type": "markdown",
   "source": [
    "- (ii) Fix `n_trees=90` and use `evaluate!` to obtain a 9-fold\n",
    "  cross-validation estimate of the `cross_entropy`, restricting\n",
    "  sub-sampling to the `train` observations."
   ],
   "metadata": {}
  },
  {
   "cell_type": "markdown",
   "source": [
    "- (iii) Now use *all* available data but set\n",
    "  `resampling=Holdout(fraction_train=0.7)` to obtain a score you can\n",
    "  compare with the `KNNClassifier` in part (b)(iii). Which model is\n",
    "  better?"
   ],
   "metadata": {}
  },
  {
   "cell_type": "markdown",
   "source": [
    "## Part 3 - Transformers and Pipelines"
   ],
   "metadata": {}
  },
  {
   "cell_type": "markdown",
   "source": [
    "### Transformers"
   ],
   "metadata": {}
  },
  {
   "cell_type": "markdown",
   "source": [
    "Unsupervised models, which receive no target `y` during training,\n",
    "always have a `transform` operation. They sometimes also support an\n",
    "`inverse_transform` operation, with obvious meaning, and sometimes\n",
    "support a `predict` operation (see the clustering example discussed\n",
    "[here](https://alan-turing-institute.github.io/MLJ.jl/dev/transformers/#Transformers-that-also-predict-1)).\n",
    "Otherwise, they are handled much like supervised models."
   ],
   "metadata": {}
  },
  {
   "cell_type": "markdown",
   "source": [
    "Here's a simple standardization example:"
   ],
   "metadata": {}
  },
  {
   "outputs": [
    {
     "name": "stdout",
     "output_type": "stream",
     "text": [
      "mean(x) = 0.5177717298508921\n",
      "std(x) = 0.2897537182920515\n"
     ]
    }
   ],
   "cell_type": "code",
   "source": [
    "x = rand(100);\n",
    "@show mean(x) std(x);"
   ],
   "metadata": {},
   "execution_count": 88
  },
  {
   "outputs": [
    {
     "name": "stdout",
     "output_type": "stream",
     "text": [
      "┌ Info: Training \u001b[34mMachine{UnivariateStandardizer} @732\u001b[39m.\n",
      "└ @ MLJBase /Users/anthony/.julia/packages/MLJBase/r3heT/src/machines.jl:317\n",
      "mean(x̂) = 1.298960938811433e-16\n",
      "std(x̂) = 0.9999999999999999\n"
     ]
    }
   ],
   "cell_type": "code",
   "source": [
    "model = UnivariateStandardizer() # a built-in model\n",
    "mach = machine(model, x)\n",
    "fit!(mach)\n",
    "x̂ = transform(mach, x);\n",
    "@show mean(x̂) std(x̂);"
   ],
   "metadata": {},
   "execution_count": 89
  },
  {
   "cell_type": "markdown",
   "source": [
    "This particular model has an `inverse_transform`:"
   ],
   "metadata": {}
  },
  {
   "outputs": [
    {
     "output_type": "execute_result",
     "data": {
      "text/plain": "true"
     },
     "metadata": {},
     "execution_count": 90
    }
   ],
   "cell_type": "code",
   "source": [
    "inverse_transform(mach, x̂) ≈ x"
   ],
   "metadata": {},
   "execution_count": 90
  },
  {
   "cell_type": "markdown",
   "source": [
    "### Re-encoding the King County House data as continuous"
   ],
   "metadata": {}
  },
  {
   "cell_type": "markdown",
   "source": [
    "For further illustrations of tranformers, let's re-encode *all* of the\n",
    "King County House input features (see [Ex\n",
    "3](#ex-3-fixing-scitypes-in-a-table)) into a set of `Continuous`\n",
    "features. We do this with the `ContinousEncoder` model, which, by\n",
    "default, will:"
   ],
   "metadata": {}
  },
  {
   "cell_type": "markdown",
   "source": [
    "- one-hot encode all `Multiclass` features\n",
    "- coerce all `OrderedFactor` features to `Continuous` ones\n",
    "- coerce all `Count` features to `Continuous` ones (there aren't any)\n",
    "- drop any remaining non-Continuous features (none of these either)"
   ],
   "metadata": {}
  },
  {
   "cell_type": "markdown",
   "source": [
    "First, we reload the data and fix the scitypes (Exercise 3):"
   ],
   "metadata": {}
  },
  {
   "outputs": [
    {
     "output_type": "execute_result",
     "data": {
      "text/plain": "┌\u001b[0m───────────────\u001b[0m┬\u001b[0m──────────────────────────────────\u001b[0m┬\u001b[0m───────────────────\u001b[0m┐\u001b[0m\n│\u001b[0m\u001b[22m _.names       \u001b[0m│\u001b[0m\u001b[22m _.types                          \u001b[0m│\u001b[0m\u001b[22m _.scitypes        \u001b[0m│\u001b[0m\n├\u001b[0m───────────────\u001b[0m┼\u001b[0m──────────────────────────────────\u001b[0m┼\u001b[0m───────────────────\u001b[0m┤\u001b[0m\n│\u001b[0m price         \u001b[0m│\u001b[0m Float64                          \u001b[0m│\u001b[0m Continuous        \u001b[0m│\u001b[0m\n│\u001b[0m bedrooms      \u001b[0m│\u001b[0m CategoricalValue{Int64,UInt32}   \u001b[0m│\u001b[0m OrderedFactor{13} \u001b[0m│\u001b[0m\n│\u001b[0m bathrooms     \u001b[0m│\u001b[0m CategoricalValue{Float64,UInt32} \u001b[0m│\u001b[0m OrderedFactor{30} \u001b[0m│\u001b[0m\n│\u001b[0m sqft_living   \u001b[0m│\u001b[0m Float64                          \u001b[0m│\u001b[0m Continuous        \u001b[0m│\u001b[0m\n│\u001b[0m sqft_lot      \u001b[0m│\u001b[0m Float64                          \u001b[0m│\u001b[0m Continuous        \u001b[0m│\u001b[0m\n│\u001b[0m floors        \u001b[0m│\u001b[0m CategoricalValue{Float64,UInt32} \u001b[0m│\u001b[0m OrderedFactor{6}  \u001b[0m│\u001b[0m\n│\u001b[0m waterfront    \u001b[0m│\u001b[0m CategoricalValue{Int64,UInt32}   \u001b[0m│\u001b[0m OrderedFactor{2}  \u001b[0m│\u001b[0m\n│\u001b[0m view          \u001b[0m│\u001b[0m CategoricalValue{Int64,UInt32}   \u001b[0m│\u001b[0m OrderedFactor{5}  \u001b[0m│\u001b[0m\n│\u001b[0m condition     \u001b[0m│\u001b[0m CategoricalValue{Int64,UInt32}   \u001b[0m│\u001b[0m OrderedFactor{5}  \u001b[0m│\u001b[0m\n│\u001b[0m grade         \u001b[0m│\u001b[0m CategoricalValue{Int64,UInt32}   \u001b[0m│\u001b[0m OrderedFactor{12} \u001b[0m│\u001b[0m\n│\u001b[0m sqft_above    \u001b[0m│\u001b[0m Float64                          \u001b[0m│\u001b[0m Continuous        \u001b[0m│\u001b[0m\n│\u001b[0m sqft_basement \u001b[0m│\u001b[0m Float64                          \u001b[0m│\u001b[0m Continuous        \u001b[0m│\u001b[0m\n│\u001b[0m yr_built      \u001b[0m│\u001b[0m Float64                          \u001b[0m│\u001b[0m Continuous        \u001b[0m│\u001b[0m\n│\u001b[0m zipcode       \u001b[0m│\u001b[0m CategoricalValue{Int64,UInt32}   \u001b[0m│\u001b[0m Multiclass{70}    \u001b[0m│\u001b[0m\n│\u001b[0m lat           \u001b[0m│\u001b[0m Float64                          \u001b[0m│\u001b[0m Continuous        \u001b[0m│\u001b[0m\n│\u001b[0m long          \u001b[0m│\u001b[0m Float64                          \u001b[0m│\u001b[0m Continuous        \u001b[0m│\u001b[0m\n│\u001b[0m sqft_living15 \u001b[0m│\u001b[0m Float64                          \u001b[0m│\u001b[0m Continuous        \u001b[0m│\u001b[0m\n│\u001b[0m sqft_lot15    \u001b[0m│\u001b[0m Float64                          \u001b[0m│\u001b[0m Continuous        \u001b[0m│\u001b[0m\n│\u001b[0m is_renovated  \u001b[0m│\u001b[0m CategoricalValue{Bool,UInt32}    \u001b[0m│\u001b[0m OrderedFactor{2}  \u001b[0m│\u001b[0m\n└\u001b[0m───────────────\u001b[0m┴\u001b[0m──────────────────────────────────\u001b[0m┴\u001b[0m───────────────────\u001b[0m┘\u001b[0m\n_.nrows = 21613\n"
     },
     "metadata": {},
     "execution_count": 91
    }
   ],
   "cell_type": "code",
   "source": [
    "file = CSV.File(joinpath(DIR, \"data\", \"house.csv\"));\n",
    "house = DataFrames.DataFrame(file)\n",
    "coerce!(house, autotype(file))\n",
    "coerce!(house, Count => Continuous, :zipcode => Multiclass);\n",
    "schema(house)"
   ],
   "metadata": {},
   "execution_count": 91
  },
  {
   "outputs": [],
   "cell_type": "code",
   "source": [
    "y, X = unpack(house, ==(:price), name -> true, rng=123);"
   ],
   "metadata": {},
   "execution_count": 92
  },
  {
   "cell_type": "markdown",
   "source": [
    "Instantiate the unsupervised model (transformer):"
   ],
   "metadata": {}
  },
  {
   "outputs": [
    {
     "output_type": "execute_result",
     "data": {
      "text/plain": "ContinuousEncoder(\n    drop_last = false,\n    one_hot_ordered_factors = false)\u001b[34m @709\u001b[39m"
     },
     "metadata": {},
     "execution_count": 93
    }
   ],
   "cell_type": "code",
   "source": [
    "encoder = ContinuousEncoder() # a built-in model; no need to @load it"
   ],
   "metadata": {},
   "execution_count": 93
  },
  {
   "cell_type": "markdown",
   "source": [
    "Bind the model to the data and fit!"
   ],
   "metadata": {}
  },
  {
   "outputs": [
    {
     "name": "stdout",
     "output_type": "stream",
     "text": [
      "┌ Info: Training \u001b[34mMachine{ContinuousEncoder} @775\u001b[39m.\n",
      "└ @ MLJBase /Users/anthony/.julia/packages/MLJBase/r3heT/src/machines.jl:317\n"
     ]
    }
   ],
   "cell_type": "code",
   "source": [
    "mach = machine(encoder, X) |> fit!;"
   ],
   "metadata": {},
   "execution_count": 94
  },
  {
   "cell_type": "markdown",
   "source": [
    "Transform and inspect the result:"
   ],
   "metadata": {}
  },
  {
   "outputs": [
    {
     "output_type": "execute_result",
     "data": {
      "text/plain": "┌\u001b[0m────────────────\u001b[0m┬\u001b[0m─────────\u001b[0m┬\u001b[0m────────────\u001b[0m┐\u001b[0m\n│\u001b[0m\u001b[22m _.names        \u001b[0m│\u001b[0m\u001b[22m _.types \u001b[0m│\u001b[0m\u001b[22m _.scitypes \u001b[0m│\u001b[0m\n├\u001b[0m────────────────\u001b[0m┼\u001b[0m─────────\u001b[0m┼\u001b[0m────────────\u001b[0m┤\u001b[0m\n│\u001b[0m bedrooms       \u001b[0m│\u001b[0m Float64 \u001b[0m│\u001b[0m Continuous \u001b[0m│\u001b[0m\n│\u001b[0m bathrooms      \u001b[0m│\u001b[0m Float64 \u001b[0m│\u001b[0m Continuous \u001b[0m│\u001b[0m\n│\u001b[0m sqft_living    \u001b[0m│\u001b[0m Float64 \u001b[0m│\u001b[0m Continuous \u001b[0m│\u001b[0m\n│\u001b[0m sqft_lot       \u001b[0m│\u001b[0m Float64 \u001b[0m│\u001b[0m Continuous \u001b[0m│\u001b[0m\n│\u001b[0m floors         \u001b[0m│\u001b[0m Float64 \u001b[0m│\u001b[0m Continuous \u001b[0m│\u001b[0m\n│\u001b[0m waterfront     \u001b[0m│\u001b[0m Float64 \u001b[0m│\u001b[0m Continuous \u001b[0m│\u001b[0m\n│\u001b[0m view           \u001b[0m│\u001b[0m Float64 \u001b[0m│\u001b[0m Continuous \u001b[0m│\u001b[0m\n│\u001b[0m condition      \u001b[0m│\u001b[0m Float64 \u001b[0m│\u001b[0m Continuous \u001b[0m│\u001b[0m\n│\u001b[0m grade          \u001b[0m│\u001b[0m Float64 \u001b[0m│\u001b[0m Continuous \u001b[0m│\u001b[0m\n│\u001b[0m sqft_above     \u001b[0m│\u001b[0m Float64 \u001b[0m│\u001b[0m Continuous \u001b[0m│\u001b[0m\n│\u001b[0m sqft_basement  \u001b[0m│\u001b[0m Float64 \u001b[0m│\u001b[0m Continuous \u001b[0m│\u001b[0m\n│\u001b[0m yr_built       \u001b[0m│\u001b[0m Float64 \u001b[0m│\u001b[0m Continuous \u001b[0m│\u001b[0m\n│\u001b[0m zipcode__98001 \u001b[0m│\u001b[0m Float64 \u001b[0m│\u001b[0m Continuous \u001b[0m│\u001b[0m\n│\u001b[0m zipcode__98002 \u001b[0m│\u001b[0m Float64 \u001b[0m│\u001b[0m Continuous \u001b[0m│\u001b[0m\n│\u001b[0m zipcode__98003 \u001b[0m│\u001b[0m Float64 \u001b[0m│\u001b[0m Continuous \u001b[0m│\u001b[0m\n│\u001b[0m zipcode__98004 \u001b[0m│\u001b[0m Float64 \u001b[0m│\u001b[0m Continuous \u001b[0m│\u001b[0m\n│\u001b[0m zipcode__98005 \u001b[0m│\u001b[0m Float64 \u001b[0m│\u001b[0m Continuous \u001b[0m│\u001b[0m\n│\u001b[0m zipcode__98006 \u001b[0m│\u001b[0m Float64 \u001b[0m│\u001b[0m Continuous \u001b[0m│\u001b[0m\n│\u001b[0m zipcode__98007 \u001b[0m│\u001b[0m Float64 \u001b[0m│\u001b[0m Continuous \u001b[0m│\u001b[0m\n│\u001b[0m zipcode__98008 \u001b[0m│\u001b[0m Float64 \u001b[0m│\u001b[0m Continuous \u001b[0m│\u001b[0m\n│\u001b[0m zipcode__98010 \u001b[0m│\u001b[0m Float64 \u001b[0m│\u001b[0m Continuous \u001b[0m│\u001b[0m\n│\u001b[0m zipcode__98011 \u001b[0m│\u001b[0m Float64 \u001b[0m│\u001b[0m Continuous \u001b[0m│\u001b[0m\n│\u001b[0m zipcode__98014 \u001b[0m│\u001b[0m Float64 \u001b[0m│\u001b[0m Continuous \u001b[0m│\u001b[0m\n│\u001b[0m zipcode__98019 \u001b[0m│\u001b[0m Float64 \u001b[0m│\u001b[0m Continuous \u001b[0m│\u001b[0m\n│\u001b[0m zipcode__98022 \u001b[0m│\u001b[0m Float64 \u001b[0m│\u001b[0m Continuous \u001b[0m│\u001b[0m\n│\u001b[0m zipcode__98023 \u001b[0m│\u001b[0m Float64 \u001b[0m│\u001b[0m Continuous \u001b[0m│\u001b[0m\n│\u001b[0m zipcode__98024 \u001b[0m│\u001b[0m Float64 \u001b[0m│\u001b[0m Continuous \u001b[0m│\u001b[0m\n│\u001b[0m zipcode__98027 \u001b[0m│\u001b[0m Float64 \u001b[0m│\u001b[0m Continuous \u001b[0m│\u001b[0m\n│\u001b[0m zipcode__98028 \u001b[0m│\u001b[0m Float64 \u001b[0m│\u001b[0m Continuous \u001b[0m│\u001b[0m\n│\u001b[0m zipcode__98029 \u001b[0m│\u001b[0m Float64 \u001b[0m│\u001b[0m Continuous \u001b[0m│\u001b[0m\n│\u001b[0m zipcode__98030 \u001b[0m│\u001b[0m Float64 \u001b[0m│\u001b[0m Continuous \u001b[0m│\u001b[0m\n│\u001b[0m zipcode__98031 \u001b[0m│\u001b[0m Float64 \u001b[0m│\u001b[0m Continuous \u001b[0m│\u001b[0m\n│\u001b[0m zipcode__98032 \u001b[0m│\u001b[0m Float64 \u001b[0m│\u001b[0m Continuous \u001b[0m│\u001b[0m\n│\u001b[0m zipcode__98033 \u001b[0m│\u001b[0m Float64 \u001b[0m│\u001b[0m Continuous \u001b[0m│\u001b[0m\n│\u001b[0m zipcode__98034 \u001b[0m│\u001b[0m Float64 \u001b[0m│\u001b[0m Continuous \u001b[0m│\u001b[0m\n│\u001b[0m zipcode__98038 \u001b[0m│\u001b[0m Float64 \u001b[0m│\u001b[0m Continuous \u001b[0m│\u001b[0m\n│\u001b[0m zipcode__98039 \u001b[0m│\u001b[0m Float64 \u001b[0m│\u001b[0m Continuous \u001b[0m│\u001b[0m\n│\u001b[0m zipcode__98040 \u001b[0m│\u001b[0m Float64 \u001b[0m│\u001b[0m Continuous \u001b[0m│\u001b[0m\n│\u001b[0m zipcode__98042 \u001b[0m│\u001b[0m Float64 \u001b[0m│\u001b[0m Continuous \u001b[0m│\u001b[0m\n│\u001b[0m zipcode__98045 \u001b[0m│\u001b[0m Float64 \u001b[0m│\u001b[0m Continuous \u001b[0m│\u001b[0m\n│\u001b[0m zipcode__98052 \u001b[0m│\u001b[0m Float64 \u001b[0m│\u001b[0m Continuous \u001b[0m│\u001b[0m\n│\u001b[0m zipcode__98053 \u001b[0m│\u001b[0m Float64 \u001b[0m│\u001b[0m Continuous \u001b[0m│\u001b[0m\n│\u001b[0m zipcode__98055 \u001b[0m│\u001b[0m Float64 \u001b[0m│\u001b[0m Continuous \u001b[0m│\u001b[0m\n│\u001b[0m zipcode__98056 \u001b[0m│\u001b[0m Float64 \u001b[0m│\u001b[0m Continuous \u001b[0m│\u001b[0m\n│\u001b[0m zipcode__98058 \u001b[0m│\u001b[0m Float64 \u001b[0m│\u001b[0m Continuous \u001b[0m│\u001b[0m\n│\u001b[0m zipcode__98059 \u001b[0m│\u001b[0m Float64 \u001b[0m│\u001b[0m Continuous \u001b[0m│\u001b[0m\n│\u001b[0m zipcode__98065 \u001b[0m│\u001b[0m Float64 \u001b[0m│\u001b[0m Continuous \u001b[0m│\u001b[0m\n│\u001b[0m zipcode__98070 \u001b[0m│\u001b[0m Float64 \u001b[0m│\u001b[0m Continuous \u001b[0m│\u001b[0m\n│\u001b[0m zipcode__98072 \u001b[0m│\u001b[0m Float64 \u001b[0m│\u001b[0m Continuous \u001b[0m│\u001b[0m\n│\u001b[0m zipcode__98074 \u001b[0m│\u001b[0m Float64 \u001b[0m│\u001b[0m Continuous \u001b[0m│\u001b[0m\n│\u001b[0m zipcode__98075 \u001b[0m│\u001b[0m Float64 \u001b[0m│\u001b[0m Continuous \u001b[0m│\u001b[0m\n│\u001b[0m zipcode__98077 \u001b[0m│\u001b[0m Float64 \u001b[0m│\u001b[0m Continuous \u001b[0m│\u001b[0m\n│\u001b[0m zipcode__98092 \u001b[0m│\u001b[0m Float64 \u001b[0m│\u001b[0m Continuous \u001b[0m│\u001b[0m\n│\u001b[0m zipcode__98102 \u001b[0m│\u001b[0m Float64 \u001b[0m│\u001b[0m Continuous \u001b[0m│\u001b[0m\n│\u001b[0m zipcode__98103 \u001b[0m│\u001b[0m Float64 \u001b[0m│\u001b[0m Continuous \u001b[0m│\u001b[0m\n│\u001b[0m zipcode__98105 \u001b[0m│\u001b[0m Float64 \u001b[0m│\u001b[0m Continuous \u001b[0m│\u001b[0m\n│\u001b[0m zipcode__98106 \u001b[0m│\u001b[0m Float64 \u001b[0m│\u001b[0m Continuous \u001b[0m│\u001b[0m\n│\u001b[0m zipcode__98107 \u001b[0m│\u001b[0m Float64 \u001b[0m│\u001b[0m Continuous \u001b[0m│\u001b[0m\n│\u001b[0m zipcode__98108 \u001b[0m│\u001b[0m Float64 \u001b[0m│\u001b[0m Continuous \u001b[0m│\u001b[0m\n│\u001b[0m zipcode__98109 \u001b[0m│\u001b[0m Float64 \u001b[0m│\u001b[0m Continuous \u001b[0m│\u001b[0m\n│\u001b[0m zipcode__98112 \u001b[0m│\u001b[0m Float64 \u001b[0m│\u001b[0m Continuous \u001b[0m│\u001b[0m\n│\u001b[0m zipcode__98115 \u001b[0m│\u001b[0m Float64 \u001b[0m│\u001b[0m Continuous \u001b[0m│\u001b[0m\n│\u001b[0m zipcode__98116 \u001b[0m│\u001b[0m Float64 \u001b[0m│\u001b[0m Continuous \u001b[0m│\u001b[0m\n│\u001b[0m zipcode__98117 \u001b[0m│\u001b[0m Float64 \u001b[0m│\u001b[0m Continuous \u001b[0m│\u001b[0m\n│\u001b[0m zipcode__98118 \u001b[0m│\u001b[0m Float64 \u001b[0m│\u001b[0m Continuous \u001b[0m│\u001b[0m\n│\u001b[0m zipcode__98119 \u001b[0m│\u001b[0m Float64 \u001b[0m│\u001b[0m Continuous \u001b[0m│\u001b[0m\n│\u001b[0m zipcode__98122 \u001b[0m│\u001b[0m Float64 \u001b[0m│\u001b[0m Continuous \u001b[0m│\u001b[0m\n│\u001b[0m zipcode__98125 \u001b[0m│\u001b[0m Float64 \u001b[0m│\u001b[0m Continuous \u001b[0m│\u001b[0m\n│\u001b[0m zipcode__98126 \u001b[0m│\u001b[0m Float64 \u001b[0m│\u001b[0m Continuous \u001b[0m│\u001b[0m\n│\u001b[0m zipcode__98133 \u001b[0m│\u001b[0m Float64 \u001b[0m│\u001b[0m Continuous \u001b[0m│\u001b[0m\n│\u001b[0m zipcode__98136 \u001b[0m│\u001b[0m Float64 \u001b[0m│\u001b[0m Continuous \u001b[0m│\u001b[0m\n│\u001b[0m zipcode__98144 \u001b[0m│\u001b[0m Float64 \u001b[0m│\u001b[0m Continuous \u001b[0m│\u001b[0m\n│\u001b[0m zipcode__98146 \u001b[0m│\u001b[0m Float64 \u001b[0m│\u001b[0m Continuous \u001b[0m│\u001b[0m\n│\u001b[0m zipcode__98148 \u001b[0m│\u001b[0m Float64 \u001b[0m│\u001b[0m Continuous \u001b[0m│\u001b[0m\n│\u001b[0m zipcode__98155 \u001b[0m│\u001b[0m Float64 \u001b[0m│\u001b[0m Continuous \u001b[0m│\u001b[0m\n│\u001b[0m zipcode__98166 \u001b[0m│\u001b[0m Float64 \u001b[0m│\u001b[0m Continuous \u001b[0m│\u001b[0m\n│\u001b[0m zipcode__98168 \u001b[0m│\u001b[0m Float64 \u001b[0m│\u001b[0m Continuous \u001b[0m│\u001b[0m\n│\u001b[0m zipcode__98177 \u001b[0m│\u001b[0m Float64 \u001b[0m│\u001b[0m Continuous \u001b[0m│\u001b[0m\n│\u001b[0m zipcode__98178 \u001b[0m│\u001b[0m Float64 \u001b[0m│\u001b[0m Continuous \u001b[0m│\u001b[0m\n│\u001b[0m zipcode__98188 \u001b[0m│\u001b[0m Float64 \u001b[0m│\u001b[0m Continuous \u001b[0m│\u001b[0m\n│\u001b[0m zipcode__98198 \u001b[0m│\u001b[0m Float64 \u001b[0m│\u001b[0m Continuous \u001b[0m│\u001b[0m\n│\u001b[0m zipcode__98199 \u001b[0m│\u001b[0m Float64 \u001b[0m│\u001b[0m Continuous \u001b[0m│\u001b[0m\n│\u001b[0m lat            \u001b[0m│\u001b[0m Float64 \u001b[0m│\u001b[0m Continuous \u001b[0m│\u001b[0m\n│\u001b[0m long           \u001b[0m│\u001b[0m Float64 \u001b[0m│\u001b[0m Continuous \u001b[0m│\u001b[0m\n│\u001b[0m sqft_living15  \u001b[0m│\u001b[0m Float64 \u001b[0m│\u001b[0m Continuous \u001b[0m│\u001b[0m\n│\u001b[0m sqft_lot15     \u001b[0m│\u001b[0m Float64 \u001b[0m│\u001b[0m Continuous \u001b[0m│\u001b[0m\n│\u001b[0m is_renovated   \u001b[0m│\u001b[0m Float64 \u001b[0m│\u001b[0m Continuous \u001b[0m│\u001b[0m\n└\u001b[0m────────────────\u001b[0m┴\u001b[0m─────────\u001b[0m┴\u001b[0m────────────\u001b[0m┘\u001b[0m\n_.nrows = 21613\n"
     },
     "metadata": {},
     "execution_count": 95
    }
   ],
   "cell_type": "code",
   "source": [
    "Xcont = transform(mach, X);\n",
    "schema(Xcont)"
   ],
   "metadata": {},
   "execution_count": 95
  },
  {
   "cell_type": "markdown",
   "source": [
    "### More transformers"
   ],
   "metadata": {}
  },
  {
   "cell_type": "markdown",
   "source": [
    "Here's how to list all of MLJ's unsupervised models:"
   ],
   "metadata": {}
  },
  {
   "outputs": [
    {
     "output_type": "execute_result",
     "data": {
      "text/plain": "28-element Array{NamedTuple{(:name, :package_name, :is_supervised, :docstring, :hyperparameter_ranges, :hyperparameter_types, :hyperparameters, :implemented_methods, :is_pure_julia, :is_wrapper, :load_path, :package_license, :package_url, :package_uuid, :prediction_type, :supports_online, :supports_weights, :input_scitype, :target_scitype, :output_scitype),T} where T<:Tuple,1}:\n (name = AffinityPropagation, package_name = ScikitLearn, ... )\n (name = AgglomerativeClustering, package_name = ScikitLearn, ... )\n (name = Birch, package_name = ScikitLearn, ... )\n (name = ContinuousEncoder, package_name = MLJModels, ... )\n (name = DBSCAN, package_name = ScikitLearn, ... )\n (name = FeatureAgglomeration, package_name = ScikitLearn, ... )\n (name = FeatureSelector, package_name = MLJModels, ... )\n (name = FillImputer, package_name = MLJModels, ... )\n (name = ICA, package_name = MultivariateStats, ... )\n (name = KMeans, package_name = Clustering, ... )\n (name = KMeans, package_name = ParallelKMeans, ... )\n (name = KMeans, package_name = ScikitLearn, ... )\n (name = KMedoids, package_name = Clustering, ... )\n (name = KernelPCA, package_name = MultivariateStats, ... )\n (name = MeanShift, package_name = ScikitLearn, ... )\n (name = MiniBatchKMeans, package_name = ScikitLearn, ... )\n (name = OPTICS, package_name = ScikitLearn, ... )\n (name = OneClassSVM, package_name = LIBSVM, ... )\n (name = OneHotEncoder, package_name = MLJModels, ... )\n (name = PCA, package_name = MultivariateStats, ... )\n (name = SpectralClustering, package_name = ScikitLearn, ... )\n (name = Standardizer, package_name = MLJModels, ... )\n (name = StaticSurrogate, package_name = MLJBase, ... )\n (name = UnivariateBoxCoxTransformer, package_name = MLJModels, ... )\n (name = UnivariateDiscretizer, package_name = MLJModels, ... )\n (name = UnivariateStandardizer, package_name = MLJModels, ... )\n (name = UnsupervisedSurrogate, package_name = MLJBase, ... )\n (name = WrappedFunction, package_name = MLJBase, ... )"
     },
     "metadata": {},
     "execution_count": 96
    }
   ],
   "cell_type": "code",
   "source": [
    "models(m->!m.is_supervised)"
   ],
   "metadata": {},
   "execution_count": 96
  },
  {
   "cell_type": "markdown",
   "source": [
    "Some commonly used ones are built-in (do not require `@load`ing):"
   ],
   "metadata": {}
  },
  {
   "cell_type": "markdown",
   "source": [
    "model type                  | does what?\n",
    "----------------------------|----------------------------------------------\n",
    "ContinuousEncoder | transform input to a table of `Continuous` features (see above)\n",
    "FeatureSelector | retain or dump selected features\n",
    "FillImputer | impute missing values\n",
    "OneHotEncoder | one-hot encoder `Multiclass` (and optionally `OrderedFactor`) features\n",
    "Standardizer | standardize (whiten) the `Continuous` features in a table\n",
    "UnivariateBoxCoxTransformer | apply a learned Box-Cox transformation to a vector\n",
    "UnivariateDiscretizer | discretize a `Continuous` vector, and hence render its elscityp `OrderedFactor`\n",
    "UnivariateStandardizer| standardize (whiten) a `Continuous` vector"
   ],
   "metadata": {}
  },
  {
   "cell_type": "markdown",
   "source": [
    "In addition to \"dynamic\" transformers (ones that learn something\n",
    "from the data and must be `fit!`) users can wrap ordinary functions\n",
    "as transformers, and such *static* transformers can depend on\n",
    "parameters, like the dynamic ones. See\n",
    "[here](https://alan-turing-institute.github.io/MLJ.jl/dev/transformers/#Static-transformers-1)\n",
    "for how to define your own static transformers."
   ],
   "metadata": {}
  },
  {
   "cell_type": "markdown",
   "source": [
    "### Pipelines"
   ],
   "metadata": {}
  },
  {
   "outputs": [
    {
     "output_type": "execute_result",
     "data": {
      "text/plain": "87"
     },
     "metadata": {},
     "execution_count": 97
    }
   ],
   "cell_type": "code",
   "source": [
    "length(schema(Xcont).names)"
   ],
   "metadata": {},
   "execution_count": 97
  },
  {
   "cell_type": "markdown",
   "source": [
    "Let's suppose that additionally we'd like to reduce the dimension of\n",
    "our data.  A model that will do this is `PCA` from\n",
    "`MultivariateStats`:"
   ],
   "metadata": {}
  },
  {
   "outputs": [
    {
     "output_type": "execute_result",
     "data": {
      "text/plain": "PCA(\n    maxoutdim = nothing,\n    method = :auto,\n    pratio = 0.99,\n    mean = nothing)\u001b[34m @066\u001b[39m"
     },
     "metadata": {},
     "execution_count": 98
    }
   ],
   "cell_type": "code",
   "source": [
    "reducer = @load PCA"
   ],
   "metadata": {},
   "execution_count": 98
  },
  {
   "cell_type": "markdown",
   "source": [
    "Now, rather simply repeating the workflow above, applying the new\n",
    "transformation to `Xcont`, we can combine both the encoding and the\n",
    "dimension-reducing models into a single model, known as a\n",
    "*pipeline*. While MLJ offers a powerful interface for composing\n",
    "models in a variety of ways, we'll stick to these simplest class of\n",
    "composite models for now. The easiest way to construct them is using\n",
    "the `@pipeline` macro:"
   ],
   "metadata": {}
  },
  {
   "outputs": [
    {
     "output_type": "execute_result",
     "data": {
      "text/plain": "Pipeline1365(\n    continuous_encoder = ContinuousEncoder(\n            drop_last = false,\n            one_hot_ordered_factors = false),\n    pca = PCA(\n            maxoutdim = nothing,\n            method = :auto,\n            pratio = 0.99,\n            mean = nothing))\u001b[34m @230\u001b[39m"
     },
     "metadata": {},
     "execution_count": 99
    }
   ],
   "cell_type": "code",
   "source": [
    "pipe = @pipeline encoder reducer"
   ],
   "metadata": {},
   "execution_count": 99
  },
  {
   "cell_type": "markdown",
   "source": [
    "Notice that `pipe` is an *instance* of an automatically generated\n",
    "type (called `Pipeline<some digits>`)."
   ],
   "metadata": {}
  },
  {
   "cell_type": "markdown",
   "source": [
    "The new model behaves like any other transformer:"
   ],
   "metadata": {}
  },
  {
   "outputs": [
    {
     "name": "stdout",
     "output_type": "stream",
     "text": [
      "┌ Info: Training \u001b[34mMachine{Pipeline1365} @423\u001b[39m.\n",
      "└ @ MLJBase /Users/anthony/.julia/packages/MLJBase/r3heT/src/machines.jl:317\n",
      "┌ Info: Training \u001b[34mMachine{ContinuousEncoder} @101\u001b[39m.\n",
      "└ @ MLJBase /Users/anthony/.julia/packages/MLJBase/r3heT/src/machines.jl:317\n",
      "┌ Info: Training \u001b[34mMachine{PCA} @424\u001b[39m.\n",
      "└ @ MLJBase /Users/anthony/.julia/packages/MLJBase/r3heT/src/machines.jl:317\n"
     ]
    },
    {
     "output_type": "execute_result",
     "data": {
      "text/plain": "┌\u001b[0m─────────\u001b[0m┬\u001b[0m─────────\u001b[0m┬\u001b[0m────────────\u001b[0m┐\u001b[0m\n│\u001b[0m\u001b[22m _.names \u001b[0m│\u001b[0m\u001b[22m _.types \u001b[0m│\u001b[0m\u001b[22m _.scitypes \u001b[0m│\u001b[0m\n├\u001b[0m─────────\u001b[0m┼\u001b[0m─────────\u001b[0m┼\u001b[0m────────────\u001b[0m┤\u001b[0m\n│\u001b[0m x1      \u001b[0m│\u001b[0m Float64 \u001b[0m│\u001b[0m Continuous \u001b[0m│\u001b[0m\n│\u001b[0m x2      \u001b[0m│\u001b[0m Float64 \u001b[0m│\u001b[0m Continuous \u001b[0m│\u001b[0m\n└\u001b[0m─────────\u001b[0m┴\u001b[0m─────────\u001b[0m┴\u001b[0m────────────\u001b[0m┘\u001b[0m\n_.nrows = 21613\n"
     },
     "metadata": {},
     "execution_count": 100
    }
   ],
   "cell_type": "code",
   "source": [
    "mach = machine(pipe, X) |> fit!;\n",
    "Xsmall = transform(mach, X)\n",
    "schema(Xsmall)"
   ],
   "metadata": {},
   "execution_count": 100
  },
  {
   "cell_type": "markdown",
   "source": [
    "Want to combine this pre-processing with ridge regression?"
   ],
   "metadata": {}
  },
  {
   "outputs": [
    {
     "output_type": "execute_result",
     "data": {
      "text/plain": "Pipeline1373(\n    continuous_encoder = ContinuousEncoder(\n            drop_last = false,\n            one_hot_ordered_factors = false),\n    pca = PCA(\n            maxoutdim = nothing,\n            method = :auto,\n            pratio = 0.99,\n            mean = nothing),\n    ridge_regressor = RidgeRegressor(\n            lambda = 1.0,\n            fit_intercept = true,\n            penalize_intercept = false,\n            solver = nothing))\u001b[34m @855\u001b[39m"
     },
     "metadata": {},
     "execution_count": 101
    }
   ],
   "cell_type": "code",
   "source": [
    "rgs = @load RidgeRegressor pkg=MLJLinearModels\n",
    "pipe2 = @pipeline encoder reducer rgs"
   ],
   "metadata": {},
   "execution_count": 101
  },
  {
   "cell_type": "markdown",
   "source": [
    "Now our pipeline is a supervised model, instead of a transformer,\n",
    "whose performance we can evaluate:"
   ],
   "metadata": {}
  },
  {
   "outputs": [
    {
     "name": "stdout",
     "output_type": "stream",
     "text": [
      "┌ Info: Training \u001b[34mMachine{Pipeline1373} @412\u001b[39m.\n",
      "└ @ MLJBase /Users/anthony/.julia/packages/MLJBase/r3heT/src/machines.jl:317\n",
      "┌ Info: Training \u001b[34mMachine{ContinuousEncoder} @169\u001b[39m.\n",
      "└ @ MLJBase /Users/anthony/.julia/packages/MLJBase/r3heT/src/machines.jl:317\n",
      "┌ Info: Training \u001b[34mMachine{PCA} @388\u001b[39m.\n",
      "└ @ MLJBase /Users/anthony/.julia/packages/MLJBase/r3heT/src/machines.jl:317\n",
      "┌ Info: Training \u001b[34mMachine{RidgeRegressor} @186\u001b[39m.\n",
      "└ @ MLJBase /Users/anthony/.julia/packages/MLJBase/r3heT/src/machines.jl:317\n"
     ]
    },
    {
     "output_type": "execute_result",
     "data": {
      "text/plain": "┌\u001b[0m───────────\u001b[0m┬\u001b[0m───────────────\u001b[0m┬\u001b[0m────────────\u001b[0m┐\u001b[0m\n│\u001b[0m\u001b[22m _.measure \u001b[0m│\u001b[0m\u001b[22m _.measurement \u001b[0m│\u001b[0m\u001b[22m _.per_fold \u001b[0m│\u001b[0m\n├\u001b[0m───────────\u001b[0m┼\u001b[0m───────────────\u001b[0m┼\u001b[0m────────────\u001b[0m┤\u001b[0m\n│\u001b[0m mae       \u001b[0m│\u001b[0m 234000.0      \u001b[0m│\u001b[0m [234000.0] \u001b[0m│\u001b[0m\n└\u001b[0m───────────\u001b[0m┴\u001b[0m───────────────\u001b[0m┴\u001b[0m────────────\u001b[0m┘\u001b[0m\n_.per_observation = [missing]\n"
     },
     "metadata": {},
     "execution_count": 102
    }
   ],
   "cell_type": "code",
   "source": [
    "mach = machine(pipe2, X, y) |> fit!\n",
    "evaluate!(mach, measure=mae, resampling=Holdout()) # CV(nfolds=6) is default"
   ],
   "metadata": {},
   "execution_count": 102
  },
  {
   "cell_type": "markdown",
   "source": [
    "### Training of composite models is \"smart\""
   ],
   "metadata": {}
  },
  {
   "cell_type": "markdown",
   "source": [
    "Now notice what happens if we train on all the data, then change a\n",
    "regressor hyper-parameter and retrain:"
   ],
   "metadata": {}
  },
  {
   "outputs": [
    {
     "name": "stdout",
     "output_type": "stream",
     "text": [
      "┌ Info: Training \u001b[34mMachine{Pipeline1373} @412\u001b[39m.\n",
      "└ @ MLJBase /Users/anthony/.julia/packages/MLJBase/r3heT/src/machines.jl:317\n",
      "┌ Info: Training \u001b[34mMachine{ContinuousEncoder} @828\u001b[39m.\n",
      "└ @ MLJBase /Users/anthony/.julia/packages/MLJBase/r3heT/src/machines.jl:317\n",
      "┌ Info: Training \u001b[34mMachine{PCA} @322\u001b[39m.\n",
      "└ @ MLJBase /Users/anthony/.julia/packages/MLJBase/r3heT/src/machines.jl:317\n",
      "┌ Info: Training \u001b[34mMachine{RidgeRegressor} @463\u001b[39m.\n",
      "└ @ MLJBase /Users/anthony/.julia/packages/MLJBase/r3heT/src/machines.jl:317\n"
     ]
    },
    {
     "output_type": "execute_result",
     "data": {
      "text/plain": "\u001b[34mMachine{Pipeline1373} @412\u001b[39m trained 3 times.\n  args: \n    1:\t\u001b[34mSource @729\u001b[39m ⏎ `Table{Union{AbstractArray{Continuous,1}, AbstractArray{Multiclass{70},1}, AbstractArray{OrderedFactor{6},1}, AbstractArray{OrderedFactor{13},1}, AbstractArray{OrderedFactor{30},1}, AbstractArray{OrderedFactor{5},1}, AbstractArray{OrderedFactor{12},1}, AbstractArray{OrderedFactor{2},1}}}`\n    2:\t\u001b[34mSource @919\u001b[39m ⏎ `AbstractArray{Continuous,1}`\n"
     },
     "metadata": {},
     "execution_count": 103
    }
   ],
   "cell_type": "code",
   "source": [
    "fit!(mach)"
   ],
   "metadata": {},
   "execution_count": 103
  },
  {
   "outputs": [
    {
     "name": "stdout",
     "output_type": "stream",
     "text": [
      "┌ Info: Updating \u001b[34mMachine{Pipeline1373} @412\u001b[39m.\n",
      "└ @ MLJBase /Users/anthony/.julia/packages/MLJBase/r3heT/src/machines.jl:318\n",
      "┌ Info: Not retraining \u001b[34mMachine{ContinuousEncoder} @828\u001b[39m. Use `force=true` to force.\n",
      "└ @ MLJBase /Users/anthony/.julia/packages/MLJBase/r3heT/src/machines.jl:320\n",
      "┌ Info: Not retraining \u001b[34mMachine{PCA} @322\u001b[39m. Use `force=true` to force.\n",
      "└ @ MLJBase /Users/anthony/.julia/packages/MLJBase/r3heT/src/machines.jl:320\n",
      "┌ Info: Updating \u001b[34mMachine{RidgeRegressor} @463\u001b[39m.\n",
      "└ @ MLJBase /Users/anthony/.julia/packages/MLJBase/r3heT/src/machines.jl:318\n"
     ]
    },
    {
     "output_type": "execute_result",
     "data": {
      "text/plain": "\u001b[34mMachine{Pipeline1373} @412\u001b[39m trained 4 times.\n  args: \n    1:\t\u001b[34mSource @729\u001b[39m ⏎ `Table{Union{AbstractArray{Continuous,1}, AbstractArray{Multiclass{70},1}, AbstractArray{OrderedFactor{6},1}, AbstractArray{OrderedFactor{13},1}, AbstractArray{OrderedFactor{30},1}, AbstractArray{OrderedFactor{5},1}, AbstractArray{OrderedFactor{12},1}, AbstractArray{OrderedFactor{2},1}}}`\n    2:\t\u001b[34mSource @919\u001b[39m ⏎ `AbstractArray{Continuous,1}`\n"
     },
     "metadata": {},
     "execution_count": 104
    }
   ],
   "cell_type": "code",
   "source": [
    "pipe2.ridge_regressor.lambda = 0.1\n",
    "fit!(mach)"
   ],
   "metadata": {},
   "execution_count": 104
  },
  {
   "cell_type": "markdown",
   "source": [
    "Second time only the ridge regressor is retrained!"
   ],
   "metadata": {}
  },
  {
   "cell_type": "markdown",
   "source": [
    "Mutate a hyper-parameter of the `PCA` model and every model except\n",
    "the `ContinuousEncoder` (which comes before it will be retrained):"
   ],
   "metadata": {}
  },
  {
   "outputs": [
    {
     "name": "stdout",
     "output_type": "stream",
     "text": [
      "┌ Info: Updating \u001b[34mMachine{Pipeline1373} @412\u001b[39m.\n",
      "└ @ MLJBase /Users/anthony/.julia/packages/MLJBase/r3heT/src/machines.jl:318\n",
      "┌ Info: Not retraining \u001b[34mMachine{ContinuousEncoder} @828\u001b[39m. Use `force=true` to force.\n",
      "└ @ MLJBase /Users/anthony/.julia/packages/MLJBase/r3heT/src/machines.jl:320\n",
      "┌ Info: Updating \u001b[34mMachine{PCA} @322\u001b[39m.\n",
      "└ @ MLJBase /Users/anthony/.julia/packages/MLJBase/r3heT/src/machines.jl:318\n",
      "┌ Info: Training \u001b[34mMachine{RidgeRegressor} @463\u001b[39m.\n",
      "└ @ MLJBase /Users/anthony/.julia/packages/MLJBase/r3heT/src/machines.jl:317\n"
     ]
    },
    {
     "output_type": "execute_result",
     "data": {
      "text/plain": "\u001b[34mMachine{Pipeline1373} @412\u001b[39m trained 5 times.\n  args: \n    1:\t\u001b[34mSource @729\u001b[39m ⏎ `Table{Union{AbstractArray{Continuous,1}, AbstractArray{Multiclass{70},1}, AbstractArray{OrderedFactor{6},1}, AbstractArray{OrderedFactor{13},1}, AbstractArray{OrderedFactor{30},1}, AbstractArray{OrderedFactor{5},1}, AbstractArray{OrderedFactor{12},1}, AbstractArray{OrderedFactor{2},1}}}`\n    2:\t\u001b[34mSource @919\u001b[39m ⏎ `AbstractArray{Continuous,1}`\n"
     },
     "metadata": {},
     "execution_count": 105
    }
   ],
   "cell_type": "code",
   "source": [
    "pipe2.pca.pratio = 0.9999\n",
    "fit!(mach)"
   ],
   "metadata": {},
   "execution_count": 105
  },
  {
   "cell_type": "markdown",
   "source": [
    "### Inspecting composite models"
   ],
   "metadata": {}
  },
  {
   "cell_type": "markdown",
   "source": [
    "The dot syntax used above to change the values of *nested*\n",
    "hyper-parameters is also useful when inspecting the learned\n",
    "parameters and report generated when training a composite model:"
   ],
   "metadata": {}
  },
  {
   "outputs": [
    {
     "output_type": "execute_result",
     "data": {
      "text/plain": "(coefs = [:x1 => -0.7328956348956883, :x2 => -0.16590563202915296, :x3 => 194.59515890822158, :x4 => 102.7130175613619],\n intercept = 540085.6428739978,)"
     },
     "metadata": {},
     "execution_count": 106
    }
   ],
   "cell_type": "code",
   "source": [
    "fitted_params(mach).ridge_regressor"
   ],
   "metadata": {},
   "execution_count": 106
  },
  {
   "outputs": [
    {
     "output_type": "execute_result",
     "data": {
      "text/plain": "(indim = 87,\n outdim = 4,\n mean = [4.369869985656781, 8.459121824827651, 2079.899736269838, 15106.96756581687, 1.988617961412113, 1.0075417572757137, 1.2343034284921113, 3.4094295100171195, 6.6569194466293435, 1788.3906907879518  …  0.011798454633785222, 0.012122333780595013, 0.006292509138018786, 0.012955165872391617, 0.01466709850552908, 47.56005251931713, -122.21389640494186, 1986.5524915560081, 12768.455651691113, 1.9577106371165505],\n principalvars = [2.177071551045085e9, 2.841813972643024e8, 1.6850160830643424e6, 277281.83841321553],\n tprincipalvar = 2.463215246230865e9,\n tresidualvar = 157533.26199674606,\n tvar = 2.4633727794928617e9,)"
     },
     "metadata": {},
     "execution_count": 107
    }
   ],
   "cell_type": "code",
   "source": [
    "report(mach).pca"
   ],
   "metadata": {},
   "execution_count": 107
  },
  {
   "cell_type": "markdown",
   "source": [
    "### Incorporating target transformations"
   ],
   "metadata": {}
  },
  {
   "cell_type": "markdown",
   "source": [
    "Next, suppose that instead of using the raw `:price` as the\n",
    "training target, we want to use the log-price (a common practice in\n",
    "dealing with house price data). However, suppose that we still want\n",
    "to report final *predictions* on the original linear scale (and use\n",
    "these for evaluation purposes). Then we supply appropriate functions\n",
    "to key-word arguments `target` and `inverse`."
   ],
   "metadata": {}
  },
  {
   "cell_type": "markdown",
   "source": [
    "First we'll overload `log` and `exp` for broadcasting:"
   ],
   "metadata": {}
  },
  {
   "outputs": [],
   "cell_type": "code",
   "source": [
    "Base.log(v::AbstractArray) = log.(v)\n",
    "Base.exp(v::AbstractArray) = exp.(v)"
   ],
   "metadata": {},
   "execution_count": 108
  },
  {
   "cell_type": "markdown",
   "source": [
    "Now for the new pipeline:"
   ],
   "metadata": {}
  },
  {
   "outputs": [
    {
     "name": "stdout",
     "output_type": "stream",
     "text": [
      "┌ Info: Treating pipeline as a `Deterministic` predictor.\n",
      "│ To override, specify `prediction_type=...` (options: :deterministic, :probabilistic, :interval). \n",
      "└ @ MLJBase /Users/anthony/.julia/packages/MLJBase/r3heT/src/composition/models/pipelines.jl:394\n",
      "\rEvaluating over 6 folds:  17%[====>                    ]  ETA: 0:00:02\u001b[K\rEvaluating over 6 folds:  33%[========>                ]  ETA: 0:00:01\u001b[K\rEvaluating over 6 folds:  50%[============>            ]  ETA: 0:00:01\u001b[K\rEvaluating over 6 folds:  67%[================>        ]  ETA: 0:00:01\u001b[K\rEvaluating over 6 folds:  83%[====================>    ]  ETA: 0:00:00\u001b[K\rEvaluating over 6 folds: 100%[=========================] Time: 0:00:01\u001b[K\n"
     ]
    },
    {
     "output_type": "execute_result",
     "data": {
      "text/plain": "┌\u001b[0m───────────\u001b[0m┬\u001b[0m───────────────\u001b[0m┬\u001b[0m──────────────────────────────────────────────────────────────\u001b[0m┐\u001b[0m\n│\u001b[0m\u001b[22m _.measure \u001b[0m│\u001b[0m\u001b[22m _.measurement \u001b[0m│\u001b[0m\u001b[22m _.per_fold                                                   \u001b[0m│\u001b[0m\n├\u001b[0m───────────\u001b[0m┼\u001b[0m───────────────\u001b[0m┼\u001b[0m──────────────────────────────────────────────────────────────\u001b[0m┤\u001b[0m\n│\u001b[0m mae       \u001b[0m│\u001b[0m 162000.0      \u001b[0m│\u001b[0m [160000.0, 161000.0, 164000.0, 159000.0, 173000.0, 157000.0] \u001b[0m│\u001b[0m\n└\u001b[0m───────────\u001b[0m┴\u001b[0m───────────────\u001b[0m┴\u001b[0m──────────────────────────────────────────────────────────────\u001b[0m┘\u001b[0m\n_.per_observation = [missing]\n"
     },
     "metadata": {},
     "execution_count": 109
    }
   ],
   "cell_type": "code",
   "source": [
    "pipe3 = @pipeline encoder reducer rgs target=log inverse=exp\n",
    "mach = machine(pipe3, X, y)\n",
    "evaluate!(mach, measure=mae)"
   ],
   "metadata": {},
   "execution_count": 109
  },
  {
   "cell_type": "markdown",
   "source": [
    "MLJ will also allow you to insert *learned* target\n",
    "transformations. For example, we might want to apply\n",
    "`UnivariateStandardizer()` to the target, to standarize it, or\n",
    "`UnivariateBoxCoxTransformer()` to make it look Gaussian. Then\n",
    "instead of specifying a *function* for `target`, we specify a\n",
    "unsupervised *model* (or model type). One does not specify `inverse`\n",
    "because only models implementing `inverse_transform` are\n",
    "allowed."
   ],
   "metadata": {}
  },
  {
   "cell_type": "markdown",
   "source": [
    "Let's see which of these two options results in a better outcome:"
   ],
   "metadata": {}
  },
  {
   "outputs": [
    {
     "name": "stdout",
     "output_type": "stream",
     "text": [
      "┌ Info: Treating pipeline as a `Deterministic` predictor.\n",
      "│ To override, specify `prediction_type=...` (options: :deterministic, :probabilistic, :interval). \n",
      "└ @ MLJBase /Users/anthony/.julia/packages/MLJBase/r3heT/src/composition/models/pipelines.jl:394\n",
      "\rEvaluating over 6 folds:  17%[====>                    ]  ETA: 0:00:12\u001b[K\rEvaluating over 6 folds:  33%[========>                ]  ETA: 0:00:09\u001b[K\rEvaluating over 6 folds:  50%[============>            ]  ETA: 0:00:06\u001b[K\rEvaluating over 6 folds:  67%[================>        ]  ETA: 0:00:04\u001b[K\rEvaluating over 6 folds:  83%[====================>    ]  ETA: 0:00:02\u001b[K\rEvaluating over 6 folds: 100%[=========================] Time: 0:00:12\u001b[K\n"
     ]
    },
    {
     "output_type": "execute_result",
     "data": {
      "text/plain": "┌\u001b[0m───────────\u001b[0m┬\u001b[0m───────────────\u001b[0m┬\u001b[0m────────────────────────────────────────────────────────────\u001b[0m┐\u001b[0m\n│\u001b[0m\u001b[22m _.measure \u001b[0m│\u001b[0m\u001b[22m _.measurement \u001b[0m│\u001b[0m\u001b[22m _.per_fold                                                 \u001b[0m│\u001b[0m\n├\u001b[0m───────────\u001b[0m┼\u001b[0m───────────────\u001b[0m┼\u001b[0m────────────────────────────────────────────────────────────\u001b[0m┤\u001b[0m\n│\u001b[0m mae       \u001b[0m│\u001b[0m 479000.0      \u001b[0m│\u001b[0m [168000.0, 172000.0, 170000.0, 276000.0, 1.92e6, 167000.0] \u001b[0m│\u001b[0m\n└\u001b[0m───────────\u001b[0m┴\u001b[0m───────────────\u001b[0m┴\u001b[0m────────────────────────────────────────────────────────────\u001b[0m┘\u001b[0m\n_.per_observation = [missing]\n"
     },
     "metadata": {},
     "execution_count": 110
    }
   ],
   "cell_type": "code",
   "source": [
    "box = UnivariateBoxCoxTransformer(n=20)\n",
    "stand = UnivariateStandardizer()\n",
    "\n",
    "pipe4 = @pipeline encoder reducer rgs target=box\n",
    "mach = machine(pipe4, X, y)\n",
    "evaluate!(mach, measure=mae)"
   ],
   "metadata": {},
   "execution_count": 110
  },
  {
   "outputs": [
    {
     "name": "stdout",
     "output_type": "stream",
     "text": [
      "\rEvaluating over 6 folds:  17%[====>                    ]  ETA: 0:00:01\u001b[K\rEvaluating over 6 folds:  33%[========>                ]  ETA: 0:00:01\u001b[K\rEvaluating over 6 folds:  50%[============>            ]  ETA: 0:00:01\u001b[K\rEvaluating over 6 folds:  67%[================>        ]  ETA: 0:00:00\u001b[K\rEvaluating over 6 folds:  83%[====================>    ]  ETA: 0:00:00\u001b[K\rEvaluating over 6 folds: 100%[=========================] Time: 0:00:01\u001b[K\n"
     ]
    },
    {
     "output_type": "execute_result",
     "data": {
      "text/plain": "┌\u001b[0m───────────\u001b[0m┬\u001b[0m───────────────\u001b[0m┬\u001b[0m──────────────────────────────────────────────────────────────\u001b[0m┐\u001b[0m\n│\u001b[0m\u001b[22m _.measure \u001b[0m│\u001b[0m\u001b[22m _.measurement \u001b[0m│\u001b[0m\u001b[22m _.per_fold                                                   \u001b[0m│\u001b[0m\n├\u001b[0m───────────\u001b[0m┼\u001b[0m───────────────\u001b[0m┼\u001b[0m──────────────────────────────────────────────────────────────\u001b[0m┤\u001b[0m\n│\u001b[0m mae       \u001b[0m│\u001b[0m 172000.0      \u001b[0m│\u001b[0m [173000.0, 171000.0, 172000.0, 172000.0, 176000.0, 166000.0] \u001b[0m│\u001b[0m\n└\u001b[0m───────────\u001b[0m┴\u001b[0m───────────────\u001b[0m┴\u001b[0m──────────────────────────────────────────────────────────────\u001b[0m┘\u001b[0m\n_.per_observation = [missing]\n"
     },
     "metadata": {},
     "execution_count": 111
    }
   ],
   "cell_type": "code",
   "source": [
    "pipe4.target = stand\n",
    "evaluate!(mach, measure=mae)"
   ],
   "metadata": {},
   "execution_count": 111
  },
  {
   "cell_type": "markdown",
   "source": [
    "### Resources for Part 3"
   ],
   "metadata": {}
  },
  {
   "cell_type": "markdown",
   "source": [
    "- From the MLJ manual:\n",
    "    - [Transformers and other unsupervised models](https://alan-turing-institute.github.io/MLJ.jl/dev/transformers/)\n",
    "    - [Linear pipelines](https://alan-turing-institute.github.io/MLJ.jl/dev/composing_models/#Linear-pipelines-1)\n",
    "- From Data Science Tutorials:\n",
    "    - [Composing models](https://alan-turing-institute.github.io/DataScienceTutorials.jl/getting-started/composing-models/)"
   ],
   "metadata": {}
  },
  {
   "cell_type": "markdown",
   "source": [
    "### Exercises for Part 3"
   ],
   "metadata": {}
  },
  {
   "cell_type": "markdown",
   "source": [
    "#### Exercise 7"
   ],
   "metadata": {}
  },
  {
   "cell_type": "markdown",
   "source": [
    "Consider again the Horse Colic classification problem considered in\n",
    "Exercise 6, but with all features, `Finite` and `Infinite`:"
   ],
   "metadata": {}
  },
  {
   "outputs": [
    {
     "output_type": "execute_result",
     "data": {
      "text/plain": "┌\u001b[0m─────────────────────────\u001b[0m┬\u001b[0m────────────────────────────────\u001b[0m┬\u001b[0m──────────────────\u001b[0m┐\u001b[0m\n│\u001b[0m\u001b[22m _.names                 \u001b[0m│\u001b[0m\u001b[22m _.types                        \u001b[0m│\u001b[0m\u001b[22m _.scitypes       \u001b[0m│\u001b[0m\n├\u001b[0m─────────────────────────\u001b[0m┼\u001b[0m────────────────────────────────\u001b[0m┼\u001b[0m──────────────────\u001b[0m┤\u001b[0m\n│\u001b[0m surgery                 \u001b[0m│\u001b[0m CategoricalValue{Int64,UInt32} \u001b[0m│\u001b[0m Multiclass{2}    \u001b[0m│\u001b[0m\n│\u001b[0m age                     \u001b[0m│\u001b[0m CategoricalValue{Int64,UInt32} \u001b[0m│\u001b[0m Multiclass{2}    \u001b[0m│\u001b[0m\n│\u001b[0m rectal_temperature      \u001b[0m│\u001b[0m Float64                        \u001b[0m│\u001b[0m Continuous       \u001b[0m│\u001b[0m\n│\u001b[0m pulse                   \u001b[0m│\u001b[0m Float64                        \u001b[0m│\u001b[0m Continuous       \u001b[0m│\u001b[0m\n│\u001b[0m respiratory_rate        \u001b[0m│\u001b[0m Float64                        \u001b[0m│\u001b[0m Continuous       \u001b[0m│\u001b[0m\n│\u001b[0m temperature_extremities \u001b[0m│\u001b[0m CategoricalValue{Int64,UInt32} \u001b[0m│\u001b[0m OrderedFactor{4} \u001b[0m│\u001b[0m\n│\u001b[0m mucous_membranes        \u001b[0m│\u001b[0m CategoricalValue{Int64,UInt32} \u001b[0m│\u001b[0m Multiclass{6}    \u001b[0m│\u001b[0m\n│\u001b[0m capillary_refill_time   \u001b[0m│\u001b[0m CategoricalValue{Int64,UInt32} \u001b[0m│\u001b[0m Multiclass{3}    \u001b[0m│\u001b[0m\n│\u001b[0m pain                    \u001b[0m│\u001b[0m CategoricalValue{Int64,UInt32} \u001b[0m│\u001b[0m OrderedFactor{5} \u001b[0m│\u001b[0m\n│\u001b[0m peristalsis             \u001b[0m│\u001b[0m CategoricalValue{Int64,UInt32} \u001b[0m│\u001b[0m OrderedFactor{4} \u001b[0m│\u001b[0m\n│\u001b[0m abdominal_distension    \u001b[0m│\u001b[0m CategoricalValue{Int64,UInt32} \u001b[0m│\u001b[0m OrderedFactor{4} \u001b[0m│\u001b[0m\n│\u001b[0m packed_cell_volume      \u001b[0m│\u001b[0m Float64                        \u001b[0m│\u001b[0m Continuous       \u001b[0m│\u001b[0m\n│\u001b[0m total_protein           \u001b[0m│\u001b[0m Float64                        \u001b[0m│\u001b[0m Continuous       \u001b[0m│\u001b[0m\n│\u001b[0m surgical_lesion         \u001b[0m│\u001b[0m CategoricalValue{Int64,UInt32} \u001b[0m│\u001b[0m OrderedFactor{2} \u001b[0m│\u001b[0m\n│\u001b[0m cp_data                 \u001b[0m│\u001b[0m CategoricalValue{Int64,UInt32} \u001b[0m│\u001b[0m Multiclass{2}    \u001b[0m│\u001b[0m\n└\u001b[0m─────────────────────────\u001b[0m┴\u001b[0m────────────────────────────────\u001b[0m┴\u001b[0m──────────────────\u001b[0m┘\u001b[0m\n_.nrows = 366\n"
     },
     "metadata": {},
     "execution_count": 112
    }
   ],
   "cell_type": "code",
   "source": [
    "y, X = unpack(horse, ==(:outcome), name -> true);\n",
    "schema(X)"
   ],
   "metadata": {},
   "execution_count": 112
  },
  {
   "cell_type": "markdown",
   "source": [
    "(a) Define a pipeline that:\n",
    "- uses `Standardizer` to ensure that features that are already\n",
    "  continuous are centred at zero and have unit variance\n",
    "- re-encodes the full set of features as `Continuous`, using\n",
    "  `ContinuousEncoder`\n",
    "- uses the `KMeans` clustering model from `Clustering.jl`\n",
    "  to reduce the dimension of the feature space to `k=10`.\n",
    "- trains a `EvoTreeClassifier` (a gradient tree boosting\n",
    "  algorithm in `EvoTrees.jl`) on the reduced data, using\n",
    "  `nrounds=50` and default values for the other\n",
    "   hyper-parameters"
   ],
   "metadata": {}
  },
  {
   "cell_type": "markdown",
   "source": [
    "(b) Evaluate the pipeline on all data, using 6-fold cross-validation\n",
    "and `cross_entropy` loss."
   ],
   "metadata": {}
  },
  {
   "cell_type": "markdown",
   "source": [
    "&star;(c) Plot a learning curve which examines the effect on this loss\n",
    "as the tree booster parameter `max_depth` varies from 2 to 10."
   ],
   "metadata": {}
  },
  {
   "cell_type": "markdown",
   "source": [
    "## Part 4 - Tuning hyper-parameters"
   ],
   "metadata": {}
  },
  {
   "outputs": [
    {
     "output_type": "execute_result",
     "data": {
      "text/plain": "MLJBase.NumericRange(Float64, :(ridge_regressor.lambda), ... )"
     },
     "metadata": {},
     "execution_count": 113
    }
   ],
   "cell_type": "code",
   "source": [
    "r = range(pipe3, :(ridge_regressor.lambda), lower = 1e-6, upper=10, scale=:log)"
   ],
   "metadata": {},
   "execution_count": 113
  },
  {
   "cell_type": "markdown",
   "source": [
    "If you're curious, you can see what `lambda` values this range will\n",
    "generate for a given resolution:"
   ],
   "metadata": {}
  },
  {
   "outputs": [
    {
     "output_type": "execute_result",
     "data": {
      "text/plain": "10-element Array{Float64,1}:\n  1.0000000000000004e-6\n  5.994842503189412e-6\n  3.593813663804628e-5\n  0.0002154434690031884\n  0.0012915496650148838\n  0.007742636826811276\n  0.046415888336127795\n  0.27825594022071254\n  1.668100537200059\n 10.000000000000002"
     },
     "metadata": {},
     "execution_count": 114
    }
   ],
   "cell_type": "code",
   "source": [
    "iterator(r, 10)"
   ],
   "metadata": {},
   "execution_count": 114
  },
  {
   "cell_type": "markdown",
   "source": [
    "## Solutions to exercises"
   ],
   "metadata": {}
  },
  {
   "cell_type": "markdown",
   "source": [
    "#### Exercise 2 solution"
   ],
   "metadata": {}
  },
  {
   "outputs": [
    {
     "name": "stdout",
     "output_type": "stream",
     "text": [
      "┌ Info: Trying to coerce from `Union{Missing, String}` to `OrderedFactor`.\n",
      "│ Coerced to `Union{Missing,OrderedFactor}` instead.\n",
      "└ @ MLJScientificTypes /Users/anthony/.julia/packages/MLJScientificTypes/wqfgN/src/convention/coerce.jl:126\n"
     ]
    },
    {
     "output_type": "execute_result",
     "data": {
      "text/plain": "Union{Missing, OrderedFactor{3}}"
     },
     "metadata": {},
     "execution_count": 115
    }
   ],
   "cell_type": "code",
   "source": [
    "quality = coerce(quality, OrderedFactor);\n",
    "levels!(quality, [\"poor\", \"good\", \"excellent\"]);\n",
    "elscitype(quality)"
   ],
   "metadata": {},
   "execution_count": 115
  },
  {
   "cell_type": "markdown",
   "source": [
    "#### Exercise 3 solution"
   ],
   "metadata": {}
  },
  {
   "cell_type": "markdown",
   "source": [
    "First pass:"
   ],
   "metadata": {}
  },
  {
   "outputs": [
    {
     "output_type": "execute_result",
     "data": {
      "text/plain": "┌\u001b[0m───────────────\u001b[0m┬\u001b[0m──────────────────────────────────\u001b[0m┬\u001b[0m───────────────────\u001b[0m┐\u001b[0m\n│\u001b[0m\u001b[22m _.names       \u001b[0m│\u001b[0m\u001b[22m _.types                          \u001b[0m│\u001b[0m\u001b[22m _.scitypes        \u001b[0m│\u001b[0m\n├\u001b[0m───────────────\u001b[0m┼\u001b[0m──────────────────────────────────\u001b[0m┼\u001b[0m───────────────────\u001b[0m┤\u001b[0m\n│\u001b[0m price         \u001b[0m│\u001b[0m Float64                          \u001b[0m│\u001b[0m Continuous        \u001b[0m│\u001b[0m\n│\u001b[0m bedrooms      \u001b[0m│\u001b[0m CategoricalValue{Int64,UInt32}   \u001b[0m│\u001b[0m OrderedFactor{13} \u001b[0m│\u001b[0m\n│\u001b[0m bathrooms     \u001b[0m│\u001b[0m CategoricalValue{Float64,UInt32} \u001b[0m│\u001b[0m OrderedFactor{30} \u001b[0m│\u001b[0m\n│\u001b[0m sqft_living   \u001b[0m│\u001b[0m Float64                          \u001b[0m│\u001b[0m Continuous        \u001b[0m│\u001b[0m\n│\u001b[0m sqft_lot      \u001b[0m│\u001b[0m Float64                          \u001b[0m│\u001b[0m Continuous        \u001b[0m│\u001b[0m\n│\u001b[0m floors        \u001b[0m│\u001b[0m CategoricalValue{Float64,UInt32} \u001b[0m│\u001b[0m OrderedFactor{6}  \u001b[0m│\u001b[0m\n│\u001b[0m waterfront    \u001b[0m│\u001b[0m CategoricalValue{Int64,UInt32}   \u001b[0m│\u001b[0m OrderedFactor{2}  \u001b[0m│\u001b[0m\n│\u001b[0m view          \u001b[0m│\u001b[0m CategoricalValue{Int64,UInt32}   \u001b[0m│\u001b[0m OrderedFactor{5}  \u001b[0m│\u001b[0m\n│\u001b[0m condition     \u001b[0m│\u001b[0m CategoricalValue{Int64,UInt32}   \u001b[0m│\u001b[0m OrderedFactor{5}  \u001b[0m│\u001b[0m\n│\u001b[0m grade         \u001b[0m│\u001b[0m CategoricalValue{Int64,UInt32}   \u001b[0m│\u001b[0m OrderedFactor{12} \u001b[0m│\u001b[0m\n│\u001b[0m sqft_above    \u001b[0m│\u001b[0m Float64                          \u001b[0m│\u001b[0m Continuous        \u001b[0m│\u001b[0m\n│\u001b[0m sqft_basement \u001b[0m│\u001b[0m Float64                          \u001b[0m│\u001b[0m Continuous        \u001b[0m│\u001b[0m\n│\u001b[0m yr_built      \u001b[0m│\u001b[0m Float64                          \u001b[0m│\u001b[0m Continuous        \u001b[0m│\u001b[0m\n│\u001b[0m zipcode       \u001b[0m│\u001b[0m CategoricalValue{Int64,UInt32}   \u001b[0m│\u001b[0m Multiclass{70}    \u001b[0m│\u001b[0m\n│\u001b[0m lat           \u001b[0m│\u001b[0m Float64                          \u001b[0m│\u001b[0m Continuous        \u001b[0m│\u001b[0m\n│\u001b[0m long          \u001b[0m│\u001b[0m Float64                          \u001b[0m│\u001b[0m Continuous        \u001b[0m│\u001b[0m\n│\u001b[0m sqft_living15 \u001b[0m│\u001b[0m Float64                          \u001b[0m│\u001b[0m Continuous        \u001b[0m│\u001b[0m\n│\u001b[0m sqft_lot15    \u001b[0m│\u001b[0m Float64                          \u001b[0m│\u001b[0m Continuous        \u001b[0m│\u001b[0m\n│\u001b[0m is_renovated  \u001b[0m│\u001b[0m CategoricalValue{Bool,UInt32}    \u001b[0m│\u001b[0m OrderedFactor{2}  \u001b[0m│\u001b[0m\n└\u001b[0m───────────────\u001b[0m┴\u001b[0m──────────────────────────────────\u001b[0m┴\u001b[0m───────────────────\u001b[0m┘\u001b[0m\n_.nrows = 21613\n"
     },
     "metadata": {},
     "execution_count": 116
    }
   ],
   "cell_type": "code",
   "source": [
    "coerce!(house, autotype(house));\n",
    "schema(house)"
   ],
   "metadata": {},
   "execution_count": 116
  },
  {
   "cell_type": "markdown",
   "source": [
    "All the \"sqft\" fields refer to \"square feet\" so are\n",
    "really `Continuous`. We'll regard `:yr_built` (the other `Count`\n",
    "variable above) as `Continuous` as well. So:"
   ],
   "metadata": {}
  },
  {
   "outputs": [],
   "cell_type": "code",
   "source": [
    "coerce!(house, Count => Continuous);"
   ],
   "metadata": {},
   "execution_count": 117
  },
  {
   "cell_type": "markdown",
   "source": [
    "And `:zipcode` should not be ordered:"
   ],
   "metadata": {}
  },
  {
   "outputs": [
    {
     "output_type": "execute_result",
     "data": {
      "text/plain": "┌\u001b[0m───────────────\u001b[0m┬\u001b[0m──────────────────────────────────\u001b[0m┬\u001b[0m───────────────────\u001b[0m┐\u001b[0m\n│\u001b[0m\u001b[22m _.names       \u001b[0m│\u001b[0m\u001b[22m _.types                          \u001b[0m│\u001b[0m\u001b[22m _.scitypes        \u001b[0m│\u001b[0m\n├\u001b[0m───────────────\u001b[0m┼\u001b[0m──────────────────────────────────\u001b[0m┼\u001b[0m───────────────────\u001b[0m┤\u001b[0m\n│\u001b[0m price         \u001b[0m│\u001b[0m Float64                          \u001b[0m│\u001b[0m Continuous        \u001b[0m│\u001b[0m\n│\u001b[0m bedrooms      \u001b[0m│\u001b[0m CategoricalValue{Int64,UInt32}   \u001b[0m│\u001b[0m OrderedFactor{13} \u001b[0m│\u001b[0m\n│\u001b[0m bathrooms     \u001b[0m│\u001b[0m CategoricalValue{Float64,UInt32} \u001b[0m│\u001b[0m OrderedFactor{30} \u001b[0m│\u001b[0m\n│\u001b[0m sqft_living   \u001b[0m│\u001b[0m Float64                          \u001b[0m│\u001b[0m Continuous        \u001b[0m│\u001b[0m\n│\u001b[0m sqft_lot      \u001b[0m│\u001b[0m Float64                          \u001b[0m│\u001b[0m Continuous        \u001b[0m│\u001b[0m\n│\u001b[0m floors        \u001b[0m│\u001b[0m CategoricalValue{Float64,UInt32} \u001b[0m│\u001b[0m OrderedFactor{6}  \u001b[0m│\u001b[0m\n│\u001b[0m waterfront    \u001b[0m│\u001b[0m CategoricalValue{Int64,UInt32}   \u001b[0m│\u001b[0m OrderedFactor{2}  \u001b[0m│\u001b[0m\n│\u001b[0m view          \u001b[0m│\u001b[0m CategoricalValue{Int64,UInt32}   \u001b[0m│\u001b[0m OrderedFactor{5}  \u001b[0m│\u001b[0m\n│\u001b[0m condition     \u001b[0m│\u001b[0m CategoricalValue{Int64,UInt32}   \u001b[0m│\u001b[0m OrderedFactor{5}  \u001b[0m│\u001b[0m\n│\u001b[0m grade         \u001b[0m│\u001b[0m CategoricalValue{Int64,UInt32}   \u001b[0m│\u001b[0m OrderedFactor{12} \u001b[0m│\u001b[0m\n│\u001b[0m sqft_above    \u001b[0m│\u001b[0m Float64                          \u001b[0m│\u001b[0m Continuous        \u001b[0m│\u001b[0m\n│\u001b[0m sqft_basement \u001b[0m│\u001b[0m Float64                          \u001b[0m│\u001b[0m Continuous        \u001b[0m│\u001b[0m\n│\u001b[0m yr_built      \u001b[0m│\u001b[0m Float64                          \u001b[0m│\u001b[0m Continuous        \u001b[0m│\u001b[0m\n│\u001b[0m zipcode       \u001b[0m│\u001b[0m CategoricalValue{Int64,UInt32}   \u001b[0m│\u001b[0m Multiclass{70}    \u001b[0m│\u001b[0m\n│\u001b[0m lat           \u001b[0m│\u001b[0m Float64                          \u001b[0m│\u001b[0m Continuous        \u001b[0m│\u001b[0m\n│\u001b[0m long          \u001b[0m│\u001b[0m Float64                          \u001b[0m│\u001b[0m Continuous        \u001b[0m│\u001b[0m\n│\u001b[0m sqft_living15 \u001b[0m│\u001b[0m Float64                          \u001b[0m│\u001b[0m Continuous        \u001b[0m│\u001b[0m\n│\u001b[0m sqft_lot15    \u001b[0m│\u001b[0m Float64                          \u001b[0m│\u001b[0m Continuous        \u001b[0m│\u001b[0m\n│\u001b[0m is_renovated  \u001b[0m│\u001b[0m CategoricalValue{Bool,UInt32}    \u001b[0m│\u001b[0m OrderedFactor{2}  \u001b[0m│\u001b[0m\n└\u001b[0m───────────────\u001b[0m┴\u001b[0m──────────────────────────────────\u001b[0m┴\u001b[0m───────────────────\u001b[0m┘\u001b[0m\n_.nrows = 21613\n"
     },
     "metadata": {},
     "execution_count": 118
    }
   ],
   "cell_type": "code",
   "source": [
    "coerce!(house, :zipcode => Multiclass);\n",
    "schema(house)"
   ],
   "metadata": {},
   "execution_count": 118
  },
  {
   "cell_type": "markdown",
   "source": [
    "`:bathrooms` looks like it has a lot of levels, but on further\n",
    "inspection we see why, and `OrderedFactor` remains appropriate:"
   ],
   "metadata": {}
  },
  {
   "outputs": [
    {
     "output_type": "execute_result",
     "data": {
      "text/plain": "Dict{CategoricalValue{Float64,UInt32},Int64} with 30 entries:\n  CategoricalValue{Float64,UInt32} 5.5 (22/30)  => 10\n  CategoricalValue{Float64,UInt32} 6.5 (26/30)  => 2\n  CategoricalValue{Float64,UInt32} 2.0 (8/30)   => 1930\n  CategoricalValue{Float64,UInt32} 1.5 (6/30)   => 1446\n  CategoricalValue{Float64,UInt32} 3.25 (13/30) => 589\n  CategoricalValue{Float64,UInt32} 4.75 (19/30) => 23\n  CategoricalValue{Float64,UInt32} 4.5 (18/30)  => 100\n  CategoricalValue{Float64,UInt32} 6.75 (27/30) => 2\n  CategoricalValue{Float64,UInt32} 0.0 (1/30)   => 10\n  CategoricalValue{Float64,UInt32} 2.75 (11/30) => 1185\n  CategoricalValue{Float64,UInt32} 3.5 (14/30)  => 731\n  CategoricalValue{Float64,UInt32} 1.25 (5/30)  => 9\n  CategoricalValue{Float64,UInt32} 6.25 (25/30) => 2\n  CategoricalValue{Float64,UInt32} 8.0 (30/30)  => 2\n  CategoricalValue{Float64,UInt32} 6.0 (24/30)  => 6\n  CategoricalValue{Float64,UInt32} 5.25 (21/30) => 13\n  CategoricalValue{Float64,UInt32} 4.0 (16/30)  => 136\n  CategoricalValue{Float64,UInt32} 2.25 (9/30)  => 2047\n  CategoricalValue{Float64,UInt32} 1.75 (7/30)  => 3048\n  CategoricalValue{Float64,UInt32} 0.5 (2/30)   => 4\n  CategoricalValue{Float64,UInt32} 3.0 (12/30)  => 753\n  CategoricalValue{Float64,UInt32} 4.25 (17/30) => 79\n  CategoricalValue{Float64,UInt32} 7.75 (29/30) => 1\n  CategoricalValue{Float64,UInt32} 5.0 (20/30)  => 21\n  CategoricalValue{Float64,UInt32} 3.75 (15/30) => 155\n  CategoricalValue{Float64,UInt32} 5.75 (23/30) => 4\n  CategoricalValue{Float64,UInt32} 7.5 (28/30)  => 1\n  CategoricalValue{Float64,UInt32} 2.5 (10/30)  => 5380\n  CategoricalValue{Float64,UInt32} 0.75 (3/30)  => 72\n  CategoricalValue{Float64,UInt32} 1.0 (4/30)   => 3852"
     },
     "metadata": {},
     "execution_count": 119
    }
   ],
   "cell_type": "code",
   "source": [
    "import StatsBase.countmap\n",
    "countmap(house.bathrooms)"
   ],
   "metadata": {},
   "execution_count": 119
  },
  {
   "cell_type": "markdown",
   "source": [
    "#### Exercise 4 solution"
   ],
   "metadata": {}
  },
  {
   "cell_type": "markdown",
   "source": [
    "4(a)"
   ],
   "metadata": {}
  },
  {
   "cell_type": "markdown",
   "source": [
    "There are *no* models that apply immediately:"
   ],
   "metadata": {}
  },
  {
   "outputs": [
    {
     "output_type": "execute_result",
     "data": {
      "text/plain": "0-element Array{NamedTuple{(:name, :package_name, :is_supervised, :docstring, :hyperparameter_ranges, :hyperparameter_types, :hyperparameters, :implemented_methods, :is_pure_julia, :is_wrapper, :load_path, :package_license, :package_url, :package_uuid, :prediction_type, :supports_online, :supports_weights, :input_scitype, :target_scitype, :output_scitype),T} where T<:Tuple,1}"
     },
     "metadata": {},
     "execution_count": 120
    }
   ],
   "cell_type": "code",
   "source": [
    "models(matching(X4, y4))"
   ],
   "metadata": {},
   "execution_count": 120
  },
  {
   "cell_type": "markdown",
   "source": [
    "4(b)"
   ],
   "metadata": {}
  },
  {
   "outputs": [
    {
     "output_type": "execute_result",
     "data": {
      "text/plain": "4-element Array{NamedTuple{(:name, :package_name, :is_supervised, :docstring, :hyperparameter_ranges, :hyperparameter_types, :hyperparameters, :implemented_methods, :is_pure_julia, :is_wrapper, :load_path, :package_license, :package_url, :package_uuid, :prediction_type, :supports_online, :supports_weights, :input_scitype, :target_scitype, :output_scitype),T} where T<:Tuple,1}:\n (name = ConstantRegressor, package_name = MLJModels, ... )\n (name = DecisionTreeRegressor, package_name = DecisionTree, ... )\n (name = DeterministicConstantRegressor, package_name = MLJModels, ... )\n (name = RandomForestRegressor, package_name = DecisionTree, ... )"
     },
     "metadata": {},
     "execution_count": 121
    }
   ],
   "cell_type": "code",
   "source": [
    "y4 = coerce(y4, Continuous);\n",
    "models(matching(X4, y4))"
   ],
   "metadata": {},
   "execution_count": 121
  },
  {
   "cell_type": "markdown",
   "source": [
    "#### Exercise 6 solution"
   ],
   "metadata": {}
  },
  {
   "cell_type": "markdown",
   "source": [
    "6(a)"
   ],
   "metadata": {}
  },
  {
   "outputs": [],
   "cell_type": "code",
   "source": [
    "y, X = unpack(horse,\n",
    "              ==(:outcome),\n",
    "              name -> elscitype(Tables.getcolumn(horse, name)) == Continuous);"
   ],
   "metadata": {},
   "execution_count": 122
  },
  {
   "cell_type": "markdown",
   "source": [
    "6(b)(i)"
   ],
   "metadata": {}
  },
  {
   "outputs": [
    {
     "name": "stdout",
     "output_type": "stream",
     "text": [
      "┌ Info: Training \u001b[34mMachine{LogisticClassifier} @139\u001b[39m.\n",
      "└ @ MLJBase /Users/anthony/.julia/packages/MLJBase/r3heT/src/machines.jl:317\n"
     ]
    },
    {
     "output_type": "execute_result",
     "data": {
      "text/plain": "(classes = CategoricalValue{Int64,UInt32}[1, 2, 3],\n coefs = Pair{Symbol,SubArray{Float64,1,Array{Float64,2},Tuple{Int64,Base.Slice{Base.OneTo{Int64}}},true}}[:rectal_temperature => [0.061700165020208884, -0.06507181615992094, 0.003371651139712025], :pulse => [-0.009584825599058816, 0.004022558646948241, 0.005562266952111324], :respiratory_rate => [-0.009584825599058816, 0.004022558646948241, 0.005562266952111324], :packed_cell_volume => [-0.0430937217634404, 0.020859863954344793, 0.02223385780909599], :total_protein => [0.02750875236570991, -0.06317268044006659, 0.03566392807435661]],\n intercept = [0.0008917387282688827, -0.0008917385123632456, -4.972412452088422],)"
     },
     "metadata": {},
     "execution_count": 123
    }
   ],
   "cell_type": "code",
   "source": [
    "model = @load LogisticClassifier pkg=MLJLinearModels;\n",
    "model.lambda = 100\n",
    "mach = machine(model, X, y)\n",
    "fit!(mach, rows=train)\n",
    "fitted_params(mach)"
   ],
   "metadata": {},
   "execution_count": 123
  },
  {
   "outputs": [
    {
     "output_type": "execute_result",
     "data": {
      "text/plain": "0.7187276476280999"
     },
     "metadata": {},
     "execution_count": 124
    }
   ],
   "cell_type": "code",
   "source": [
    "coefs_given_feature = Dict(fitted_params(mach).coefs)\n",
    "coefs_given_feature[:pulse]\n",
    "\n",
    "#6(b)(ii)\n",
    "\n",
    "yhat = predict(mach, rows=test); # or predict(mach, X[test,:])\n",
    "err = cross_entropy(yhat, y[test]) |> mean"
   ],
   "metadata": {},
   "execution_count": 124
  },
  {
   "cell_type": "markdown",
   "source": [
    "6(b)(iii)"
   ],
   "metadata": {}
  },
  {
   "cell_type": "markdown",
   "source": [
    "The predicted probabilities of the actual observations in the test\n",
    "are given by"
   ],
   "metadata": {}
  },
  {
   "outputs": [],
   "cell_type": "code",
   "source": [
    "p = broadcast(pdf, yhat, y[test]);"
   ],
   "metadata": {},
   "execution_count": 125
  },
  {
   "cell_type": "markdown",
   "source": [
    "The number of times this probability exceeds 50% is:"
   ],
   "metadata": {}
  },
  {
   "outputs": [
    {
     "output_type": "execute_result",
     "data": {
      "text/plain": "30"
     },
     "metadata": {},
     "execution_count": 126
    }
   ],
   "cell_type": "code",
   "source": [
    "n50 = filter(x -> x > 0.5, p) |> length"
   ],
   "metadata": {},
   "execution_count": 126
  },
  {
   "cell_type": "markdown",
   "source": [
    "Or, as a proportion:"
   ],
   "metadata": {}
  },
  {
   "outputs": [
    {
     "output_type": "execute_result",
     "data": {
      "text/plain": "0.6666666666666666"
     },
     "metadata": {},
     "execution_count": 127
    }
   ],
   "cell_type": "code",
   "source": [
    "n50/length(test)"
   ],
   "metadata": {},
   "execution_count": 127
  },
  {
   "cell_type": "markdown",
   "source": [
    "6(b)(iv)"
   ],
   "metadata": {}
  },
  {
   "outputs": [
    {
     "output_type": "execute_result",
     "data": {
      "text/plain": "0.28888888888888886"
     },
     "metadata": {},
     "execution_count": 128
    }
   ],
   "cell_type": "code",
   "source": [
    "misclassification_rate(mode.(yhat), y[test])"
   ],
   "metadata": {},
   "execution_count": 128
  },
  {
   "cell_type": "markdown",
   "source": [
    "6(c)(i)"
   ],
   "metadata": {}
  },
  {
   "outputs": [
    {
     "name": "stdout",
     "output_type": "stream",
     "text": [
      "\rEvaluating over 6 folds:  17%[====>                    ]  ETA: 0:00:00\u001b[K\rEvaluating over 6 folds:  33%[========>                ]  ETA: 0:00:00\u001b[K\rEvaluating over 6 folds:  50%[============>            ]  ETA: 0:00:00\u001b[K\rEvaluating over 6 folds:  67%[================>        ]  ETA: 0:00:00\u001b[K\rEvaluating over 6 folds:  83%[====================>    ]  ETA: 0:00:00\u001b[K\rEvaluating over 6 folds: 100%[=========================] Time: 0:00:00\u001b[K\n"
     ]
    },
    {
     "output_type": "execute_result",
     "data": {
      "text/plain": "MLJBase.NumericRange(Int64, :n_trees, ... )"
     },
     "metadata": {},
     "execution_count": 129
    }
   ],
   "cell_type": "code",
   "source": [
    "model = @load RandomForestClassifier pkg=DecisionTree\n",
    "mach = machine(model, X, y)\n",
    "evaluate!(mach, resampling=CV(nfolds=6), measure=cross_entropy)\n",
    "\n",
    "r = range(model, :n_trees, lower=10, upper=70, scale=:log)"
   ],
   "metadata": {},
   "execution_count": 129
  },
  {
   "cell_type": "markdown",
   "source": [
    "Since random forests are inherently randomized, we generate multiple\n",
    "curves:"
   ],
   "metadata": {}
  },
  {
   "outputs": [
    {
     "name": "stdout",
     "output_type": "stream",
     "text": [
      "┌ Info: Training \u001b[34mMachine{ProbabilisticTunedModel{Grid,…}} @564\u001b[39m.\n",
      "└ @ MLJBase /Users/anthony/.julia/packages/MLJBase/r3heT/src/machines.jl:317\n",
      "┌ Info: Attempting to evaluate 29 models.\n",
      "└ @ MLJTuning /Users/anthony/.julia/packages/MLJTuning/oLVRR/src/tuned_models.jl:474\n",
      "\rEvaluating over 29 metamodels:   0%[>                        ]  ETA: N/A\u001b[K\rEvaluating over 29 metamodels:   3%[>                        ]  ETA: 0:00:00\u001b[K\rEvaluating over 29 metamodels:   7%[=>                       ]  ETA: 0:00:00\u001b[K\rEvaluating over 29 metamodels:  10%[==>                      ]  ETA: 0:00:00\u001b[K\rEvaluating over 29 metamodels:  14%[===>                     ]  ETA: 0:00:00\u001b[K\rEvaluating over 29 metamodels:  17%[====>                    ]  ETA: 0:00:00\u001b[K\rEvaluating over 29 metamodels:  21%[=====>                   ]  ETA: 0:00:00\u001b[K\rEvaluating over 29 metamodels:  24%[======>                  ]  ETA: 0:00:00\u001b[K\rEvaluating over 29 metamodels:  28%[======>                  ]  ETA: 0:00:00\u001b[K\rEvaluating over 29 metamodels:  31%[=======>                 ]  ETA: 0:00:00\u001b[K\rEvaluating over 29 metamodels:  34%[========>                ]  ETA: 0:00:00\u001b[K\rEvaluating over 29 metamodels:  38%[=========>               ]  ETA: 0:00:00\u001b[K\rEvaluating over 29 metamodels:  41%[==========>              ]  ETA: 0:00:00\u001b[K\rEvaluating over 29 metamodels:  45%[===========>             ]  ETA: 0:00:00\u001b[K\rEvaluating over 29 metamodels:  48%[============>            ]  ETA: 0:00:00\u001b[K\rEvaluating over 29 metamodels:  52%[============>            ]  ETA: 0:00:00\u001b[K\rEvaluating over 29 metamodels:  55%[=============>           ]  ETA: 0:00:00\u001b[K\rEvaluating over 29 metamodels:  59%[==============>          ]  ETA: 0:00:00\u001b[K\rEvaluating over 29 metamodels:  62%[===============>         ]  ETA: 0:00:00\u001b[K\rEvaluating over 29 metamodels:  66%[================>        ]  ETA: 0:00:00\u001b[K\rEvaluating over 29 metamodels:  69%[=================>       ]  ETA: 0:00:00\u001b[K\rEvaluating over 29 metamodels:  72%[==================>      ]  ETA: 0:00:00\u001b[K\rEvaluating over 29 metamodels:  76%[==================>      ]  ETA: 0:00:00\u001b[K\rEvaluating over 29 metamodels:  79%[===================>     ]  ETA: 0:00:00\u001b[K\rEvaluating over 29 metamodels:  83%[====================>    ]  ETA: 0:00:00\u001b[K\rEvaluating over 29 metamodels:  86%[=====================>   ]  ETA: 0:00:00\u001b[K\rEvaluating over 29 metamodels:  90%[======================>  ]  ETA: 0:00:00\u001b[K\rEvaluating over 29 metamodels:  93%[=======================> ]  ETA: 0:00:00\u001b[K\rEvaluating over 29 metamodels:  97%[========================>]  ETA: 0:00:00\u001b[K\rEvaluating over 29 metamodels: 100%[=========================] Time: 0:00:00\u001b[K\n",
      "┌ Info: Training \u001b[34mMachine{ProbabilisticTunedModel{Grid,…}} @156\u001b[39m.\n",
      "└ @ MLJBase /Users/anthony/.julia/packages/MLJBase/r3heT/src/machines.jl:317\n",
      "┌ Info: Attempting to evaluate 29 models.\n",
      "└ @ MLJTuning /Users/anthony/.julia/packages/MLJTuning/oLVRR/src/tuned_models.jl:474\n",
      "\rEvaluating over 29 metamodels:   0%[>                        ]  ETA: N/A\u001b[K\rEvaluating over 29 metamodels:   3%[>                        ]  ETA: 0:00:00\u001b[K\rEvaluating over 29 metamodels:   7%[=>                       ]  ETA: 0:00:00\u001b[K\rEvaluating over 29 metamodels:  10%[==>                      ]  ETA: 0:00:00\u001b[K\rEvaluating over 29 metamodels:  14%[===>                     ]  ETA: 0:00:00\u001b[K\rEvaluating over 29 metamodels:  17%[====>                    ]  ETA: 0:00:00\u001b[K\rEvaluating over 29 metamodels:  21%[=====>                   ]  ETA: 0:00:00\u001b[K\rEvaluating over 29 metamodels:  24%[======>                  ]  ETA: 0:00:00\u001b[K\rEvaluating over 29 metamodels:  28%[======>                  ]  ETA: 0:00:00\u001b[K\rEvaluating over 29 metamodels:  31%[=======>                 ]  ETA: 0:00:00\u001b[K\rEvaluating over 29 metamodels:  34%[========>                ]  ETA: 0:00:00\u001b[K\rEvaluating over 29 metamodels:  38%[=========>               ]  ETA: 0:00:00\u001b[K\rEvaluating over 29 metamodels:  41%[==========>              ]  ETA: 0:00:00\u001b[K\rEvaluating over 29 metamodels:  45%[===========>             ]  ETA: 0:00:00\u001b[K\rEvaluating over 29 metamodels:  48%[============>            ]  ETA: 0:00:00\u001b[K\rEvaluating over 29 metamodels:  52%[============>            ]  ETA: 0:00:00\u001b[K\rEvaluating over 29 metamodels:  55%[=============>           ]  ETA: 0:00:00\u001b[K\rEvaluating over 29 metamodels:  59%[==============>          ]  ETA: 0:00:00\u001b[K\rEvaluating over 29 metamodels:  62%[===============>         ]  ETA: 0:00:00\u001b[K\rEvaluating over 29 metamodels:  66%[================>        ]  ETA: 0:00:00\u001b[K\rEvaluating over 29 metamodels:  69%[=================>       ]  ETA: 0:00:00\u001b[K\rEvaluating over 29 metamodels:  72%[==================>      ]  ETA: 0:00:00\u001b[K\rEvaluating over 29 metamodels:  76%[==================>      ]  ETA: 0:00:00\u001b[K\rEvaluating over 29 metamodels:  79%[===================>     ]  ETA: 0:00:00\u001b[K\rEvaluating over 29 metamodels:  83%[====================>    ]  ETA: 0:00:00\u001b[K\rEvaluating over 29 metamodels:  86%[=====================>   ]  ETA: 0:00:00\u001b[K\rEvaluating over 29 metamodels:  90%[======================>  ]  ETA: 0:00:00\u001b[K\rEvaluating over 29 metamodels:  93%[=======================> ]  ETA: 0:00:00\u001b[K\rEvaluating over 29 metamodels:  97%[========================>]  ETA: 0:00:00\u001b[K\rEvaluating over 29 metamodels: 100%[=========================] Time: 0:00:00\u001b[K\n",
      "┌ Info: Training \u001b[34mMachine{ProbabilisticTunedModel{Grid,…}} @206\u001b[39m.\n",
      "└ @ MLJBase /Users/anthony/.julia/packages/MLJBase/r3heT/src/machines.jl:317\n",
      "┌ Info: Attempting to evaluate 29 models.\n",
      "└ @ MLJTuning /Users/anthony/.julia/packages/MLJTuning/oLVRR/src/tuned_models.jl:474\n",
      "\rEvaluating over 29 metamodels:   0%[>                        ]  ETA: N/A\u001b[K\rEvaluating over 29 metamodels:   3%[>                        ]  ETA: 0:00:00\u001b[K\rEvaluating over 29 metamodels:   7%[=>                       ]  ETA: 0:00:00\u001b[K\rEvaluating over 29 metamodels:  10%[==>                      ]  ETA: 0:00:00\u001b[K\rEvaluating over 29 metamodels:  14%[===>                     ]  ETA: 0:00:00\u001b[K\rEvaluating over 29 metamodels:  17%[====>                    ]  ETA: 0:00:00\u001b[K\rEvaluating over 29 metamodels:  21%[=====>                   ]  ETA: 0:00:00\u001b[K\rEvaluating over 29 metamodels:  24%[======>                  ]  ETA: 0:00:00\u001b[K\rEvaluating over 29 metamodels:  28%[======>                  ]  ETA: 0:00:00\u001b[K\rEvaluating over 29 metamodels:  31%[=======>                 ]  ETA: 0:00:00\u001b[K\rEvaluating over 29 metamodels:  34%[========>                ]  ETA: 0:00:00\u001b[K\rEvaluating over 29 metamodels:  38%[=========>               ]  ETA: 0:00:00\u001b[K\rEvaluating over 29 metamodels:  41%[==========>              ]  ETA: 0:00:00\u001b[K\rEvaluating over 29 metamodels:  45%[===========>             ]  ETA: 0:00:00\u001b[K\rEvaluating over 29 metamodels:  48%[============>            ]  ETA: 0:00:00\u001b[K\rEvaluating over 29 metamodels:  52%[============>            ]  ETA: 0:00:00\u001b[K\rEvaluating over 29 metamodels:  55%[=============>           ]  ETA: 0:00:00\u001b[K\rEvaluating over 29 metamodels:  59%[==============>          ]  ETA: 0:00:00\u001b[K\rEvaluating over 29 metamodels:  62%[===============>         ]  ETA: 0:00:00\u001b[K\rEvaluating over 29 metamodels:  66%[================>        ]  ETA: 0:00:00\u001b[K\rEvaluating over 29 metamodels:  69%[=================>       ]  ETA: 0:00:00\u001b[K\rEvaluating over 29 metamodels:  72%[==================>      ]  ETA: 0:00:00\u001b[K\rEvaluating over 29 metamodels:  76%[==================>      ]  ETA: 0:00:00\u001b[K\rEvaluating over 29 metamodels:  79%[===================>     ]  ETA: 0:00:00\u001b[K\rEvaluating over 29 metamodels:  83%[====================>    ]  ETA: 0:00:00\u001b[K\rEvaluating over 29 metamodels:  86%[=====================>   ]  ETA: 0:00:00\u001b[K\rEvaluating over 29 metamodels:  90%[======================>  ]  ETA: 0:00:00\u001b[K\rEvaluating over 29 metamodels:  93%[=======================> ]  ETA: 0:00:00\u001b[K\rEvaluating over 29 metamodels:  97%[========================>]  ETA: 0:00:00\u001b[K\rEvaluating over 29 metamodels: 100%[=========================] Time: 0:00:00\u001b[K\n",
      "┌ Info: Training \u001b[34mMachine{ProbabilisticTunedModel{Grid,…}} @464\u001b[39m.\n",
      "└ @ MLJBase /Users/anthony/.julia/packages/MLJBase/r3heT/src/machines.jl:317\n",
      "┌ Info: Attempting to evaluate 29 models.\n",
      "└ @ MLJTuning /Users/anthony/.julia/packages/MLJTuning/oLVRR/src/tuned_models.jl:474\n",
      "\rEvaluating over 29 metamodels:   0%[>                        ]  ETA: N/A\u001b[K\rEvaluating over 29 metamodels:   3%[>                        ]  ETA: 0:00:00\u001b[K\rEvaluating over 29 metamodels:   7%[=>                       ]  ETA: 0:00:00\u001b[K\rEvaluating over 29 metamodels:  10%[==>                      ]  ETA: 0:00:00\u001b[K\rEvaluating over 29 metamodels:  14%[===>                     ]  ETA: 0:00:00\u001b[K\rEvaluating over 29 metamodels:  17%[====>                    ]  ETA: 0:00:00\u001b[K\rEvaluating over 29 metamodels:  21%[=====>                   ]  ETA: 0:00:00\u001b[K\rEvaluating over 29 metamodels:  24%[======>                  ]  ETA: 0:00:00\u001b[K\rEvaluating over 29 metamodels:  28%[======>                  ]  ETA: 0:00:00\u001b[K\rEvaluating over 29 metamodels:  31%[=======>                 ]  ETA: 0:00:00\u001b[K\rEvaluating over 29 metamodels:  34%[========>                ]  ETA: 0:00:00\u001b[K\rEvaluating over 29 metamodels:  38%[=========>               ]  ETA: 0:00:00\u001b[K\rEvaluating over 29 metamodels:  41%[==========>              ]  ETA: 0:00:00\u001b[K\rEvaluating over 29 metamodels:  45%[===========>             ]  ETA: 0:00:00\u001b[K\rEvaluating over 29 metamodels:  48%[============>            ]  ETA: 0:00:00\u001b[K\rEvaluating over 29 metamodels:  52%[============>            ]  ETA: 0:00:00\u001b[K\rEvaluating over 29 metamodels:  55%[=============>           ]  ETA: 0:00:00\u001b[K\rEvaluating over 29 metamodels:  59%[==============>          ]  ETA: 0:00:00\u001b[K\rEvaluating over 29 metamodels:  62%[===============>         ]  ETA: 0:00:00\u001b[K\rEvaluating over 29 metamodels:  66%[================>        ]  ETA: 0:00:00\u001b[K\rEvaluating over 29 metamodels:  69%[=================>       ]  ETA: 0:00:00\u001b[K\rEvaluating over 29 metamodels:  72%[==================>      ]  ETA: 0:00:00\u001b[K\rEvaluating over 29 metamodels:  76%[==================>      ]  ETA: 0:00:00\u001b[K\rEvaluating over 29 metamodels:  79%[===================>     ]  ETA: 0:00:00\u001b[K\rEvaluating over 29 metamodels:  83%[====================>    ]  ETA: 0:00:00\u001b[K\rEvaluating over 29 metamodels:  86%[=====================>   ]  ETA: 0:00:00\u001b[K\rEvaluating over 29 metamodels:  90%[======================>  ]  ETA: 0:00:00\u001b[K\rEvaluating over 29 metamodels:  93%[=======================> ]  ETA: 0:00:00\u001b[K\rEvaluating over 29 metamodels:  97%[========================>]  ETA: 0:00:00\u001b[K\rEvaluating over 29 metamodels: 100%[=========================] Time: 0:00:00\u001b[K\n"
     ]
    },
    {
     "output_type": "execute_result",
     "data": {
      "text/plain": "Plot{Plots.PyPlotBackend() n=4}",
      "image/png": "[encoded data removed]",
      "text/html": [
       "<img src=\"data:image/png;base64,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\" />"
      ],
      "image/svg+xml": [
       "<?xml version=\"1.0\" encoding=\"utf-8\" standalone=\"no\"?>\n",
       "<!DOCTYPE svg PUBLIC \"-//W3C//DTD SVG 1.1//EN\"\n",
       "  \"http://www.w3.org/Graphics/SVG/1.1/DTD/svg11.dtd\">\n",
       "<!-- Created with matplotlib (https://matplotlib.org/) -->\n",
       "<svg height=\"216pt\" version=\"1.1\" viewBox=\"0 0 352.8 216\" width=\"352.8pt\" xmlns=\"http://www.w3.org/2000/svg\" xmlns:xlink=\"http://www.w3.org/1999/xlink\">\n",
       " <defs>\n",
       "  <style type=\"text/css\">\n",
       "*{stroke-linecap:butt;stroke-linejoin:round;}\n",
       "  </style>\n",
       " </defs>\n",
       " <g id=\"figure_1\">\n",
       "  <g id=\"patch_1\">\n",
       "   <path d=\"M 0 216 \n",
       "L 352.8 216 \n",
       "L 352.8 0 \n",
       "L 0 0 \n",
       "z\n",
       "\" style=\"fill:#ffffff;\"/>\n",
       "  </g>\n",
       "  <g id=\"axes_1\">\n",
       "   <g id=\"patch_2\">\n",
       "    <path d=\"M 34.741356 185.719104 \n",
       "L 349.965354 185.719104 \n",
       "L 349.965354 2.834646 \n",
       "L 34.741356 2.834646 \n",
       "z\n",
       "\" style=\"fill:#ffffff;\"/>\n",
       "   </g>\n",
       "   <g id=\"matplotlib.axis_1\">\n",
       "    <g id=\"xtick_1\">\n",
       "     <g id=\"line2d_1\">\n",
       "      <path clip-path=\"url(#p0e4b6c256d)\" d=\"M 43.66279 185.719104 \n",
       "L 43.66279 2.834646 \n",
       "\" style=\"fill:none;stroke:#000000;stroke-linecap:square;stroke-opacity:0.1;stroke-width:0.5;\"/>\n",
       "     </g>\n",
       "     <g id=\"line2d_2\">\n",
       "      <defs>\n",
       "       <path d=\"M 0 0 \n",
       "L 0 -3.5 \n",
       "\" id=\"med3dbfdab2\" style=\"stroke:#000000;stroke-width:0.5;\"/>\n",
       "      </defs>\n",
       "      <g>\n",
       "       <use style=\"stroke:#000000;stroke-width:0.5;\" x=\"43.66279\" xlink:href=\"#med3dbfdab2\" y=\"185.719104\"/>\n",
       "      </g>\n",
       "     </g>\n",
       "     <g id=\"text_1\">\n",
       "      <!-- $10$ -->\n",
       "      <defs>\n",
       "       <path d=\"M 12.40625 8.296875 \n",
       "L 28.515625 8.296875 \n",
       "L 28.515625 63.921875 \n",
       "L 10.984375 60.40625 \n",
       "L 10.984375 69.390625 \n",
       "L 28.421875 72.90625 \n",
       "L 38.28125 72.90625 \n",
       "L 38.28125 8.296875 \n",
       "L 54.390625 8.296875 \n",
       "L 54.390625 0 \n",
       "L 12.40625 0 \n",
       "z\n",
       "\" id=\"DejaVuSans-49\"/>\n",
       "       <path d=\"M 31.78125 66.40625 \n",
       "Q 24.171875 66.40625 20.328125 58.90625 \n",
       "Q 16.5 51.421875 16.5 36.375 \n",
       "Q 16.5 21.390625 20.328125 13.890625 \n",
       "Q 24.171875 6.390625 31.78125 6.390625 \n",
       "Q 39.453125 6.390625 43.28125 13.890625 \n",
       "Q 47.125 21.390625 47.125 36.375 \n",
       "Q 47.125 51.421875 43.28125 58.90625 \n",
       "Q 39.453125 66.40625 31.78125 66.40625 \n",
       "z\n",
       "M 31.78125 74.21875 \n",
       "Q 44.046875 74.21875 50.515625 64.515625 \n",
       "Q 56.984375 54.828125 56.984375 36.375 \n",
       "Q 56.984375 17.96875 50.515625 8.265625 \n",
       "Q 44.046875 -1.421875 31.78125 -1.421875 \n",
       "Q 19.53125 -1.421875 13.0625 8.265625 \n",
       "Q 6.59375 17.96875 6.59375 36.375 \n",
       "Q 6.59375 54.828125 13.0625 64.515625 \n",
       "Q 19.53125 74.21875 31.78125 74.21875 \n",
       "z\n",
       "\" id=\"DejaVuSans-48\"/>\n",
       "      </defs>\n",
       "      <g transform=\"translate(38.54279 195.297854)scale(0.08 -0.08)\">\n",
       "       <use transform=\"translate(0 0.78125)\" xlink:href=\"#DejaVuSans-49\"/>\n",
       "       <use transform=\"translate(63.623047 0.78125)\" xlink:href=\"#DejaVuSans-48\"/>\n",
       "      </g>\n",
       "     </g>\n",
       "    </g>\n",
       "    <g id=\"xtick_2\">\n",
       "     <g id=\"line2d_3\">\n",
       "      <path clip-path=\"url(#p0e4b6c256d)\" d=\"M 93.226312 185.719104 \n",
       "L 93.226312 2.834646 \n",
       "\" style=\"fill:none;stroke:#000000;stroke-linecap:square;stroke-opacity:0.1;stroke-width:0.5;\"/>\n",
       "     </g>\n",
       "     <g id=\"line2d_4\">\n",
       "      <g>\n",
       "       <use style=\"stroke:#000000;stroke-width:0.5;\" x=\"93.226312\" xlink:href=\"#med3dbfdab2\" y=\"185.719104\"/>\n",
       "      </g>\n",
       "     </g>\n",
       "     <g id=\"text_2\">\n",
       "      <!-- $20$ -->\n",
       "      <defs>\n",
       "       <path d=\"M 19.1875 8.296875 \n",
       "L 53.609375 8.296875 \n",
       "L 53.609375 0 \n",
       "L 7.328125 0 \n",
       "L 7.328125 8.296875 \n",
       "Q 12.9375 14.109375 22.625 23.890625 \n",
       "Q 32.328125 33.6875 34.8125 36.53125 \n",
       "Q 39.546875 41.84375 41.421875 45.53125 \n",
       "Q 43.3125 49.21875 43.3125 52.78125 \n",
       "Q 43.3125 58.59375 39.234375 62.25 \n",
       "Q 35.15625 65.921875 28.609375 65.921875 \n",
       "Q 23.96875 65.921875 18.8125 64.3125 \n",
       "Q 13.671875 62.703125 7.8125 59.421875 \n",
       "L 7.8125 69.390625 \n",
       "Q 13.765625 71.78125 18.9375 73 \n",
       "Q 24.125 74.21875 28.421875 74.21875 \n",
       "Q 39.75 74.21875 46.484375 68.546875 \n",
       "Q 53.21875 62.890625 53.21875 53.421875 \n",
       "Q 53.21875 48.921875 51.53125 44.890625 \n",
       "Q 49.859375 40.875 45.40625 35.40625 \n",
       "Q 44.1875 33.984375 37.640625 27.21875 \n",
       "Q 31.109375 20.453125 19.1875 8.296875 \n",
       "z\n",
       "\" id=\"DejaVuSans-50\"/>\n",
       "      </defs>\n",
       "      <g transform=\"translate(88.106312 195.297854)scale(0.08 -0.08)\">\n",
       "       <use transform=\"translate(0 0.78125)\" xlink:href=\"#DejaVuSans-50\"/>\n",
       "       <use transform=\"translate(63.623047 0.78125)\" xlink:href=\"#DejaVuSans-48\"/>\n",
       "      </g>\n",
       "     </g>\n",
       "    </g>\n",
       "    <g id=\"xtick_3\">\n",
       "     <g id=\"line2d_5\">\n",
       "      <path clip-path=\"url(#p0e4b6c256d)\" d=\"M 142.789833 185.719104 \n",
       "L 142.789833 2.834646 \n",
       "\" style=\"fill:none;stroke:#000000;stroke-linecap:square;stroke-opacity:0.1;stroke-width:0.5;\"/>\n",
       "     </g>\n",
       "     <g id=\"line2d_6\">\n",
       "      <g>\n",
       "       <use style=\"stroke:#000000;stroke-width:0.5;\" x=\"142.789833\" xlink:href=\"#med3dbfdab2\" y=\"185.719104\"/>\n",
       "      </g>\n",
       "     </g>\n",
       "     <g id=\"text_3\">\n",
       "      <!-- $30$ -->\n",
       "      <defs>\n",
       "       <path d=\"M 40.578125 39.3125 \n",
       "Q 47.65625 37.796875 51.625 33 \n",
       "Q 55.609375 28.21875 55.609375 21.1875 \n",
       "Q 55.609375 10.40625 48.1875 4.484375 \n",
       "Q 40.765625 -1.421875 27.09375 -1.421875 \n",
       "Q 22.515625 -1.421875 17.65625 -0.515625 \n",
       "Q 12.796875 0.390625 7.625 2.203125 \n",
       "L 7.625 11.71875 \n",
       "Q 11.71875 9.328125 16.59375 8.109375 \n",
       "Q 21.484375 6.890625 26.8125 6.890625 \n",
       "Q 36.078125 6.890625 40.9375 10.546875 \n",
       "Q 45.796875 14.203125 45.796875 21.1875 \n",
       "Q 45.796875 27.640625 41.28125 31.265625 \n",
       "Q 36.765625 34.90625 28.71875 34.90625 \n",
       "L 20.21875 34.90625 \n",
       "L 20.21875 43.015625 \n",
       "L 29.109375 43.015625 \n",
       "Q 36.375 43.015625 40.234375 45.921875 \n",
       "Q 44.09375 48.828125 44.09375 54.296875 \n",
       "Q 44.09375 59.90625 40.109375 62.90625 \n",
       "Q 36.140625 65.921875 28.71875 65.921875 \n",
       "Q 24.65625 65.921875 20.015625 65.03125 \n",
       "Q 15.375 64.15625 9.8125 62.3125 \n",
       "L 9.8125 71.09375 \n",
       "Q 15.4375 72.65625 20.34375 73.4375 \n",
       "Q 25.25 74.21875 29.59375 74.21875 \n",
       "Q 40.828125 74.21875 47.359375 69.109375 \n",
       "Q 53.90625 64.015625 53.90625 55.328125 \n",
       "Q 53.90625 49.265625 50.4375 45.09375 \n",
       "Q 46.96875 40.921875 40.578125 39.3125 \n",
       "z\n",
       "\" id=\"DejaVuSans-51\"/>\n",
       "      </defs>\n",
       "      <g transform=\"translate(137.669833 195.297854)scale(0.08 -0.08)\">\n",
       "       <use transform=\"translate(0 0.78125)\" xlink:href=\"#DejaVuSans-51\"/>\n",
       "       <use transform=\"translate(63.623047 0.78125)\" xlink:href=\"#DejaVuSans-48\"/>\n",
       "      </g>\n",
       "     </g>\n",
       "    </g>\n",
       "    <g id=\"xtick_4\">\n",
       "     <g id=\"line2d_7\">\n",
       "      <path clip-path=\"url(#p0e4b6c256d)\" d=\"M 192.353355 185.719104 \n",
       "L 192.353355 2.834646 \n",
       "\" style=\"fill:none;stroke:#000000;stroke-linecap:square;stroke-opacity:0.1;stroke-width:0.5;\"/>\n",
       "     </g>\n",
       "     <g id=\"line2d_8\">\n",
       "      <g>\n",
       "       <use style=\"stroke:#000000;stroke-width:0.5;\" x=\"192.353355\" xlink:href=\"#med3dbfdab2\" y=\"185.719104\"/>\n",
       "      </g>\n",
       "     </g>\n",
       "     <g id=\"text_4\">\n",
       "      <!-- $40$ -->\n",
       "      <defs>\n",
       "       <path d=\"M 37.796875 64.3125 \n",
       "L 12.890625 25.390625 \n",
       "L 37.796875 25.390625 \n",
       "z\n",
       "M 35.203125 72.90625 \n",
       "L 47.609375 72.90625 \n",
       "L 47.609375 25.390625 \n",
       "L 58.015625 25.390625 \n",
       "L 58.015625 17.1875 \n",
       "L 47.609375 17.1875 \n",
       "L 47.609375 0 \n",
       "L 37.796875 0 \n",
       "L 37.796875 17.1875 \n",
       "L 4.890625 17.1875 \n",
       "L 4.890625 26.703125 \n",
       "z\n",
       "\" id=\"DejaVuSans-52\"/>\n",
       "      </defs>\n",
       "      <g transform=\"translate(187.233355 195.297854)scale(0.08 -0.08)\">\n",
       "       <use transform=\"translate(0 0.78125)\" xlink:href=\"#DejaVuSans-52\"/>\n",
       "       <use transform=\"translate(63.623047 0.78125)\" xlink:href=\"#DejaVuSans-48\"/>\n",
       "      </g>\n",
       "     </g>\n",
       "    </g>\n",
       "    <g id=\"xtick_5\">\n",
       "     <g id=\"line2d_9\">\n",
       "      <path clip-path=\"url(#p0e4b6c256d)\" d=\"M 241.916877 185.719104 \n",
       "L 241.916877 2.834646 \n",
       "\" style=\"fill:none;stroke:#000000;stroke-linecap:square;stroke-opacity:0.1;stroke-width:0.5;\"/>\n",
       "     </g>\n",
       "     <g id=\"line2d_10\">\n",
       "      <g>\n",
       "       <use style=\"stroke:#000000;stroke-width:0.5;\" x=\"241.916877\" xlink:href=\"#med3dbfdab2\" y=\"185.719104\"/>\n",
       "      </g>\n",
       "     </g>\n",
       "     <g id=\"text_5\">\n",
       "      <!-- $50$ -->\n",
       "      <defs>\n",
       "       <path d=\"M 10.796875 72.90625 \n",
       "L 49.515625 72.90625 \n",
       "L 49.515625 64.59375 \n",
       "L 19.828125 64.59375 \n",
       "L 19.828125 46.734375 \n",
       "Q 21.96875 47.46875 24.109375 47.828125 \n",
       "Q 26.265625 48.1875 28.421875 48.1875 \n",
       "Q 40.625 48.1875 47.75 41.5 \n",
       "Q 54.890625 34.8125 54.890625 23.390625 \n",
       "Q 54.890625 11.625 47.5625 5.09375 \n",
       "Q 40.234375 -1.421875 26.90625 -1.421875 \n",
       "Q 22.3125 -1.421875 17.546875 -0.640625 \n",
       "Q 12.796875 0.140625 7.71875 1.703125 \n",
       "L 7.71875 11.625 \n",
       "Q 12.109375 9.234375 16.796875 8.0625 \n",
       "Q 21.484375 6.890625 26.703125 6.890625 \n",
       "Q 35.15625 6.890625 40.078125 11.328125 \n",
       "Q 45.015625 15.765625 45.015625 23.390625 \n",
       "Q 45.015625 31 40.078125 35.4375 \n",
       "Q 35.15625 39.890625 26.703125 39.890625 \n",
       "Q 22.75 39.890625 18.8125 39.015625 \n",
       "Q 14.890625 38.140625 10.796875 36.28125 \n",
       "z\n",
       "\" id=\"DejaVuSans-53\"/>\n",
       "      </defs>\n",
       "      <g transform=\"translate(236.796877 195.297854)scale(0.08 -0.08)\">\n",
       "       <use transform=\"translate(0 0.78125)\" xlink:href=\"#DejaVuSans-53\"/>\n",
       "       <use transform=\"translate(63.623047 0.78125)\" xlink:href=\"#DejaVuSans-48\"/>\n",
       "      </g>\n",
       "     </g>\n",
       "    </g>\n",
       "    <g id=\"xtick_6\">\n",
       "     <g id=\"line2d_11\">\n",
       "      <path clip-path=\"url(#p0e4b6c256d)\" d=\"M 291.480399 185.719104 \n",
       "L 291.480399 2.834646 \n",
       "\" style=\"fill:none;stroke:#000000;stroke-linecap:square;stroke-opacity:0.1;stroke-width:0.5;\"/>\n",
       "     </g>\n",
       "     <g id=\"line2d_12\">\n",
       "      <g>\n",
       "       <use style=\"stroke:#000000;stroke-width:0.5;\" x=\"291.480399\" xlink:href=\"#med3dbfdab2\" y=\"185.719104\"/>\n",
       "      </g>\n",
       "     </g>\n",
       "     <g id=\"text_6\">\n",
       "      <!-- $60$ -->\n",
       "      <defs>\n",
       "       <path d=\"M 33.015625 40.375 \n",
       "Q 26.375 40.375 22.484375 35.828125 \n",
       "Q 18.609375 31.296875 18.609375 23.390625 \n",
       "Q 18.609375 15.53125 22.484375 10.953125 \n",
       "Q 26.375 6.390625 33.015625 6.390625 \n",
       "Q 39.65625 6.390625 43.53125 10.953125 \n",
       "Q 47.40625 15.53125 47.40625 23.390625 \n",
       "Q 47.40625 31.296875 43.53125 35.828125 \n",
       "Q 39.65625 40.375 33.015625 40.375 \n",
       "z\n",
       "M 52.59375 71.296875 \n",
       "L 52.59375 62.3125 \n",
       "Q 48.875 64.0625 45.09375 64.984375 \n",
       "Q 41.3125 65.921875 37.59375 65.921875 \n",
       "Q 27.828125 65.921875 22.671875 59.328125 \n",
       "Q 17.53125 52.734375 16.796875 39.40625 \n",
       "Q 19.671875 43.65625 24.015625 45.921875 \n",
       "Q 28.375 48.1875 33.59375 48.1875 \n",
       "Q 44.578125 48.1875 50.953125 41.515625 \n",
       "Q 57.328125 34.859375 57.328125 23.390625 \n",
       "Q 57.328125 12.15625 50.6875 5.359375 \n",
       "Q 44.046875 -1.421875 33.015625 -1.421875 \n",
       "Q 20.359375 -1.421875 13.671875 8.265625 \n",
       "Q 6.984375 17.96875 6.984375 36.375 \n",
       "Q 6.984375 53.65625 15.1875 63.9375 \n",
       "Q 23.390625 74.21875 37.203125 74.21875 \n",
       "Q 40.921875 74.21875 44.703125 73.484375 \n",
       "Q 48.484375 72.75 52.59375 71.296875 \n",
       "z\n",
       "\" id=\"DejaVuSans-54\"/>\n",
       "      </defs>\n",
       "      <g transform=\"translate(286.360399 195.297854)scale(0.08 -0.08)\">\n",
       "       <use transform=\"translate(0 0.78125)\" xlink:href=\"#DejaVuSans-54\"/>\n",
       "       <use transform=\"translate(63.623047 0.78125)\" xlink:href=\"#DejaVuSans-48\"/>\n",
       "      </g>\n",
       "     </g>\n",
       "    </g>\n",
       "    <g id=\"xtick_7\">\n",
       "     <g id=\"line2d_13\">\n",
       "      <path clip-path=\"url(#p0e4b6c256d)\" d=\"M 341.04392 185.719104 \n",
       "L 341.04392 2.834646 \n",
       "\" style=\"fill:none;stroke:#000000;stroke-linecap:square;stroke-opacity:0.1;stroke-width:0.5;\"/>\n",
       "     </g>\n",
       "     <g id=\"line2d_14\">\n",
       "      <g>\n",
       "       <use style=\"stroke:#000000;stroke-width:0.5;\" x=\"341.04392\" xlink:href=\"#med3dbfdab2\" y=\"185.719104\"/>\n",
       "      </g>\n",
       "     </g>\n",
       "     <g id=\"text_7\">\n",
       "      <!-- $70$ -->\n",
       "      <defs>\n",
       "       <path d=\"M 8.203125 72.90625 \n",
       "L 55.078125 72.90625 \n",
       "L 55.078125 68.703125 \n",
       "L 28.609375 0 \n",
       "L 18.3125 0 \n",
       "L 43.21875 64.59375 \n",
       "L 8.203125 64.59375 \n",
       "z\n",
       "\" id=\"DejaVuSans-55\"/>\n",
       "      </defs>\n",
       "      <g transform=\"translate(335.92392 195.297854)scale(0.08 -0.08)\">\n",
       "       <use transform=\"translate(0 0.78125)\" xlink:href=\"#DejaVuSans-55\"/>\n",
       "       <use transform=\"translate(63.623047 0.78125)\" xlink:href=\"#DejaVuSans-48\"/>\n",
       "      </g>\n",
       "     </g>\n",
       "    </g>\n",
       "    <g id=\"text_8\">\n",
       "     <!-- n_trees -->\n",
       "     <defs>\n",
       "      <path d=\"M 54.890625 33.015625 \n",
       "L 54.890625 0 \n",
       "L 45.90625 0 \n",
       "L 45.90625 32.71875 \n",
       "Q 45.90625 40.484375 42.875 44.328125 \n",
       "Q 39.84375 48.1875 33.796875 48.1875 \n",
       "Q 26.515625 48.1875 22.3125 43.546875 \n",
       "Q 18.109375 38.921875 18.109375 30.90625 \n",
       "L 18.109375 0 \n",
       "L 9.078125 0 \n",
       "L 9.078125 54.6875 \n",
       "L 18.109375 54.6875 \n",
       "L 18.109375 46.1875 \n",
       "Q 21.34375 51.125 25.703125 53.5625 \n",
       "Q 30.078125 56 35.796875 56 \n",
       "Q 45.21875 56 50.046875 50.171875 \n",
       "Q 54.890625 44.34375 54.890625 33.015625 \n",
       "z\n",
       "\" id=\"DejaVuSans-110\"/>\n",
       "      <path d=\"M 50.984375 -16.609375 \n",
       "L 50.984375 -23.578125 \n",
       "L -0.984375 -23.578125 \n",
       "L -0.984375 -16.609375 \n",
       "z\n",
       "\" id=\"DejaVuSans-95\"/>\n",
       "      <path d=\"M 18.3125 70.21875 \n",
       "L 18.3125 54.6875 \n",
       "L 36.8125 54.6875 \n",
       "L 36.8125 47.703125 \n",
       "L 18.3125 47.703125 \n",
       "L 18.3125 18.015625 \n",
       "Q 18.3125 11.328125 20.140625 9.421875 \n",
       "Q 21.96875 7.515625 27.59375 7.515625 \n",
       "L 36.8125 7.515625 \n",
       "L 36.8125 0 \n",
       "L 27.59375 0 \n",
       "Q 17.1875 0 13.234375 3.875 \n",
       "Q 9.28125 7.765625 9.28125 18.015625 \n",
       "L 9.28125 47.703125 \n",
       "L 2.6875 47.703125 \n",
       "L 2.6875 54.6875 \n",
       "L 9.28125 54.6875 \n",
       "L 9.28125 70.21875 \n",
       "z\n",
       "\" id=\"DejaVuSans-116\"/>\n",
       "      <path d=\"M 41.109375 46.296875 \n",
       "Q 39.59375 47.171875 37.8125 47.578125 \n",
       "Q 36.03125 48 33.890625 48 \n",
       "Q 26.265625 48 22.1875 43.046875 \n",
       "Q 18.109375 38.09375 18.109375 28.8125 \n",
       "L 18.109375 0 \n",
       "L 9.078125 0 \n",
       "L 9.078125 54.6875 \n",
       "L 18.109375 54.6875 \n",
       "L 18.109375 46.1875 \n",
       "Q 20.953125 51.171875 25.484375 53.578125 \n",
       "Q 30.03125 56 36.53125 56 \n",
       "Q 37.453125 56 38.578125 55.875 \n",
       "Q 39.703125 55.765625 41.0625 55.515625 \n",
       "z\n",
       "\" id=\"DejaVuSans-114\"/>\n",
       "      <path d=\"M 56.203125 29.59375 \n",
       "L 56.203125 25.203125 \n",
       "L 14.890625 25.203125 \n",
       "Q 15.484375 15.921875 20.484375 11.0625 \n",
       "Q 25.484375 6.203125 34.421875 6.203125 \n",
       "Q 39.59375 6.203125 44.453125 7.46875 \n",
       "Q 49.3125 8.734375 54.109375 11.28125 \n",
       "L 54.109375 2.78125 \n",
       "Q 49.265625 0.734375 44.1875 -0.34375 \n",
       "Q 39.109375 -1.421875 33.890625 -1.421875 \n",
       "Q 20.796875 -1.421875 13.15625 6.1875 \n",
       "Q 5.515625 13.8125 5.515625 26.8125 \n",
       "Q 5.515625 40.234375 12.765625 48.109375 \n",
       "Q 20.015625 56 32.328125 56 \n",
       "Q 43.359375 56 49.78125 48.890625 \n",
       "Q 56.203125 41.796875 56.203125 29.59375 \n",
       "z\n",
       "M 47.21875 32.234375 \n",
       "Q 47.125 39.59375 43.09375 43.984375 \n",
       "Q 39.0625 48.390625 32.421875 48.390625 \n",
       "Q 24.90625 48.390625 20.390625 44.140625 \n",
       "Q 15.875 39.890625 15.1875 32.171875 \n",
       "z\n",
       "\" id=\"DejaVuSans-101\"/>\n",
       "      <path d=\"M 44.28125 53.078125 \n",
       "L 44.28125 44.578125 \n",
       "Q 40.484375 46.53125 36.375 47.5 \n",
       "Q 32.28125 48.484375 27.875 48.484375 \n",
       "Q 21.1875 48.484375 17.84375 46.4375 \n",
       "Q 14.5 44.390625 14.5 40.28125 \n",
       "Q 14.5 37.15625 16.890625 35.375 \n",
       "Q 19.28125 33.59375 26.515625 31.984375 \n",
       "L 29.59375 31.296875 \n",
       "Q 39.15625 29.25 43.1875 25.515625 \n",
       "Q 47.21875 21.78125 47.21875 15.09375 \n",
       "Q 47.21875 7.46875 41.1875 3.015625 \n",
       "Q 35.15625 -1.421875 24.609375 -1.421875 \n",
       "Q 20.21875 -1.421875 15.453125 -0.5625 \n",
       "Q 10.6875 0.296875 5.421875 2 \n",
       "L 5.421875 11.28125 \n",
       "Q 10.40625 8.6875 15.234375 7.390625 \n",
       "Q 20.0625 6.109375 24.8125 6.109375 \n",
       "Q 31.15625 6.109375 34.5625 8.28125 \n",
       "Q 37.984375 10.453125 37.984375 14.40625 \n",
       "Q 37.984375 18.0625 35.515625 20.015625 \n",
       "Q 33.0625 21.96875 24.703125 23.78125 \n",
       "L 21.578125 24.515625 \n",
       "Q 13.234375 26.265625 9.515625 29.90625 \n",
       "Q 5.8125 33.546875 5.8125 39.890625 \n",
       "Q 5.8125 47.609375 11.28125 51.796875 \n",
       "Q 16.75 56 26.8125 56 \n",
       "Q 31.78125 56 36.171875 55.265625 \n",
       "Q 40.578125 54.546875 44.28125 53.078125 \n",
       "z\n",
       "\" id=\"DejaVuSans-115\"/>\n",
       "     </defs>\n",
       "     <g transform=\"translate(172.190699 209.013948)scale(0.11 -0.11)\">\n",
       "      <use xlink:href=\"#DejaVuSans-110\"/>\n",
       "      <use x=\"63.378906\" xlink:href=\"#DejaVuSans-95\"/>\n",
       "      <use x=\"113.378906\" xlink:href=\"#DejaVuSans-116\"/>\n",
       "      <use x=\"152.587891\" xlink:href=\"#DejaVuSans-114\"/>\n",
       "      <use x=\"191.451172\" xlink:href=\"#DejaVuSans-101\"/>\n",
       "      <use x=\"252.974609\" xlink:href=\"#DejaVuSans-101\"/>\n",
       "      <use x=\"314.498047\" xlink:href=\"#DejaVuSans-115\"/>\n",
       "     </g>\n",
       "    </g>\n",
       "   </g>\n",
       "   <g id=\"matplotlib.axis_2\">\n",
       "    <g id=\"ytick_1\">\n",
       "     <g id=\"line2d_15\">\n",
       "      <path clip-path=\"url(#p0e4b6c256d)\" d=\"M 34.741356 154.889594 \n",
       "L 349.965354 154.889594 \n",
       "\" style=\"fill:none;stroke:#000000;stroke-linecap:square;stroke-opacity:0.1;stroke-width:0.5;\"/>\n",
       "     </g>\n",
       "     <g id=\"line2d_16\">\n",
       "      <defs>\n",
       "       <path d=\"M 0 0 \n",
       "L 3.5 0 \n",
       "\" id=\"m60b027d6fd\" style=\"stroke:#000000;stroke-width:0.5;\"/>\n",
       "      </defs>\n",
       "      <g>\n",
       "       <use style=\"stroke:#000000;stroke-width:0.5;\" x=\"34.741356\" xlink:href=\"#m60b027d6fd\" y=\"154.889594\"/>\n",
       "      </g>\n",
       "     </g>\n",
       "     <g id=\"text_9\">\n",
       "      <!-- $1.0$ -->\n",
       "      <defs>\n",
       "       <path d=\"M 10.6875 12.40625 \n",
       "L 21 12.40625 \n",
       "L 21 0 \n",
       "L 10.6875 0 \n",
       "z\n",
       "\" id=\"DejaVuSans-46\"/>\n",
       "      </defs>\n",
       "      <g transform=\"translate(18.441356 157.928969)scale(0.08 -0.08)\">\n",
       "       <use transform=\"translate(0 0.78125)\" xlink:href=\"#DejaVuSans-49\"/>\n",
       "       <use transform=\"translate(63.623047 0.78125)\" xlink:href=\"#DejaVuSans-46\"/>\n",
       "       <use transform=\"translate(95.410156 0.78125)\" xlink:href=\"#DejaVuSans-48\"/>\n",
       "      </g>\n",
       "     </g>\n",
       "    </g>\n",
       "    <g id=\"ytick_2\">\n",
       "     <g id=\"line2d_17\">\n",
       "      <path clip-path=\"url(#p0e4b6c256d)\" d=\"M 34.741356 115.558239 \n",
       "L 349.965354 115.558239 \n",
       "\" style=\"fill:none;stroke:#000000;stroke-linecap:square;stroke-opacity:0.1;stroke-width:0.5;\"/>\n",
       "     </g>\n",
       "     <g id=\"line2d_18\">\n",
       "      <g>\n",
       "       <use style=\"stroke:#000000;stroke-width:0.5;\" x=\"34.741356\" xlink:href=\"#m60b027d6fd\" y=\"115.558239\"/>\n",
       "      </g>\n",
       "     </g>\n",
       "     <g id=\"text_10\">\n",
       "      <!-- $1.5$ -->\n",
       "      <g transform=\"translate(18.441356 118.597614)scale(0.08 -0.08)\">\n",
       "       <use transform=\"translate(0 0.09375)\" xlink:href=\"#DejaVuSans-49\"/>\n",
       "       <use transform=\"translate(63.623047 0.09375)\" xlink:href=\"#DejaVuSans-46\"/>\n",
       "       <use transform=\"translate(95.410156 0.09375)\" xlink:href=\"#DejaVuSans-53\"/>\n",
       "      </g>\n",
       "     </g>\n",
       "    </g>\n",
       "    <g id=\"ytick_3\">\n",
       "     <g id=\"line2d_19\">\n",
       "      <path clip-path=\"url(#p0e4b6c256d)\" d=\"M 34.741356 76.226884 \n",
       "L 349.965354 76.226884 \n",
       "\" style=\"fill:none;stroke:#000000;stroke-linecap:square;stroke-opacity:0.1;stroke-width:0.5;\"/>\n",
       "     </g>\n",
       "     <g id=\"line2d_20\">\n",
       "      <g>\n",
       "       <use style=\"stroke:#000000;stroke-width:0.5;\" x=\"34.741356\" xlink:href=\"#m60b027d6fd\" y=\"76.226884\"/>\n",
       "      </g>\n",
       "     </g>\n",
       "     <g id=\"text_11\">\n",
       "      <!-- $2.0$ -->\n",
       "      <g transform=\"translate(18.441356 79.266259)scale(0.08 -0.08)\">\n",
       "       <use transform=\"translate(0 0.78125)\" xlink:href=\"#DejaVuSans-50\"/>\n",
       "       <use transform=\"translate(63.623047 0.78125)\" xlink:href=\"#DejaVuSans-46\"/>\n",
       "       <use transform=\"translate(95.410156 0.78125)\" xlink:href=\"#DejaVuSans-48\"/>\n",
       "      </g>\n",
       "     </g>\n",
       "    </g>\n",
       "    <g id=\"ytick_4\">\n",
       "     <g id=\"line2d_21\">\n",
       "      <path clip-path=\"url(#p0e4b6c256d)\" d=\"M 34.741356 36.895529 \n",
       "L 349.965354 36.895529 \n",
       "\" style=\"fill:none;stroke:#000000;stroke-linecap:square;stroke-opacity:0.1;stroke-width:0.5;\"/>\n",
       "     </g>\n",
       "     <g id=\"line2d_22\">\n",
       "      <g>\n",
       "       <use style=\"stroke:#000000;stroke-width:0.5;\" x=\"34.741356\" xlink:href=\"#m60b027d6fd\" y=\"36.895529\"/>\n",
       "      </g>\n",
       "     </g>\n",
       "     <g id=\"text_12\">\n",
       "      <!-- $2.5$ -->\n",
       "      <g transform=\"translate(18.441356 39.934904)scale(0.08 -0.08)\">\n",
       "       <use transform=\"translate(0 0.78125)\" xlink:href=\"#DejaVuSans-50\"/>\n",
       "       <use transform=\"translate(63.623047 0.78125)\" xlink:href=\"#DejaVuSans-46\"/>\n",
       "       <use transform=\"translate(95.410156 0.78125)\" xlink:href=\"#DejaVuSans-53\"/>\n",
       "      </g>\n",
       "     </g>\n",
       "    </g>\n",
       "    <g id=\"text_13\">\n",
       "     <!-- cross entropy -->\n",
       "     <defs>\n",
       "      <path d=\"M 48.78125 52.59375 \n",
       "L 48.78125 44.1875 \n",
       "Q 44.96875 46.296875 41.140625 47.34375 \n",
       "Q 37.3125 48.390625 33.40625 48.390625 \n",
       "Q 24.65625 48.390625 19.8125 42.84375 \n",
       "Q 14.984375 37.3125 14.984375 27.296875 \n",
       "Q 14.984375 17.28125 19.8125 11.734375 \n",
       "Q 24.65625 6.203125 33.40625 6.203125 \n",
       "Q 37.3125 6.203125 41.140625 7.25 \n",
       "Q 44.96875 8.296875 48.78125 10.40625 \n",
       "L 48.78125 2.09375 \n",
       "Q 45.015625 0.34375 40.984375 -0.53125 \n",
       "Q 36.96875 -1.421875 32.421875 -1.421875 \n",
       "Q 20.0625 -1.421875 12.78125 6.34375 \n",
       "Q 5.515625 14.109375 5.515625 27.296875 \n",
       "Q 5.515625 40.671875 12.859375 48.328125 \n",
       "Q 20.21875 56 33.015625 56 \n",
       "Q 37.15625 56 41.109375 55.140625 \n",
       "Q 45.0625 54.296875 48.78125 52.59375 \n",
       "z\n",
       "\" id=\"DejaVuSans-99\"/>\n",
       "      <path d=\"M 30.609375 48.390625 \n",
       "Q 23.390625 48.390625 19.1875 42.75 \n",
       "Q 14.984375 37.109375 14.984375 27.296875 \n",
       "Q 14.984375 17.484375 19.15625 11.84375 \n",
       "Q 23.34375 6.203125 30.609375 6.203125 \n",
       "Q 37.796875 6.203125 41.984375 11.859375 \n",
       "Q 46.1875 17.53125 46.1875 27.296875 \n",
       "Q 46.1875 37.015625 41.984375 42.703125 \n",
       "Q 37.796875 48.390625 30.609375 48.390625 \n",
       "z\n",
       "M 30.609375 56 \n",
       "Q 42.328125 56 49.015625 48.375 \n",
       "Q 55.71875 40.765625 55.71875 27.296875 \n",
       "Q 55.71875 13.875 49.015625 6.21875 \n",
       "Q 42.328125 -1.421875 30.609375 -1.421875 \n",
       "Q 18.84375 -1.421875 12.171875 6.21875 \n",
       "Q 5.515625 13.875 5.515625 27.296875 \n",
       "Q 5.515625 40.765625 12.171875 48.375 \n",
       "Q 18.84375 56 30.609375 56 \n",
       "z\n",
       "\" id=\"DejaVuSans-111\"/>\n",
       "      <path id=\"DejaVuSans-32\"/>\n",
       "      <path d=\"M 18.109375 8.203125 \n",
       "L 18.109375 -20.796875 \n",
       "L 9.078125 -20.796875 \n",
       "L 9.078125 54.6875 \n",
       "L 18.109375 54.6875 \n",
       "L 18.109375 46.390625 \n",
       "Q 20.953125 51.265625 25.265625 53.625 \n",
       "Q 29.59375 56 35.59375 56 \n",
       "Q 45.5625 56 51.78125 48.09375 \n",
       "Q 58.015625 40.1875 58.015625 27.296875 \n",
       "Q 58.015625 14.40625 51.78125 6.484375 \n",
       "Q 45.5625 -1.421875 35.59375 -1.421875 \n",
       "Q 29.59375 -1.421875 25.265625 0.953125 \n",
       "Q 20.953125 3.328125 18.109375 8.203125 \n",
       "z\n",
       "M 48.6875 27.296875 \n",
       "Q 48.6875 37.203125 44.609375 42.84375 \n",
       "Q 40.53125 48.484375 33.40625 48.484375 \n",
       "Q 26.265625 48.484375 22.1875 42.84375 \n",
       "Q 18.109375 37.203125 18.109375 27.296875 \n",
       "Q 18.109375 17.390625 22.1875 11.75 \n",
       "Q 26.265625 6.109375 33.40625 6.109375 \n",
       "Q 40.53125 6.109375 44.609375 11.75 \n",
       "Q 48.6875 17.390625 48.6875 27.296875 \n",
       "z\n",
       "\" id=\"DejaVuSans-112\"/>\n",
       "      <path d=\"M 32.171875 -5.078125 \n",
       "Q 28.375 -14.84375 24.75 -17.8125 \n",
       "Q 21.140625 -20.796875 15.09375 -20.796875 \n",
       "L 7.90625 -20.796875 \n",
       "L 7.90625 -13.28125 \n",
       "L 13.1875 -13.28125 \n",
       "Q 16.890625 -13.28125 18.9375 -11.515625 \n",
       "Q 21 -9.765625 23.484375 -3.21875 \n",
       "L 25.09375 0.875 \n",
       "L 2.984375 54.6875 \n",
       "L 12.5 54.6875 \n",
       "L 29.59375 11.921875 \n",
       "L 46.6875 54.6875 \n",
       "L 56.203125 54.6875 \n",
       "z\n",
       "\" id=\"DejaVuSans-121\"/>\n",
       "     </defs>\n",
       "     <g transform=\"translate(12.1537 131.557422)rotate(-90)scale(0.11 -0.11)\">\n",
       "      <use xlink:href=\"#DejaVuSans-99\"/>\n",
       "      <use x=\"54.980469\" xlink:href=\"#DejaVuSans-114\"/>\n",
       "      <use x=\"93.84375\" xlink:href=\"#DejaVuSans-111\"/>\n",
       "      <use x=\"155.025391\" xlink:href=\"#DejaVuSans-115\"/>\n",
       "      <use x=\"207.125\" xlink:href=\"#DejaVuSans-115\"/>\n",
       "      <use x=\"259.224609\" xlink:href=\"#DejaVuSans-32\"/>\n",
       "      <use x=\"291.011719\" xlink:href=\"#DejaVuSans-101\"/>\n",
       "      <use x=\"352.535156\" xlink:href=\"#DejaVuSans-110\"/>\n",
       "      <use x=\"415.914062\" xlink:href=\"#DejaVuSans-116\"/>\n",
       "      <use x=\"455.123047\" xlink:href=\"#DejaVuSans-114\"/>\n",
       "      <use x=\"493.986328\" xlink:href=\"#DejaVuSans-111\"/>\n",
       "      <use x=\"555.167969\" xlink:href=\"#DejaVuSans-112\"/>\n",
       "      <use x=\"618.644531\" xlink:href=\"#DejaVuSans-121\"/>\n",
       "     </g>\n",
       "    </g>\n",
       "   </g>\n",
       "   <g id=\"line2d_23\">\n",
       "    <path clip-path=\"url(#p0e4b6c256d)\" d=\"M 43.66279 85.004142 \n",
       "L 48.619142 132.028001 \n",
       "L 53.575494 36.219685 \n",
       "L 58.531846 62.529903 \n",
       "L 63.488199 85.67766 \n",
       "L 68.444551 86.875617 \n",
       "L 73.400903 109.140619 \n",
       "L 78.357255 59.867525 \n",
       "L 83.313607 86.877426 \n",
       "L 93.226312 107.650781 \n",
       "L 98.182664 89.107654 \n",
       "L 103.139016 110.002754 \n",
       "L 113.05172 77.63861 \n",
       "L 122.964425 134.072098 \n",
       "L 127.920777 134.444075 \n",
       "L 137.833481 134.392581 \n",
       "L 147.746186 111.820215 \n",
       "L 157.65889 155.974438 \n",
       "L 172.527946 133.130269 \n",
       "L 182.440651 108.413245 \n",
       "L 197.309707 131.404528 \n",
       "L 212.178764 158.31087 \n",
       "L 227.04782 109.883668 \n",
       "L 241.916877 137.218588 \n",
       "L 261.742286 157.300919 \n",
       "L 276.611342 131.533298 \n",
       "L 296.436751 132.23162 \n",
       "L 316.26216 133.165342 \n",
       "L 341.04392 134.474296 \n",
       "\" style=\"fill:none;stroke:#009afa;\"/>\n",
       "   </g>\n",
       "   <g id=\"line2d_24\">\n",
       "    <path clip-path=\"url(#p0e4b6c256d)\" d=\"M 43.66279 63.326203 \n",
       "L 48.619142 17.25903 \n",
       "L 53.575494 17.49838 \n",
       "L 58.531846 36.146763 \n",
       "L 63.488199 90.09981 \n",
       "L 68.444551 85.307035 \n",
       "L 73.400903 108.606259 \n",
       "L 78.357255 113.722158 \n",
       "L 83.313607 110.106147 \n",
       "L 93.226312 110.842007 \n",
       "L 98.182664 127.784322 \n",
       "L 103.139016 60.029322 \n",
       "L 113.05172 85.221294 \n",
       "L 122.964425 135.9838 \n",
       "L 127.920777 111.768732 \n",
       "L 137.833481 134.72336 \n",
       "L 147.746186 133.721219 \n",
       "L 157.65889 130.483451 \n",
       "L 172.527946 156.080828 \n",
       "L 182.440651 107.740615 \n",
       "L 197.309707 133.736849 \n",
       "L 212.178764 159.323868 \n",
       "L 227.04782 180.543129 \n",
       "L 241.916877 133.178246 \n",
       "L 261.742286 109.906715 \n",
       "L 276.611342 156.032944 \n",
       "L 296.436751 131.835774 \n",
       "L 316.26216 158.170727 \n",
       "L 341.04392 134.945689 \n",
       "\" style=\"fill:none;stroke:#e36f47;\"/>\n",
       "   </g>\n",
       "   <g id=\"patch_3\">\n",
       "    <path d=\"M 34.741356 185.719104 \n",
       "L 34.741356 2.834646 \n",
       "\" style=\"fill:none;stroke:#000000;stroke-linecap:square;stroke-linejoin:miter;\"/>\n",
       "   </g>\n",
       "   <g id=\"patch_4\">\n",
       "    <path d=\"M 34.741356 185.719104 \n",
       "L 349.965354 185.719104 \n",
       "\" style=\"fill:none;stroke:#000000;stroke-linecap:square;stroke-linejoin:miter;\"/>\n",
       "   </g>\n",
       "   <g id=\"line2d_25\">\n",
       "    <path clip-path=\"url(#p0e4b6c256d)\" d=\"M 43.66279 38.994093 \n",
       "L 48.619142 89.457539 \n",
       "L 53.575494 38.785272 \n",
       "L 58.531846 110.850188 \n",
       "L 63.488199 61.999088 \n",
       "L 68.444551 36.484831 \n",
       "L 73.400903 107.181547 \n",
       "L 78.357255 105.421334 \n",
       "L 83.313607 84.871199 \n",
       "L 93.226312 87.528924 \n",
       "L 98.182664 109.881909 \n",
       "L 103.139016 89.2143 \n",
       "L 113.05172 84.684687 \n",
       "L 122.964425 110.865848 \n",
       "L 127.920777 85.574754 \n",
       "L 137.833481 136.739881 \n",
       "L 147.746186 107.853762 \n",
       "L 157.65889 110.223145 \n",
       "L 172.527946 130.446541 \n",
       "L 182.440651 106.780935 \n",
       "L 197.309707 107.856849 \n",
       "L 212.178764 110.032482 \n",
       "L 227.04782 132.367613 \n",
       "L 241.916877 135.259042 \n",
       "L 261.742286 156.316048 \n",
       "L 276.611342 157.286538 \n",
       "L 296.436751 156.805161 \n",
       "L 316.26216 157.100883 \n",
       "L 341.04392 132.849979 \n",
       "\" style=\"fill:none;stroke:#3ea44e;\"/>\n",
       "   </g>\n",
       "   <g id=\"line2d_26\">\n",
       "    <path clip-path=\"url(#p0e4b6c256d)\" d=\"M 43.66279 40.31284 \n",
       "L 48.619142 8.010621 \n",
       "L 53.575494 35.844593 \n",
       "L 58.531846 109.791291 \n",
       "L 63.488199 110.602539 \n",
       "L 68.444551 109.434293 \n",
       "L 73.400903 111.532069 \n",
       "L 78.357255 109.048905 \n",
       "L 83.313607 84.051964 \n",
       "L 93.226312 86.740598 \n",
       "L 98.182664 133.77521 \n",
       "L 103.139016 133.752957 \n",
       "L 113.05172 133.825808 \n",
       "L 122.964425 154.618139 \n",
       "L 127.920777 134.757473 \n",
       "L 137.833481 84.770626 \n",
       "L 147.746186 133.977834 \n",
       "L 157.65889 109.697572 \n",
       "L 172.527946 134.254215 \n",
       "L 182.440651 110.504536 \n",
       "L 197.309707 87.797041 \n",
       "L 212.178764 157.877653 \n",
       "L 227.04782 133.326138 \n",
       "L 241.916877 109.803452 \n",
       "L 261.742286 157.985594 \n",
       "L 276.611342 157.722036 \n",
       "L 296.436751 133.667881 \n",
       "L 316.26216 135.451292 \n",
       "L 341.04392 156.845303 \n",
       "\" style=\"fill:none;stroke:#c371d2;\"/>\n",
       "   </g>\n",
       "   <g id=\"legend_1\">\n",
       "    <g id=\"patch_5\">\n",
       "     <path d=\"M 300.940354 62.604646 \n",
       "L 345.965354 62.604646 \n",
       "L 345.965354 6.834646 \n",
       "L 300.940354 6.834646 \n",
       "z\n",
       "\" style=\"fill:#ffffff;stroke:#000000;stroke-linejoin:miter;\"/>\n",
       "    </g>\n",
       "    <g id=\"line2d_27\">\n",
       "     <path d=\"M 307.340354 16.513396 \n",
       "L 323.340354 16.513396 \n",
       "\" style=\"fill:none;stroke:#009afa;stroke-linejoin:miter;\"/>\n",
       "    </g>\n",
       "    <g id=\"line2d_28\"/>\n",
       "    <g id=\"text_14\">\n",
       "     <!-- y1 -->\n",
       "     <g transform=\"translate(329.740354 19.313396)scale(0.08 -0.08)\">\n",
       "      <use xlink:href=\"#DejaVuSans-121\"/>\n",
       "      <use x=\"59.179688\" xlink:href=\"#DejaVuSans-49\"/>\n",
       "     </g>\n",
       "    </g>\n",
       "    <g id=\"line2d_29\">\n",
       "     <path d=\"M 307.340354 28.255896 \n",
       "L 323.340354 28.255896 \n",
       "\" style=\"fill:none;stroke:#e36f47;stroke-linejoin:miter;\"/>\n",
       "    </g>\n",
       "    <g id=\"line2d_30\"/>\n",
       "    <g id=\"text_15\">\n",
       "     <!-- y2 -->\n",
       "     <g transform=\"translate(329.740354 31.055896)scale(0.08 -0.08)\">\n",
       "      <use xlink:href=\"#DejaVuSans-121\"/>\n",
       "      <use x=\"59.179688\" xlink:href=\"#DejaVuSans-50\"/>\n",
       "     </g>\n",
       "    </g>\n",
       "    <g id=\"line2d_31\">\n",
       "     <path d=\"M 307.340354 39.998396 \n",
       "L 323.340354 39.998396 \n",
       "\" style=\"fill:none;stroke:#3ea44e;stroke-linejoin:miter;\"/>\n",
       "    </g>\n",
       "    <g id=\"line2d_32\"/>\n",
       "    <g id=\"text_16\">\n",
       "     <!-- y3 -->\n",
       "     <g transform=\"translate(329.740354 42.798396)scale(0.08 -0.08)\">\n",
       "      <use xlink:href=\"#DejaVuSans-121\"/>\n",
       "      <use x=\"59.179688\" xlink:href=\"#DejaVuSans-51\"/>\n",
       "     </g>\n",
       "    </g>\n",
       "    <g id=\"line2d_33\">\n",
       "     <path d=\"M 307.340354 51.740896 \n",
       "L 323.340354 51.740896 \n",
       "\" style=\"fill:none;stroke:#c371d2;stroke-linejoin:miter;\"/>\n",
       "    </g>\n",
       "    <g id=\"line2d_34\"/>\n",
       "    <g id=\"text_17\">\n",
       "     <!-- y4 -->\n",
       "     <g transform=\"translate(329.740354 54.540896)scale(0.08 -0.08)\">\n",
       "      <use xlink:href=\"#DejaVuSans-121\"/>\n",
       "      <use x=\"59.179688\" xlink:href=\"#DejaVuSans-52\"/>\n",
       "     </g>\n",
       "    </g>\n",
       "   </g>\n",
       "  </g>\n",
       " </g>\n",
       " <defs>\n",
       "  <clipPath id=\"p0e4b6c256d\">\n",
       "   <rect height=\"182.884459\" width=\"315.223998\" x=\"34.741356\" y=\"2.834646\"/>\n",
       "  </clipPath>\n",
       " </defs>\n",
       "</svg>\n"
      ]
     },
     "metadata": {},
     "execution_count": 130
    }
   ],
   "cell_type": "code",
   "source": [
    "plt = plot()\n",
    "for i in 1:4\n",
    "    curve = learning_curve(mach,\n",
    "                           range=r,\n",
    "                           resampling=Holdout(),\n",
    "                           measure=cross_entropy)\n",
    "    plt=plot!(curve.parameter_values, curve.measurements)\n",
    "end\n",
    "xlabel!(plt, \"n_trees\")\n",
    "ylabel!(plt, \"cross entropy\")\n",
    "plt"
   ],
   "metadata": {},
   "execution_count": 130
  },
  {
   "cell_type": "markdown",
   "source": [
    "6(c)(ii)"
   ],
   "metadata": {}
  },
  {
   "outputs": [
    {
     "name": "stdout",
     "output_type": "stream",
     "text": [
      "┌ Info: Creating subsamples from a subset of all rows. \n",
      "└ @ MLJBase /Users/anthony/.julia/packages/MLJBase/r3heT/src/resampling.jl:336\n",
      "\rEvaluating over 9 folds:  11%[==>                      ]  ETA: 0:00:00\u001b[K\rEvaluating over 9 folds:  22%[=====>                   ]  ETA: 0:00:00\u001b[K\rEvaluating over 9 folds:  33%[========>                ]  ETA: 0:00:00\u001b[K\rEvaluating over 9 folds:  44%[===========>             ]  ETA: 0:00:00\u001b[K\rEvaluating over 9 folds:  56%[=============>           ]  ETA: 0:00:00\u001b[K\rEvaluating over 9 folds:  67%[================>        ]  ETA: 0:00:00\u001b[K\rEvaluating over 9 folds:  78%[===================>     ]  ETA: 0:00:00\u001b[K\rEvaluating over 9 folds:  89%[======================>  ]  ETA: 0:00:00\u001b[K\rEvaluating over 9 folds: 100%[=========================] Time: 0:00:00\u001b[K\n"
     ]
    },
    {
     "output_type": "execute_result",
     "data": {
      "text/plain": "90"
     },
     "metadata": {},
     "execution_count": 131
    }
   ],
   "cell_type": "code",
   "source": [
    "evaluate!(mach, resampling=CV(nfolds=9),\n",
    "                measure=cross_entropy,\n",
    "                rows=train).measurement[1]\n",
    "\n",
    "model.n_trees = 90"
   ],
   "metadata": {},
   "execution_count": 131
  },
  {
   "cell_type": "markdown",
   "source": [
    "6(c)(iii)"
   ],
   "metadata": {}
  },
  {
   "outputs": [
    {
     "output_type": "execute_result",
     "data": {
      "text/plain": "0.9807594210473173"
     },
     "metadata": {},
     "execution_count": 132
    }
   ],
   "cell_type": "code",
   "source": [
    "err_forest = evaluate!(mach, resampling=Holdout(),\n",
    "                       measure=cross_entropy).measurement[1]"
   ],
   "metadata": {},
   "execution_count": 132
  },
  {
   "cell_type": "markdown",
   "source": [
    "#### Exercise 7"
   ],
   "metadata": {}
  },
  {
   "cell_type": "markdown",
   "source": [
    "(a)"
   ],
   "metadata": {}
  },
  {
   "outputs": [
    {
     "output_type": "execute_result",
     "data": {
      "text/plain": "Pipeline1409(\n    standardizer = Standardizer(\n            features = Symbol[],\n            ignore = false,\n            ordered_factor = false,\n            count = false),\n    continuous_encoder = ContinuousEncoder(\n            drop_last = false,\n            one_hot_ordered_factors = false),\n    k_means = KMeans(\n            k = 10,\n            metric = Distances.SqEuclidean(0.0)),\n    evo_tree_classifier = EvoTreeClassifier(\n            loss = EvoTrees.Softmax(),\n            nrounds = 50,\n            λ = 0.0f0,\n            γ = 0.0f0,\n            η = 0.1f0,\n            max_depth = 5,\n            min_weight = 1.0f0,\n            rowsample = 1.0f0,\n            colsample = 1.0f0,\n            nbins = 64,\n            α = 0.5f0,\n            metric = :mlogloss,\n            seed = 444))\u001b[34m @903\u001b[39m"
     },
     "metadata": {},
     "execution_count": 133
    }
   ],
   "cell_type": "code",
   "source": [
    "@load KMeans pkg=Clustering\n",
    "@load EvoTreeClassifier\n",
    "pipe = @pipeline(Standardizer,\n",
    "                 ContinuousEncoder,\n",
    "                 KMeans(k=10),\n",
    "                 EvoTreeClassifier(nrounds=50))"
   ],
   "metadata": {},
   "execution_count": 133
  },
  {
   "cell_type": "markdown",
   "source": [
    "(b)"
   ],
   "metadata": {}
  },
  {
   "outputs": [
    {
     "name": "stdout",
     "output_type": "stream",
     "text": [
      "\rEvaluating over 6 folds:  17%[====>                    ]  ETA: 0:00:01\u001b[K\rEvaluating over 6 folds:  33%[========>                ]  ETA: 0:00:01\u001b[K\rEvaluating over 6 folds:  50%[============>            ]  ETA: 0:00:00\u001b[K\rEvaluating over 6 folds:  67%[================>        ]  ETA: 0:00:00\u001b[K\rEvaluating over 6 folds:  83%[====================>    ]  ETA: 0:00:00\u001b[K\rEvaluating over 6 folds: 100%[=========================] Time: 0:00:00\u001b[K\n"
     ]
    },
    {
     "output_type": "execute_result",
     "data": {
      "text/plain": "┌\u001b[0m───────────────\u001b[0m┬\u001b[0m───────────────\u001b[0m┬\u001b[0m─────────────────────────────────────────────────\u001b[0m┐\u001b[0m\n│\u001b[0m\u001b[22m _.measure     \u001b[0m│\u001b[0m\u001b[22m _.measurement \u001b[0m│\u001b[0m\u001b[22m _.per_fold                                      \u001b[0m│\u001b[0m\n├\u001b[0m───────────────\u001b[0m┼\u001b[0m───────────────\u001b[0m┼\u001b[0m─────────────────────────────────────────────────\u001b[0m┤\u001b[0m\n│\u001b[0m cross_entropy \u001b[0m│\u001b[0m 0.827         \u001b[0m│\u001b[0m Float32[0.82, 1.06, 0.723, 0.739, 0.899, 0.722] \u001b[0m│\u001b[0m\n└\u001b[0m───────────────\u001b[0m┴\u001b[0m───────────────\u001b[0m┴\u001b[0m─────────────────────────────────────────────────\u001b[0m┘\u001b[0m\n_.per_observation = [[[3.54, 1.13, ..., 0.128], [0.0627, 0.091, ..., 2.68], [0.0585, 1.39, ..., 0.149], [0.22, 1.09, ..., 1.38], [0.113, 0.831, ..., 0.141], [1.92, 0.114, ..., 0.236]]]\n"
     },
     "metadata": {},
     "execution_count": 134
    }
   ],
   "cell_type": "code",
   "source": [
    "mach = machine(pipe, X, y)\n",
    "evaluate!(mach, resampling=CV(nfolds=6), measure=cross_entropy)"
   ],
   "metadata": {},
   "execution_count": 134
  },
  {
   "cell_type": "markdown",
   "source": [
    "(c)"
   ],
   "metadata": {}
  },
  {
   "outputs": [
    {
     "name": "stdout",
     "output_type": "stream",
     "text": [
      "┌ Info: Training \u001b[34mMachine{ProbabilisticTunedModel{Grid,…}} @997\u001b[39m.\n",
      "└ @ MLJBase /Users/anthony/.julia/packages/MLJBase/r3heT/src/machines.jl:317\n",
      "┌ Info: Attempting to evaluate 10 models.\n",
      "└ @ MLJTuning /Users/anthony/.julia/packages/MLJTuning/oLVRR/src/tuned_models.jl:474\n",
      "\rEvaluating over 10 metamodels:   0%[>                        ]  ETA: N/A\u001b[K\rEvaluating over 10 metamodels:  10%[==>                      ]  ETA: 0:00:01\u001b[K\rEvaluating over 10 metamodels:  20%[=====>                   ]  ETA: 0:00:01\u001b[K\rEvaluating over 10 metamodels:  30%[=======>                 ]  ETA: 0:00:01\u001b[K\rEvaluating over 10 metamodels:  40%[==========>              ]  ETA: 0:00:01\u001b[K\rEvaluating over 10 metamodels:  50%[============>            ]  ETA: 0:00:01\u001b[K\rEvaluating over 10 metamodels:  60%[===============>         ]  ETA: 0:00:01\u001b[K\rEvaluating over 10 metamodels:  70%[=================>       ]  ETA: 0:00:01\u001b[K\rEvaluating over 10 metamodels:  80%[====================>    ]  ETA: 0:00:01\u001b[K\rEvaluating over 10 metamodels:  90%[======================>  ]  ETA: 0:00:00\u001b[K\rEvaluating over 10 metamodels: 100%[=========================] Time: 0:00:06\u001b[K\n"
     ]
    },
    {
     "output_type": "execute_result",
     "data": {
      "text/plain": "Plot{Plots.PyPlotBackend() n=1}",
      "image/png": "[encoded data removed]",
      "text/html": [
       "<img src=\"data:image/png;base64,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\" />"
      ],
      "image/svg+xml": [
       "<?xml version=\"1.0\" encoding=\"utf-8\" standalone=\"no\"?>\n",
       "<!DOCTYPE svg PUBLIC \"-//W3C//DTD SVG 1.1//EN\"\n",
       "  \"http://www.w3.org/Graphics/SVG/1.1/DTD/svg11.dtd\">\n",
       "<!-- Created with matplotlib (https://matplotlib.org/) -->\n",
       "<svg height=\"216pt\" version=\"1.1\" viewBox=\"0 0 352.8 216\" width=\"352.8pt\" xmlns=\"http://www.w3.org/2000/svg\" xmlns:xlink=\"http://www.w3.org/1999/xlink\">\n",
       " <defs>\n",
       "  <style type=\"text/css\">\n",
       "*{stroke-linecap:butt;stroke-linejoin:round;}\n",
       "  </style>\n",
       " </defs>\n",
       " <g id=\"figure_1\">\n",
       "  <g id=\"patch_1\">\n",
       "   <path d=\"M 0 216 \n",
       "L 352.8 216 \n",
       "L 352.8 0 \n",
       "L 0 0 \n",
       "z\n",
       "\" style=\"fill:#ffffff;\"/>\n",
       "  </g>\n",
       "  <g id=\"axes_1\">\n",
       "   <g id=\"patch_2\">\n",
       "    <path d=\"M 39.8313 185.359104 \n",
       "L 349.965354 185.359104 \n",
       "L 349.965354 2.834646 \n",
       "L 39.8313 2.834646 \n",
       "z\n",
       "\" style=\"fill:#ffffff;\"/>\n",
       "   </g>\n",
       "   <g id=\"matplotlib.axis_1\">\n",
       "    <g id=\"xtick_1\">\n",
       "     <g id=\"line2d_1\">\n",
       "      <path clip-path=\"url(#p35fad8f888)\" d=\"M 81.117489 185.359104 \n",
       "L 81.117489 2.834646 \n",
       "\" style=\"fill:none;stroke:#000000;stroke-linecap:square;stroke-opacity:0.1;stroke-width:0.5;\"/>\n",
       "     </g>\n",
       "     <g id=\"line2d_2\">\n",
       "      <defs>\n",
       "       <path d=\"M 0 0 \n",
       "L 0 -3.5 \n",
       "\" id=\"ma84960ffec\" style=\"stroke:#000000;stroke-width:0.5;\"/>\n",
       "      </defs>\n",
       "      <g>\n",
       "       <use style=\"stroke:#000000;stroke-width:0.5;\" x=\"81.117489\" xlink:href=\"#ma84960ffec\" y=\"185.359104\"/>\n",
       "      </g>\n",
       "     </g>\n",
       "     <g id=\"text_1\">\n",
       "      <!-- $2$ -->\n",
       "      <defs>\n",
       "       <path d=\"M 19.1875 8.296875 \n",
       "L 53.609375 8.296875 \n",
       "L 53.609375 0 \n",
       "L 7.328125 0 \n",
       "L 7.328125 8.296875 \n",
       "Q 12.9375 14.109375 22.625 23.890625 \n",
       "Q 32.328125 33.6875 34.8125 36.53125 \n",
       "Q 39.546875 41.84375 41.421875 45.53125 \n",
       "Q 43.3125 49.21875 43.3125 52.78125 \n",
       "Q 43.3125 58.59375 39.234375 62.25 \n",
       "Q 35.15625 65.921875 28.609375 65.921875 \n",
       "Q 23.96875 65.921875 18.8125 64.3125 \n",
       "Q 13.671875 62.703125 7.8125 59.421875 \n",
       "L 7.8125 69.390625 \n",
       "Q 13.765625 71.78125 18.9375 73 \n",
       "Q 24.125 74.21875 28.421875 74.21875 \n",
       "Q 39.75 74.21875 46.484375 68.546875 \n",
       "Q 53.21875 62.890625 53.21875 53.421875 \n",
       "Q 53.21875 48.921875 51.53125 44.890625 \n",
       "Q 49.859375 40.875 45.40625 35.40625 \n",
       "Q 44.1875 33.984375 37.640625 27.21875 \n",
       "Q 31.109375 20.453125 19.1875 8.296875 \n",
       "z\n",
       "\" id=\"DejaVuSans-50\"/>\n",
       "      </defs>\n",
       "      <g transform=\"translate(78.557489 194.937854)scale(0.08 -0.08)\">\n",
       "       <use transform=\"translate(0 0.78125)\" xlink:href=\"#DejaVuSans-50\"/>\n",
       "      </g>\n",
       "     </g>\n",
       "    </g>\n",
       "    <g id=\"xtick_2\">\n",
       "     <g id=\"line2d_3\">\n",
       "      <path clip-path=\"url(#p35fad8f888)\" d=\"M 146.135111 185.359104 \n",
       "L 146.135111 2.834646 \n",
       "\" style=\"fill:none;stroke:#000000;stroke-linecap:square;stroke-opacity:0.1;stroke-width:0.5;\"/>\n",
       "     </g>\n",
       "     <g id=\"line2d_4\">\n",
       "      <g>\n",
       "       <use style=\"stroke:#000000;stroke-width:0.5;\" x=\"146.135111\" xlink:href=\"#ma84960ffec\" y=\"185.359104\"/>\n",
       "      </g>\n",
       "     </g>\n",
       "     <g id=\"text_2\">\n",
       "      <!-- $4$ -->\n",
       "      <defs>\n",
       "       <path d=\"M 37.796875 64.3125 \n",
       "L 12.890625 25.390625 \n",
       "L 37.796875 25.390625 \n",
       "z\n",
       "M 35.203125 72.90625 \n",
       "L 47.609375 72.90625 \n",
       "L 47.609375 25.390625 \n",
       "L 58.015625 25.390625 \n",
       "L 58.015625 17.1875 \n",
       "L 47.609375 17.1875 \n",
       "L 47.609375 0 \n",
       "L 37.796875 0 \n",
       "L 37.796875 17.1875 \n",
       "L 4.890625 17.1875 \n",
       "L 4.890625 26.703125 \n",
       "z\n",
       "\" id=\"DejaVuSans-52\"/>\n",
       "      </defs>\n",
       "      <g transform=\"translate(143.575111 194.937854)scale(0.08 -0.08)\">\n",
       "       <use transform=\"translate(0 0.09375)\" xlink:href=\"#DejaVuSans-52\"/>\n",
       "      </g>\n",
       "     </g>\n",
       "    </g>\n",
       "    <g id=\"xtick_3\">\n",
       "     <g id=\"line2d_5\">\n",
       "      <path clip-path=\"url(#p35fad8f888)\" d=\"M 211.152732 185.359104 \n",
       "L 211.152732 2.834646 \n",
       "\" style=\"fill:none;stroke:#000000;stroke-linecap:square;stroke-opacity:0.1;stroke-width:0.5;\"/>\n",
       "     </g>\n",
       "     <g id=\"line2d_6\">\n",
       "      <g>\n",
       "       <use style=\"stroke:#000000;stroke-width:0.5;\" x=\"211.152732\" xlink:href=\"#ma84960ffec\" y=\"185.359104\"/>\n",
       "      </g>\n",
       "     </g>\n",
       "     <g id=\"text_3\">\n",
       "      <!-- $6$ -->\n",
       "      <defs>\n",
       "       <path d=\"M 33.015625 40.375 \n",
       "Q 26.375 40.375 22.484375 35.828125 \n",
       "Q 18.609375 31.296875 18.609375 23.390625 \n",
       "Q 18.609375 15.53125 22.484375 10.953125 \n",
       "Q 26.375 6.390625 33.015625 6.390625 \n",
       "Q 39.65625 6.390625 43.53125 10.953125 \n",
       "Q 47.40625 15.53125 47.40625 23.390625 \n",
       "Q 47.40625 31.296875 43.53125 35.828125 \n",
       "Q 39.65625 40.375 33.015625 40.375 \n",
       "z\n",
       "M 52.59375 71.296875 \n",
       "L 52.59375 62.3125 \n",
       "Q 48.875 64.0625 45.09375 64.984375 \n",
       "Q 41.3125 65.921875 37.59375 65.921875 \n",
       "Q 27.828125 65.921875 22.671875 59.328125 \n",
       "Q 17.53125 52.734375 16.796875 39.40625 \n",
       "Q 19.671875 43.65625 24.015625 45.921875 \n",
       "Q 28.375 48.1875 33.59375 48.1875 \n",
       "Q 44.578125 48.1875 50.953125 41.515625 \n",
       "Q 57.328125 34.859375 57.328125 23.390625 \n",
       "Q 57.328125 12.15625 50.6875 5.359375 \n",
       "Q 44.046875 -1.421875 33.015625 -1.421875 \n",
       "Q 20.359375 -1.421875 13.671875 8.265625 \n",
       "Q 6.984375 17.96875 6.984375 36.375 \n",
       "Q 6.984375 53.65625 15.1875 63.9375 \n",
       "Q 23.390625 74.21875 37.203125 74.21875 \n",
       "Q 40.921875 74.21875 44.703125 73.484375 \n",
       "Q 48.484375 72.75 52.59375 71.296875 \n",
       "z\n",
       "\" id=\"DejaVuSans-54\"/>\n",
       "      </defs>\n",
       "      <g transform=\"translate(208.592732 194.937854)scale(0.08 -0.08)\">\n",
       "       <use transform=\"translate(0 0.78125)\" xlink:href=\"#DejaVuSans-54\"/>\n",
       "      </g>\n",
       "     </g>\n",
       "    </g>\n",
       "    <g id=\"xtick_4\">\n",
       "     <g id=\"line2d_7\">\n",
       "      <path clip-path=\"url(#p35fad8f888)\" d=\"M 276.170354 185.359104 \n",
       "L 276.170354 2.834646 \n",
       "\" style=\"fill:none;stroke:#000000;stroke-linecap:square;stroke-opacity:0.1;stroke-width:0.5;\"/>\n",
       "     </g>\n",
       "     <g id=\"line2d_8\">\n",
       "      <g>\n",
       "       <use style=\"stroke:#000000;stroke-width:0.5;\" x=\"276.170354\" xlink:href=\"#ma84960ffec\" y=\"185.359104\"/>\n",
       "      </g>\n",
       "     </g>\n",
       "     <g id=\"text_4\">\n",
       "      <!-- $8$ -->\n",
       "      <defs>\n",
       "       <path d=\"M 31.78125 34.625 \n",
       "Q 24.75 34.625 20.71875 30.859375 \n",
       "Q 16.703125 27.09375 16.703125 20.515625 \n",
       "Q 16.703125 13.921875 20.71875 10.15625 \n",
       "Q 24.75 6.390625 31.78125 6.390625 \n",
       "Q 38.8125 6.390625 42.859375 10.171875 \n",
       "Q 46.921875 13.96875 46.921875 20.515625 \n",
       "Q 46.921875 27.09375 42.890625 30.859375 \n",
       "Q 38.875 34.625 31.78125 34.625 \n",
       "z\n",
       "M 21.921875 38.8125 \n",
       "Q 15.578125 40.375 12.03125 44.71875 \n",
       "Q 8.5 49.078125 8.5 55.328125 \n",
       "Q 8.5 64.0625 14.71875 69.140625 \n",
       "Q 20.953125 74.21875 31.78125 74.21875 \n",
       "Q 42.671875 74.21875 48.875 69.140625 \n",
       "Q 55.078125 64.0625 55.078125 55.328125 \n",
       "Q 55.078125 49.078125 51.53125 44.71875 \n",
       "Q 48 40.375 41.703125 38.8125 \n",
       "Q 48.828125 37.15625 52.796875 32.3125 \n",
       "Q 56.78125 27.484375 56.78125 20.515625 \n",
       "Q 56.78125 9.90625 50.3125 4.234375 \n",
       "Q 43.84375 -1.421875 31.78125 -1.421875 \n",
       "Q 19.734375 -1.421875 13.25 4.234375 \n",
       "Q 6.78125 9.90625 6.78125 20.515625 \n",
       "Q 6.78125 27.484375 10.78125 32.3125 \n",
       "Q 14.796875 37.15625 21.921875 38.8125 \n",
       "z\n",
       "M 18.3125 54.390625 \n",
       "Q 18.3125 48.734375 21.84375 45.5625 \n",
       "Q 25.390625 42.390625 31.78125 42.390625 \n",
       "Q 38.140625 42.390625 41.71875 45.5625 \n",
       "Q 45.3125 48.734375 45.3125 54.390625 \n",
       "Q 45.3125 60.0625 41.71875 63.234375 \n",
       "Q 38.140625 66.40625 31.78125 66.40625 \n",
       "Q 25.390625 66.40625 21.84375 63.234375 \n",
       "Q 18.3125 60.0625 18.3125 54.390625 \n",
       "z\n",
       "\" id=\"DejaVuSans-56\"/>\n",
       "      </defs>\n",
       "      <g transform=\"translate(273.610354 194.937854)scale(0.08 -0.08)\">\n",
       "       <use transform=\"translate(0 0.78125)\" xlink:href=\"#DejaVuSans-56\"/>\n",
       "      </g>\n",
       "     </g>\n",
       "    </g>\n",
       "    <g id=\"xtick_5\">\n",
       "     <g id=\"line2d_9\">\n",
       "      <path clip-path=\"url(#p35fad8f888)\" d=\"M 341.187975 185.359104 \n",
       "L 341.187975 2.834646 \n",
       "\" style=\"fill:none;stroke:#000000;stroke-linecap:square;stroke-opacity:0.1;stroke-width:0.5;\"/>\n",
       "     </g>\n",
       "     <g id=\"line2d_10\">\n",
       "      <g>\n",
       "       <use style=\"stroke:#000000;stroke-width:0.5;\" x=\"341.187975\" xlink:href=\"#ma84960ffec\" y=\"185.359104\"/>\n",
       "      </g>\n",
       "     </g>\n",
       "     <g id=\"text_5\">\n",
       "      <!-- $10$ -->\n",
       "      <defs>\n",
       "       <path d=\"M 12.40625 8.296875 \n",
       "L 28.515625 8.296875 \n",
       "L 28.515625 63.921875 \n",
       "L 10.984375 60.40625 \n",
       "L 10.984375 69.390625 \n",
       "L 28.421875 72.90625 \n",
       "L 38.28125 72.90625 \n",
       "L 38.28125 8.296875 \n",
       "L 54.390625 8.296875 \n",
       "L 54.390625 0 \n",
       "L 12.40625 0 \n",
       "z\n",
       "\" id=\"DejaVuSans-49\"/>\n",
       "       <path d=\"M 31.78125 66.40625 \n",
       "Q 24.171875 66.40625 20.328125 58.90625 \n",
       "Q 16.5 51.421875 16.5 36.375 \n",
       "Q 16.5 21.390625 20.328125 13.890625 \n",
       "Q 24.171875 6.390625 31.78125 6.390625 \n",
       "Q 39.453125 6.390625 43.28125 13.890625 \n",
       "Q 47.125 21.390625 47.125 36.375 \n",
       "Q 47.125 51.421875 43.28125 58.90625 \n",
       "Q 39.453125 66.40625 31.78125 66.40625 \n",
       "z\n",
       "M 31.78125 74.21875 \n",
       "Q 44.046875 74.21875 50.515625 64.515625 \n",
       "Q 56.984375 54.828125 56.984375 36.375 \n",
       "Q 56.984375 17.96875 50.515625 8.265625 \n",
       "Q 44.046875 -1.421875 31.78125 -1.421875 \n",
       "Q 19.53125 -1.421875 13.0625 8.265625 \n",
       "Q 6.59375 17.96875 6.59375 36.375 \n",
       "Q 6.59375 54.828125 13.0625 64.515625 \n",
       "Q 19.53125 74.21875 31.78125 74.21875 \n",
       "z\n",
       "\" id=\"DejaVuSans-48\"/>\n",
       "      </defs>\n",
       "      <g transform=\"translate(336.067975 194.937854)scale(0.08 -0.08)\">\n",
       "       <use transform=\"translate(0 0.78125)\" xlink:href=\"#DejaVuSans-49\"/>\n",
       "       <use transform=\"translate(63.623047 0.78125)\" xlink:href=\"#DejaVuSans-48\"/>\n",
       "      </g>\n",
       "     </g>\n",
       "    </g>\n",
       "    <g id=\"text_6\">\n",
       "     <!-- max_depth -->\n",
       "     <defs>\n",
       "      <path d=\"M 52 44.1875 \n",
       "Q 55.375 50.25 60.0625 53.125 \n",
       "Q 64.75 56 71.09375 56 \n",
       "Q 79.640625 56 84.28125 50.015625 \n",
       "Q 88.921875 44.046875 88.921875 33.015625 \n",
       "L 88.921875 0 \n",
       "L 79.890625 0 \n",
       "L 79.890625 32.71875 \n",
       "Q 79.890625 40.578125 77.09375 44.375 \n",
       "Q 74.3125 48.1875 68.609375 48.1875 \n",
       "Q 61.625 48.1875 57.5625 43.546875 \n",
       "Q 53.515625 38.921875 53.515625 30.90625 \n",
       "L 53.515625 0 \n",
       "L 44.484375 0 \n",
       "L 44.484375 32.71875 \n",
       "Q 44.484375 40.625 41.703125 44.40625 \n",
       "Q 38.921875 48.1875 33.109375 48.1875 \n",
       "Q 26.21875 48.1875 22.15625 43.53125 \n",
       "Q 18.109375 38.875 18.109375 30.90625 \n",
       "L 18.109375 0 \n",
       "L 9.078125 0 \n",
       "L 9.078125 54.6875 \n",
       "L 18.109375 54.6875 \n",
       "L 18.109375 46.1875 \n",
       "Q 21.1875 51.21875 25.484375 53.609375 \n",
       "Q 29.78125 56 35.6875 56 \n",
       "Q 41.65625 56 45.828125 52.96875 \n",
       "Q 50 49.953125 52 44.1875 \n",
       "z\n",
       "\" id=\"DejaVuSans-109\"/>\n",
       "      <path d=\"M 34.28125 27.484375 \n",
       "Q 23.390625 27.484375 19.1875 25 \n",
       "Q 14.984375 22.515625 14.984375 16.5 \n",
       "Q 14.984375 11.71875 18.140625 8.90625 \n",
       "Q 21.296875 6.109375 26.703125 6.109375 \n",
       "Q 34.1875 6.109375 38.703125 11.40625 \n",
       "Q 43.21875 16.703125 43.21875 25.484375 \n",
       "L 43.21875 27.484375 \n",
       "z\n",
       "M 52.203125 31.203125 \n",
       "L 52.203125 0 \n",
       "L 43.21875 0 \n",
       "L 43.21875 8.296875 \n",
       "Q 40.140625 3.328125 35.546875 0.953125 \n",
       "Q 30.953125 -1.421875 24.3125 -1.421875 \n",
       "Q 15.921875 -1.421875 10.953125 3.296875 \n",
       "Q 6 8.015625 6 15.921875 \n",
       "Q 6 25.140625 12.171875 29.828125 \n",
       "Q 18.359375 34.515625 30.609375 34.515625 \n",
       "L 43.21875 34.515625 \n",
       "L 43.21875 35.40625 \n",
       "Q 43.21875 41.609375 39.140625 45 \n",
       "Q 35.0625 48.390625 27.6875 48.390625 \n",
       "Q 23 48.390625 18.546875 47.265625 \n",
       "Q 14.109375 46.140625 10.015625 43.890625 \n",
       "L 10.015625 52.203125 \n",
       "Q 14.9375 54.109375 19.578125 55.046875 \n",
       "Q 24.21875 56 28.609375 56 \n",
       "Q 40.484375 56 46.34375 49.84375 \n",
       "Q 52.203125 43.703125 52.203125 31.203125 \n",
       "z\n",
       "\" id=\"DejaVuSans-97\"/>\n",
       "      <path d=\"M 54.890625 54.6875 \n",
       "L 35.109375 28.078125 \n",
       "L 55.90625 0 \n",
       "L 45.3125 0 \n",
       "L 29.390625 21.484375 \n",
       "L 13.484375 0 \n",
       "L 2.875 0 \n",
       "L 24.125 28.609375 \n",
       "L 4.6875 54.6875 \n",
       "L 15.28125 54.6875 \n",
       "L 29.78125 35.203125 \n",
       "L 44.28125 54.6875 \n",
       "z\n",
       "\" id=\"DejaVuSans-120\"/>\n",
       "      <path d=\"M 50.984375 -16.609375 \n",
       "L 50.984375 -23.578125 \n",
       "L -0.984375 -23.578125 \n",
       "L -0.984375 -16.609375 \n",
       "z\n",
       "\" id=\"DejaVuSans-95\"/>\n",
       "      <path d=\"M 45.40625 46.390625 \n",
       "L 45.40625 75.984375 \n",
       "L 54.390625 75.984375 \n",
       "L 54.390625 0 \n",
       "L 45.40625 0 \n",
       "L 45.40625 8.203125 \n",
       "Q 42.578125 3.328125 38.25 0.953125 \n",
       "Q 33.9375 -1.421875 27.875 -1.421875 \n",
       "Q 17.96875 -1.421875 11.734375 6.484375 \n",
       "Q 5.515625 14.40625 5.515625 27.296875 \n",
       "Q 5.515625 40.1875 11.734375 48.09375 \n",
       "Q 17.96875 56 27.875 56 \n",
       "Q 33.9375 56 38.25 53.625 \n",
       "Q 42.578125 51.265625 45.40625 46.390625 \n",
       "z\n",
       "M 14.796875 27.296875 \n",
       "Q 14.796875 17.390625 18.875 11.75 \n",
       "Q 22.953125 6.109375 30.078125 6.109375 \n",
       "Q 37.203125 6.109375 41.296875 11.75 \n",
       "Q 45.40625 17.390625 45.40625 27.296875 \n",
       "Q 45.40625 37.203125 41.296875 42.84375 \n",
       "Q 37.203125 48.484375 30.078125 48.484375 \n",
       "Q 22.953125 48.484375 18.875 42.84375 \n",
       "Q 14.796875 37.203125 14.796875 27.296875 \n",
       "z\n",
       "\" id=\"DejaVuSans-100\"/>\n",
       "      <path d=\"M 56.203125 29.59375 \n",
       "L 56.203125 25.203125 \n",
       "L 14.890625 25.203125 \n",
       "Q 15.484375 15.921875 20.484375 11.0625 \n",
       "Q 25.484375 6.203125 34.421875 6.203125 \n",
       "Q 39.59375 6.203125 44.453125 7.46875 \n",
       "Q 49.3125 8.734375 54.109375 11.28125 \n",
       "L 54.109375 2.78125 \n",
       "Q 49.265625 0.734375 44.1875 -0.34375 \n",
       "Q 39.109375 -1.421875 33.890625 -1.421875 \n",
       "Q 20.796875 -1.421875 13.15625 6.1875 \n",
       "Q 5.515625 13.8125 5.515625 26.8125 \n",
       "Q 5.515625 40.234375 12.765625 48.109375 \n",
       "Q 20.015625 56 32.328125 56 \n",
       "Q 43.359375 56 49.78125 48.890625 \n",
       "Q 56.203125 41.796875 56.203125 29.59375 \n",
       "z\n",
       "M 47.21875 32.234375 \n",
       "Q 47.125 39.59375 43.09375 43.984375 \n",
       "Q 39.0625 48.390625 32.421875 48.390625 \n",
       "Q 24.90625 48.390625 20.390625 44.140625 \n",
       "Q 15.875 39.890625 15.1875 32.171875 \n",
       "z\n",
       "\" id=\"DejaVuSans-101\"/>\n",
       "      <path d=\"M 18.109375 8.203125 \n",
       "L 18.109375 -20.796875 \n",
       "L 9.078125 -20.796875 \n",
       "L 9.078125 54.6875 \n",
       "L 18.109375 54.6875 \n",
       "L 18.109375 46.390625 \n",
       "Q 20.953125 51.265625 25.265625 53.625 \n",
       "Q 29.59375 56 35.59375 56 \n",
       "Q 45.5625 56 51.78125 48.09375 \n",
       "Q 58.015625 40.1875 58.015625 27.296875 \n",
       "Q 58.015625 14.40625 51.78125 6.484375 \n",
       "Q 45.5625 -1.421875 35.59375 -1.421875 \n",
       "Q 29.59375 -1.421875 25.265625 0.953125 \n",
       "Q 20.953125 3.328125 18.109375 8.203125 \n",
       "z\n",
       "M 48.6875 27.296875 \n",
       "Q 48.6875 37.203125 44.609375 42.84375 \n",
       "Q 40.53125 48.484375 33.40625 48.484375 \n",
       "Q 26.265625 48.484375 22.1875 42.84375 \n",
       "Q 18.109375 37.203125 18.109375 27.296875 \n",
       "Q 18.109375 17.390625 22.1875 11.75 \n",
       "Q 26.265625 6.109375 33.40625 6.109375 \n",
       "Q 40.53125 6.109375 44.609375 11.75 \n",
       "Q 48.6875 17.390625 48.6875 27.296875 \n",
       "z\n",
       "\" id=\"DejaVuSans-112\"/>\n",
       "      <path d=\"M 18.3125 70.21875 \n",
       "L 18.3125 54.6875 \n",
       "L 36.8125 54.6875 \n",
       "L 36.8125 47.703125 \n",
       "L 18.3125 47.703125 \n",
       "L 18.3125 18.015625 \n",
       "Q 18.3125 11.328125 20.140625 9.421875 \n",
       "Q 21.96875 7.515625 27.59375 7.515625 \n",
       "L 36.8125 7.515625 \n",
       "L 36.8125 0 \n",
       "L 27.59375 0 \n",
       "Q 17.1875 0 13.234375 3.875 \n",
       "Q 9.28125 7.765625 9.28125 18.015625 \n",
       "L 9.28125 47.703125 \n",
       "L 2.6875 47.703125 \n",
       "L 2.6875 54.6875 \n",
       "L 9.28125 54.6875 \n",
       "L 9.28125 70.21875 \n",
       "z\n",
       "\" id=\"DejaVuSans-116\"/>\n",
       "      <path d=\"M 54.890625 33.015625 \n",
       "L 54.890625 0 \n",
       "L 45.90625 0 \n",
       "L 45.90625 32.71875 \n",
       "Q 45.90625 40.484375 42.875 44.328125 \n",
       "Q 39.84375 48.1875 33.796875 48.1875 \n",
       "Q 26.515625 48.1875 22.3125 43.546875 \n",
       "Q 18.109375 38.921875 18.109375 30.90625 \n",
       "L 18.109375 0 \n",
       "L 9.078125 0 \n",
       "L 9.078125 75.984375 \n",
       "L 18.109375 75.984375 \n",
       "L 18.109375 46.1875 \n",
       "Q 21.34375 51.125 25.703125 53.5625 \n",
       "Q 30.078125 56 35.796875 56 \n",
       "Q 45.21875 56 50.046875 50.171875 \n",
       "Q 54.890625 44.34375 54.890625 33.015625 \n",
       "z\n",
       "\" id=\"DejaVuSans-104\"/>\n",
       "     </defs>\n",
       "     <g transform=\"translate(164.155905 208.959886)scale(0.11 -0.11)\">\n",
       "      <use xlink:href=\"#DejaVuSans-109\"/>\n",
       "      <use x=\"97.412109\" xlink:href=\"#DejaVuSans-97\"/>\n",
       "      <use x=\"158.691406\" xlink:href=\"#DejaVuSans-120\"/>\n",
       "      <use x=\"217.871094\" xlink:href=\"#DejaVuSans-95\"/>\n",
       "      <use x=\"267.871094\" xlink:href=\"#DejaVuSans-100\"/>\n",
       "      <use x=\"331.347656\" xlink:href=\"#DejaVuSans-101\"/>\n",
       "      <use x=\"392.871094\" xlink:href=\"#DejaVuSans-112\"/>\n",
       "      <use x=\"456.347656\" xlink:href=\"#DejaVuSans-116\"/>\n",
       "      <use x=\"495.556641\" xlink:href=\"#DejaVuSans-104\"/>\n",
       "     </g>\n",
       "    </g>\n",
       "   </g>\n",
       "   <g id=\"matplotlib.axis_2\">\n",
       "    <g id=\"ytick_1\">\n",
       "     <g id=\"line2d_11\">\n",
       "      <path clip-path=\"url(#p35fad8f888)\" d=\"M 39.8313 156.847717 \n",
       "L 349.965354 156.847717 \n",
       "\" style=\"fill:none;stroke:#000000;stroke-linecap:square;stroke-opacity:0.1;stroke-width:0.5;\"/>\n",
       "     </g>\n",
       "     <g id=\"line2d_12\">\n",
       "      <defs>\n",
       "       <path d=\"M 0 0 \n",
       "L 3.5 0 \n",
       "\" id=\"mbd766b1537\" style=\"stroke:#000000;stroke-width:0.5;\"/>\n",
       "      </defs>\n",
       "      <g>\n",
       "       <use style=\"stroke:#000000;stroke-width:0.5;\" x=\"39.8313\" xlink:href=\"#mbd766b1537\" y=\"156.847717\"/>\n",
       "      </g>\n",
       "     </g>\n",
       "     <g id=\"text_7\">\n",
       "      <!-- $0.80$ -->\n",
       "      <defs>\n",
       "       <path d=\"M 10.6875 12.40625 \n",
       "L 21 12.40625 \n",
       "L 21 0 \n",
       "L 10.6875 0 \n",
       "z\n",
       "\" id=\"DejaVuSans-46\"/>\n",
       "      </defs>\n",
       "      <g transform=\"translate(18.6513 159.887092)scale(0.08 -0.08)\">\n",
       "       <use transform=\"translate(0 0.78125)\" xlink:href=\"#DejaVuSans-48\"/>\n",
       "       <use transform=\"translate(63.623047 0.78125)\" xlink:href=\"#DejaVuSans-46\"/>\n",
       "       <use transform=\"translate(92.785156 0.78125)\" xlink:href=\"#DejaVuSans-56\"/>\n",
       "       <use transform=\"translate(156.408203 0.78125)\" xlink:href=\"#DejaVuSans-48\"/>\n",
       "      </g>\n",
       "     </g>\n",
       "    </g>\n",
       "    <g id=\"ytick_2\">\n",
       "     <g id=\"line2d_13\">\n",
       "      <path clip-path=\"url(#p35fad8f888)\" d=\"M 39.8313 109.636645 \n",
       "L 349.965354 109.636645 \n",
       "\" style=\"fill:none;stroke:#000000;stroke-linecap:square;stroke-opacity:0.1;stroke-width:0.5;\"/>\n",
       "     </g>\n",
       "     <g id=\"line2d_14\">\n",
       "      <g>\n",
       "       <use style=\"stroke:#000000;stroke-width:0.5;\" x=\"39.8313\" xlink:href=\"#mbd766b1537\" y=\"109.636645\"/>\n",
       "      </g>\n",
       "     </g>\n",
       "     <g id=\"text_8\">\n",
       "      <!-- $0.85$ -->\n",
       "      <defs>\n",
       "       <path d=\"M 10.796875 72.90625 \n",
       "L 49.515625 72.90625 \n",
       "L 49.515625 64.59375 \n",
       "L 19.828125 64.59375 \n",
       "L 19.828125 46.734375 \n",
       "Q 21.96875 47.46875 24.109375 47.828125 \n",
       "Q 26.265625 48.1875 28.421875 48.1875 \n",
       "Q 40.625 48.1875 47.75 41.5 \n",
       "Q 54.890625 34.8125 54.890625 23.390625 \n",
       "Q 54.890625 11.625 47.5625 5.09375 \n",
       "Q 40.234375 -1.421875 26.90625 -1.421875 \n",
       "Q 22.3125 -1.421875 17.546875 -0.640625 \n",
       "Q 12.796875 0.140625 7.71875 1.703125 \n",
       "L 7.71875 11.625 \n",
       "Q 12.109375 9.234375 16.796875 8.0625 \n",
       "Q 21.484375 6.890625 26.703125 6.890625 \n",
       "Q 35.15625 6.890625 40.078125 11.328125 \n",
       "Q 45.015625 15.765625 45.015625 23.390625 \n",
       "Q 45.015625 31 40.078125 35.4375 \n",
       "Q 35.15625 39.890625 26.703125 39.890625 \n",
       "Q 22.75 39.890625 18.8125 39.015625 \n",
       "Q 14.890625 38.140625 10.796875 36.28125 \n",
       "z\n",
       "\" id=\"DejaVuSans-53\"/>\n",
       "      </defs>\n",
       "      <g transform=\"translate(18.6513 112.67602)scale(0.08 -0.08)\">\n",
       "       <use transform=\"translate(0 0.78125)\" xlink:href=\"#DejaVuSans-48\"/>\n",
       "       <use transform=\"translate(63.623047 0.78125)\" xlink:href=\"#DejaVuSans-46\"/>\n",
       "       <use transform=\"translate(92.785156 0.78125)\" xlink:href=\"#DejaVuSans-56\"/>\n",
       "       <use transform=\"translate(156.408203 0.78125)\" xlink:href=\"#DejaVuSans-53\"/>\n",
       "      </g>\n",
       "     </g>\n",
       "    </g>\n",
       "    <g id=\"ytick_3\">\n",
       "     <g id=\"line2d_15\">\n",
       "      <path clip-path=\"url(#p35fad8f888)\" d=\"M 39.8313 62.425573 \n",
       "L 349.965354 62.425573 \n",
       "\" style=\"fill:none;stroke:#000000;stroke-linecap:square;stroke-opacity:0.1;stroke-width:0.5;\"/>\n",
       "     </g>\n",
       "     <g id=\"line2d_16\">\n",
       "      <g>\n",
       "       <use style=\"stroke:#000000;stroke-width:0.5;\" x=\"39.8313\" xlink:href=\"#mbd766b1537\" y=\"62.425573\"/>\n",
       "      </g>\n",
       "     </g>\n",
       "     <g id=\"text_9\">\n",
       "      <!-- $0.90$ -->\n",
       "      <defs>\n",
       "       <path d=\"M 10.984375 1.515625 \n",
       "L 10.984375 10.5 \n",
       "Q 14.703125 8.734375 18.5 7.8125 \n",
       "Q 22.3125 6.890625 25.984375 6.890625 \n",
       "Q 35.75 6.890625 40.890625 13.453125 \n",
       "Q 46.046875 20.015625 46.78125 33.40625 \n",
       "Q 43.953125 29.203125 39.59375 26.953125 \n",
       "Q 35.25 24.703125 29.984375 24.703125 \n",
       "Q 19.046875 24.703125 12.671875 31.3125 \n",
       "Q 6.296875 37.9375 6.296875 49.421875 \n",
       "Q 6.296875 60.640625 12.9375 67.421875 \n",
       "Q 19.578125 74.21875 30.609375 74.21875 \n",
       "Q 43.265625 74.21875 49.921875 64.515625 \n",
       "Q 56.59375 54.828125 56.59375 36.375 \n",
       "Q 56.59375 19.140625 48.40625 8.859375 \n",
       "Q 40.234375 -1.421875 26.421875 -1.421875 \n",
       "Q 22.703125 -1.421875 18.890625 -0.6875 \n",
       "Q 15.09375 0.046875 10.984375 1.515625 \n",
       "z\n",
       "M 30.609375 32.421875 \n",
       "Q 37.25 32.421875 41.125 36.953125 \n",
       "Q 45.015625 41.5 45.015625 49.421875 \n",
       "Q 45.015625 57.28125 41.125 61.84375 \n",
       "Q 37.25 66.40625 30.609375 66.40625 \n",
       "Q 23.96875 66.40625 20.09375 61.84375 \n",
       "Q 16.21875 57.28125 16.21875 49.421875 \n",
       "Q 16.21875 41.5 20.09375 36.953125 \n",
       "Q 23.96875 32.421875 30.609375 32.421875 \n",
       "z\n",
       "\" id=\"DejaVuSans-57\"/>\n",
       "      </defs>\n",
       "      <g transform=\"translate(18.4913 65.464948)scale(0.08 -0.08)\">\n",
       "       <use transform=\"translate(0 0.78125)\" xlink:href=\"#DejaVuSans-48\"/>\n",
       "       <use transform=\"translate(63.623047 0.78125)\" xlink:href=\"#DejaVuSans-46\"/>\n",
       "       <use transform=\"translate(95.410156 0.78125)\" xlink:href=\"#DejaVuSans-57\"/>\n",
       "       <use transform=\"translate(159.033203 0.78125)\" xlink:href=\"#DejaVuSans-48\"/>\n",
       "      </g>\n",
       "     </g>\n",
       "    </g>\n",
       "    <g id=\"ytick_4\">\n",
       "     <g id=\"line2d_17\">\n",
       "      <path clip-path=\"url(#p35fad8f888)\" d=\"M 39.8313 15.214502 \n",
       "L 349.965354 15.214502 \n",
       "\" style=\"fill:none;stroke:#000000;stroke-linecap:square;stroke-opacity:0.1;stroke-width:0.5;\"/>\n",
       "     </g>\n",
       "     <g id=\"line2d_18\">\n",
       "      <g>\n",
       "       <use style=\"stroke:#000000;stroke-width:0.5;\" x=\"39.8313\" xlink:href=\"#mbd766b1537\" y=\"15.214502\"/>\n",
       "      </g>\n",
       "     </g>\n",
       "     <g id=\"text_10\">\n",
       "      <!-- $0.95$ -->\n",
       "      <g transform=\"translate(18.4913 18.253877)scale(0.08 -0.08)\">\n",
       "       <use transform=\"translate(0 0.78125)\" xlink:href=\"#DejaVuSans-48\"/>\n",
       "       <use transform=\"translate(63.623047 0.78125)\" xlink:href=\"#DejaVuSans-46\"/>\n",
       "       <use transform=\"translate(95.410156 0.78125)\" xlink:href=\"#DejaVuSans-57\"/>\n",
       "       <use transform=\"translate(159.033203 0.78125)\" xlink:href=\"#DejaVuSans-53\"/>\n",
       "      </g>\n",
       "     </g>\n",
       "    </g>\n",
       "    <g id=\"text_11\">\n",
       "     <!-- CV estimate of cross entropy -->\n",
       "     <defs>\n",
       "      <path d=\"M 64.40625 67.28125 \n",
       "L 64.40625 56.890625 \n",
       "Q 59.421875 61.53125 53.78125 63.8125 \n",
       "Q 48.140625 66.109375 41.796875 66.109375 \n",
       "Q 29.296875 66.109375 22.65625 58.46875 \n",
       "Q 16.015625 50.828125 16.015625 36.375 \n",
       "Q 16.015625 21.96875 22.65625 14.328125 \n",
       "Q 29.296875 6.6875 41.796875 6.6875 \n",
       "Q 48.140625 6.6875 53.78125 8.984375 \n",
       "Q 59.421875 11.28125 64.40625 15.921875 \n",
       "L 64.40625 5.609375 \n",
       "Q 59.234375 2.09375 53.4375 0.328125 \n",
       "Q 47.65625 -1.421875 41.21875 -1.421875 \n",
       "Q 24.65625 -1.421875 15.125 8.703125 \n",
       "Q 5.609375 18.84375 5.609375 36.375 \n",
       "Q 5.609375 53.953125 15.125 64.078125 \n",
       "Q 24.65625 74.21875 41.21875 74.21875 \n",
       "Q 47.75 74.21875 53.53125 72.484375 \n",
       "Q 59.328125 70.75 64.40625 67.28125 \n",
       "z\n",
       "\" id=\"DejaVuSans-67\"/>\n",
       "      <path d=\"M 28.609375 0 \n",
       "L 0.78125 72.90625 \n",
       "L 11.078125 72.90625 \n",
       "L 34.1875 11.53125 \n",
       "L 57.328125 72.90625 \n",
       "L 67.578125 72.90625 \n",
       "L 39.796875 0 \n",
       "z\n",
       "\" id=\"DejaVuSans-86\"/>\n",
       "      <path id=\"DejaVuSans-32\"/>\n",
       "      <path d=\"M 44.28125 53.078125 \n",
       "L 44.28125 44.578125 \n",
       "Q 40.484375 46.53125 36.375 47.5 \n",
       "Q 32.28125 48.484375 27.875 48.484375 \n",
       "Q 21.1875 48.484375 17.84375 46.4375 \n",
       "Q 14.5 44.390625 14.5 40.28125 \n",
       "Q 14.5 37.15625 16.890625 35.375 \n",
       "Q 19.28125 33.59375 26.515625 31.984375 \n",
       "L 29.59375 31.296875 \n",
       "Q 39.15625 29.25 43.1875 25.515625 \n",
       "Q 47.21875 21.78125 47.21875 15.09375 \n",
       "Q 47.21875 7.46875 41.1875 3.015625 \n",
       "Q 35.15625 -1.421875 24.609375 -1.421875 \n",
       "Q 20.21875 -1.421875 15.453125 -0.5625 \n",
       "Q 10.6875 0.296875 5.421875 2 \n",
       "L 5.421875 11.28125 \n",
       "Q 10.40625 8.6875 15.234375 7.390625 \n",
       "Q 20.0625 6.109375 24.8125 6.109375 \n",
       "Q 31.15625 6.109375 34.5625 8.28125 \n",
       "Q 37.984375 10.453125 37.984375 14.40625 \n",
       "Q 37.984375 18.0625 35.515625 20.015625 \n",
       "Q 33.0625 21.96875 24.703125 23.78125 \n",
       "L 21.578125 24.515625 \n",
       "Q 13.234375 26.265625 9.515625 29.90625 \n",
       "Q 5.8125 33.546875 5.8125 39.890625 \n",
       "Q 5.8125 47.609375 11.28125 51.796875 \n",
       "Q 16.75 56 26.8125 56 \n",
       "Q 31.78125 56 36.171875 55.265625 \n",
       "Q 40.578125 54.546875 44.28125 53.078125 \n",
       "z\n",
       "\" id=\"DejaVuSans-115\"/>\n",
       "      <path d=\"M 9.421875 54.6875 \n",
       "L 18.40625 54.6875 \n",
       "L 18.40625 0 \n",
       "L 9.421875 0 \n",
       "z\n",
       "M 9.421875 75.984375 \n",
       "L 18.40625 75.984375 \n",
       "L 18.40625 64.59375 \n",
       "L 9.421875 64.59375 \n",
       "z\n",
       "\" id=\"DejaVuSans-105\"/>\n",
       "      <path d=\"M 30.609375 48.390625 \n",
       "Q 23.390625 48.390625 19.1875 42.75 \n",
       "Q 14.984375 37.109375 14.984375 27.296875 \n",
       "Q 14.984375 17.484375 19.15625 11.84375 \n",
       "Q 23.34375 6.203125 30.609375 6.203125 \n",
       "Q 37.796875 6.203125 41.984375 11.859375 \n",
       "Q 46.1875 17.53125 46.1875 27.296875 \n",
       "Q 46.1875 37.015625 41.984375 42.703125 \n",
       "Q 37.796875 48.390625 30.609375 48.390625 \n",
       "z\n",
       "M 30.609375 56 \n",
       "Q 42.328125 56 49.015625 48.375 \n",
       "Q 55.71875 40.765625 55.71875 27.296875 \n",
       "Q 55.71875 13.875 49.015625 6.21875 \n",
       "Q 42.328125 -1.421875 30.609375 -1.421875 \n",
       "Q 18.84375 -1.421875 12.171875 6.21875 \n",
       "Q 5.515625 13.875 5.515625 27.296875 \n",
       "Q 5.515625 40.765625 12.171875 48.375 \n",
       "Q 18.84375 56 30.609375 56 \n",
       "z\n",
       "\" id=\"DejaVuSans-111\"/>\n",
       "      <path d=\"M 37.109375 75.984375 \n",
       "L 37.109375 68.5 \n",
       "L 28.515625 68.5 \n",
       "Q 23.6875 68.5 21.796875 66.546875 \n",
       "Q 19.921875 64.59375 19.921875 59.515625 \n",
       "L 19.921875 54.6875 \n",
       "L 34.71875 54.6875 \n",
       "L 34.71875 47.703125 \n",
       "L 19.921875 47.703125 \n",
       "L 19.921875 0 \n",
       "L 10.890625 0 \n",
       "L 10.890625 47.703125 \n",
       "L 2.296875 47.703125 \n",
       "L 2.296875 54.6875 \n",
       "L 10.890625 54.6875 \n",
       "L 10.890625 58.5 \n",
       "Q 10.890625 67.625 15.140625 71.796875 \n",
       "Q 19.390625 75.984375 28.609375 75.984375 \n",
       "z\n",
       "\" id=\"DejaVuSans-102\"/>\n",
       "      <path d=\"M 48.78125 52.59375 \n",
       "L 48.78125 44.1875 \n",
       "Q 44.96875 46.296875 41.140625 47.34375 \n",
       "Q 37.3125 48.390625 33.40625 48.390625 \n",
       "Q 24.65625 48.390625 19.8125 42.84375 \n",
       "Q 14.984375 37.3125 14.984375 27.296875 \n",
       "Q 14.984375 17.28125 19.8125 11.734375 \n",
       "Q 24.65625 6.203125 33.40625 6.203125 \n",
       "Q 37.3125 6.203125 41.140625 7.25 \n",
       "Q 44.96875 8.296875 48.78125 10.40625 \n",
       "L 48.78125 2.09375 \n",
       "Q 45.015625 0.34375 40.984375 -0.53125 \n",
       "Q 36.96875 -1.421875 32.421875 -1.421875 \n",
       "Q 20.0625 -1.421875 12.78125 6.34375 \n",
       "Q 5.515625 14.109375 5.515625 27.296875 \n",
       "Q 5.515625 40.671875 12.859375 48.328125 \n",
       "Q 20.21875 56 33.015625 56 \n",
       "Q 37.15625 56 41.109375 55.140625 \n",
       "Q 45.0625 54.296875 48.78125 52.59375 \n",
       "z\n",
       "\" id=\"DejaVuSans-99\"/>\n",
       "      <path d=\"M 41.109375 46.296875 \n",
       "Q 39.59375 47.171875 37.8125 47.578125 \n",
       "Q 36.03125 48 33.890625 48 \n",
       "Q 26.265625 48 22.1875 43.046875 \n",
       "Q 18.109375 38.09375 18.109375 28.8125 \n",
       "L 18.109375 0 \n",
       "L 9.078125 0 \n",
       "L 9.078125 54.6875 \n",
       "L 18.109375 54.6875 \n",
       "L 18.109375 46.1875 \n",
       "Q 20.953125 51.171875 25.484375 53.578125 \n",
       "Q 30.03125 56 36.53125 56 \n",
       "Q 37.453125 56 38.578125 55.875 \n",
       "Q 39.703125 55.765625 41.0625 55.515625 \n",
       "z\n",
       "\" id=\"DejaVuSans-114\"/>\n",
       "      <path d=\"M 54.890625 33.015625 \n",
       "L 54.890625 0 \n",
       "L 45.90625 0 \n",
       "L 45.90625 32.71875 \n",
       "Q 45.90625 40.484375 42.875 44.328125 \n",
       "Q 39.84375 48.1875 33.796875 48.1875 \n",
       "Q 26.515625 48.1875 22.3125 43.546875 \n",
       "Q 18.109375 38.921875 18.109375 30.90625 \n",
       "L 18.109375 0 \n",
       "L 9.078125 0 \n",
       "L 9.078125 54.6875 \n",
       "L 18.109375 54.6875 \n",
       "L 18.109375 46.1875 \n",
       "Q 21.34375 51.125 25.703125 53.5625 \n",
       "Q 30.078125 56 35.796875 56 \n",
       "Q 45.21875 56 50.046875 50.171875 \n",
       "Q 54.890625 44.34375 54.890625 33.015625 \n",
       "z\n",
       "\" id=\"DejaVuSans-110\"/>\n",
       "      <path d=\"M 32.171875 -5.078125 \n",
       "Q 28.375 -14.84375 24.75 -17.8125 \n",
       "Q 21.140625 -20.796875 15.09375 -20.796875 \n",
       "L 7.90625 -20.796875 \n",
       "L 7.90625 -13.28125 \n",
       "L 13.1875 -13.28125 \n",
       "Q 16.890625 -13.28125 18.9375 -11.515625 \n",
       "Q 21 -9.765625 23.484375 -3.21875 \n",
       "L 25.09375 0.875 \n",
       "L 2.984375 54.6875 \n",
       "L 12.5 54.6875 \n",
       "L 29.59375 11.921875 \n",
       "L 46.6875 54.6875 \n",
       "L 56.203125 54.6875 \n",
       "z\n",
       "\" id=\"DejaVuSans-121\"/>\n",
       "     </defs>\n",
       "     <g transform=\"translate(12.203643 173.727422)rotate(-90)scale(0.11 -0.11)\">\n",
       "      <use xlink:href=\"#DejaVuSans-67\"/>\n",
       "      <use x=\"69.824219\" xlink:href=\"#DejaVuSans-86\"/>\n",
       "      <use x=\"138.232422\" xlink:href=\"#DejaVuSans-32\"/>\n",
       "      <use x=\"170.019531\" xlink:href=\"#DejaVuSans-101\"/>\n",
       "      <use x=\"231.542969\" xlink:href=\"#DejaVuSans-115\"/>\n",
       "      <use x=\"283.642578\" xlink:href=\"#DejaVuSans-116\"/>\n",
       "      <use x=\"322.851562\" xlink:href=\"#DejaVuSans-105\"/>\n",
       "      <use x=\"350.634766\" xlink:href=\"#DejaVuSans-109\"/>\n",
       "      <use x=\"448.046875\" xlink:href=\"#DejaVuSans-97\"/>\n",
       "      <use x=\"509.326172\" xlink:href=\"#DejaVuSans-116\"/>\n",
       "      <use x=\"548.535156\" xlink:href=\"#DejaVuSans-101\"/>\n",
       "      <use x=\"610.058594\" xlink:href=\"#DejaVuSans-32\"/>\n",
       "      <use x=\"641.845703\" xlink:href=\"#DejaVuSans-111\"/>\n",
       "      <use x=\"703.027344\" xlink:href=\"#DejaVuSans-102\"/>\n",
       "      <use x=\"738.232422\" xlink:href=\"#DejaVuSans-32\"/>\n",
       "      <use x=\"770.019531\" xlink:href=\"#DejaVuSans-99\"/>\n",
       "      <use x=\"825\" xlink:href=\"#DejaVuSans-114\"/>\n",
       "      <use x=\"863.863281\" xlink:href=\"#DejaVuSans-111\"/>\n",
       "      <use x=\"925.044922\" xlink:href=\"#DejaVuSans-115\"/>\n",
       "      <use x=\"977.144531\" xlink:href=\"#DejaVuSans-115\"/>\n",
       "      <use x=\"1029.244141\" xlink:href=\"#DejaVuSans-32\"/>\n",
       "      <use x=\"1061.03125\" xlink:href=\"#DejaVuSans-101\"/>\n",
       "      <use x=\"1122.554688\" xlink:href=\"#DejaVuSans-110\"/>\n",
       "      <use x=\"1185.933594\" xlink:href=\"#DejaVuSans-116\"/>\n",
       "      <use x=\"1225.142578\" xlink:href=\"#DejaVuSans-114\"/>\n",
       "      <use x=\"1264.005859\" xlink:href=\"#DejaVuSans-111\"/>\n",
       "      <use x=\"1325.1875\" xlink:href=\"#DejaVuSans-112\"/>\n",
       "      <use x=\"1388.664062\" xlink:href=\"#DejaVuSans-121\"/>\n",
       "     </g>\n",
       "    </g>\n",
       "   </g>\n",
       "   <g id=\"line2d_19\">\n",
       "    <path clip-path=\"url(#p35fad8f888)\" d=\"M 48.608679 39.883999 \n",
       "L 81.117489 172.63773 \n",
       "L 113.6263 180.193318 \n",
       "L 146.135111 171.433451 \n",
       "L 178.643922 142.890551 \n",
       "L 211.152732 132.651027 \n",
       "L 243.661543 85.861369 \n",
       "L 276.170354 62.533372 \n",
       "L 308.679165 32.675884 \n",
       "L 341.187975 8.000432 \n",
       "\" style=\"fill:none;stroke:#009afa;\"/>\n",
       "   </g>\n",
       "   <g id=\"patch_3\">\n",
       "    <path d=\"M 39.8313 185.359104 \n",
       "L 39.8313 2.834646 \n",
       "\" style=\"fill:none;stroke:#000000;stroke-linecap:square;stroke-linejoin:miter;\"/>\n",
       "   </g>\n",
       "   <g id=\"patch_4\">\n",
       "    <path d=\"M 39.8313 185.359104 \n",
       "L 349.965354 185.359104 \n",
       "\" style=\"fill:none;stroke:#000000;stroke-linecap:square;stroke-linejoin:miter;\"/>\n",
       "   </g>\n",
       "   <g id=\"legend_1\">\n",
       "    <g id=\"patch_5\">\n",
       "     <path d=\"M 43.8313 27.377146 \n",
       "L 88.8563 27.377146 \n",
       "L 88.8563 6.834646 \n",
       "L 43.8313 6.834646 \n",
       "z\n",
       "\" style=\"fill:#ffffff;stroke:#000000;stroke-linejoin:miter;\"/>\n",
       "    </g>\n",
       "    <g id=\"line2d_20\">\n",
       "     <path d=\"M 50.2313 16.513396 \n",
       "L 66.2313 16.513396 \n",
       "\" style=\"fill:none;stroke:#009afa;stroke-linejoin:miter;\"/>\n",
       "    </g>\n",
       "    <g id=\"line2d_21\"/>\n",
       "    <g id=\"text_12\">\n",
       "     <!-- y1 -->\n",
       "     <g transform=\"translate(72.6313 19.313396)scale(0.08 -0.08)\">\n",
       "      <use xlink:href=\"#DejaVuSans-121\"/>\n",
       "      <use x=\"59.179688\" xlink:href=\"#DejaVuSans-49\"/>\n",
       "     </g>\n",
       "    </g>\n",
       "   </g>\n",
       "  </g>\n",
       " </g>\n",
       " <defs>\n",
       "  <clipPath id=\"p35fad8f888\">\n",
       "   <rect height=\"182.524459\" width=\"310.134055\" x=\"39.8313\" y=\"2.834646\"/>\n",
       "  </clipPath>\n",
       " </defs>\n",
       "</svg>\n"
      ]
     },
     "metadata": {},
     "execution_count": 135
    }
   ],
   "cell_type": "code",
   "source": [
    "r = range(pipe, :(evo_tree_classifier.max_depth), lower=1, upper=10)\n",
    "\n",
    "curve = learning_curve(mach,\n",
    "                       range=r,\n",
    "                       resampling=CV(nfolds=6),\n",
    "                       measure=cross_entropy)\n",
    "\n",
    "plt = plot(curve.parameter_values, curve.measurements)\n",
    "xlabel!(plt, \"max_depth\")\n",
    "ylabel!(plt, \"CV estimate of cross entropy\")\n",
    "plt"
   ],
   "metadata": {},
   "execution_count": 135
  },
  {
   "cell_type": "markdown",
   "source": [
    "Here's a second curve using a different random seed for the booster:"
   ],
   "metadata": {}
  },
  {
   "outputs": [
    {
     "name": "stdout",
     "output_type": "stream",
     "text": [
      "┌ Info: Training \u001b[34mMachine{ProbabilisticTunedModel{Grid,…}} @615\u001b[39m.\n",
      "└ @ MLJBase /Users/anthony/.julia/packages/MLJBase/r3heT/src/machines.jl:317\n",
      "┌ Info: Attempting to evaluate 10 models.\n",
      "└ @ MLJTuning /Users/anthony/.julia/packages/MLJTuning/oLVRR/src/tuned_models.jl:474\n",
      "\rEvaluating over 10 metamodels:   0%[>                        ]  ETA: N/A\u001b[K\rEvaluating over 10 metamodels:  10%[==>                      ]  ETA: 0:00:02\u001b[K\rEvaluating over 10 metamodels:  20%[=====>                   ]  ETA: 0:00:01\u001b[K\rEvaluating over 10 metamodels:  30%[=======>                 ]  ETA: 0:00:01\u001b[K\rEvaluating over 10 metamodels:  40%[==========>              ]  ETA: 0:00:01\u001b[K\rEvaluating over 10 metamodels:  50%[============>            ]  ETA: 0:00:01\u001b[K\rEvaluating over 10 metamodels:  60%[===============>         ]  ETA: 0:00:01\u001b[K\rEvaluating over 10 metamodels:  70%[=================>       ]  ETA: 0:00:01\u001b[K\rEvaluating over 10 metamodels:  80%[====================>    ]  ETA: 0:00:01\u001b[K\rEvaluating over 10 metamodels:  90%[======================>  ]  ETA: 0:00:00\u001b[K\rEvaluating over 10 metamodels: 100%[=========================] Time: 0:00:06\u001b[K\n"
     ]
    },
    {
     "output_type": "execute_result",
     "data": {
      "text/plain": "Plot{Plots.PyPlotBackend() n=2}",
      "image/png": "[encoded data removed]",
      "text/html": [
       "<img src=\"data:image/png;base64,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\" />"
      ],
      "image/svg+xml": [
       "<?xml version=\"1.0\" encoding=\"utf-8\" standalone=\"no\"?>\n",
       "<!DOCTYPE svg PUBLIC \"-//W3C//DTD SVG 1.1//EN\"\n",
       "  \"http://www.w3.org/Graphics/SVG/1.1/DTD/svg11.dtd\">\n",
       "<!-- Created with matplotlib (https://matplotlib.org/) -->\n",
       "<svg height=\"216pt\" version=\"1.1\" viewBox=\"0 0 352.8 216\" width=\"352.8pt\" xmlns=\"http://www.w3.org/2000/svg\" xmlns:xlink=\"http://www.w3.org/1999/xlink\">\n",
       " <defs>\n",
       "  <style type=\"text/css\">\n",
       "*{stroke-linecap:butt;stroke-linejoin:round;}\n",
       "  </style>\n",
       " </defs>\n",
       " <g id=\"figure_1\">\n",
       "  <g id=\"patch_1\">\n",
       "   <path d=\"M 0 216 \n",
       "L 352.8 216 \n",
       "L 352.8 0 \n",
       "L 0 0 \n",
       "z\n",
       "\" style=\"fill:#ffffff;\"/>\n",
       "  </g>\n",
       "  <g id=\"axes_1\">\n",
       "   <g id=\"patch_2\">\n",
       "    <path d=\"M 39.8313 185.359104 \n",
       "L 349.965354 185.359104 \n",
       "L 349.965354 2.834646 \n",
       "L 39.8313 2.834646 \n",
       "z\n",
       "\" style=\"fill:#ffffff;\"/>\n",
       "   </g>\n",
       "   <g id=\"matplotlib.axis_1\">\n",
       "    <g id=\"xtick_1\">\n",
       "     <g id=\"line2d_1\">\n",
       "      <path clip-path=\"url(#p6b13b53782)\" d=\"M 81.117489 185.359104 \n",
       "L 81.117489 2.834646 \n",
       "\" style=\"fill:none;stroke:#000000;stroke-linecap:square;stroke-opacity:0.1;stroke-width:0.5;\"/>\n",
       "     </g>\n",
       "     <g id=\"line2d_2\">\n",
       "      <defs>\n",
       "       <path d=\"M 0 0 \n",
       "L 0 -3.5 \n",
       "\" id=\"mc39aa90807\" style=\"stroke:#000000;stroke-width:0.5;\"/>\n",
       "      </defs>\n",
       "      <g>\n",
       "       <use style=\"stroke:#000000;stroke-width:0.5;\" x=\"81.117489\" xlink:href=\"#mc39aa90807\" y=\"185.359104\"/>\n",
       "      </g>\n",
       "     </g>\n",
       "     <g id=\"text_1\">\n",
       "      <!-- $2$ -->\n",
       "      <defs>\n",
       "       <path d=\"M 19.1875 8.296875 \n",
       "L 53.609375 8.296875 \n",
       "L 53.609375 0 \n",
       "L 7.328125 0 \n",
       "L 7.328125 8.296875 \n",
       "Q 12.9375 14.109375 22.625 23.890625 \n",
       "Q 32.328125 33.6875 34.8125 36.53125 \n",
       "Q 39.546875 41.84375 41.421875 45.53125 \n",
       "Q 43.3125 49.21875 43.3125 52.78125 \n",
       "Q 43.3125 58.59375 39.234375 62.25 \n",
       "Q 35.15625 65.921875 28.609375 65.921875 \n",
       "Q 23.96875 65.921875 18.8125 64.3125 \n",
       "Q 13.671875 62.703125 7.8125 59.421875 \n",
       "L 7.8125 69.390625 \n",
       "Q 13.765625 71.78125 18.9375 73 \n",
       "Q 24.125 74.21875 28.421875 74.21875 \n",
       "Q 39.75 74.21875 46.484375 68.546875 \n",
       "Q 53.21875 62.890625 53.21875 53.421875 \n",
       "Q 53.21875 48.921875 51.53125 44.890625 \n",
       "Q 49.859375 40.875 45.40625 35.40625 \n",
       "Q 44.1875 33.984375 37.640625 27.21875 \n",
       "Q 31.109375 20.453125 19.1875 8.296875 \n",
       "z\n",
       "\" id=\"DejaVuSans-50\"/>\n",
       "      </defs>\n",
       "      <g transform=\"translate(78.557489 194.937854)scale(0.08 -0.08)\">\n",
       "       <use transform=\"translate(0 0.78125)\" xlink:href=\"#DejaVuSans-50\"/>\n",
       "      </g>\n",
       "     </g>\n",
       "    </g>\n",
       "    <g id=\"xtick_2\">\n",
       "     <g id=\"line2d_3\">\n",
       "      <path clip-path=\"url(#p6b13b53782)\" d=\"M 146.135111 185.359104 \n",
       "L 146.135111 2.834646 \n",
       "\" style=\"fill:none;stroke:#000000;stroke-linecap:square;stroke-opacity:0.1;stroke-width:0.5;\"/>\n",
       "     </g>\n",
       "     <g id=\"line2d_4\">\n",
       "      <g>\n",
       "       <use style=\"stroke:#000000;stroke-width:0.5;\" x=\"146.135111\" xlink:href=\"#mc39aa90807\" y=\"185.359104\"/>\n",
       "      </g>\n",
       "     </g>\n",
       "     <g id=\"text_2\">\n",
       "      <!-- $4$ -->\n",
       "      <defs>\n",
       "       <path d=\"M 37.796875 64.3125 \n",
       "L 12.890625 25.390625 \n",
       "L 37.796875 25.390625 \n",
       "z\n",
       "M 35.203125 72.90625 \n",
       "L 47.609375 72.90625 \n",
       "L 47.609375 25.390625 \n",
       "L 58.015625 25.390625 \n",
       "L 58.015625 17.1875 \n",
       "L 47.609375 17.1875 \n",
       "L 47.609375 0 \n",
       "L 37.796875 0 \n",
       "L 37.796875 17.1875 \n",
       "L 4.890625 17.1875 \n",
       "L 4.890625 26.703125 \n",
       "z\n",
       "\" id=\"DejaVuSans-52\"/>\n",
       "      </defs>\n",
       "      <g transform=\"translate(143.575111 194.937854)scale(0.08 -0.08)\">\n",
       "       <use transform=\"translate(0 0.09375)\" xlink:href=\"#DejaVuSans-52\"/>\n",
       "      </g>\n",
       "     </g>\n",
       "    </g>\n",
       "    <g id=\"xtick_3\">\n",
       "     <g id=\"line2d_5\">\n",
       "      <path clip-path=\"url(#p6b13b53782)\" d=\"M 211.152732 185.359104 \n",
       "L 211.152732 2.834646 \n",
       "\" style=\"fill:none;stroke:#000000;stroke-linecap:square;stroke-opacity:0.1;stroke-width:0.5;\"/>\n",
       "     </g>\n",
       "     <g id=\"line2d_6\">\n",
       "      <g>\n",
       "       <use style=\"stroke:#000000;stroke-width:0.5;\" x=\"211.152732\" xlink:href=\"#mc39aa90807\" y=\"185.359104\"/>\n",
       "      </g>\n",
       "     </g>\n",
       "     <g id=\"text_3\">\n",
       "      <!-- $6$ -->\n",
       "      <defs>\n",
       "       <path d=\"M 33.015625 40.375 \n",
       "Q 26.375 40.375 22.484375 35.828125 \n",
       "Q 18.609375 31.296875 18.609375 23.390625 \n",
       "Q 18.609375 15.53125 22.484375 10.953125 \n",
       "Q 26.375 6.390625 33.015625 6.390625 \n",
       "Q 39.65625 6.390625 43.53125 10.953125 \n",
       "Q 47.40625 15.53125 47.40625 23.390625 \n",
       "Q 47.40625 31.296875 43.53125 35.828125 \n",
       "Q 39.65625 40.375 33.015625 40.375 \n",
       "z\n",
       "M 52.59375 71.296875 \n",
       "L 52.59375 62.3125 \n",
       "Q 48.875 64.0625 45.09375 64.984375 \n",
       "Q 41.3125 65.921875 37.59375 65.921875 \n",
       "Q 27.828125 65.921875 22.671875 59.328125 \n",
       "Q 17.53125 52.734375 16.796875 39.40625 \n",
       "Q 19.671875 43.65625 24.015625 45.921875 \n",
       "Q 28.375 48.1875 33.59375 48.1875 \n",
       "Q 44.578125 48.1875 50.953125 41.515625 \n",
       "Q 57.328125 34.859375 57.328125 23.390625 \n",
       "Q 57.328125 12.15625 50.6875 5.359375 \n",
       "Q 44.046875 -1.421875 33.015625 -1.421875 \n",
       "Q 20.359375 -1.421875 13.671875 8.265625 \n",
       "Q 6.984375 17.96875 6.984375 36.375 \n",
       "Q 6.984375 53.65625 15.1875 63.9375 \n",
       "Q 23.390625 74.21875 37.203125 74.21875 \n",
       "Q 40.921875 74.21875 44.703125 73.484375 \n",
       "Q 48.484375 72.75 52.59375 71.296875 \n",
       "z\n",
       "\" id=\"DejaVuSans-54\"/>\n",
       "      </defs>\n",
       "      <g transform=\"translate(208.592732 194.937854)scale(0.08 -0.08)\">\n",
       "       <use transform=\"translate(0 0.78125)\" xlink:href=\"#DejaVuSans-54\"/>\n",
       "      </g>\n",
       "     </g>\n",
       "    </g>\n",
       "    <g id=\"xtick_4\">\n",
       "     <g id=\"line2d_7\">\n",
       "      <path clip-path=\"url(#p6b13b53782)\" d=\"M 276.170354 185.359104 \n",
       "L 276.170354 2.834646 \n",
       "\" style=\"fill:none;stroke:#000000;stroke-linecap:square;stroke-opacity:0.1;stroke-width:0.5;\"/>\n",
       "     </g>\n",
       "     <g id=\"line2d_8\">\n",
       "      <g>\n",
       "       <use style=\"stroke:#000000;stroke-width:0.5;\" x=\"276.170354\" xlink:href=\"#mc39aa90807\" y=\"185.359104\"/>\n",
       "      </g>\n",
       "     </g>\n",
       "     <g id=\"text_4\">\n",
       "      <!-- $8$ -->\n",
       "      <defs>\n",
       "       <path d=\"M 31.78125 34.625 \n",
       "Q 24.75 34.625 20.71875 30.859375 \n",
       "Q 16.703125 27.09375 16.703125 20.515625 \n",
       "Q 16.703125 13.921875 20.71875 10.15625 \n",
       "Q 24.75 6.390625 31.78125 6.390625 \n",
       "Q 38.8125 6.390625 42.859375 10.171875 \n",
       "Q 46.921875 13.96875 46.921875 20.515625 \n",
       "Q 46.921875 27.09375 42.890625 30.859375 \n",
       "Q 38.875 34.625 31.78125 34.625 \n",
       "z\n",
       "M 21.921875 38.8125 \n",
       "Q 15.578125 40.375 12.03125 44.71875 \n",
       "Q 8.5 49.078125 8.5 55.328125 \n",
       "Q 8.5 64.0625 14.71875 69.140625 \n",
       "Q 20.953125 74.21875 31.78125 74.21875 \n",
       "Q 42.671875 74.21875 48.875 69.140625 \n",
       "Q 55.078125 64.0625 55.078125 55.328125 \n",
       "Q 55.078125 49.078125 51.53125 44.71875 \n",
       "Q 48 40.375 41.703125 38.8125 \n",
       "Q 48.828125 37.15625 52.796875 32.3125 \n",
       "Q 56.78125 27.484375 56.78125 20.515625 \n",
       "Q 56.78125 9.90625 50.3125 4.234375 \n",
       "Q 43.84375 -1.421875 31.78125 -1.421875 \n",
       "Q 19.734375 -1.421875 13.25 4.234375 \n",
       "Q 6.78125 9.90625 6.78125 20.515625 \n",
       "Q 6.78125 27.484375 10.78125 32.3125 \n",
       "Q 14.796875 37.15625 21.921875 38.8125 \n",
       "z\n",
       "M 18.3125 54.390625 \n",
       "Q 18.3125 48.734375 21.84375 45.5625 \n",
       "Q 25.390625 42.390625 31.78125 42.390625 \n",
       "Q 38.140625 42.390625 41.71875 45.5625 \n",
       "Q 45.3125 48.734375 45.3125 54.390625 \n",
       "Q 45.3125 60.0625 41.71875 63.234375 \n",
       "Q 38.140625 66.40625 31.78125 66.40625 \n",
       "Q 25.390625 66.40625 21.84375 63.234375 \n",
       "Q 18.3125 60.0625 18.3125 54.390625 \n",
       "z\n",
       "\" id=\"DejaVuSans-56\"/>\n",
       "      </defs>\n",
       "      <g transform=\"translate(273.610354 194.937854)scale(0.08 -0.08)\">\n",
       "       <use transform=\"translate(0 0.78125)\" xlink:href=\"#DejaVuSans-56\"/>\n",
       "      </g>\n",
       "     </g>\n",
       "    </g>\n",
       "    <g id=\"xtick_5\">\n",
       "     <g id=\"line2d_9\">\n",
       "      <path clip-path=\"url(#p6b13b53782)\" d=\"M 341.187975 185.359104 \n",
       "L 341.187975 2.834646 \n",
       "\" style=\"fill:none;stroke:#000000;stroke-linecap:square;stroke-opacity:0.1;stroke-width:0.5;\"/>\n",
       "     </g>\n",
       "     <g id=\"line2d_10\">\n",
       "      <g>\n",
       "       <use style=\"stroke:#000000;stroke-width:0.5;\" x=\"341.187975\" xlink:href=\"#mc39aa90807\" y=\"185.359104\"/>\n",
       "      </g>\n",
       "     </g>\n",
       "     <g id=\"text_5\">\n",
       "      <!-- $10$ -->\n",
       "      <defs>\n",
       "       <path d=\"M 12.40625 8.296875 \n",
       "L 28.515625 8.296875 \n",
       "L 28.515625 63.921875 \n",
       "L 10.984375 60.40625 \n",
       "L 10.984375 69.390625 \n",
       "L 28.421875 72.90625 \n",
       "L 38.28125 72.90625 \n",
       "L 38.28125 8.296875 \n",
       "L 54.390625 8.296875 \n",
       "L 54.390625 0 \n",
       "L 12.40625 0 \n",
       "z\n",
       "\" id=\"DejaVuSans-49\"/>\n",
       "       <path d=\"M 31.78125 66.40625 \n",
       "Q 24.171875 66.40625 20.328125 58.90625 \n",
       "Q 16.5 51.421875 16.5 36.375 \n",
       "Q 16.5 21.390625 20.328125 13.890625 \n",
       "Q 24.171875 6.390625 31.78125 6.390625 \n",
       "Q 39.453125 6.390625 43.28125 13.890625 \n",
       "Q 47.125 21.390625 47.125 36.375 \n",
       "Q 47.125 51.421875 43.28125 58.90625 \n",
       "Q 39.453125 66.40625 31.78125 66.40625 \n",
       "z\n",
       "M 31.78125 74.21875 \n",
       "Q 44.046875 74.21875 50.515625 64.515625 \n",
       "Q 56.984375 54.828125 56.984375 36.375 \n",
       "Q 56.984375 17.96875 50.515625 8.265625 \n",
       "Q 44.046875 -1.421875 31.78125 -1.421875 \n",
       "Q 19.53125 -1.421875 13.0625 8.265625 \n",
       "Q 6.59375 17.96875 6.59375 36.375 \n",
       "Q 6.59375 54.828125 13.0625 64.515625 \n",
       "Q 19.53125 74.21875 31.78125 74.21875 \n",
       "z\n",
       "\" id=\"DejaVuSans-48\"/>\n",
       "      </defs>\n",
       "      <g transform=\"translate(336.067975 194.937854)scale(0.08 -0.08)\">\n",
       "       <use transform=\"translate(0 0.78125)\" xlink:href=\"#DejaVuSans-49\"/>\n",
       "       <use transform=\"translate(63.623047 0.78125)\" xlink:href=\"#DejaVuSans-48\"/>\n",
       "      </g>\n",
       "     </g>\n",
       "    </g>\n",
       "    <g id=\"text_6\">\n",
       "     <!-- max_depth -->\n",
       "     <defs>\n",
       "      <path d=\"M 52 44.1875 \n",
       "Q 55.375 50.25 60.0625 53.125 \n",
       "Q 64.75 56 71.09375 56 \n",
       "Q 79.640625 56 84.28125 50.015625 \n",
       "Q 88.921875 44.046875 88.921875 33.015625 \n",
       "L 88.921875 0 \n",
       "L 79.890625 0 \n",
       "L 79.890625 32.71875 \n",
       "Q 79.890625 40.578125 77.09375 44.375 \n",
       "Q 74.3125 48.1875 68.609375 48.1875 \n",
       "Q 61.625 48.1875 57.5625 43.546875 \n",
       "Q 53.515625 38.921875 53.515625 30.90625 \n",
       "L 53.515625 0 \n",
       "L 44.484375 0 \n",
       "L 44.484375 32.71875 \n",
       "Q 44.484375 40.625 41.703125 44.40625 \n",
       "Q 38.921875 48.1875 33.109375 48.1875 \n",
       "Q 26.21875 48.1875 22.15625 43.53125 \n",
       "Q 18.109375 38.875 18.109375 30.90625 \n",
       "L 18.109375 0 \n",
       "L 9.078125 0 \n",
       "L 9.078125 54.6875 \n",
       "L 18.109375 54.6875 \n",
       "L 18.109375 46.1875 \n",
       "Q 21.1875 51.21875 25.484375 53.609375 \n",
       "Q 29.78125 56 35.6875 56 \n",
       "Q 41.65625 56 45.828125 52.96875 \n",
       "Q 50 49.953125 52 44.1875 \n",
       "z\n",
       "\" id=\"DejaVuSans-109\"/>\n",
       "      <path d=\"M 34.28125 27.484375 \n",
       "Q 23.390625 27.484375 19.1875 25 \n",
       "Q 14.984375 22.515625 14.984375 16.5 \n",
       "Q 14.984375 11.71875 18.140625 8.90625 \n",
       "Q 21.296875 6.109375 26.703125 6.109375 \n",
       "Q 34.1875 6.109375 38.703125 11.40625 \n",
       "Q 43.21875 16.703125 43.21875 25.484375 \n",
       "L 43.21875 27.484375 \n",
       "z\n",
       "M 52.203125 31.203125 \n",
       "L 52.203125 0 \n",
       "L 43.21875 0 \n",
       "L 43.21875 8.296875 \n",
       "Q 40.140625 3.328125 35.546875 0.953125 \n",
       "Q 30.953125 -1.421875 24.3125 -1.421875 \n",
       "Q 15.921875 -1.421875 10.953125 3.296875 \n",
       "Q 6 8.015625 6 15.921875 \n",
       "Q 6 25.140625 12.171875 29.828125 \n",
       "Q 18.359375 34.515625 30.609375 34.515625 \n",
       "L 43.21875 34.515625 \n",
       "L 43.21875 35.40625 \n",
       "Q 43.21875 41.609375 39.140625 45 \n",
       "Q 35.0625 48.390625 27.6875 48.390625 \n",
       "Q 23 48.390625 18.546875 47.265625 \n",
       "Q 14.109375 46.140625 10.015625 43.890625 \n",
       "L 10.015625 52.203125 \n",
       "Q 14.9375 54.109375 19.578125 55.046875 \n",
       "Q 24.21875 56 28.609375 56 \n",
       "Q 40.484375 56 46.34375 49.84375 \n",
       "Q 52.203125 43.703125 52.203125 31.203125 \n",
       "z\n",
       "\" id=\"DejaVuSans-97\"/>\n",
       "      <path d=\"M 54.890625 54.6875 \n",
       "L 35.109375 28.078125 \n",
       "L 55.90625 0 \n",
       "L 45.3125 0 \n",
       "L 29.390625 21.484375 \n",
       "L 13.484375 0 \n",
       "L 2.875 0 \n",
       "L 24.125 28.609375 \n",
       "L 4.6875 54.6875 \n",
       "L 15.28125 54.6875 \n",
       "L 29.78125 35.203125 \n",
       "L 44.28125 54.6875 \n",
       "z\n",
       "\" id=\"DejaVuSans-120\"/>\n",
       "      <path d=\"M 50.984375 -16.609375 \n",
       "L 50.984375 -23.578125 \n",
       "L -0.984375 -23.578125 \n",
       "L -0.984375 -16.609375 \n",
       "z\n",
       "\" id=\"DejaVuSans-95\"/>\n",
       "      <path d=\"M 45.40625 46.390625 \n",
       "L 45.40625 75.984375 \n",
       "L 54.390625 75.984375 \n",
       "L 54.390625 0 \n",
       "L 45.40625 0 \n",
       "L 45.40625 8.203125 \n",
       "Q 42.578125 3.328125 38.25 0.953125 \n",
       "Q 33.9375 -1.421875 27.875 -1.421875 \n",
       "Q 17.96875 -1.421875 11.734375 6.484375 \n",
       "Q 5.515625 14.40625 5.515625 27.296875 \n",
       "Q 5.515625 40.1875 11.734375 48.09375 \n",
       "Q 17.96875 56 27.875 56 \n",
       "Q 33.9375 56 38.25 53.625 \n",
       "Q 42.578125 51.265625 45.40625 46.390625 \n",
       "z\n",
       "M 14.796875 27.296875 \n",
       "Q 14.796875 17.390625 18.875 11.75 \n",
       "Q 22.953125 6.109375 30.078125 6.109375 \n",
       "Q 37.203125 6.109375 41.296875 11.75 \n",
       "Q 45.40625 17.390625 45.40625 27.296875 \n",
       "Q 45.40625 37.203125 41.296875 42.84375 \n",
       "Q 37.203125 48.484375 30.078125 48.484375 \n",
       "Q 22.953125 48.484375 18.875 42.84375 \n",
       "Q 14.796875 37.203125 14.796875 27.296875 \n",
       "z\n",
       "\" id=\"DejaVuSans-100\"/>\n",
       "      <path d=\"M 56.203125 29.59375 \n",
       "L 56.203125 25.203125 \n",
       "L 14.890625 25.203125 \n",
       "Q 15.484375 15.921875 20.484375 11.0625 \n",
       "Q 25.484375 6.203125 34.421875 6.203125 \n",
       "Q 39.59375 6.203125 44.453125 7.46875 \n",
       "Q 49.3125 8.734375 54.109375 11.28125 \n",
       "L 54.109375 2.78125 \n",
       "Q 49.265625 0.734375 44.1875 -0.34375 \n",
       "Q 39.109375 -1.421875 33.890625 -1.421875 \n",
       "Q 20.796875 -1.421875 13.15625 6.1875 \n",
       "Q 5.515625 13.8125 5.515625 26.8125 \n",
       "Q 5.515625 40.234375 12.765625 48.109375 \n",
       "Q 20.015625 56 32.328125 56 \n",
       "Q 43.359375 56 49.78125 48.890625 \n",
       "Q 56.203125 41.796875 56.203125 29.59375 \n",
       "z\n",
       "M 47.21875 32.234375 \n",
       "Q 47.125 39.59375 43.09375 43.984375 \n",
       "Q 39.0625 48.390625 32.421875 48.390625 \n",
       "Q 24.90625 48.390625 20.390625 44.140625 \n",
       "Q 15.875 39.890625 15.1875 32.171875 \n",
       "z\n",
       "\" id=\"DejaVuSans-101\"/>\n",
       "      <path d=\"M 18.109375 8.203125 \n",
       "L 18.109375 -20.796875 \n",
       "L 9.078125 -20.796875 \n",
       "L 9.078125 54.6875 \n",
       "L 18.109375 54.6875 \n",
       "L 18.109375 46.390625 \n",
       "Q 20.953125 51.265625 25.265625 53.625 \n",
       "Q 29.59375 56 35.59375 56 \n",
       "Q 45.5625 56 51.78125 48.09375 \n",
       "Q 58.015625 40.1875 58.015625 27.296875 \n",
       "Q 58.015625 14.40625 51.78125 6.484375 \n",
       "Q 45.5625 -1.421875 35.59375 -1.421875 \n",
       "Q 29.59375 -1.421875 25.265625 0.953125 \n",
       "Q 20.953125 3.328125 18.109375 8.203125 \n",
       "z\n",
       "M 48.6875 27.296875 \n",
       "Q 48.6875 37.203125 44.609375 42.84375 \n",
       "Q 40.53125 48.484375 33.40625 48.484375 \n",
       "Q 26.265625 48.484375 22.1875 42.84375 \n",
       "Q 18.109375 37.203125 18.109375 27.296875 \n",
       "Q 18.109375 17.390625 22.1875 11.75 \n",
       "Q 26.265625 6.109375 33.40625 6.109375 \n",
       "Q 40.53125 6.109375 44.609375 11.75 \n",
       "Q 48.6875 17.390625 48.6875 27.296875 \n",
       "z\n",
       "\" id=\"DejaVuSans-112\"/>\n",
       "      <path d=\"M 18.3125 70.21875 \n",
       "L 18.3125 54.6875 \n",
       "L 36.8125 54.6875 \n",
       "L 36.8125 47.703125 \n",
       "L 18.3125 47.703125 \n",
       "L 18.3125 18.015625 \n",
       "Q 18.3125 11.328125 20.140625 9.421875 \n",
       "Q 21.96875 7.515625 27.59375 7.515625 \n",
       "L 36.8125 7.515625 \n",
       "L 36.8125 0 \n",
       "L 27.59375 0 \n",
       "Q 17.1875 0 13.234375 3.875 \n",
       "Q 9.28125 7.765625 9.28125 18.015625 \n",
       "L 9.28125 47.703125 \n",
       "L 2.6875 47.703125 \n",
       "L 2.6875 54.6875 \n",
       "L 9.28125 54.6875 \n",
       "L 9.28125 70.21875 \n",
       "z\n",
       "\" id=\"DejaVuSans-116\"/>\n",
       "      <path d=\"M 54.890625 33.015625 \n",
       "L 54.890625 0 \n",
       "L 45.90625 0 \n",
       "L 45.90625 32.71875 \n",
       "Q 45.90625 40.484375 42.875 44.328125 \n",
       "Q 39.84375 48.1875 33.796875 48.1875 \n",
       "Q 26.515625 48.1875 22.3125 43.546875 \n",
       "Q 18.109375 38.921875 18.109375 30.90625 \n",
       "L 18.109375 0 \n",
       "L 9.078125 0 \n",
       "L 9.078125 75.984375 \n",
       "L 18.109375 75.984375 \n",
       "L 18.109375 46.1875 \n",
       "Q 21.34375 51.125 25.703125 53.5625 \n",
       "Q 30.078125 56 35.796875 56 \n",
       "Q 45.21875 56 50.046875 50.171875 \n",
       "Q 54.890625 44.34375 54.890625 33.015625 \n",
       "z\n",
       "\" id=\"DejaVuSans-104\"/>\n",
       "     </defs>\n",
       "     <g transform=\"translate(164.155905 208.959886)scale(0.11 -0.11)\">\n",
       "      <use xlink:href=\"#DejaVuSans-109\"/>\n",
       "      <use x=\"97.412109\" xlink:href=\"#DejaVuSans-97\"/>\n",
       "      <use x=\"158.691406\" xlink:href=\"#DejaVuSans-120\"/>\n",
       "      <use x=\"217.871094\" xlink:href=\"#DejaVuSans-95\"/>\n",
       "      <use x=\"267.871094\" xlink:href=\"#DejaVuSans-100\"/>\n",
       "      <use x=\"331.347656\" xlink:href=\"#DejaVuSans-101\"/>\n",
       "      <use x=\"392.871094\" xlink:href=\"#DejaVuSans-112\"/>\n",
       "      <use x=\"456.347656\" xlink:href=\"#DejaVuSans-116\"/>\n",
       "      <use x=\"495.556641\" xlink:href=\"#DejaVuSans-104\"/>\n",
       "     </g>\n",
       "    </g>\n",
       "   </g>\n",
       "   <g id=\"matplotlib.axis_2\">\n",
       "    <g id=\"ytick_1\">\n",
       "     <g id=\"line2d_11\">\n",
       "      <path clip-path=\"url(#p6b13b53782)\" d=\"M 39.8313 177.977715 \n",
       "L 349.965354 177.977715 \n",
       "\" style=\"fill:none;stroke:#000000;stroke-linecap:square;stroke-opacity:0.1;stroke-width:0.5;\"/>\n",
       "     </g>\n",
       "     <g id=\"line2d_12\">\n",
       "      <defs>\n",
       "       <path d=\"M 0 0 \n",
       "L 3.5 0 \n",
       "\" id=\"m64214864dc\" style=\"stroke:#000000;stroke-width:0.5;\"/>\n",
       "      </defs>\n",
       "      <g>\n",
       "       <use style=\"stroke:#000000;stroke-width:0.5;\" x=\"39.8313\" xlink:href=\"#m64214864dc\" y=\"177.977715\"/>\n",
       "      </g>\n",
       "     </g>\n",
       "     <g id=\"text_7\">\n",
       "      <!-- $0.75$ -->\n",
       "      <defs>\n",
       "       <path d=\"M 10.6875 12.40625 \n",
       "L 21 12.40625 \n",
       "L 21 0 \n",
       "L 10.6875 0 \n",
       "z\n",
       "\" id=\"DejaVuSans-46\"/>\n",
       "       <path d=\"M 8.203125 72.90625 \n",
       "L 55.078125 72.90625 \n",
       "L 55.078125 68.703125 \n",
       "L 28.609375 0 \n",
       "L 18.3125 0 \n",
       "L 43.21875 64.59375 \n",
       "L 8.203125 64.59375 \n",
       "z\n",
       "\" id=\"DejaVuSans-55\"/>\n",
       "       <path d=\"M 10.796875 72.90625 \n",
       "L 49.515625 72.90625 \n",
       "L 49.515625 64.59375 \n",
       "L 19.828125 64.59375 \n",
       "L 19.828125 46.734375 \n",
       "Q 21.96875 47.46875 24.109375 47.828125 \n",
       "Q 26.265625 48.1875 28.421875 48.1875 \n",
       "Q 40.625 48.1875 47.75 41.5 \n",
       "Q 54.890625 34.8125 54.890625 23.390625 \n",
       "Q 54.890625 11.625 47.5625 5.09375 \n",
       "Q 40.234375 -1.421875 26.90625 -1.421875 \n",
       "Q 22.3125 -1.421875 17.546875 -0.640625 \n",
       "Q 12.796875 0.140625 7.71875 1.703125 \n",
       "L 7.71875 11.625 \n",
       "Q 12.109375 9.234375 16.796875 8.0625 \n",
       "Q 21.484375 6.890625 26.703125 6.890625 \n",
       "Q 35.15625 6.890625 40.078125 11.328125 \n",
       "Q 45.015625 15.765625 45.015625 23.390625 \n",
       "Q 45.015625 31 40.078125 35.4375 \n",
       "Q 35.15625 39.890625 26.703125 39.890625 \n",
       "Q 22.75 39.890625 18.8125 39.015625 \n",
       "Q 14.890625 38.140625 10.796875 36.28125 \n",
       "z\n",
       "\" id=\"DejaVuSans-53\"/>\n",
       "      </defs>\n",
       "      <g transform=\"translate(19.1313 181.01709)scale(0.08 -0.08)\">\n",
       "       <use transform=\"translate(0 0.78125)\" xlink:href=\"#DejaVuSans-48\"/>\n",
       "       <use transform=\"translate(63.623047 0.78125)\" xlink:href=\"#DejaVuSans-46\"/>\n",
       "       <use transform=\"translate(87.660156 0.78125)\" xlink:href=\"#DejaVuSans-55\"/>\n",
       "       <use transform=\"translate(151.283203 0.78125)\" xlink:href=\"#DejaVuSans-53\"/>\n",
       "      </g>\n",
       "     </g>\n",
       "    </g>\n",
       "    <g id=\"ytick_2\">\n",
       "     <g id=\"line2d_13\">\n",
       "      <path clip-path=\"url(#p6b13b53782)\" d=\"M 39.8313 137.046995 \n",
       "L 349.965354 137.046995 \n",
       "\" style=\"fill:none;stroke:#000000;stroke-linecap:square;stroke-opacity:0.1;stroke-width:0.5;\"/>\n",
       "     </g>\n",
       "     <g id=\"line2d_14\">\n",
       "      <g>\n",
       "       <use style=\"stroke:#000000;stroke-width:0.5;\" x=\"39.8313\" xlink:href=\"#m64214864dc\" y=\"137.046995\"/>\n",
       "      </g>\n",
       "     </g>\n",
       "     <g id=\"text_8\">\n",
       "      <!-- $0.80$ -->\n",
       "      <g transform=\"translate(18.6513 140.08637)scale(0.08 -0.08)\">\n",
       "       <use transform=\"translate(0 0.78125)\" xlink:href=\"#DejaVuSans-48\"/>\n",
       "       <use transform=\"translate(63.623047 0.78125)\" xlink:href=\"#DejaVuSans-46\"/>\n",
       "       <use transform=\"translate(92.785156 0.78125)\" xlink:href=\"#DejaVuSans-56\"/>\n",
       "       <use transform=\"translate(156.408203 0.78125)\" xlink:href=\"#DejaVuSans-48\"/>\n",
       "      </g>\n",
       "     </g>\n",
       "    </g>\n",
       "    <g id=\"ytick_3\">\n",
       "     <g id=\"line2d_15\">\n",
       "      <path clip-path=\"url(#p6b13b53782)\" d=\"M 39.8313 96.116275 \n",
       "L 349.965354 96.116275 \n",
       "\" style=\"fill:none;stroke:#000000;stroke-linecap:square;stroke-opacity:0.1;stroke-width:0.5;\"/>\n",
       "     </g>\n",
       "     <g id=\"line2d_16\">\n",
       "      <g>\n",
       "       <use style=\"stroke:#000000;stroke-width:0.5;\" x=\"39.8313\" xlink:href=\"#m64214864dc\" y=\"96.116275\"/>\n",
       "      </g>\n",
       "     </g>\n",
       "     <g id=\"text_9\">\n",
       "      <!-- $0.85$ -->\n",
       "      <g transform=\"translate(18.6513 99.15565)scale(0.08 -0.08)\">\n",
       "       <use transform=\"translate(0 0.78125)\" xlink:href=\"#DejaVuSans-48\"/>\n",
       "       <use transform=\"translate(63.623047 0.78125)\" xlink:href=\"#DejaVuSans-46\"/>\n",
       "       <use transform=\"translate(92.785156 0.78125)\" xlink:href=\"#DejaVuSans-56\"/>\n",
       "       <use transform=\"translate(156.408203 0.78125)\" xlink:href=\"#DejaVuSans-53\"/>\n",
       "      </g>\n",
       "     </g>\n",
       "    </g>\n",
       "    <g id=\"ytick_4\">\n",
       "     <g id=\"line2d_17\">\n",
       "      <path clip-path=\"url(#p6b13b53782)\" d=\"M 39.8313 55.185555 \n",
       "L 349.965354 55.185555 \n",
       "\" style=\"fill:none;stroke:#000000;stroke-linecap:square;stroke-opacity:0.1;stroke-width:0.5;\"/>\n",
       "     </g>\n",
       "     <g id=\"line2d_18\">\n",
       "      <g>\n",
       "       <use style=\"stroke:#000000;stroke-width:0.5;\" x=\"39.8313\" xlink:href=\"#m64214864dc\" y=\"55.185555\"/>\n",
       "      </g>\n",
       "     </g>\n",
       "     <g id=\"text_10\">\n",
       "      <!-- $0.90$ -->\n",
       "      <defs>\n",
       "       <path d=\"M 10.984375 1.515625 \n",
       "L 10.984375 10.5 \n",
       "Q 14.703125 8.734375 18.5 7.8125 \n",
       "Q 22.3125 6.890625 25.984375 6.890625 \n",
       "Q 35.75 6.890625 40.890625 13.453125 \n",
       "Q 46.046875 20.015625 46.78125 33.40625 \n",
       "Q 43.953125 29.203125 39.59375 26.953125 \n",
       "Q 35.25 24.703125 29.984375 24.703125 \n",
       "Q 19.046875 24.703125 12.671875 31.3125 \n",
       "Q 6.296875 37.9375 6.296875 49.421875 \n",
       "Q 6.296875 60.640625 12.9375 67.421875 \n",
       "Q 19.578125 74.21875 30.609375 74.21875 \n",
       "Q 43.265625 74.21875 49.921875 64.515625 \n",
       "Q 56.59375 54.828125 56.59375 36.375 \n",
       "Q 56.59375 19.140625 48.40625 8.859375 \n",
       "Q 40.234375 -1.421875 26.421875 -1.421875 \n",
       "Q 22.703125 -1.421875 18.890625 -0.6875 \n",
       "Q 15.09375 0.046875 10.984375 1.515625 \n",
       "z\n",
       "M 30.609375 32.421875 \n",
       "Q 37.25 32.421875 41.125 36.953125 \n",
       "Q 45.015625 41.5 45.015625 49.421875 \n",
       "Q 45.015625 57.28125 41.125 61.84375 \n",
       "Q 37.25 66.40625 30.609375 66.40625 \n",
       "Q 23.96875 66.40625 20.09375 61.84375 \n",
       "Q 16.21875 57.28125 16.21875 49.421875 \n",
       "Q 16.21875 41.5 20.09375 36.953125 \n",
       "Q 23.96875 32.421875 30.609375 32.421875 \n",
       "z\n",
       "\" id=\"DejaVuSans-57\"/>\n",
       "      </defs>\n",
       "      <g transform=\"translate(18.4913 58.22493)scale(0.08 -0.08)\">\n",
       "       <use transform=\"translate(0 0.78125)\" xlink:href=\"#DejaVuSans-48\"/>\n",
       "       <use transform=\"translate(63.623047 0.78125)\" xlink:href=\"#DejaVuSans-46\"/>\n",
       "       <use transform=\"translate(95.410156 0.78125)\" xlink:href=\"#DejaVuSans-57\"/>\n",
       "       <use transform=\"translate(159.033203 0.78125)\" xlink:href=\"#DejaVuSans-48\"/>\n",
       "      </g>\n",
       "     </g>\n",
       "    </g>\n",
       "    <g id=\"ytick_5\">\n",
       "     <g id=\"line2d_19\">\n",
       "      <path clip-path=\"url(#p6b13b53782)\" d=\"M 39.8313 14.254835 \n",
       "L 349.965354 14.254835 \n",
       "\" style=\"fill:none;stroke:#000000;stroke-linecap:square;stroke-opacity:0.1;stroke-width:0.5;\"/>\n",
       "     </g>\n",
       "     <g id=\"line2d_20\">\n",
       "      <g>\n",
       "       <use style=\"stroke:#000000;stroke-width:0.5;\" x=\"39.8313\" xlink:href=\"#m64214864dc\" y=\"14.254835\"/>\n",
       "      </g>\n",
       "     </g>\n",
       "     <g id=\"text_11\">\n",
       "      <!-- $0.95$ -->\n",
       "      <g transform=\"translate(18.4913 17.29421)scale(0.08 -0.08)\">\n",
       "       <use transform=\"translate(0 0.78125)\" xlink:href=\"#DejaVuSans-48\"/>\n",
       "       <use transform=\"translate(63.623047 0.78125)\" xlink:href=\"#DejaVuSans-46\"/>\n",
       "       <use transform=\"translate(95.410156 0.78125)\" xlink:href=\"#DejaVuSans-57\"/>\n",
       "       <use transform=\"translate(159.033203 0.78125)\" xlink:href=\"#DejaVuSans-53\"/>\n",
       "      </g>\n",
       "     </g>\n",
       "    </g>\n",
       "    <g id=\"text_12\">\n",
       "     <!-- CV estimate of cross entropy -->\n",
       "     <defs>\n",
       "      <path d=\"M 64.40625 67.28125 \n",
       "L 64.40625 56.890625 \n",
       "Q 59.421875 61.53125 53.78125 63.8125 \n",
       "Q 48.140625 66.109375 41.796875 66.109375 \n",
       "Q 29.296875 66.109375 22.65625 58.46875 \n",
       "Q 16.015625 50.828125 16.015625 36.375 \n",
       "Q 16.015625 21.96875 22.65625 14.328125 \n",
       "Q 29.296875 6.6875 41.796875 6.6875 \n",
       "Q 48.140625 6.6875 53.78125 8.984375 \n",
       "Q 59.421875 11.28125 64.40625 15.921875 \n",
       "L 64.40625 5.609375 \n",
       "Q 59.234375 2.09375 53.4375 0.328125 \n",
       "Q 47.65625 -1.421875 41.21875 -1.421875 \n",
       "Q 24.65625 -1.421875 15.125 8.703125 \n",
       "Q 5.609375 18.84375 5.609375 36.375 \n",
       "Q 5.609375 53.953125 15.125 64.078125 \n",
       "Q 24.65625 74.21875 41.21875 74.21875 \n",
       "Q 47.75 74.21875 53.53125 72.484375 \n",
       "Q 59.328125 70.75 64.40625 67.28125 \n",
       "z\n",
       "\" id=\"DejaVuSans-67\"/>\n",
       "      <path d=\"M 28.609375 0 \n",
       "L 0.78125 72.90625 \n",
       "L 11.078125 72.90625 \n",
       "L 34.1875 11.53125 \n",
       "L 57.328125 72.90625 \n",
       "L 67.578125 72.90625 \n",
       "L 39.796875 0 \n",
       "z\n",
       "\" id=\"DejaVuSans-86\"/>\n",
       "      <path id=\"DejaVuSans-32\"/>\n",
       "      <path d=\"M 44.28125 53.078125 \n",
       "L 44.28125 44.578125 \n",
       "Q 40.484375 46.53125 36.375 47.5 \n",
       "Q 32.28125 48.484375 27.875 48.484375 \n",
       "Q 21.1875 48.484375 17.84375 46.4375 \n",
       "Q 14.5 44.390625 14.5 40.28125 \n",
       "Q 14.5 37.15625 16.890625 35.375 \n",
       "Q 19.28125 33.59375 26.515625 31.984375 \n",
       "L 29.59375 31.296875 \n",
       "Q 39.15625 29.25 43.1875 25.515625 \n",
       "Q 47.21875 21.78125 47.21875 15.09375 \n",
       "Q 47.21875 7.46875 41.1875 3.015625 \n",
       "Q 35.15625 -1.421875 24.609375 -1.421875 \n",
       "Q 20.21875 -1.421875 15.453125 -0.5625 \n",
       "Q 10.6875 0.296875 5.421875 2 \n",
       "L 5.421875 11.28125 \n",
       "Q 10.40625 8.6875 15.234375 7.390625 \n",
       "Q 20.0625 6.109375 24.8125 6.109375 \n",
       "Q 31.15625 6.109375 34.5625 8.28125 \n",
       "Q 37.984375 10.453125 37.984375 14.40625 \n",
       "Q 37.984375 18.0625 35.515625 20.015625 \n",
       "Q 33.0625 21.96875 24.703125 23.78125 \n",
       "L 21.578125 24.515625 \n",
       "Q 13.234375 26.265625 9.515625 29.90625 \n",
       "Q 5.8125 33.546875 5.8125 39.890625 \n",
       "Q 5.8125 47.609375 11.28125 51.796875 \n",
       "Q 16.75 56 26.8125 56 \n",
       "Q 31.78125 56 36.171875 55.265625 \n",
       "Q 40.578125 54.546875 44.28125 53.078125 \n",
       "z\n",
       "\" id=\"DejaVuSans-115\"/>\n",
       "      <path d=\"M 9.421875 54.6875 \n",
       "L 18.40625 54.6875 \n",
       "L 18.40625 0 \n",
       "L 9.421875 0 \n",
       "z\n",
       "M 9.421875 75.984375 \n",
       "L 18.40625 75.984375 \n",
       "L 18.40625 64.59375 \n",
       "L 9.421875 64.59375 \n",
       "z\n",
       "\" id=\"DejaVuSans-105\"/>\n",
       "      <path d=\"M 30.609375 48.390625 \n",
       "Q 23.390625 48.390625 19.1875 42.75 \n",
       "Q 14.984375 37.109375 14.984375 27.296875 \n",
       "Q 14.984375 17.484375 19.15625 11.84375 \n",
       "Q 23.34375 6.203125 30.609375 6.203125 \n",
       "Q 37.796875 6.203125 41.984375 11.859375 \n",
       "Q 46.1875 17.53125 46.1875 27.296875 \n",
       "Q 46.1875 37.015625 41.984375 42.703125 \n",
       "Q 37.796875 48.390625 30.609375 48.390625 \n",
       "z\n",
       "M 30.609375 56 \n",
       "Q 42.328125 56 49.015625 48.375 \n",
       "Q 55.71875 40.765625 55.71875 27.296875 \n",
       "Q 55.71875 13.875 49.015625 6.21875 \n",
       "Q 42.328125 -1.421875 30.609375 -1.421875 \n",
       "Q 18.84375 -1.421875 12.171875 6.21875 \n",
       "Q 5.515625 13.875 5.515625 27.296875 \n",
       "Q 5.515625 40.765625 12.171875 48.375 \n",
       "Q 18.84375 56 30.609375 56 \n",
       "z\n",
       "\" id=\"DejaVuSans-111\"/>\n",
       "      <path d=\"M 37.109375 75.984375 \n",
       "L 37.109375 68.5 \n",
       "L 28.515625 68.5 \n",
       "Q 23.6875 68.5 21.796875 66.546875 \n",
       "Q 19.921875 64.59375 19.921875 59.515625 \n",
       "L 19.921875 54.6875 \n",
       "L 34.71875 54.6875 \n",
       "L 34.71875 47.703125 \n",
       "L 19.921875 47.703125 \n",
       "L 19.921875 0 \n",
       "L 10.890625 0 \n",
       "L 10.890625 47.703125 \n",
       "L 2.296875 47.703125 \n",
       "L 2.296875 54.6875 \n",
       "L 10.890625 54.6875 \n",
       "L 10.890625 58.5 \n",
       "Q 10.890625 67.625 15.140625 71.796875 \n",
       "Q 19.390625 75.984375 28.609375 75.984375 \n",
       "z\n",
       "\" id=\"DejaVuSans-102\"/>\n",
       "      <path d=\"M 48.78125 52.59375 \n",
       "L 48.78125 44.1875 \n",
       "Q 44.96875 46.296875 41.140625 47.34375 \n",
       "Q 37.3125 48.390625 33.40625 48.390625 \n",
       "Q 24.65625 48.390625 19.8125 42.84375 \n",
       "Q 14.984375 37.3125 14.984375 27.296875 \n",
       "Q 14.984375 17.28125 19.8125 11.734375 \n",
       "Q 24.65625 6.203125 33.40625 6.203125 \n",
       "Q 37.3125 6.203125 41.140625 7.25 \n",
       "Q 44.96875 8.296875 48.78125 10.40625 \n",
       "L 48.78125 2.09375 \n",
       "Q 45.015625 0.34375 40.984375 -0.53125 \n",
       "Q 36.96875 -1.421875 32.421875 -1.421875 \n",
       "Q 20.0625 -1.421875 12.78125 6.34375 \n",
       "Q 5.515625 14.109375 5.515625 27.296875 \n",
       "Q 5.515625 40.671875 12.859375 48.328125 \n",
       "Q 20.21875 56 33.015625 56 \n",
       "Q 37.15625 56 41.109375 55.140625 \n",
       "Q 45.0625 54.296875 48.78125 52.59375 \n",
       "z\n",
       "\" id=\"DejaVuSans-99\"/>\n",
       "      <path d=\"M 41.109375 46.296875 \n",
       "Q 39.59375 47.171875 37.8125 47.578125 \n",
       "Q 36.03125 48 33.890625 48 \n",
       "Q 26.265625 48 22.1875 43.046875 \n",
       "Q 18.109375 38.09375 18.109375 28.8125 \n",
       "L 18.109375 0 \n",
       "L 9.078125 0 \n",
       "L 9.078125 54.6875 \n",
       "L 18.109375 54.6875 \n",
       "L 18.109375 46.1875 \n",
       "Q 20.953125 51.171875 25.484375 53.578125 \n",
       "Q 30.03125 56 36.53125 56 \n",
       "Q 37.453125 56 38.578125 55.875 \n",
       "Q 39.703125 55.765625 41.0625 55.515625 \n",
       "z\n",
       "\" id=\"DejaVuSans-114\"/>\n",
       "      <path d=\"M 54.890625 33.015625 \n",
       "L 54.890625 0 \n",
       "L 45.90625 0 \n",
       "L 45.90625 32.71875 \n",
       "Q 45.90625 40.484375 42.875 44.328125 \n",
       "Q 39.84375 48.1875 33.796875 48.1875 \n",
       "Q 26.515625 48.1875 22.3125 43.546875 \n",
       "Q 18.109375 38.921875 18.109375 30.90625 \n",
       "L 18.109375 0 \n",
       "L 9.078125 0 \n",
       "L 9.078125 54.6875 \n",
       "L 18.109375 54.6875 \n",
       "L 18.109375 46.1875 \n",
       "Q 21.34375 51.125 25.703125 53.5625 \n",
       "Q 30.078125 56 35.796875 56 \n",
       "Q 45.21875 56 50.046875 50.171875 \n",
       "Q 54.890625 44.34375 54.890625 33.015625 \n",
       "z\n",
       "\" id=\"DejaVuSans-110\"/>\n",
       "      <path d=\"M 32.171875 -5.078125 \n",
       "Q 28.375 -14.84375 24.75 -17.8125 \n",
       "Q 21.140625 -20.796875 15.09375 -20.796875 \n",
       "L 7.90625 -20.796875 \n",
       "L 7.90625 -13.28125 \n",
       "L 13.1875 -13.28125 \n",
       "Q 16.890625 -13.28125 18.9375 -11.515625 \n",
       "Q 21 -9.765625 23.484375 -3.21875 \n",
       "L 25.09375 0.875 \n",
       "L 2.984375 54.6875 \n",
       "L 12.5 54.6875 \n",
       "L 29.59375 11.921875 \n",
       "L 46.6875 54.6875 \n",
       "L 56.203125 54.6875 \n",
       "z\n",
       "\" id=\"DejaVuSans-121\"/>\n",
       "     </defs>\n",
       "     <g transform=\"translate(12.203643 173.727422)rotate(-90)scale(0.11 -0.11)\">\n",
       "      <use xlink:href=\"#DejaVuSans-67\"/>\n",
       "      <use x=\"69.824219\" xlink:href=\"#DejaVuSans-86\"/>\n",
       "      <use x=\"138.232422\" xlink:href=\"#DejaVuSans-32\"/>\n",
       "      <use x=\"170.019531\" xlink:href=\"#DejaVuSans-101\"/>\n",
       "      <use x=\"231.542969\" xlink:href=\"#DejaVuSans-115\"/>\n",
       "      <use x=\"283.642578\" xlink:href=\"#DejaVuSans-116\"/>\n",
       "      <use x=\"322.851562\" xlink:href=\"#DejaVuSans-105\"/>\n",
       "      <use x=\"350.634766\" xlink:href=\"#DejaVuSans-109\"/>\n",
       "      <use x=\"448.046875\" xlink:href=\"#DejaVuSans-97\"/>\n",
       "      <use x=\"509.326172\" xlink:href=\"#DejaVuSans-116\"/>\n",
       "      <use x=\"548.535156\" xlink:href=\"#DejaVuSans-101\"/>\n",
       "      <use x=\"610.058594\" xlink:href=\"#DejaVuSans-32\"/>\n",
       "      <use x=\"641.845703\" xlink:href=\"#DejaVuSans-111\"/>\n",
       "      <use x=\"703.027344\" xlink:href=\"#DejaVuSans-102\"/>\n",
       "      <use x=\"738.232422\" xlink:href=\"#DejaVuSans-32\"/>\n",
       "      <use x=\"770.019531\" xlink:href=\"#DejaVuSans-99\"/>\n",
       "      <use x=\"825\" xlink:href=\"#DejaVuSans-114\"/>\n",
       "      <use x=\"863.863281\" xlink:href=\"#DejaVuSans-111\"/>\n",
       "      <use x=\"925.044922\" xlink:href=\"#DejaVuSans-115\"/>\n",
       "      <use x=\"977.144531\" xlink:href=\"#DejaVuSans-115\"/>\n",
       "      <use x=\"1029.244141\" xlink:href=\"#DejaVuSans-32\"/>\n",
       "      <use x=\"1061.03125\" xlink:href=\"#DejaVuSans-101\"/>\n",
       "      <use x=\"1122.554688\" xlink:href=\"#DejaVuSans-110\"/>\n",
       "      <use x=\"1185.933594\" xlink:href=\"#DejaVuSans-116\"/>\n",
       "      <use x=\"1225.142578\" xlink:href=\"#DejaVuSans-114\"/>\n",
       "      <use x=\"1264.005859\" xlink:href=\"#DejaVuSans-111\"/>\n",
       "      <use x=\"1325.1875\" xlink:href=\"#DejaVuSans-112\"/>\n",
       "      <use x=\"1388.664062\" xlink:href=\"#DejaVuSans-121\"/>\n",
       "     </g>\n",
       "    </g>\n",
       "   </g>\n",
       "   <g id=\"line2d_21\">\n",
       "    <path clip-path=\"url(#p6b13b53782)\" d=\"M 48.608679 35.642621 \n",
       "L 81.117489 150.736509 \n",
       "L 113.6263 157.286999 \n",
       "L 146.135111 149.692432 \n",
       "L 178.643922 124.946511 \n",
       "L 211.152732 116.069121 \n",
       "L 243.661543 75.503755 \n",
       "L 276.170354 55.279014 \n",
       "L 308.679165 29.393381 \n",
       "L 341.187975 8.000432 \n",
       "\" style=\"fill:none;stroke:#009afa;\"/>\n",
       "   </g>\n",
       "   <g id=\"line2d_22\">\n",
       "    <path clip-path=\"url(#p6b13b53782)\" d=\"M 48.608679 35.642621 \n",
       "L 81.117489 159.209744 \n",
       "L 113.6263 177.142912 \n",
       "L 146.135111 180.193318 \n",
       "L 178.643922 162.365495 \n",
       "L 211.152732 135.478235 \n",
       "L 243.661543 123.98143 \n",
       "L 276.170354 100.507694 \n",
       "L 308.679165 69.786312 \n",
       "L 341.187975 26.775868 \n",
       "\" style=\"fill:none;stroke:#e36f47;\"/>\n",
       "   </g>\n",
       "   <g id=\"patch_3\">\n",
       "    <path d=\"M 39.8313 185.359104 \n",
       "L 39.8313 2.834646 \n",
       "\" style=\"fill:none;stroke:#000000;stroke-linecap:square;stroke-linejoin:miter;\"/>\n",
       "   </g>\n",
       "   <g id=\"patch_4\">\n",
       "    <path d=\"M 39.8313 185.359104 \n",
       "L 349.965354 185.359104 \n",
       "\" style=\"fill:none;stroke:#000000;stroke-linecap:square;stroke-linejoin:miter;\"/>\n",
       "   </g>\n",
       "   <g id=\"legend_1\">\n",
       "    <g id=\"patch_5\">\n",
       "     <path d=\"M 300.940354 181.359104 \n",
       "L 345.965354 181.359104 \n",
       "L 345.965354 149.074104 \n",
       "L 300.940354 149.074104 \n",
       "z\n",
       "\" style=\"fill:#ffffff;stroke:#000000;stroke-linejoin:miter;\"/>\n",
       "    </g>\n",
       "    <g id=\"line2d_23\">\n",
       "     <path d=\"M 307.340354 158.752854 \n",
       "L 323.340354 158.752854 \n",
       "\" style=\"fill:none;stroke:#009afa;stroke-linejoin:miter;\"/>\n",
       "    </g>\n",
       "    <g id=\"line2d_24\"/>\n",
       "    <g id=\"text_13\">\n",
       "     <!-- y1 -->\n",
       "     <g transform=\"translate(329.740354 161.552854)scale(0.08 -0.08)\">\n",
       "      <use xlink:href=\"#DejaVuSans-121\"/>\n",
       "      <use x=\"59.179688\" xlink:href=\"#DejaVuSans-49\"/>\n",
       "     </g>\n",
       "    </g>\n",
       "    <g id=\"line2d_25\">\n",
       "     <path d=\"M 307.340354 170.495354 \n",
       "L 323.340354 170.495354 \n",
       "\" style=\"fill:none;stroke:#e36f47;stroke-linejoin:miter;\"/>\n",
       "    </g>\n",
       "    <g id=\"line2d_26\"/>\n",
       "    <g id=\"text_14\">\n",
       "     <!-- y2 -->\n",
       "     <g transform=\"translate(329.740354 173.295354)scale(0.08 -0.08)\">\n",
       "      <use xlink:href=\"#DejaVuSans-121\"/>\n",
       "      <use x=\"59.179688\" xlink:href=\"#DejaVuSans-50\"/>\n",
       "     </g>\n",
       "    </g>\n",
       "   </g>\n",
       "  </g>\n",
       " </g>\n",
       " <defs>\n",
       "  <clipPath id=\"p6b13b53782\">\n",
       "   <rect height=\"182.524459\" width=\"310.134055\" x=\"39.8313\" y=\"2.834646\"/>\n",
       "  </clipPath>\n",
       " </defs>\n",
       "</svg>\n"
      ]
     },
     "metadata": {},
     "execution_count": 136
    }
   ],
   "cell_type": "code",
   "source": [
    "pipe.evo_tree_classifier.seed = 123\n",
    "curve = learning_curve(mach,\n",
    "                       range=r,\n",
    "                       resampling=CV(nfolds=6),\n",
    "                       measure=cross_entropy)\n",
    "plot!(curve.parameter_values, curve.measurements)"
   ],
   "metadata": {},
   "execution_count": 136
  },
  {
   "cell_type": "markdown",
   "source": [
    "---\n",
    "\n",
    "*This notebook was generated using [Literate.jl](https://github.com/fredrikekre/Literate.jl).*"
   ],
   "metadata": {}
  }
 ],
 "nbformat_minor": 3,
 "metadata": {
  "language_info": {
   "file_extension": ".jl",
   "mimetype": "application/julia",
   "name": "julia",
   "version": "1.4.2"
  },
  "kernelspec": {
   "name": "julia-1.4",
   "display_name": "Julia 1.4.2",
   "language": "julia"
  }
 },
 "nbformat": 4
}
