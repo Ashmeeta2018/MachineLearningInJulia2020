{
 "cells": [
  {
   "cell_type": "markdown",
   "metadata": {},
   "source": [
    "# Machine Learning in Julia, JuliaCon2020"
   ]
  },
  {
   "cell_type": "markdown",
   "metadata": {},
   "source": [
    "A workshop introducing the machine learning toolbox\n",
    "[MLJ](https://alan-turing-institute.github.io/MLJ.jl/stable/)"
   ]
  },
  {
   "cell_type": "code",
   "execution_count": 1,
   "metadata": {},
   "outputs": [
    {
     "name": "stderr",
     "output_type": "stream",
     "text": [
      "\u001b[32m\u001b[1m Activating\u001b[22m\u001b[39m environment at `~/Dropbox/Julia7/MLJ/MachineLearningInJulia2020/Project.toml`\n"
     ]
    }
   ],
   "source": [
    "include(joinpath(@__DIR__, \"setup.jl\"))"
   ]
  },
  {
   "cell_type": "markdown",
   "metadata": {},
   "source": [
    "## Part 1: Data representation"
   ]
  },
  {
   "cell_type": "markdown",
   "metadata": {},
   "source": [
    "> **Goals:**\n",
    "> 1. Learn how MLJ specifies it's data requirements using \"scientific\" types\n",
    "> 2. Understand the options for representing tabular data\n",
    "> 3. Learn how to inspect and fix the representation of data to meet MLJ requirements"
   ]
  },
  {
   "cell_type": "markdown",
   "metadata": {},
   "source": [
    "### Scientific types"
   ]
  },
  {
   "cell_type": "markdown",
   "metadata": {},
   "source": [
    "To help you focus on the intended *purpose* or *interpretation* of\n",
    "data, MLJ models specify data requirements using *scientific types*,\n",
    "instead of machine types. An example of a scientific type is\n",
    "`OrderedFactor`. The other basic \"scalar\" scientific types are\n",
    "illustrated below:"
   ]
  },
  {
   "cell_type": "markdown",
   "metadata": {},
   "source": [
    "![](assets/scitypes.png)"
   ]
  },
  {
   "cell_type": "markdown",
   "metadata": {},
   "source": [
    "A scientific type is an ordinary Julia type (so it can be used for\n",
    "method dispatch, for example) but it usually has no instances. The\n",
    "`scitype` function is used to articulate MLJ's convention about how\n",
    "different machine types will be interpreted by MLJ models:"
   ]
  },
  {
   "cell_type": "code",
   "execution_count": 2,
   "metadata": {},
   "outputs": [
    {
     "data": {
      "text/plain": [
       "Continuous"
      ]
     },
     "execution_count": 2,
     "metadata": {},
     "output_type": "execute_result"
    }
   ],
   "source": [
    "using MLJ\n",
    "scitype(3.141)"
   ]
  },
  {
   "cell_type": "code",
   "execution_count": 3,
   "metadata": {},
   "outputs": [
    {
     "data": {
      "text/plain": [
       "AbstractArray{Continuous,1}"
      ]
     },
     "execution_count": 3,
     "metadata": {},
     "output_type": "execute_result"
    }
   ],
   "source": [
    "time = [2.3, 4.5, 4.2, 1.8, 7.1]\n",
    "scitype(time)"
   ]
  },
  {
   "cell_type": "markdown",
   "metadata": {},
   "source": [
    "To fix data which MLJ is interpreting incorrectly, we use the\n",
    "`coerce` method:"
   ]
  },
  {
   "cell_type": "code",
   "execution_count": 4,
   "metadata": {},
   "outputs": [
    {
     "data": {
      "text/plain": [
       "AbstractArray{Count,1}"
      ]
     },
     "execution_count": 4,
     "metadata": {},
     "output_type": "execute_result"
    }
   ],
   "source": [
    "height = [185, 153, 163, 114, 180]\n",
    "scitype(height)"
   ]
  },
  {
   "cell_type": "code",
   "execution_count": 5,
   "metadata": {},
   "outputs": [
    {
     "data": {
      "text/plain": [
       "5-element Array{Float64,1}:\n",
       " 185.0\n",
       " 153.0\n",
       " 163.0\n",
       " 114.0\n",
       " 180.0"
      ]
     },
     "execution_count": 5,
     "metadata": {},
     "output_type": "execute_result"
    }
   ],
   "source": [
    "height = coerce(height, Continuous)"
   ]
  },
  {
   "cell_type": "markdown",
   "metadata": {},
   "source": [
    "Here's an example of data we would want interpreted as\n",
    "`OrderedFactor` but isn't:"
   ]
  },
  {
   "cell_type": "code",
   "execution_count": 6,
   "metadata": {},
   "outputs": [
    {
     "data": {
      "text/plain": [
       "AbstractArray{Union{Missing, Textual},1}"
      ]
     },
     "execution_count": 6,
     "metadata": {},
     "output_type": "execute_result"
    }
   ],
   "source": [
    "exam_mark = [\"rotten\", \"great\", \"bla\",  missing, \"great\"]\n",
    "scitype(exam_mark)"
   ]
  },
  {
   "cell_type": "code",
   "execution_count": 7,
   "metadata": {},
   "outputs": [
    {
     "name": "stderr",
     "output_type": "stream",
     "text": [
      "┌ Info: Trying to coerce from `Union{Missing, String}` to `OrderedFactor`.\n",
      "│ Coerced to `Union{Missing,OrderedFactor}` instead.\n",
      "└ @ MLJScientificTypes /Users/anthony/.julia/packages/MLJScientificTypes/wqfgN/src/convention/coerce.jl:126\n"
     ]
    },
    {
     "data": {
      "text/plain": [
       "5-element CategoricalArray{Union{Missing, String},1,UInt32}:\n",
       " \"rotten\"\n",
       " \"great\"\n",
       " \"bla\"\n",
       " missing\n",
       " \"great\""
      ]
     },
     "execution_count": 7,
     "metadata": {},
     "output_type": "execute_result"
    }
   ],
   "source": [
    "exam_mark = coerce(exam_mark, OrderedFactor)"
   ]
  },
  {
   "cell_type": "code",
   "execution_count": 8,
   "metadata": {},
   "outputs": [
    {
     "data": {
      "text/plain": [
       "3-element Array{String,1}:\n",
       " \"bla\"\n",
       " \"great\"\n",
       " \"rotten\""
      ]
     },
     "execution_count": 8,
     "metadata": {},
     "output_type": "execute_result"
    }
   ],
   "source": [
    "levels(exam_mark)"
   ]
  },
  {
   "cell_type": "markdown",
   "metadata": {},
   "source": [
    "Use `levels!` to put the classes in the right order:"
   ]
  },
  {
   "cell_type": "code",
   "execution_count": 9,
   "metadata": {},
   "outputs": [
    {
     "data": {
      "text/plain": [
       "true"
      ]
     },
     "execution_count": 9,
     "metadata": {},
     "output_type": "execute_result"
    }
   ],
   "source": [
    "levels!(exam_mark, [\"rotten\", \"bla\", \"great\"])\n",
    "exam_mark[1] < exam_mark[2]"
   ]
  },
  {
   "cell_type": "markdown",
   "metadata": {},
   "source": [
    "Subsampling preserves levels:"
   ]
  },
  {
   "cell_type": "code",
   "execution_count": 10,
   "metadata": {},
   "outputs": [
    {
     "data": {
      "text/plain": [
       "3-element Array{String,1}:\n",
       " \"rotten\"\n",
       " \"bla\"\n",
       " \"great\""
      ]
     },
     "execution_count": 10,
     "metadata": {},
     "output_type": "execute_result"
    }
   ],
   "source": [
    "levels(exam_mark[1:2])"
   ]
  },
  {
   "cell_type": "markdown",
   "metadata": {},
   "source": [
    "**Note on binary data.** There is no separate scientific type for binary\n",
    "data. Binary data is `OrderedFactor{2}` if it has an intrinsic\n",
    "\"true\" class (eg, \"pass\"/\"fail\") and `Multiclass{2}` otherwise (eg,\n",
    "\"male\"/\"female\")."
   ]
  },
  {
   "cell_type": "markdown",
   "metadata": {},
   "source": [
    "### Two-dimensional data"
   ]
  },
  {
   "cell_type": "markdown",
   "metadata": {},
   "source": [
    "Whenever it makes sense, MLJ Models generally expect two-dimensional\n",
    "data to be *tabular*. All the tabular formats implementing the\n",
    "[Tables.jl API](https://juliadata.github.io/Tables.jl/stable/) (see\n",
    "this\n",
    "[list](https://github.com/JuliaData/Tables.jl/blob/master/INTEGRATIONS.md))\n",
    "have a scientific type of `Table` and can be used with such models."
   ]
  },
  {
   "cell_type": "markdown",
   "metadata": {},
   "source": [
    "The simplest example of a table is a the julia native *column\n",
    "table*, which is just a named tuple of equal-length vectors:"
   ]
  },
  {
   "cell_type": "code",
   "execution_count": 10,
   "metadata": {},
   "outputs": [
    {
     "data": {
      "text/plain": [
       "(h = [185.0, 153.0, 163.0, 114.0, 180.0],\n",
       " e = Union{Missing, CategoricalValue{String,UInt32}}[\"rotten\", \"great\", \"bla\", missing, \"great\"],\n",
       " t = [2.3, 4.5, 4.2, 1.8, 7.1],)"
      ]
     },
     "execution_count": 10,
     "metadata": {},
     "output_type": "execute_result"
    }
   ],
   "source": [
    "column_table = (h=height, e=exam_mark, t=time)"
   ]
  },
  {
   "cell_type": "code",
   "execution_count": 11,
   "metadata": {},
   "outputs": [
    {
     "data": {
      "text/plain": [
       "Table{Union{AbstractArray{Union{Missing, OrderedFactor{3}},1}, AbstractArray{Continuous,1}}}"
      ]
     },
     "execution_count": 11,
     "metadata": {},
     "output_type": "execute_result"
    }
   ],
   "source": [
    "scitype(column_table)"
   ]
  },
  {
   "cell_type": "markdown",
   "metadata": {},
   "source": [
    "Notice the `Table{K}` type parameter `K` encodes the scientific\n",
    "types of the columns. To see the individual types of columns, we use\n",
    "the `schema` method instead:"
   ]
  },
  {
   "cell_type": "code",
   "execution_count": 12,
   "metadata": {},
   "outputs": [
    {
     "data": {
      "text/plain": [
       "┌\u001b[0m─────────\u001b[0m┬\u001b[0m─────────────────────────────────────────────────\u001b[0m┬\u001b[0m──────────────────────────────────\u001b[0m┐\u001b[0m\n",
       "│\u001b[0m\u001b[22m _.names \u001b[0m│\u001b[0m\u001b[22m _.types                                         \u001b[0m│\u001b[0m\u001b[22m _.scitypes                       \u001b[0m│\u001b[0m\n",
       "├\u001b[0m─────────\u001b[0m┼\u001b[0m─────────────────────────────────────────────────\u001b[0m┼\u001b[0m──────────────────────────────────\u001b[0m┤\u001b[0m\n",
       "│\u001b[0m h       \u001b[0m│\u001b[0m Float64                                         \u001b[0m│\u001b[0m Continuous                       \u001b[0m│\u001b[0m\n",
       "│\u001b[0m e       \u001b[0m│\u001b[0m Union{Missing, CategoricalValue{String,UInt32}} \u001b[0m│\u001b[0m Union{Missing, OrderedFactor{3}} \u001b[0m│\u001b[0m\n",
       "│\u001b[0m t       \u001b[0m│\u001b[0m Float64                                         \u001b[0m│\u001b[0m Continuous                       \u001b[0m│\u001b[0m\n",
       "└\u001b[0m─────────\u001b[0m┴\u001b[0m─────────────────────────────────────────────────\u001b[0m┴\u001b[0m──────────────────────────────────\u001b[0m┘\u001b[0m\n",
       "_.nrows = 5\n"
      ]
     },
     "execution_count": 12,
     "metadata": {},
     "output_type": "execute_result"
    }
   ],
   "source": [
    "schema(column_table)"
   ]
  },
  {
   "cell_type": "markdown",
   "metadata": {},
   "source": [
    "Here are four other examples of tables:"
   ]
  },
  {
   "cell_type": "code",
   "execution_count": 13,
   "metadata": {},
   "outputs": [
    {
     "data": {
      "text/plain": [
       "┌\u001b[0m─────────\u001b[0m┬\u001b[0m─────────\u001b[0m┬\u001b[0m────────────\u001b[0m┐\u001b[0m\n",
       "│\u001b[0m\u001b[22m _.names \u001b[0m│\u001b[0m\u001b[22m _.types \u001b[0m│\u001b[0m\u001b[22m _.scitypes \u001b[0m│\u001b[0m\n",
       "├\u001b[0m─────────\u001b[0m┼\u001b[0m─────────\u001b[0m┼\u001b[0m────────────\u001b[0m┤\u001b[0m\n",
       "│\u001b[0m a       \u001b[0m│\u001b[0m Int64   \u001b[0m│\u001b[0m Count      \u001b[0m│\u001b[0m\n",
       "│\u001b[0m b       \u001b[0m│\u001b[0m Float64 \u001b[0m│\u001b[0m Continuous \u001b[0m│\u001b[0m\n",
       "└\u001b[0m─────────\u001b[0m┴\u001b[0m─────────\u001b[0m┴\u001b[0m────────────\u001b[0m┘\u001b[0m\n",
       "_.nrows = 3\n"
      ]
     },
     "execution_count": 13,
     "metadata": {},
     "output_type": "execute_result"
    }
   ],
   "source": [
    "row_table = [(a=1, b=3.4),\n",
    "             (a=2, b=4.5),\n",
    "             (a=3, b=5.6)]\n",
    "schema(row_table)"
   ]
  },
  {
   "cell_type": "code",
   "execution_count": 15,
   "metadata": {},
   "outputs": [
    {
     "data": {
      "text/html": [
       "<table class=\"data-frame\"><thead><tr><th></th><th>h</th><th>e</th><th>t</th></tr><tr><th></th><th>Float64</th><th>Cat…?</th><th>Float64</th></tr></thead><tbody><p>5 rows × 3 columns</p><tr><th>1</th><td>185.0</td><td>rotten</td><td>2.3</td></tr><tr><th>2</th><td>153.0</td><td>great</td><td>4.5</td></tr><tr><th>3</th><td>163.0</td><td>bla</td><td>4.2</td></tr><tr><th>4</th><td>114.0</td><td><em>missing</em></td><td>1.8</td></tr><tr><th>5</th><td>180.0</td><td>great</td><td>7.1</td></tr></tbody></table>"
      ],
      "text/latex": [
       "\\begin{tabular}{r|ccc}\n",
       "\t& h & e & t\\\\\n",
       "\t\\hline\n",
       "\t& Float64 & Cat…? & Float64\\\\\n",
       "\t\\hline\n",
       "\t1 & 185.0 & rotten & 2.3 \\\\\n",
       "\t2 & 153.0 & great & 4.5 \\\\\n",
       "\t3 & 163.0 & bla & 4.2 \\\\\n",
       "\t4 & 114.0 & \\emph{missing} & 1.8 \\\\\n",
       "\t5 & 180.0 & great & 7.1 \\\\\n",
       "\\end{tabular}\n"
      ],
      "text/plain": [
       "5×3 DataFrame\n",
       "│ Row │ h       │ e       │ t       │\n",
       "│     │ \u001b[90mFloat64\u001b[39m │ \u001b[90mCat…?\u001b[39m   │ \u001b[90mFloat64\u001b[39m │\n",
       "├─────┼─────────┼─────────┼─────────┤\n",
       "│ 1   │ 185.0   │ rotten  │ 2.3     │\n",
       "│ 2   │ 153.0   │ great   │ 4.5     │\n",
       "│ 3   │ 163.0   │ bla     │ 4.2     │\n",
       "│ 4   │ 114.0   │ \u001b[90mmissing\u001b[39m │ 1.8     │\n",
       "│ 5   │ 180.0   │ great   │ 7.1     │"
      ]
     },
     "execution_count": 15,
     "metadata": {},
     "output_type": "execute_result"
    }
   ],
   "source": [
    "using DataFrames\n",
    "df = DataFrames.DataFrame(column_table)"
   ]
  },
  {
   "cell_type": "code",
   "execution_count": 16,
   "metadata": {},
   "outputs": [
    {
     "data": {
      "text/plain": [
       "┌\u001b[0m─────────\u001b[0m┬\u001b[0m─────────────────────────────────────────────────\u001b[0m┬\u001b[0m──────────────────────────────────\u001b[0m┐\u001b[0m\n",
       "│\u001b[0m\u001b[22m _.names \u001b[0m│\u001b[0m\u001b[22m _.types                                         \u001b[0m│\u001b[0m\u001b[22m _.scitypes                       \u001b[0m│\u001b[0m\n",
       "├\u001b[0m─────────\u001b[0m┼\u001b[0m─────────────────────────────────────────────────\u001b[0m┼\u001b[0m──────────────────────────────────\u001b[0m┤\u001b[0m\n",
       "│\u001b[0m h       \u001b[0m│\u001b[0m Float64                                         \u001b[0m│\u001b[0m Continuous                       \u001b[0m│\u001b[0m\n",
       "│\u001b[0m e       \u001b[0m│\u001b[0m Union{Missing, CategoricalValue{String,UInt32}} \u001b[0m│\u001b[0m Union{Missing, OrderedFactor{3}} \u001b[0m│\u001b[0m\n",
       "│\u001b[0m t       \u001b[0m│\u001b[0m Float64                                         \u001b[0m│\u001b[0m Continuous                       \u001b[0m│\u001b[0m\n",
       "└\u001b[0m─────────\u001b[0m┴\u001b[0m─────────────────────────────────────────────────\u001b[0m┴\u001b[0m──────────────────────────────────\u001b[0m┘\u001b[0m\n",
       "_.nrows = 5\n"
      ]
     },
     "execution_count": 16,
     "metadata": {},
     "output_type": "execute_result"
    }
   ],
   "source": [
    "schema(df)"
   ]
  },
  {
   "cell_type": "code",
   "execution_count": 17,
   "metadata": {},
   "outputs": [
    {
     "data": {
      "text/plain": [
       "┌\u001b[0m─────────────────────────\u001b[0m┬\u001b[0m─────────\u001b[0m┬\u001b[0m────────────\u001b[0m┐\u001b[0m\n",
       "│\u001b[0m\u001b[22m _.names                 \u001b[0m│\u001b[0m\u001b[22m _.types \u001b[0m│\u001b[0m\u001b[22m _.scitypes \u001b[0m│\u001b[0m\n",
       "├\u001b[0m─────────────────────────\u001b[0m┼\u001b[0m─────────\u001b[0m┼\u001b[0m────────────\u001b[0m┤\u001b[0m\n",
       "│\u001b[0m surgery                 \u001b[0m│\u001b[0m Int64   \u001b[0m│\u001b[0m Count      \u001b[0m│\u001b[0m\n",
       "│\u001b[0m age                     \u001b[0m│\u001b[0m Int64   \u001b[0m│\u001b[0m Count      \u001b[0m│\u001b[0m\n",
       "│\u001b[0m rectal_temperature      \u001b[0m│\u001b[0m Float64 \u001b[0m│\u001b[0m Continuous \u001b[0m│\u001b[0m\n",
       "│\u001b[0m pulse                   \u001b[0m│\u001b[0m Int64   \u001b[0m│\u001b[0m Count      \u001b[0m│\u001b[0m\n",
       "│\u001b[0m respiratory_rate        \u001b[0m│\u001b[0m Int64   \u001b[0m│\u001b[0m Count      \u001b[0m│\u001b[0m\n",
       "│\u001b[0m temperature_extremities \u001b[0m│\u001b[0m Int64   \u001b[0m│\u001b[0m Count      \u001b[0m│\u001b[0m\n",
       "│\u001b[0m mucous_membranes        \u001b[0m│\u001b[0m Int64   \u001b[0m│\u001b[0m Count      \u001b[0m│\u001b[0m\n",
       "│\u001b[0m capillary_refill_time   \u001b[0m│\u001b[0m Int64   \u001b[0m│\u001b[0m Count      \u001b[0m│\u001b[0m\n",
       "│\u001b[0m pain                    \u001b[0m│\u001b[0m Int64   \u001b[0m│\u001b[0m Count      \u001b[0m│\u001b[0m\n",
       "│\u001b[0m peristalsis             \u001b[0m│\u001b[0m Int64   \u001b[0m│\u001b[0m Count      \u001b[0m│\u001b[0m\n",
       "│\u001b[0m abdominal_distension    \u001b[0m│\u001b[0m Int64   \u001b[0m│\u001b[0m Count      \u001b[0m│\u001b[0m\n",
       "│\u001b[0m packed_cell_volume      \u001b[0m│\u001b[0m Float64 \u001b[0m│\u001b[0m Continuous \u001b[0m│\u001b[0m\n",
       "│\u001b[0m total_protein           \u001b[0m│\u001b[0m Float64 \u001b[0m│\u001b[0m Continuous \u001b[0m│\u001b[0m\n",
       "│\u001b[0m outcome                 \u001b[0m│\u001b[0m Int64   \u001b[0m│\u001b[0m Count      \u001b[0m│\u001b[0m\n",
       "│\u001b[0m surgical_lesion         \u001b[0m│\u001b[0m Int64   \u001b[0m│\u001b[0m Count      \u001b[0m│\u001b[0m\n",
       "│\u001b[0m cp_data                 \u001b[0m│\u001b[0m Int64   \u001b[0m│\u001b[0m Count      \u001b[0m│\u001b[0m\n",
       "└\u001b[0m─────────────────────────\u001b[0m┴\u001b[0m─────────\u001b[0m┴\u001b[0m────────────\u001b[0m┘\u001b[0m\n",
       "_.nrows = 366\n"
      ]
     },
     "execution_count": 17,
     "metadata": {},
     "output_type": "execute_result"
    }
   ],
   "source": [
    "using CSV\n",
    "file = CSV.File(joinpath(DIR, \"data\", \"horse.csv\"));\n",
    "schema(file) # (triggers a file read)"
   ]
  },
  {
   "cell_type": "markdown",
   "metadata": {},
   "source": [
    "Most MLJ models do not accept matrix in lieu of a table, but you can\n",
    "wrap a matrix as a table:"
   ]
  },
  {
   "cell_type": "code",
   "execution_count": 18,
   "metadata": {},
   "outputs": [
    {
     "data": {
      "text/plain": [
       "┌\u001b[0m─────────\u001b[0m┬\u001b[0m─────────\u001b[0m┬\u001b[0m────────────\u001b[0m┐\u001b[0m\n",
       "│\u001b[0m\u001b[22m _.names \u001b[0m│\u001b[0m\u001b[22m _.types \u001b[0m│\u001b[0m\u001b[22m _.scitypes \u001b[0m│\u001b[0m\n",
       "├\u001b[0m─────────\u001b[0m┼\u001b[0m─────────\u001b[0m┼\u001b[0m────────────\u001b[0m┤\u001b[0m\n",
       "│\u001b[0m x1      \u001b[0m│\u001b[0m Float64 \u001b[0m│\u001b[0m Continuous \u001b[0m│\u001b[0m\n",
       "│\u001b[0m x2      \u001b[0m│\u001b[0m Float64 \u001b[0m│\u001b[0m Continuous \u001b[0m│\u001b[0m\n",
       "│\u001b[0m x3      \u001b[0m│\u001b[0m Float64 \u001b[0m│\u001b[0m Continuous \u001b[0m│\u001b[0m\n",
       "└\u001b[0m─────────\u001b[0m┴\u001b[0m─────────\u001b[0m┴\u001b[0m────────────\u001b[0m┘\u001b[0m\n",
       "_.nrows = 2\n"
      ]
     },
     "execution_count": 18,
     "metadata": {},
     "output_type": "execute_result"
    }
   ],
   "source": [
    "matrix_table = MLJ.table(rand(2,3))\n",
    "schema(matrix_table)"
   ]
  },
  {
   "cell_type": "markdown",
   "metadata": {},
   "source": [
    "Under the hood many algorithms convert tabular data to matrices. If\n",
    "your table is a wrapped matrix like the above, then the compiler\n",
    "will generally collapse the conversions to a no-op."
   ]
  },
  {
   "cell_type": "markdown",
   "metadata": {},
   "source": [
    "### Fixing scientific types in tabular data"
   ]
  },
  {
   "cell_type": "markdown",
   "metadata": {},
   "source": [
    "To show how we can correct the scientific types of data in tables,\n",
    "we introduce a cleaned up version of the UCI Horse Colic Data Set\n",
    "(the cleaning workflow is described\n",
    "[here](https://alan-turing-institute.github.io/DataScienceTutorials.jl/end-to-end/horse/#dealing_with_missing_values))"
   ]
  },
  {
   "cell_type": "code",
   "execution_count": 19,
   "metadata": {},
   "outputs": [
    {
     "data": {
      "text/html": [
       "<table class=\"data-frame\"><thead><tr><th></th><th>surgery</th><th>age</th><th>rectal_temperature</th><th>pulse</th><th>respiratory_rate</th><th>temperature_extremities</th></tr><tr><th></th><th>Int64</th><th>Int64</th><th>Float64</th><th>Int64</th><th>Int64</th><th>Int64</th></tr></thead><tbody><p>4 rows × 16 columns (omitted printing of 10 columns)</p><tr><th>1</th><td>2</td><td>1</td><td>38.5</td><td>66</td><td>66</td><td>3</td></tr><tr><th>2</th><td>1</td><td>1</td><td>39.2</td><td>88</td><td>88</td><td>3</td></tr><tr><th>3</th><td>2</td><td>1</td><td>38.3</td><td>40</td><td>40</td><td>1</td></tr><tr><th>4</th><td>1</td><td>9</td><td>39.1</td><td>164</td><td>164</td><td>4</td></tr></tbody></table>"
      ],
      "text/latex": [
       "\\begin{tabular}{r|ccccccc}\n",
       "\t& surgery & age & rectal\\_temperature & pulse & respiratory\\_rate & temperature\\_extremities & \\\\\n",
       "\t\\hline\n",
       "\t& Int64 & Int64 & Float64 & Int64 & Int64 & Int64 & \\\\\n",
       "\t\\hline\n",
       "\t1 & 2 & 1 & 38.5 & 66 & 66 & 3 & $\\dots$ \\\\\n",
       "\t2 & 1 & 1 & 39.2 & 88 & 88 & 3 & $\\dots$ \\\\\n",
       "\t3 & 2 & 1 & 38.3 & 40 & 40 & 1 & $\\dots$ \\\\\n",
       "\t4 & 1 & 9 & 39.1 & 164 & 164 & 4 & $\\dots$ \\\\\n",
       "\\end{tabular}\n"
      ],
      "text/plain": [
       "4×16 DataFrame. Omitted printing of 11 columns\n",
       "│ Row │ surgery │ age   │ rectal_temperature │ pulse │ respiratory_rate │\n",
       "│     │ \u001b[90mInt64\u001b[39m   │ \u001b[90mInt64\u001b[39m │ \u001b[90mFloat64\u001b[39m            │ \u001b[90mInt64\u001b[39m │ \u001b[90mInt64\u001b[39m            │\n",
       "├─────┼─────────┼───────┼────────────────────┼───────┼──────────────────┤\n",
       "│ 1   │ 2       │ 1     │ 38.5               │ 66    │ 66               │\n",
       "│ 2   │ 1       │ 1     │ 39.2               │ 88    │ 88               │\n",
       "│ 3   │ 2       │ 1     │ 38.3               │ 40    │ 40               │\n",
       "│ 4   │ 1       │ 9     │ 39.1               │ 164   │ 164              │"
      ]
     },
     "execution_count": 19,
     "metadata": {},
     "output_type": "execute_result"
    }
   ],
   "source": [
    "using CSV\n",
    "file = CSV.File(joinpath(DIR, \"data\", \"horse.csv\"));\n",
    "horse = CSV.DataFrame!(file); # convert to data frame without copying columns\n",
    "first(horse, 4)"
   ]
  },
  {
   "cell_type": "markdown",
   "metadata": {},
   "source": [
    "From [the UCI\n",
    "docs](http://archive.ics.uci.edu/ml/datasets/Horse+Colic) we can\n",
    "surmise how each variable ought to be interpreted (a step in our\n",
    "workflow that cannot reliably be left to the computer):"
   ]
  },
  {
   "cell_type": "markdown",
   "metadata": {},
   "source": [
    "variable                    | scientific type (interpretation)\n",
    "----------------------------|-----------------------------------\n",
    "`:surgery`                  | Multiclass\n",
    "`:age`                      | Multiclass\n",
    "`:rectal_temperature`       | Continuous\n",
    "`:pulse`                    | Continuous\n",
    "`:respiratory_rate`         | Continuous\n",
    "`:temperature_extremities`  | OrderedFactor\n",
    "`:mucous_membranes`         | Multiclass\n",
    "`:capillary_refill_time`    | Multiclass\n",
    "`:pain`                     | OrderedFactor\n",
    "`:peristalsis`              | OrderedFactor\n",
    "`:abdominal_distension`     | OrderedFactor\n",
    "`:packed_cell_volume`       | Continuous\n",
    "`:total_protein`            | Continuous\n",
    "`:outcome`                  | Multiclass\n",
    "`:surgical_lesion`          | OrderedFactor\n",
    "`:cp_data`                  | Multiclass"
   ]
  },
  {
   "cell_type": "markdown",
   "metadata": {},
   "source": [
    "Let's see how MLJ will actually interpret the data, as it is\n",
    "currently encoded:"
   ]
  },
  {
   "cell_type": "code",
   "execution_count": 20,
   "metadata": {},
   "outputs": [
    {
     "data": {
      "text/plain": [
       "┌\u001b[0m─────────────────────────\u001b[0m┬\u001b[0m─────────\u001b[0m┬\u001b[0m────────────\u001b[0m┐\u001b[0m\n",
       "│\u001b[0m\u001b[22m _.names                 \u001b[0m│\u001b[0m\u001b[22m _.types \u001b[0m│\u001b[0m\u001b[22m _.scitypes \u001b[0m│\u001b[0m\n",
       "├\u001b[0m─────────────────────────\u001b[0m┼\u001b[0m─────────\u001b[0m┼\u001b[0m────────────\u001b[0m┤\u001b[0m\n",
       "│\u001b[0m surgery                 \u001b[0m│\u001b[0m Int64   \u001b[0m│\u001b[0m Count      \u001b[0m│\u001b[0m\n",
       "│\u001b[0m age                     \u001b[0m│\u001b[0m Int64   \u001b[0m│\u001b[0m Count      \u001b[0m│\u001b[0m\n",
       "│\u001b[0m rectal_temperature      \u001b[0m│\u001b[0m Float64 \u001b[0m│\u001b[0m Continuous \u001b[0m│\u001b[0m\n",
       "│\u001b[0m pulse                   \u001b[0m│\u001b[0m Int64   \u001b[0m│\u001b[0m Count      \u001b[0m│\u001b[0m\n",
       "│\u001b[0m respiratory_rate        \u001b[0m│\u001b[0m Int64   \u001b[0m│\u001b[0m Count      \u001b[0m│\u001b[0m\n",
       "│\u001b[0m temperature_extremities \u001b[0m│\u001b[0m Int64   \u001b[0m│\u001b[0m Count      \u001b[0m│\u001b[0m\n",
       "│\u001b[0m mucous_membranes        \u001b[0m│\u001b[0m Int64   \u001b[0m│\u001b[0m Count      \u001b[0m│\u001b[0m\n",
       "│\u001b[0m capillary_refill_time   \u001b[0m│\u001b[0m Int64   \u001b[0m│\u001b[0m Count      \u001b[0m│\u001b[0m\n",
       "│\u001b[0m pain                    \u001b[0m│\u001b[0m Int64   \u001b[0m│\u001b[0m Count      \u001b[0m│\u001b[0m\n",
       "│\u001b[0m peristalsis             \u001b[0m│\u001b[0m Int64   \u001b[0m│\u001b[0m Count      \u001b[0m│\u001b[0m\n",
       "│\u001b[0m abdominal_distension    \u001b[0m│\u001b[0m Int64   \u001b[0m│\u001b[0m Count      \u001b[0m│\u001b[0m\n",
       "│\u001b[0m packed_cell_volume      \u001b[0m│\u001b[0m Float64 \u001b[0m│\u001b[0m Continuous \u001b[0m│\u001b[0m\n",
       "│\u001b[0m total_protein           \u001b[0m│\u001b[0m Float64 \u001b[0m│\u001b[0m Continuous \u001b[0m│\u001b[0m\n",
       "│\u001b[0m outcome                 \u001b[0m│\u001b[0m Int64   \u001b[0m│\u001b[0m Count      \u001b[0m│\u001b[0m\n",
       "│\u001b[0m surgical_lesion         \u001b[0m│\u001b[0m Int64   \u001b[0m│\u001b[0m Count      \u001b[0m│\u001b[0m\n",
       "│\u001b[0m cp_data                 \u001b[0m│\u001b[0m Int64   \u001b[0m│\u001b[0m Count      \u001b[0m│\u001b[0m\n",
       "└\u001b[0m─────────────────────────\u001b[0m┴\u001b[0m─────────\u001b[0m┴\u001b[0m────────────\u001b[0m┘\u001b[0m\n",
       "_.nrows = 366\n"
      ]
     },
     "execution_count": 20,
     "metadata": {},
     "output_type": "execute_result"
    }
   ],
   "source": [
    "schema(horse)"
   ]
  },
  {
   "cell_type": "markdown",
   "metadata": {},
   "source": [
    "As a first correction step, we can get MLJ to \"guess\" the\n",
    "appropriate fix, using the `autotype` method:"
   ]
  },
  {
   "cell_type": "code",
   "execution_count": 20,
   "metadata": {},
   "outputs": [
    {
     "data": {
      "text/plain": [
       "Dict{Symbol,Type} with 11 entries:\n",
       "  :abdominal_distension    => OrderedFactor\n",
       "  :pain                    => OrderedFactor\n",
       "  :surgery                 => OrderedFactor\n",
       "  :mucous_membranes        => OrderedFactor\n",
       "  :surgical_lesion         => OrderedFactor\n",
       "  :outcome                 => OrderedFactor\n",
       "  :capillary_refill_time   => OrderedFactor\n",
       "  :age                     => OrderedFactor\n",
       "  :temperature_extremities => OrderedFactor\n",
       "  :peristalsis             => OrderedFactor\n",
       "  :cp_data                 => OrderedFactor"
      ]
     },
     "execution_count": 20,
     "metadata": {},
     "output_type": "execute_result"
    }
   ],
   "source": [
    "autotype(horse)"
   ]
  },
  {
   "cell_type": "markdown",
   "metadata": {},
   "source": [
    "Okay, this is not perfect, but a step in the right direction, which\n",
    "we implement like this:"
   ]
  },
  {
   "cell_type": "code",
   "execution_count": 21,
   "metadata": {},
   "outputs": [
    {
     "data": {
      "text/plain": [
       "┌\u001b[0m─────────────────────────\u001b[0m┬\u001b[0m────────────────────────────────\u001b[0m┬\u001b[0m──────────────────\u001b[0m┐\u001b[0m\n",
       "│\u001b[0m\u001b[22m _.names                 \u001b[0m│\u001b[0m\u001b[22m _.types                        \u001b[0m│\u001b[0m\u001b[22m _.scitypes       \u001b[0m│\u001b[0m\n",
       "├\u001b[0m─────────────────────────\u001b[0m┼\u001b[0m────────────────────────────────\u001b[0m┼\u001b[0m──────────────────\u001b[0m┤\u001b[0m\n",
       "│\u001b[0m surgery                 \u001b[0m│\u001b[0m CategoricalValue{Int64,UInt32} \u001b[0m│\u001b[0m OrderedFactor{2} \u001b[0m│\u001b[0m\n",
       "│\u001b[0m age                     \u001b[0m│\u001b[0m CategoricalValue{Int64,UInt32} \u001b[0m│\u001b[0m OrderedFactor{2} \u001b[0m│\u001b[0m\n",
       "│\u001b[0m rectal_temperature      \u001b[0m│\u001b[0m Float64                        \u001b[0m│\u001b[0m Continuous       \u001b[0m│\u001b[0m\n",
       "│\u001b[0m pulse                   \u001b[0m│\u001b[0m Int64                          \u001b[0m│\u001b[0m Count            \u001b[0m│\u001b[0m\n",
       "│\u001b[0m respiratory_rate        \u001b[0m│\u001b[0m Int64                          \u001b[0m│\u001b[0m Count            \u001b[0m│\u001b[0m\n",
       "│\u001b[0m temperature_extremities \u001b[0m│\u001b[0m CategoricalValue{Int64,UInt32} \u001b[0m│\u001b[0m OrderedFactor{4} \u001b[0m│\u001b[0m\n",
       "│\u001b[0m mucous_membranes        \u001b[0m│\u001b[0m CategoricalValue{Int64,UInt32} \u001b[0m│\u001b[0m OrderedFactor{6} \u001b[0m│\u001b[0m\n",
       "│\u001b[0m capillary_refill_time   \u001b[0m│\u001b[0m CategoricalValue{Int64,UInt32} \u001b[0m│\u001b[0m OrderedFactor{3} \u001b[0m│\u001b[0m\n",
       "│\u001b[0m pain                    \u001b[0m│\u001b[0m CategoricalValue{Int64,UInt32} \u001b[0m│\u001b[0m OrderedFactor{5} \u001b[0m│\u001b[0m\n",
       "│\u001b[0m peristalsis             \u001b[0m│\u001b[0m CategoricalValue{Int64,UInt32} \u001b[0m│\u001b[0m OrderedFactor{4} \u001b[0m│\u001b[0m\n",
       "│\u001b[0m abdominal_distension    \u001b[0m│\u001b[0m CategoricalValue{Int64,UInt32} \u001b[0m│\u001b[0m OrderedFactor{4} \u001b[0m│\u001b[0m\n",
       "│\u001b[0m packed_cell_volume      \u001b[0m│\u001b[0m Float64                        \u001b[0m│\u001b[0m Continuous       \u001b[0m│\u001b[0m\n",
       "│\u001b[0m total_protein           \u001b[0m│\u001b[0m Float64                        \u001b[0m│\u001b[0m Continuous       \u001b[0m│\u001b[0m\n",
       "│\u001b[0m outcome                 \u001b[0m│\u001b[0m CategoricalValue{Int64,UInt32} \u001b[0m│\u001b[0m OrderedFactor{3} \u001b[0m│\u001b[0m\n",
       "│\u001b[0m surgical_lesion         \u001b[0m│\u001b[0m CategoricalValue{Int64,UInt32} \u001b[0m│\u001b[0m OrderedFactor{2} \u001b[0m│\u001b[0m\n",
       "│\u001b[0m cp_data                 \u001b[0m│\u001b[0m CategoricalValue{Int64,UInt32} \u001b[0m│\u001b[0m OrderedFactor{2} \u001b[0m│\u001b[0m\n",
       "└\u001b[0m─────────────────────────\u001b[0m┴\u001b[0m────────────────────────────────\u001b[0m┴\u001b[0m──────────────────\u001b[0m┘\u001b[0m\n",
       "_.nrows = 366\n"
      ]
     },
     "execution_count": 21,
     "metadata": {},
     "output_type": "execute_result"
    }
   ],
   "source": [
    "coerce!(horse, autotype(horse));\n",
    "schema(horse)"
   ]
  },
  {
   "cell_type": "markdown",
   "metadata": {},
   "source": [
    "All remaining `Count` data should be `Continuous`:"
   ]
  },
  {
   "cell_type": "code",
   "execution_count": 22,
   "metadata": {},
   "outputs": [
    {
     "data": {
      "text/plain": [
       "┌\u001b[0m─────────────────────────\u001b[0m┬\u001b[0m────────────────────────────────\u001b[0m┬\u001b[0m──────────────────\u001b[0m┐\u001b[0m\n",
       "│\u001b[0m\u001b[22m _.names                 \u001b[0m│\u001b[0m\u001b[22m _.types                        \u001b[0m│\u001b[0m\u001b[22m _.scitypes       \u001b[0m│\u001b[0m\n",
       "├\u001b[0m─────────────────────────\u001b[0m┼\u001b[0m────────────────────────────────\u001b[0m┼\u001b[0m──────────────────\u001b[0m┤\u001b[0m\n",
       "│\u001b[0m surgery                 \u001b[0m│\u001b[0m CategoricalValue{Int64,UInt32} \u001b[0m│\u001b[0m OrderedFactor{2} \u001b[0m│\u001b[0m\n",
       "│\u001b[0m age                     \u001b[0m│\u001b[0m CategoricalValue{Int64,UInt32} \u001b[0m│\u001b[0m OrderedFactor{2} \u001b[0m│\u001b[0m\n",
       "│\u001b[0m rectal_temperature      \u001b[0m│\u001b[0m Float64                        \u001b[0m│\u001b[0m Continuous       \u001b[0m│\u001b[0m\n",
       "│\u001b[0m pulse                   \u001b[0m│\u001b[0m Float64                        \u001b[0m│\u001b[0m Continuous       \u001b[0m│\u001b[0m\n",
       "│\u001b[0m respiratory_rate        \u001b[0m│\u001b[0m Float64                        \u001b[0m│\u001b[0m Continuous       \u001b[0m│\u001b[0m\n",
       "│\u001b[0m temperature_extremities \u001b[0m│\u001b[0m CategoricalValue{Int64,UInt32} \u001b[0m│\u001b[0m OrderedFactor{4} \u001b[0m│\u001b[0m\n",
       "│\u001b[0m mucous_membranes        \u001b[0m│\u001b[0m CategoricalValue{Int64,UInt32} \u001b[0m│\u001b[0m OrderedFactor{6} \u001b[0m│\u001b[0m\n",
       "│\u001b[0m capillary_refill_time   \u001b[0m│\u001b[0m CategoricalValue{Int64,UInt32} \u001b[0m│\u001b[0m OrderedFactor{3} \u001b[0m│\u001b[0m\n",
       "│\u001b[0m pain                    \u001b[0m│\u001b[0m CategoricalValue{Int64,UInt32} \u001b[0m│\u001b[0m OrderedFactor{5} \u001b[0m│\u001b[0m\n",
       "│\u001b[0m peristalsis             \u001b[0m│\u001b[0m CategoricalValue{Int64,UInt32} \u001b[0m│\u001b[0m OrderedFactor{4} \u001b[0m│\u001b[0m\n",
       "│\u001b[0m abdominal_distension    \u001b[0m│\u001b[0m CategoricalValue{Int64,UInt32} \u001b[0m│\u001b[0m OrderedFactor{4} \u001b[0m│\u001b[0m\n",
       "│\u001b[0m packed_cell_volume      \u001b[0m│\u001b[0m Float64                        \u001b[0m│\u001b[0m Continuous       \u001b[0m│\u001b[0m\n",
       "│\u001b[0m total_protein           \u001b[0m│\u001b[0m Float64                        \u001b[0m│\u001b[0m Continuous       \u001b[0m│\u001b[0m\n",
       "│\u001b[0m outcome                 \u001b[0m│\u001b[0m CategoricalValue{Int64,UInt32} \u001b[0m│\u001b[0m OrderedFactor{3} \u001b[0m│\u001b[0m\n",
       "│\u001b[0m surgical_lesion         \u001b[0m│\u001b[0m CategoricalValue{Int64,UInt32} \u001b[0m│\u001b[0m OrderedFactor{2} \u001b[0m│\u001b[0m\n",
       "│\u001b[0m cp_data                 \u001b[0m│\u001b[0m CategoricalValue{Int64,UInt32} \u001b[0m│\u001b[0m OrderedFactor{2} \u001b[0m│\u001b[0m\n",
       "└\u001b[0m─────────────────────────\u001b[0m┴\u001b[0m────────────────────────────────\u001b[0m┴\u001b[0m──────────────────\u001b[0m┘\u001b[0m\n",
       "_.nrows = 366\n"
      ]
     },
     "execution_count": 22,
     "metadata": {},
     "output_type": "execute_result"
    }
   ],
   "source": [
    "coerce!(horse, Count => Continuous);\n",
    "schema(horse)"
   ]
  },
  {
   "cell_type": "markdown",
   "metadata": {},
   "source": [
    "We'll correct the remaining truant entries manually:"
   ]
  },
  {
   "cell_type": "code",
   "execution_count": 23,
   "metadata": {},
   "outputs": [
    {
     "data": {
      "text/plain": [
       "┌\u001b[0m─────────────────────────\u001b[0m┬\u001b[0m────────────────────────────────\u001b[0m┬\u001b[0m──────────────────\u001b[0m┐\u001b[0m\n",
       "│\u001b[0m\u001b[22m _.names                 \u001b[0m│\u001b[0m\u001b[22m _.types                        \u001b[0m│\u001b[0m\u001b[22m _.scitypes       \u001b[0m│\u001b[0m\n",
       "├\u001b[0m─────────────────────────\u001b[0m┼\u001b[0m────────────────────────────────\u001b[0m┼\u001b[0m──────────────────\u001b[0m┤\u001b[0m\n",
       "│\u001b[0m surgery                 \u001b[0m│\u001b[0m CategoricalValue{Int64,UInt32} \u001b[0m│\u001b[0m Multiclass{2}    \u001b[0m│\u001b[0m\n",
       "│\u001b[0m age                     \u001b[0m│\u001b[0m CategoricalValue{Int64,UInt32} \u001b[0m│\u001b[0m Multiclass{2}    \u001b[0m│\u001b[0m\n",
       "│\u001b[0m rectal_temperature      \u001b[0m│\u001b[0m Float64                        \u001b[0m│\u001b[0m Continuous       \u001b[0m│\u001b[0m\n",
       "│\u001b[0m pulse                   \u001b[0m│\u001b[0m Float64                        \u001b[0m│\u001b[0m Continuous       \u001b[0m│\u001b[0m\n",
       "│\u001b[0m respiratory_rate        \u001b[0m│\u001b[0m Float64                        \u001b[0m│\u001b[0m Continuous       \u001b[0m│\u001b[0m\n",
       "│\u001b[0m temperature_extremities \u001b[0m│\u001b[0m CategoricalValue{Int64,UInt32} \u001b[0m│\u001b[0m OrderedFactor{4} \u001b[0m│\u001b[0m\n",
       "│\u001b[0m mucous_membranes        \u001b[0m│\u001b[0m CategoricalValue{Int64,UInt32} \u001b[0m│\u001b[0m Multiclass{6}    \u001b[0m│\u001b[0m\n",
       "│\u001b[0m capillary_refill_time   \u001b[0m│\u001b[0m CategoricalValue{Int64,UInt32} \u001b[0m│\u001b[0m Multiclass{3}    \u001b[0m│\u001b[0m\n",
       "│\u001b[0m pain                    \u001b[0m│\u001b[0m CategoricalValue{Int64,UInt32} \u001b[0m│\u001b[0m OrderedFactor{5} \u001b[0m│\u001b[0m\n",
       "│\u001b[0m peristalsis             \u001b[0m│\u001b[0m CategoricalValue{Int64,UInt32} \u001b[0m│\u001b[0m OrderedFactor{4} \u001b[0m│\u001b[0m\n",
       "│\u001b[0m abdominal_distension    \u001b[0m│\u001b[0m CategoricalValue{Int64,UInt32} \u001b[0m│\u001b[0m OrderedFactor{4} \u001b[0m│\u001b[0m\n",
       "│\u001b[0m packed_cell_volume      \u001b[0m│\u001b[0m Float64                        \u001b[0m│\u001b[0m Continuous       \u001b[0m│\u001b[0m\n",
       "│\u001b[0m total_protein           \u001b[0m│\u001b[0m Float64                        \u001b[0m│\u001b[0m Continuous       \u001b[0m│\u001b[0m\n",
       "│\u001b[0m outcome                 \u001b[0m│\u001b[0m CategoricalValue{Int64,UInt32} \u001b[0m│\u001b[0m Multiclass{3}    \u001b[0m│\u001b[0m\n",
       "│\u001b[0m surgical_lesion         \u001b[0m│\u001b[0m CategoricalValue{Int64,UInt32} \u001b[0m│\u001b[0m OrderedFactor{2} \u001b[0m│\u001b[0m\n",
       "│\u001b[0m cp_data                 \u001b[0m│\u001b[0m CategoricalValue{Int64,UInt32} \u001b[0m│\u001b[0m Multiclass{2}    \u001b[0m│\u001b[0m\n",
       "└\u001b[0m─────────────────────────\u001b[0m┴\u001b[0m────────────────────────────────\u001b[0m┴\u001b[0m──────────────────\u001b[0m┘\u001b[0m\n",
       "_.nrows = 366\n"
      ]
     },
     "execution_count": 23,
     "metadata": {},
     "output_type": "execute_result"
    }
   ],
   "source": [
    "coerce!(horse,\n",
    "        :surgery               => Multiclass,\n",
    "        :age                   => Multiclass,\n",
    "        :mucous_membranes      => Multiclass,\n",
    "        :capillary_refill_time => Multiclass,\n",
    "        :outcome               => Multiclass,\n",
    "        :cp_data               => Multiclass);\n",
    "schema(horse)"
   ]
  },
  {
   "cell_type": "markdown",
   "metadata": {},
   "source": [
    "### Resources for Part 1\n",
    "\n",
    "- From the MLJ manual:\n",
    "   - [A preview of data type specification in\n",
    "  MLJ](https://alan-turing-institute.github.io/MLJ.jl/dev/getting_started/#A-preview-of-data-type-specification-in-MLJ-1)\n",
    "   - [Data containers and scientific types](https://alan-turing-institute.github.io/MLJ.jl/dev/getting_started/#Data-containers-and-scientific-types-1)\n",
    "   - [Working with Categorical Data](https://alan-turing-institute.github.io/MLJ.jl/dev/working_with_categorical_data/)\n",
    "- [Summary](https://alan-turing-institute.github.io/MLJScientificTypes.jl/dev/#Summary-of-the-MLJ-convention-1) of the MLJ convention for representing scientific types\n",
    "- [MLJScientificTypes.jl](https://alan-turing-institute.github.io/MLJScientificTypes.jl/dev/)\n",
    "- From Data Science Tutorials:\n",
    "    - [Data interpretation: Scientific Types](https://alan-turing-institute.github.io/DataScienceTutorials.jl/data/scitype/)\n",
    "    - [Horse colic data](https://alan-turing-institute.github.io/DataScienceTutorials.jl/end-to-end/horse/)\n",
    "- [UCI Horse Colic Data Set](http://archive.ics.uci.edu/ml/datasets/Horse+Colic)"
   ]
  },
  {
   "cell_type": "markdown",
   "metadata": {},
   "source": [
    "### Exercises for Part 1"
   ]
  },
  {
   "cell_type": "markdown",
   "metadata": {},
   "source": [
    "#### Ex 1"
   ]
  },
  {
   "cell_type": "markdown",
   "metadata": {},
   "source": [
    "Try to guess how each code snippet below will evaluate:"
   ]
  },
  {
   "cell_type": "code",
   "execution_count": 25,
   "metadata": {},
   "outputs": [
    {
     "data": {
      "text/plain": [
       "Count"
      ]
     },
     "execution_count": 25,
     "metadata": {},
     "output_type": "execute_result"
    }
   ],
   "source": [
    "scitype(42)"
   ]
  },
  {
   "cell_type": "code",
   "execution_count": 26,
   "metadata": {},
   "outputs": [
    {
     "data": {
      "text/plain": [
       "AbstractArray{Textual,1}"
      ]
     },
     "execution_count": 26,
     "metadata": {},
     "output_type": "execute_result"
    }
   ],
   "source": [
    "questions = [\"who\", \"why\", \"what\", \"when\"]\n",
    "scitype(questions)"
   ]
  },
  {
   "cell_type": "code",
   "execution_count": 27,
   "metadata": {},
   "outputs": [
    {
     "data": {
      "text/plain": [
       "Textual"
      ]
     },
     "execution_count": 27,
     "metadata": {},
     "output_type": "execute_result"
    }
   ],
   "source": [
    "elscitype(questions)"
   ]
  },
  {
   "cell_type": "code",
   "execution_count": 28,
   "metadata": {},
   "outputs": [
    {
     "data": {
      "text/plain": [
       "Tuple{Continuous,Count,Textual}"
      ]
     },
     "execution_count": 28,
     "metadata": {},
     "output_type": "execute_result"
    }
   ],
   "source": [
    "t = (3.141, 42, \"how\")\n",
    "scitype(t)"
   ]
  },
  {
   "cell_type": "code",
   "execution_count": 29,
   "metadata": {},
   "outputs": [
    {
     "data": {
      "text/plain": [
       "AbstractArray{Continuous,2}"
      ]
     },
     "execution_count": 29,
     "metadata": {},
     "output_type": "execute_result"
    }
   ],
   "source": [
    "A = rand(2, 3)\n",
    "scitype(A)"
   ]
  },
  {
   "cell_type": "code",
   "execution_count": 30,
   "metadata": {},
   "outputs": [
    {
     "data": {
      "text/plain": [
       "Continuous"
      ]
     },
     "execution_count": 30,
     "metadata": {},
     "output_type": "execute_result"
    }
   ],
   "source": [
    "elscitype(A)"
   ]
  },
  {
   "cell_type": "code",
   "execution_count": 31,
   "metadata": {},
   "outputs": [
    {
     "data": {
      "text/plain": [
       "AbstractArray{Continuous,2}"
      ]
     },
     "execution_count": 31,
     "metadata": {},
     "output_type": "execute_result"
    }
   ],
   "source": [
    "using SparseArrays\n",
    "Asparse = sparse(A)\n",
    "scitype(Asparse)"
   ]
  },
  {
   "cell_type": "code",
   "execution_count": 32,
   "metadata": {},
   "outputs": [
    {
     "data": {
      "text/plain": [
       "AbstractArray{Multiclass{6},2}"
      ]
     },
     "execution_count": 32,
     "metadata": {},
     "output_type": "execute_result"
    }
   ],
   "source": [
    "using CategoricalArrays\n",
    "C1 = categorical(A)\n",
    "scitype(C1)"
   ]
  },
  {
   "cell_type": "code",
   "execution_count": 33,
   "metadata": {},
   "outputs": [
    {
     "data": {
      "text/plain": [
       "Multiclass{6}"
      ]
     },
     "execution_count": 33,
     "metadata": {},
     "output_type": "execute_result"
    }
   ],
   "source": [
    "elscitype(C1)"
   ]
  },
  {
   "cell_type": "code",
   "execution_count": 34,
   "metadata": {},
   "outputs": [
    {
     "data": {
      "text/plain": [
       "AbstractArray{OrderedFactor{6},2}"
      ]
     },
     "execution_count": 34,
     "metadata": {},
     "output_type": "execute_result"
    }
   ],
   "source": [
    "C2 = categorical(A, ordered=true)\n",
    "scitype(C2)"
   ]
  },
  {
   "cell_type": "code",
   "execution_count": 35,
   "metadata": {},
   "outputs": [
    {
     "data": {
      "text/plain": [
       "AbstractArray{Union{Missing, Count},1}"
      ]
     },
     "execution_count": 35,
     "metadata": {},
     "output_type": "execute_result"
    }
   ],
   "source": [
    "v = [1, 2, missing, 4]\n",
    "scitype(v)"
   ]
  },
  {
   "cell_type": "code",
   "execution_count": 36,
   "metadata": {},
   "outputs": [
    {
     "data": {
      "text/plain": [
       "Union{Missing, Count}"
      ]
     },
     "execution_count": 36,
     "metadata": {},
     "output_type": "execute_result"
    }
   ],
   "source": [
    "elscitype(v)"
   ]
  },
  {
   "cell_type": "code",
   "execution_count": 37,
   "metadata": {},
   "outputs": [
    {
     "data": {
      "text/plain": [
       "AbstractArray{Union{Missing, Count},1}"
      ]
     },
     "execution_count": 37,
     "metadata": {},
     "output_type": "execute_result"
    }
   ],
   "source": [
    "scitype(v[1:2])"
   ]
  },
  {
   "cell_type": "markdown",
   "metadata": {},
   "source": [
    "Can you guess at the general behaviour of\n",
    "`scitype` with respect to tuples, abstract arrays and missing\n",
    "values? The answers are\n",
    "[here](https://github.com/alan-turing-institute/ScientificTypes.jl#2-the-scitype-and-scitype-methods)\n",
    "(ignore \"Property 1\")."
   ]
  },
  {
   "cell_type": "markdown",
   "metadata": {},
   "source": [
    "#### Ex 2"
   ]
  },
  {
   "cell_type": "markdown",
   "metadata": {},
   "source": [
    "Coerce the following vector to make MLJ recognize it as an ordered\n",
    "factor (with the factors in appropriate order):"
   ]
  },
  {
   "cell_type": "code",
   "execution_count": 38,
   "metadata": {},
   "outputs": [
    {
     "data": {
      "text/plain": [
       "7-element Array{Union{Missing, String},1}:\n",
       " \"good\"\n",
       " \"poor\"\n",
       " \"poor\"\n",
       " \"excellent\"\n",
       " missing\n",
       " \"good\"\n",
       " \"excellent\""
      ]
     },
     "execution_count": 38,
     "metadata": {},
     "output_type": "execute_result"
    }
   ],
   "source": [
    "quality = [\"good\", \"poor\", \"poor\", \"excellent\", missing, \"good\", \"excellent\"]"
   ]
  },
  {
   "cell_type": "markdown",
   "metadata": {},
   "source": [
    "#### Ex 3 (fixing scitypes in a table)"
   ]
  },
  {
   "cell_type": "markdown",
   "metadata": {},
   "source": [
    "Fix the scitypes for the [House Prices in King County\n",
    "data](https://mlr3gallery.mlr-org.com/posts/2020-01-30-house-prices-in-king-county/)\n",
    "dataset:"
   ]
  },
  {
   "cell_type": "code",
   "execution_count": 39,
   "metadata": {},
   "outputs": [
    {
     "data": {
      "text/html": [
       "<table class=\"data-frame\"><thead><tr><th></th><th>id</th><th>date</th><th>price</th><th>bedrooms</th><th>bathrooms</th><th>sqft_living</th><th>sqft_lot</th><th>floors</th></tr><tr><th></th><th>Int64</th><th>String</th><th>Float64</th><th>Int64</th><th>Float64</th><th>Int64</th><th>Int64</th><th>Float64</th></tr></thead><tbody><p>4 rows × 21 columns (omitted printing of 13 columns)</p><tr><th>1</th><td>7129300520</td><td>20141013T000000</td><td>221900.0</td><td>3</td><td>1.0</td><td>1180</td><td>5650</td><td>1.0</td></tr><tr><th>2</th><td>6414100192</td><td>20141209T000000</td><td>538000.0</td><td>3</td><td>2.25</td><td>2570</td><td>7242</td><td>2.0</td></tr><tr><th>3</th><td>5631500400</td><td>20150225T000000</td><td>180000.0</td><td>2</td><td>1.0</td><td>770</td><td>10000</td><td>1.0</td></tr><tr><th>4</th><td>2487200875</td><td>20141209T000000</td><td>604000.0</td><td>4</td><td>3.0</td><td>1960</td><td>5000</td><td>1.0</td></tr></tbody></table>"
      ],
      "text/plain": [
       "4×21 DataFrame. Omitted printing of 15 columns\n",
       "│ Row │ id         │ date            │ price    │ bedrooms │ bathrooms │ sqft_living │\n",
       "│     │ \u001b[90mInt64\u001b[39m      │ \u001b[90mString\u001b[39m          │ \u001b[90mFloat64\u001b[39m  │ \u001b[90mInt64\u001b[39m    │ \u001b[90mFloat64\u001b[39m   │ \u001b[90mInt64\u001b[39m       │\n",
       "├─────┼────────────┼─────────────────┼──────────┼──────────┼───────────┼─────────────┤\n",
       "│ 1   │ 7129300520 │ 20141013T000000 │ 221900.0 │ 3        │ 1.0       │ 1180        │\n",
       "│ 2   │ 6414100192 │ 20141209T000000 │ 538000.0 │ 3        │ 2.25      │ 2570        │\n",
       "│ 3   │ 5631500400 │ 20150225T000000 │ 180000.0 │ 2        │ 1.0       │ 770         │\n",
       "│ 4   │ 2487200875 │ 20141209T000000 │ 604000.0 │ 4        │ 3.0       │ 1960        │"
      ]
     },
     "execution_count": 39,
     "metadata": {},
     "output_type": "execute_result"
    }
   ],
   "source": [
    "file = CSV.File(joinpath(DIR, \"data\", \"house.csv\"));\n",
    "house = CSV.DataFrame!(file); # convert to data frame without copying columns\n",
    "first(house, 4)"
   ]
  },
  {
   "cell_type": "markdown",
   "metadata": {},
   "source": [
    "## Part 2: Selecting, training and evaluating models"
   ]
  },
  {
   "cell_type": "markdown",
   "metadata": {},
   "source": [
    "The \"Hello World!\" of machine learning is to classify Fisher's\n",
    "famous iris data set. This time, we'll grab the data from\n",
    "[OpenML](https://www.openml.org):"
   ]
  },
  {
   "cell_type": "code",
   "execution_count": 24,
   "metadata": {},
   "outputs": [
    {
     "data": {
      "text/html": [
       "<table class=\"data-frame\"><thead><tr><th></th><th>sepallength</th><th>sepalwidth</th><th>petallength</th><th>petalwidth</th><th>class</th></tr><tr><th></th><th>Float64</th><th>Float64</th><th>Float64</th><th>Float64</th><th>SubStri…</th></tr></thead><tbody><p>4 rows × 5 columns</p><tr><th>1</th><td>5.1</td><td>3.5</td><td>1.4</td><td>0.2</td><td>Iris-setosa</td></tr><tr><th>2</th><td>4.9</td><td>3.0</td><td>1.4</td><td>0.2</td><td>Iris-setosa</td></tr><tr><th>3</th><td>4.7</td><td>3.2</td><td>1.3</td><td>0.2</td><td>Iris-setosa</td></tr><tr><th>4</th><td>4.6</td><td>3.1</td><td>1.5</td><td>0.2</td><td>Iris-setosa</td></tr></tbody></table>"
      ],
      "text/latex": [
       "\\begin{tabular}{r|ccccc}\n",
       "\t& sepallength & sepalwidth & petallength & petalwidth & class\\\\\n",
       "\t\\hline\n",
       "\t& Float64 & Float64 & Float64 & Float64 & SubStri…\\\\\n",
       "\t\\hline\n",
       "\t1 & 5.1 & 3.5 & 1.4 & 0.2 & Iris-setosa \\\\\n",
       "\t2 & 4.9 & 3.0 & 1.4 & 0.2 & Iris-setosa \\\\\n",
       "\t3 & 4.7 & 3.2 & 1.3 & 0.2 & Iris-setosa \\\\\n",
       "\t4 & 4.6 & 3.1 & 1.5 & 0.2 & Iris-setosa \\\\\n",
       "\\end{tabular}\n"
      ],
      "text/plain": [
       "4×5 DataFrame\n",
       "│ Row │ sepallength │ sepalwidth │ petallength │ petalwidth │ class       │\n",
       "│     │ \u001b[90mFloat64\u001b[39m     │ \u001b[90mFloat64\u001b[39m    │ \u001b[90mFloat64\u001b[39m     │ \u001b[90mFloat64\u001b[39m    │ \u001b[90mSubString…\u001b[39m  │\n",
       "├─────┼─────────────┼────────────┼─────────────┼────────────┼─────────────┤\n",
       "│ 1   │ 5.1         │ 3.5        │ 1.4         │ 0.2        │ Iris-setosa │\n",
       "│ 2   │ 4.9         │ 3.0        │ 1.4         │ 0.2        │ Iris-setosa │\n",
       "│ 3   │ 4.7         │ 3.2        │ 1.3         │ 0.2        │ Iris-setosa │\n",
       "│ 4   │ 4.6         │ 3.1        │ 1.5         │ 0.2        │ Iris-setosa │"
      ]
     },
     "execution_count": 24,
     "metadata": {},
     "output_type": "execute_result"
    }
   ],
   "source": [
    "iris = OpenML.load(61); # a row table\n",
    "iris = DataFrames.DataFrame(iris);\n",
    "first(iris, 4)"
   ]
  },
  {
   "cell_type": "markdown",
   "metadata": {},
   "source": [
    "**Goal.** To build and evaluate models for predicting the\n",
    "`:class` variable, given the four remaining measurement variables."
   ]
  },
  {
   "cell_type": "markdown",
   "metadata": {},
   "source": [
    "### Step 1. Inspect and fix scientific types"
   ]
  },
  {
   "cell_type": "code",
   "execution_count": 25,
   "metadata": {},
   "outputs": [
    {
     "data": {
      "text/plain": [
       "┌\u001b[0m─────────────\u001b[0m┬\u001b[0m───────────────────\u001b[0m┬\u001b[0m────────────\u001b[0m┐\u001b[0m\n",
       "│\u001b[0m\u001b[22m _.names     \u001b[0m│\u001b[0m\u001b[22m _.types           \u001b[0m│\u001b[0m\u001b[22m _.scitypes \u001b[0m│\u001b[0m\n",
       "├\u001b[0m─────────────\u001b[0m┼\u001b[0m───────────────────\u001b[0m┼\u001b[0m────────────\u001b[0m┤\u001b[0m\n",
       "│\u001b[0m sepallength \u001b[0m│\u001b[0m Float64           \u001b[0m│\u001b[0m Continuous \u001b[0m│\u001b[0m\n",
       "│\u001b[0m sepalwidth  \u001b[0m│\u001b[0m Float64           \u001b[0m│\u001b[0m Continuous \u001b[0m│\u001b[0m\n",
       "│\u001b[0m petallength \u001b[0m│\u001b[0m Float64           \u001b[0m│\u001b[0m Continuous \u001b[0m│\u001b[0m\n",
       "│\u001b[0m petalwidth  \u001b[0m│\u001b[0m Float64           \u001b[0m│\u001b[0m Continuous \u001b[0m│\u001b[0m\n",
       "│\u001b[0m class       \u001b[0m│\u001b[0m SubString{String} \u001b[0m│\u001b[0m Textual    \u001b[0m│\u001b[0m\n",
       "└\u001b[0m─────────────\u001b[0m┴\u001b[0m───────────────────\u001b[0m┴\u001b[0m────────────\u001b[0m┘\u001b[0m\n",
       "_.nrows = 150\n"
      ]
     },
     "execution_count": 25,
     "metadata": {},
     "output_type": "execute_result"
    }
   ],
   "source": [
    "schema(iris)"
   ]
  },
  {
   "cell_type": "code",
   "execution_count": 26,
   "metadata": {},
   "outputs": [
    {
     "data": {
      "text/plain": [
       "┌\u001b[0m─────────────\u001b[0m┬\u001b[0m─────────────────────────────────\u001b[0m┬\u001b[0m───────────────\u001b[0m┐\u001b[0m\n",
       "│\u001b[0m\u001b[22m _.names     \u001b[0m│\u001b[0m\u001b[22m _.types                         \u001b[0m│\u001b[0m\u001b[22m _.scitypes    \u001b[0m│\u001b[0m\n",
       "├\u001b[0m─────────────\u001b[0m┼\u001b[0m─────────────────────────────────\u001b[0m┼\u001b[0m───────────────\u001b[0m┤\u001b[0m\n",
       "│\u001b[0m sepallength \u001b[0m│\u001b[0m Float64                         \u001b[0m│\u001b[0m Continuous    \u001b[0m│\u001b[0m\n",
       "│\u001b[0m sepalwidth  \u001b[0m│\u001b[0m Float64                         \u001b[0m│\u001b[0m Continuous    \u001b[0m│\u001b[0m\n",
       "│\u001b[0m petallength \u001b[0m│\u001b[0m Float64                         \u001b[0m│\u001b[0m Continuous    \u001b[0m│\u001b[0m\n",
       "│\u001b[0m petalwidth  \u001b[0m│\u001b[0m Float64                         \u001b[0m│\u001b[0m Continuous    \u001b[0m│\u001b[0m\n",
       "│\u001b[0m class       \u001b[0m│\u001b[0m CategoricalValue{String,UInt32} \u001b[0m│\u001b[0m Multiclass{3} \u001b[0m│\u001b[0m\n",
       "└\u001b[0m─────────────\u001b[0m┴\u001b[0m─────────────────────────────────\u001b[0m┴\u001b[0m───────────────\u001b[0m┘\u001b[0m\n",
       "_.nrows = 150\n"
      ]
     },
     "execution_count": 26,
     "metadata": {},
     "output_type": "execute_result"
    }
   ],
   "source": [
    "coerce!(iris, :class => Multiclass);\n",
    "schema(iris)"
   ]
  },
  {
   "cell_type": "markdown",
   "metadata": {},
   "source": [
    "### Step 2. Split data into input and target parts"
   ]
  },
  {
   "cell_type": "markdown",
   "metadata": {},
   "source": [
    "Here's how we split the data into target and input features, which\n",
    "is needed for MLJ supervised models. We randomize the data at the\n",
    "same time:"
   ]
  },
  {
   "cell_type": "code",
   "execution_count": 27,
   "metadata": {},
   "outputs": [
    {
     "data": {
      "text/plain": [
       "AbstractArray{Multiclass{3},1}"
      ]
     },
     "execution_count": 27,
     "metadata": {},
     "output_type": "execute_result"
    }
   ],
   "source": [
    "y, X = unpack(iris, ==(:class), name->true; rng=123);\n",
    "scitype(y)"
   ]
  },
  {
   "cell_type": "markdown",
   "metadata": {},
   "source": [
    "Do `?unpack` to learn more:"
   ]
  },
  {
   "cell_type": "code",
   "execution_count": 28,
   "metadata": {},
   "outputs": [
    {
     "data": {
      "text/latex": [
       "\\begin{verbatim}\n",
       "t1, t2, ...., tk = unnpack(table, f1, f2, ... fk; wrap_singles=false)\n",
       "\\end{verbatim}\n",
       "Split any Tables.jl compatible \\texttt{table} into smaller tables (or vectors) \\texttt{t1, t2, ..., tk} by making selections \\emph{without replacement} from the column names defined by the filters \\texttt{f1}, \\texttt{f2}, ..., \\texttt{fk}. A \\emph{filter} is any object \\texttt{f} such that \\texttt{f(name)} is \\texttt{true} or \\texttt{false} for each column \\texttt{name::Symbol} of \\texttt{table}.\n",
       "\n",
       "Whenever a returned table contains a single column, it is converted to a vector unless \\texttt{wrap\\_singles=true}.\n",
       "\n",
       "Scientific type conversions can be optionally specified (note semicolon):\n",
       "\n",
       "\\begin{verbatim}\n",
       "unpack(table, t...; wrap_singles=false, col1=>scitype1, col2=>scitype2, ... )\n",
       "\\end{verbatim}\n",
       "\\subsubsection{Example}\n",
       "\\begin{verbatim}\n",
       "julia> table = DataFrame(x=[1,2], y=['a', 'b'], z=[10.0, 20.0], w=[:A, :B])\n",
       "julia> Z, XY = unpack(table, ==(:z), !=(:w);\n",
       "               :x=>Continuous, :y=>Multiclass)\n",
       "julia> XY\n",
       "2×2 DataFrame\n",
       "│ Row │ x       │ y            │\n",
       "│     │ Float64 │ Categorical… │\n",
       "├─────┼─────────┼──────────────┤\n",
       "│ 1   │ 1.0     │ 'a'          │\n",
       "│ 2   │ 2.0     │ 'b'          │\n",
       "\n",
       "julia> Z\n",
       "2-element Array{Float64,1}:\n",
       " 10.0\n",
       " 20.0\n",
       "\\end{verbatim}\n"
      ],
      "text/markdown": [
       "```\n",
       "t1, t2, ...., tk = unnpack(table, f1, f2, ... fk; wrap_singles=false)\n",
       "```\n",
       "\n",
       "Split any Tables.jl compatible `table` into smaller tables (or vectors) `t1, t2, ..., tk` by making selections *without replacement* from the column names defined by the filters `f1`, `f2`, ..., `fk`. A *filter* is any object `f` such that `f(name)` is `true` or `false` for each column `name::Symbol` of `table`.\n",
       "\n",
       "Whenever a returned table contains a single column, it is converted to a vector unless `wrap_singles=true`.\n",
       "\n",
       "Scientific type conversions can be optionally specified (note semicolon):\n",
       "\n",
       "```\n",
       "unpack(table, t...; wrap_singles=false, col1=>scitype1, col2=>scitype2, ... )\n",
       "```\n",
       "\n",
       "### Example\n",
       "\n",
       "```\n",
       "julia> table = DataFrame(x=[1,2], y=['a', 'b'], z=[10.0, 20.0], w=[:A, :B])\n",
       "julia> Z, XY = unpack(table, ==(:z), !=(:w);\n",
       "               :x=>Continuous, :y=>Multiclass)\n",
       "julia> XY\n",
       "2×2 DataFrame\n",
       "│ Row │ x       │ y            │\n",
       "│     │ Float64 │ Categorical… │\n",
       "├─────┼─────────┼──────────────┤\n",
       "│ 1   │ 1.0     │ 'a'          │\n",
       "│ 2   │ 2.0     │ 'b'          │\n",
       "\n",
       "julia> Z\n",
       "2-element Array{Float64,1}:\n",
       " 10.0\n",
       " 20.0\n",
       "```\n"
      ],
      "text/plain": [
       "\u001b[36m  t1, t2, ...., tk = unnpack(table, f1, f2, ... fk; wrap_singles=false)\u001b[39m\n",
       "\n",
       "  Split any Tables.jl compatible \u001b[36mtable\u001b[39m into smaller tables (or vectors) \u001b[36mt1,\n",
       "  t2, ..., tk\u001b[39m by making selections \u001b[4mwithout replacement\u001b[24m from the column names\n",
       "  defined by the filters \u001b[36mf1\u001b[39m, \u001b[36mf2\u001b[39m, ..., \u001b[36mfk\u001b[39m. A \u001b[4mfilter\u001b[24m is any object \u001b[36mf\u001b[39m such that\n",
       "  \u001b[36mf(name)\u001b[39m is \u001b[36mtrue\u001b[39m or \u001b[36mfalse\u001b[39m for each column \u001b[36mname::Symbol\u001b[39m of \u001b[36mtable\u001b[39m.\n",
       "\n",
       "  Whenever a returned table contains a single column, it is converted to a\n",
       "  vector unless \u001b[36mwrap_singles=true\u001b[39m.\n",
       "\n",
       "  Scientific type conversions can be optionally specified (note semicolon):\n",
       "\n",
       "\u001b[36m  unpack(table, t...; wrap_singles=false, col1=>scitype1, col2=>scitype2, ... )\u001b[39m\n",
       "\n",
       "\u001b[1m  Example\u001b[22m\n",
       "\u001b[1m  –––––––––\u001b[22m\n",
       "\n",
       "\u001b[36m  julia> table = DataFrame(x=[1,2], y=['a', 'b'], z=[10.0, 20.0], w=[:A, :B])\u001b[39m\n",
       "\u001b[36m  julia> Z, XY = unpack(table, ==(:z), !=(:w);\u001b[39m\n",
       "\u001b[36m                 :x=>Continuous, :y=>Multiclass)\u001b[39m\n",
       "\u001b[36m  julia> XY\u001b[39m\n",
       "\u001b[36m  2×2 DataFrame\u001b[39m\n",
       "\u001b[36m  │ Row │ x       │ y            │\u001b[39m\n",
       "\u001b[36m  │     │ Float64 │ Categorical… │\u001b[39m\n",
       "\u001b[36m  ├─────┼─────────┼──────────────┤\u001b[39m\n",
       "\u001b[36m  │ 1   │ 1.0     │ 'a'          │\u001b[39m\n",
       "\u001b[36m  │ 2   │ 2.0     │ 'b'          │\u001b[39m\n",
       "\u001b[36m  \u001b[39m\n",
       "\u001b[36m  julia> Z\u001b[39m\n",
       "\u001b[36m  2-element Array{Float64,1}:\u001b[39m\n",
       "\u001b[36m   10.0\u001b[39m\n",
       "\u001b[36m   20.0\u001b[39m"
      ]
     },
     "execution_count": 28,
     "metadata": {},
     "output_type": "execute_result"
    }
   ],
   "source": [
    "@doc unpack"
   ]
  },
  {
   "cell_type": "markdown",
   "metadata": {},
   "source": [
    "### On searching for a model"
   ]
  },
  {
   "cell_type": "markdown",
   "metadata": {},
   "source": [
    "Here's how to see *all* models (not immediately useful):"
   ]
  },
  {
   "cell_type": "code",
   "execution_count": 29,
   "metadata": {},
   "outputs": [
    {
     "data": {
      "text/plain": [
       "142-element Array{NamedTuple{(:name, :package_name, :is_supervised, :docstring, :hyperparameter_ranges, :hyperparameter_types, :hyperparameters, :implemented_methods, :is_pure_julia, :is_wrapper, :load_path, :package_license, :package_url, :package_uuid, :prediction_type, :supports_online, :supports_weights, :input_scitype, :target_scitype, :output_scitype),T} where T<:Tuple,1}:\n",
       " (name = ARDRegressor, package_name = ScikitLearn, ... )\n",
       " (name = AdaBoostClassifier, package_name = ScikitLearn, ... )\n",
       " (name = AdaBoostRegressor, package_name = ScikitLearn, ... )\n",
       " (name = AdaBoostStumpClassifier, package_name = DecisionTree, ... )\n",
       " (name = AffinityPropagation, package_name = ScikitLearn, ... )\n",
       " (name = AgglomerativeClustering, package_name = ScikitLearn, ... )\n",
       " (name = BaggingClassifier, package_name = ScikitLearn, ... )\n",
       " (name = BaggingRegressor, package_name = ScikitLearn, ... )\n",
       " (name = BayesianLDA, package_name = MultivariateStats, ... )\n",
       " (name = BayesianLDA, package_name = ScikitLearn, ... )\n",
       " (name = BayesianQDA, package_name = ScikitLearn, ... )\n",
       " (name = BayesianRidgeRegressor, package_name = ScikitLearn, ... )\n",
       " (name = BayesianSubspaceLDA, package_name = MultivariateStats, ... )\n",
       " ⋮\n",
       " (name = Standardizer, package_name = MLJModels, ... )\n",
       " (name = StaticSurrogate, package_name = MLJBase, ... )\n",
       " (name = SubspaceLDA, package_name = MultivariateStats, ... )\n",
       " (name = TheilSenRegressor, package_name = ScikitLearn, ... )\n",
       " (name = UnivariateBoxCoxTransformer, package_name = MLJModels, ... )\n",
       " (name = UnivariateDiscretizer, package_name = MLJModels, ... )\n",
       " (name = UnivariateStandardizer, package_name = MLJModels, ... )\n",
       " (name = UnsupervisedSurrogate, package_name = MLJBase, ... )\n",
       " (name = WrappedFunction, package_name = MLJBase, ... )\n",
       " (name = XGBoostClassifier, package_name = XGBoost, ... )\n",
       " (name = XGBoostCount, package_name = XGBoost, ... )\n",
       " (name = XGBoostRegressor, package_name = XGBoost, ... )"
      ]
     },
     "execution_count": 29,
     "metadata": {},
     "output_type": "execute_result"
    }
   ],
   "source": [
    "kitchen_sink = models()"
   ]
  },
  {
   "cell_type": "markdown",
   "metadata": {},
   "source": [
    "Each entry contains metadata for a model whose defining code is not yet loaded:"
   ]
  },
  {
   "cell_type": "code",
   "execution_count": 30,
   "metadata": {},
   "outputs": [
    {
     "data": {
      "text/plain": [
       "\u001b[35mAdaBoost ensemble regression.\u001b[39m\n",
       "\u001b[35m→ based on [ScikitLearn](https://github.com/cstjean/ScikitLearn.jl).\u001b[39m\n",
       "\u001b[35m→ do `@load AdaBoostRegressor pkg=\"ScikitLearn\"` to use the model.\u001b[39m\n",
       "\u001b[35m→ do `?AdaBoostRegressor` for documentation.\u001b[39m\n",
       "(name = \"AdaBoostRegressor\",\n",
       " package_name = \"ScikitLearn\",\n",
       " is_supervised = true,\n",
       " docstring = \"AdaBoost ensemble regression.\\n→ based on [ScikitLearn](https://github.com/cstjean/ScikitLearn.jl).\\n→ do `@load AdaBoostRegressor pkg=\\\"ScikitLearn\\\"` to use the model.\\n→ do `?AdaBoostRegressor` for documentation.\",\n",
       " hyperparameter_ranges = (nothing, nothing, nothing, nothing, nothing),\n",
       " hyperparameter_types = (\"Any\", \"Int64\", \"Float64\", \"String\", \"Any\"),\n",
       " hyperparameters = (:base_estimator, :n_estimators, :learning_rate, :loss, :random_state),\n",
       " implemented_methods = [:clean!, :fit, :fitted_params, :predict],\n",
       " is_pure_julia = false,\n",
       " is_wrapper = true,\n",
       " load_path = \"MLJScikitLearnInterface.AdaBoostRegressor\",\n",
       " package_license = \"BSD\",\n",
       " package_url = \"https://github.com/cstjean/ScikitLearn.jl\",\n",
       " package_uuid = \"3646fa90-6ef7-5e7e-9f22-8aca16db6324\",\n",
       " prediction_type = :deterministic,\n",
       " supports_online = false,\n",
       " supports_weights = false,\n",
       " input_scitype = Table{_s23} where _s23<:(AbstractArray{_s25,1} where _s25<:Continuous),\n",
       " target_scitype = AbstractArray{Continuous,1},\n",
       " output_scitype = Unknown,)"
      ]
     },
     "execution_count": 30,
     "metadata": {},
     "output_type": "execute_result"
    }
   ],
   "source": [
    "meta = kitchen_sink[3]"
   ]
  },
  {
   "cell_type": "code",
   "execution_count": 31,
   "metadata": {},
   "outputs": [
    {
     "data": {
      "text/plain": [
       "AbstractArray{Continuous,1}"
      ]
     },
     "execution_count": 31,
     "metadata": {},
     "output_type": "execute_result"
    }
   ],
   "source": [
    "targetscitype = meta.target_scitype"
   ]
  },
  {
   "cell_type": "code",
   "execution_count": 32,
   "metadata": {},
   "outputs": [
    {
     "data": {
      "text/plain": [
       "false"
      ]
     },
     "execution_count": 32,
     "metadata": {},
     "output_type": "execute_result"
    }
   ],
   "source": [
    "scitype(y) <: targetscitype"
   ]
  },
  {
   "cell_type": "markdown",
   "metadata": {},
   "source": [
    "So this model won't do. Let's  find all pure julia classifiers:"
   ]
  },
  {
   "cell_type": "code",
   "execution_count": 33,
   "metadata": {},
   "outputs": [
    {
     "data": {
      "text/plain": [
       "16-element Array{NamedTuple{(:name, :package_name, :is_supervised, :docstring, :hyperparameter_ranges, :hyperparameter_types, :hyperparameters, :implemented_methods, :is_pure_julia, :is_wrapper, :load_path, :package_license, :package_url, :package_uuid, :prediction_type, :supports_online, :supports_weights, :input_scitype, :target_scitype, :output_scitype),T} where T<:Tuple,1}:\n",
       " (name = AdaBoostStumpClassifier, package_name = DecisionTree, ... )\n",
       " (name = BayesianLDA, package_name = MultivariateStats, ... )\n",
       " (name = BayesianSubspaceLDA, package_name = MultivariateStats, ... )\n",
       " (name = ConstantClassifier, package_name = MLJModels, ... )\n",
       " (name = DecisionTreeClassifier, package_name = DecisionTree, ... )\n",
       " (name = DeterministicConstantClassifier, package_name = MLJModels, ... )\n",
       " (name = EvoTreeClassifier, package_name = EvoTrees, ... )\n",
       " (name = GaussianNBClassifier, package_name = NaiveBayes, ... )\n",
       " (name = KNNClassifier, package_name = NearestNeighbors, ... )\n",
       " (name = LDA, package_name = MultivariateStats, ... )\n",
       " (name = LogisticClassifier, package_name = MLJLinearModels, ... )\n",
       " (name = MultinomialClassifier, package_name = MLJLinearModels, ... )\n",
       " (name = MultinomialNBClassifier, package_name = NaiveBayes, ... )\n",
       " (name = NeuralNetworkClassifier, package_name = MLJFlux, ... )\n",
       " (name = RandomForestClassifier, package_name = DecisionTree, ... )\n",
       " (name = SubspaceLDA, package_name = MultivariateStats, ... )"
      ]
     },
     "execution_count": 33,
     "metadata": {},
     "output_type": "execute_result"
    }
   ],
   "source": [
    "filt(meta) = AbstractVector{Finite} <: meta.target_scitype &&\n",
    "        meta.is_pure_julia\n",
    "models(filt)"
   ]
  },
  {
   "cell_type": "markdown",
   "metadata": {},
   "source": [
    "Find all models with \"Classifier\" in `name` (or `docstring`):"
   ]
  },
  {
   "cell_type": "code",
   "execution_count": 34,
   "metadata": {},
   "outputs": [
    {
     "data": {
      "text/plain": [
       "39-element Array{NamedTuple{(:name, :package_name, :is_supervised, :docstring, :hyperparameter_ranges, :hyperparameter_types, :hyperparameters, :implemented_methods, :is_pure_julia, :is_wrapper, :load_path, :package_license, :package_url, :package_uuid, :prediction_type, :supports_online, :supports_weights, :input_scitype, :target_scitype, :output_scitype),T} where T<:Tuple,1}:\n",
       " (name = AdaBoostClassifier, package_name = ScikitLearn, ... )\n",
       " (name = AdaBoostStumpClassifier, package_name = DecisionTree, ... )\n",
       " (name = BaggingClassifier, package_name = ScikitLearn, ... )\n",
       " (name = BernoulliNBClassifier, package_name = ScikitLearn, ... )\n",
       " (name = ComplementNBClassifier, package_name = ScikitLearn, ... )\n",
       " (name = ConstantClassifier, package_name = MLJModels, ... )\n",
       " (name = DecisionTreeClassifier, package_name = DecisionTree, ... )\n",
       " (name = DeterministicConstantClassifier, package_name = MLJModels, ... )\n",
       " (name = DummyClassifier, package_name = ScikitLearn, ... )\n",
       " (name = EvoTreeClassifier, package_name = EvoTrees, ... )\n",
       " (name = ExtraTreesClassifier, package_name = ScikitLearn, ... )\n",
       " (name = GaussianNBClassifier, package_name = NaiveBayes, ... )\n",
       " (name = GaussianNBClassifier, package_name = ScikitLearn, ... )\n",
       " ⋮\n",
       " (name = PassiveAggressiveClassifier, package_name = ScikitLearn, ... )\n",
       " (name = PerceptronClassifier, package_name = ScikitLearn, ... )\n",
       " (name = ProbabilisticSGDClassifier, package_name = ScikitLearn, ... )\n",
       " (name = RandomForestClassifier, package_name = DecisionTree, ... )\n",
       " (name = RandomForestClassifier, package_name = ScikitLearn, ... )\n",
       " (name = RidgeCVClassifier, package_name = ScikitLearn, ... )\n",
       " (name = RidgeClassifier, package_name = ScikitLearn, ... )\n",
       " (name = SGDClassifier, package_name = ScikitLearn, ... )\n",
       " (name = SVMClassifier, package_name = ScikitLearn, ... )\n",
       " (name = SVMLinearClassifier, package_name = ScikitLearn, ... )\n",
       " (name = SVMNuClassifier, package_name = ScikitLearn, ... )\n",
       " (name = XGBoostClassifier, package_name = XGBoost, ... )"
      ]
     },
     "execution_count": 34,
     "metadata": {},
     "output_type": "execute_result"
    }
   ],
   "source": [
    "models(\"Classifier\")"
   ]
  },
  {
   "cell_type": "markdown",
   "metadata": {},
   "source": [
    "Find all (supervised) models that match my data!"
   ]
  },
  {
   "cell_type": "code",
   "execution_count": 35,
   "metadata": {},
   "outputs": [
    {
     "data": {
      "text/plain": [
       "42-element Array{NamedTuple{(:name, :package_name, :is_supervised, :docstring, :hyperparameter_ranges, :hyperparameter_types, :hyperparameters, :implemented_methods, :is_pure_julia, :is_wrapper, :load_path, :package_license, :package_url, :package_uuid, :prediction_type, :supports_online, :supports_weights, :input_scitype, :target_scitype, :output_scitype),T} where T<:Tuple,1}:\n",
       " (name = AdaBoostClassifier, package_name = ScikitLearn, ... )\n",
       " (name = AdaBoostStumpClassifier, package_name = DecisionTree, ... )\n",
       " (name = BaggingClassifier, package_name = ScikitLearn, ... )\n",
       " (name = BayesianLDA, package_name = MultivariateStats, ... )\n",
       " (name = BayesianLDA, package_name = ScikitLearn, ... )\n",
       " (name = BayesianQDA, package_name = ScikitLearn, ... )\n",
       " (name = BayesianSubspaceLDA, package_name = MultivariateStats, ... )\n",
       " (name = ConstantClassifier, package_name = MLJModels, ... )\n",
       " (name = DecisionTreeClassifier, package_name = DecisionTree, ... )\n",
       " (name = DeterministicConstantClassifier, package_name = MLJModels, ... )\n",
       " (name = DummyClassifier, package_name = ScikitLearn, ... )\n",
       " (name = EvoTreeClassifier, package_name = EvoTrees, ... )\n",
       " (name = ExtraTreesClassifier, package_name = ScikitLearn, ... )\n",
       " ⋮\n",
       " (name = ProbabilisticSGDClassifier, package_name = ScikitLearn, ... )\n",
       " (name = RandomForestClassifier, package_name = DecisionTree, ... )\n",
       " (name = RandomForestClassifier, package_name = ScikitLearn, ... )\n",
       " (name = RidgeCVClassifier, package_name = ScikitLearn, ... )\n",
       " (name = RidgeClassifier, package_name = ScikitLearn, ... )\n",
       " (name = SGDClassifier, package_name = ScikitLearn, ... )\n",
       " (name = SVC, package_name = LIBSVM, ... )\n",
       " (name = SVMClassifier, package_name = ScikitLearn, ... )\n",
       " (name = SVMLinearClassifier, package_name = ScikitLearn, ... )\n",
       " (name = SVMNuClassifier, package_name = ScikitLearn, ... )\n",
       " (name = SubspaceLDA, package_name = MultivariateStats, ... )\n",
       " (name = XGBoostClassifier, package_name = XGBoost, ... )"
      ]
     },
     "execution_count": 35,
     "metadata": {},
     "output_type": "execute_result"
    }
   ],
   "source": [
    "models(matching(X, y))"
   ]
  },
  {
   "cell_type": "markdown",
   "metadata": {},
   "source": [
    "### Step 3. Select and instantiate a model"
   ]
  },
  {
   "cell_type": "code",
   "execution_count": 36,
   "metadata": {},
   "outputs": [
    {
     "data": {
      "text/plain": [
       "NeuralNetworkClassifier(\n",
       "    builder = Short(\n",
       "            n_hidden = 0,\n",
       "            dropout = 0.5,\n",
       "            σ = NNlib.σ),\n",
       "    finaliser = NNlib.softmax,\n",
       "    optimiser = Flux.Optimise.ADAM(0.001, (0.9, 0.999), IdDict{Any,Any}()),\n",
       "    loss = Flux.crossentropy,\n",
       "    epochs = 10,\n",
       "    batch_size = 1,\n",
       "    lambda = 0.0,\n",
       "    alpha = 0.0,\n",
       "    optimiser_changes_trigger_retraining = false)\u001b[34m @526\u001b[39m"
      ]
     },
     "execution_count": 36,
     "metadata": {},
     "output_type": "execute_result"
    }
   ],
   "source": [
    "model = @load NeuralNetworkClassifier"
   ]
  },
  {
   "cell_type": "code",
   "execution_count": 37,
   "metadata": {},
   "outputs": [
    {
     "data": {
      "text/plain": [
       "\u001b[35mA neural network model for making probabilistic predictions of a `Mutliclass` or `OrderedFactor` target, given a table of `Continuous` features. \u001b[39m\n",
       "\u001b[35m→ based on [MLJFlux](https://github.com/alan-turing-institute/MLJFlux.jl).\u001b[39m\n",
       "\u001b[35m→ do `@load NeuralNetworkClassifier pkg=\"MLJFlux\"` to use the model.\u001b[39m\n",
       "\u001b[35m→ do `?NeuralNetworkClassifier` for documentation.\u001b[39m\n",
       "(name = \"NeuralNetworkClassifier\",\n",
       " package_name = \"MLJFlux\",\n",
       " is_supervised = true,\n",
       " docstring = \"A neural network model for making probabilistic predictions of a `Mutliclass` or `OrderedFactor` target, given a table of `Continuous` features. \\n→ based on [MLJFlux](https://github.com/alan-turing-institute/MLJFlux.jl).\\n→ do `@load NeuralNetworkClassifier pkg=\\\"MLJFlux\\\"` to use the model.\\n→ do `?NeuralNetworkClassifier` for documentation.\",\n",
       " hyperparameter_ranges = (nothing, nothing, nothing, nothing, nothing, nothing, nothing, nothing, nothing),\n",
       " hyperparameter_types = (\"MLJFlux.Short\", \"typeof(NNlib.softmax)\", \"Flux.Optimise.ADAM\", \"typeof(Flux.crossentropy)\", \"Int64\", \"Int64\", \"Float64\", \"Float64\", \"Bool\"),\n",
       " hyperparameters = (:builder, :finaliser, :optimiser, :loss, :epochs, :batch_size, :lambda, :alpha, :optimiser_changes_trigger_retraining),\n",
       " implemented_methods = Any[],\n",
       " is_pure_julia = true,\n",
       " is_wrapper = false,\n",
       " load_path = \"MLJFlux.NeuralNetworkClassifier\",\n",
       " package_license = \"MIT\",\n",
       " package_url = \"https://github.com/alan-turing-institute/MLJFlux.jl\",\n",
       " package_uuid = \"094fc8d1-fd35-5302-93ea-dabda2abf845\",\n",
       " prediction_type = :probabilistic,\n",
       " supports_online = false,\n",
       " supports_weights = false,\n",
       " input_scitype = Table{#s23} where #s23<:(AbstractArray{#s25,1} where #s25<:Continuous),\n",
       " target_scitype = AbstractArray{#s38,1} where #s38<:Finite,\n",
       " output_scitype = Unknown,)"
      ]
     },
     "execution_count": 37,
     "metadata": {},
     "output_type": "execute_result"
    }
   ],
   "source": [
    "info(model)"
   ]
  },
  {
   "cell_type": "markdown",
   "metadata": {},
   "source": [
    "In MLJ a *model* is just a struct containing hyperparameters, and\n",
    "that's all. A model does not store *learned* parameters. Models are\n",
    "mutable:"
   ]
  },
  {
   "cell_type": "code",
   "execution_count": 38,
   "metadata": {},
   "outputs": [
    {
     "data": {
      "text/plain": [
       "12"
      ]
     },
     "execution_count": 38,
     "metadata": {},
     "output_type": "execute_result"
    }
   ],
   "source": [
    "model.epochs = 12"
   ]
  },
  {
   "cell_type": "markdown",
   "metadata": {},
   "source": [
    "And all models have a key-word constructor that works once `@load`\n",
    "has been performed:"
   ]
  },
  {
   "cell_type": "code",
   "execution_count": 39,
   "metadata": {},
   "outputs": [
    {
     "data": {
      "text/plain": [
       "true"
      ]
     },
     "execution_count": 39,
     "metadata": {},
     "output_type": "execute_result"
    }
   ],
   "source": [
    "NeuralNetworkClassifier(epochs=12) == model"
   ]
  },
  {
   "cell_type": "markdown",
   "metadata": {},
   "source": [
    "### On fitting and predicting"
   ]
  },
  {
   "cell_type": "markdown",
   "metadata": {},
   "source": [
    "In MLJ a model and training/evaluation data are typically bound\n",
    "together in a machine:"
   ]
  },
  {
   "cell_type": "code",
   "execution_count": 40,
   "metadata": {},
   "outputs": [
    {
     "data": {
      "text/plain": [
       "\u001b[34mMachine{NeuralNetworkClassifier{Short,…}} @873\u001b[39m trained 0 times.\n",
       "  args: \n",
       "    1:\t\u001b[34mSource @208\u001b[39m ⏎ `Table{AbstractArray{Continuous,1}}`\n",
       "    2:\t\u001b[34mSource @208\u001b[39m ⏎ `AbstractArray{Multiclass{3},1}`\n"
      ]
     },
     "execution_count": 40,
     "metadata": {},
     "output_type": "execute_result"
    }
   ],
   "source": [
    "mach = machine(model, X, y)"
   ]
  },
  {
   "cell_type": "markdown",
   "metadata": {},
   "source": [
    "A machine stores *learned* parameters, among other things. We'll\n",
    "train this machine on 70% of the data and evaluate on a 30% holdout\n",
    "set. Let's start by dividing all row indices into `train` and `test`\n",
    "subsets:"
   ]
  },
  {
   "cell_type": "code",
   "execution_count": 42,
   "metadata": {},
   "outputs": [
    {
     "data": {
      "text/plain": [
       "([1, 2, 3, 4, 5, 6, 7, 8, 9, 10  …  96, 97, 98, 99, 100, 101, 102, 103, 104, 105], [106, 107, 108, 109, 110, 111, 112, 113, 114, 115  …  141, 142, 143, 144, 145, 146, 147, 148, 149, 150])"
      ]
     },
     "execution_count": 42,
     "metadata": {},
     "output_type": "execute_result"
    }
   ],
   "source": [
    "train, test = partition(eachindex(y), 0.7)"
   ]
  },
  {
   "cell_type": "code",
   "execution_count": 43,
   "metadata": {},
   "outputs": [
    {
     "name": "stderr",
     "output_type": "stream",
     "text": [
      "┌ Info: Training \u001b[34mMachine{NeuralNetworkClassifier{Short,…}} @873\u001b[39m.\n",
      "└ @ MLJBase /Users/anthony/.julia/packages/MLJBase/r3heT/src/machines.jl:317\n",
      "┌ Info: Loss is 1.232\n",
      "└ @ MLJFlux /Users/anthony/.julia/packages/MLJFlux/HxJNU/src/core.jl:95\n",
      "┌ Info: Loss is 1.188\n",
      "└ @ MLJFlux /Users/anthony/.julia/packages/MLJFlux/HxJNU/src/core.jl:95\n",
      "┌ Info: Loss is 1.163\n",
      "└ @ MLJFlux /Users/anthony/.julia/packages/MLJFlux/HxJNU/src/core.jl:95\n",
      "┌ Info: Loss is 1.144\n",
      "└ @ MLJFlux /Users/anthony/.julia/packages/MLJFlux/HxJNU/src/core.jl:95\n",
      "┌ Info: Loss is 1.126\n",
      "└ @ MLJFlux /Users/anthony/.julia/packages/MLJFlux/HxJNU/src/core.jl:95\n",
      "┌ Info: Loss is 1.112\n",
      "└ @ MLJFlux /Users/anthony/.julia/packages/MLJFlux/HxJNU/src/core.jl:95\n",
      "┌ Info: Loss is 1.1\n",
      "└ @ MLJFlux /Users/anthony/.julia/packages/MLJFlux/HxJNU/src/core.jl:95\n",
      "┌ Info: Loss is 1.089\n",
      "└ @ MLJFlux /Users/anthony/.julia/packages/MLJFlux/HxJNU/src/core.jl:95\n",
      "┌ Info: Loss is 1.08\n",
      "└ @ MLJFlux /Users/anthony/.julia/packages/MLJFlux/HxJNU/src/core.jl:95\n",
      "┌ Info: Loss is 1.07\n",
      "└ @ MLJFlux /Users/anthony/.julia/packages/MLJFlux/HxJNU/src/core.jl:95\n",
      "┌ Info: Loss is 1.052\n",
      "└ @ MLJFlux /Users/anthony/.julia/packages/MLJFlux/HxJNU/src/core.jl:95\n",
      "┌ Info: Loss is 1.025\n",
      "└ @ MLJFlux /Users/anthony/.julia/packages/MLJFlux/HxJNU/src/core.jl:95\n"
     ]
    },
    {
     "data": {
      "text/plain": [
       "\u001b[34mMachine{NeuralNetworkClassifier{Short,…}} @873\u001b[39m trained 1 time.\n",
       "  args: \n",
       "    1:\t\u001b[34mSource @208\u001b[39m ⏎ `Table{AbstractArray{Continuous,1}}`\n",
       "    2:\t\u001b[34mSource @208\u001b[39m ⏎ `AbstractArray{Multiclass{3},1}`\n"
      ]
     },
     "execution_count": 43,
     "metadata": {},
     "output_type": "execute_result"
    }
   ],
   "source": [
    "fit!(mach, rows=train, verbosity=2)"
   ]
  },
  {
   "cell_type": "markdown",
   "metadata": {},
   "source": [
    "Machines remember the last set of hyperparameters used during fit,\n",
    "which, in the case of iterative models, allows them to restart\n",
    "computations where they left off, when the iteration parameter is\n",
    "increased:"
   ]
  },
  {
   "cell_type": "code",
   "execution_count": 44,
   "metadata": {},
   "outputs": [
    {
     "name": "stderr",
     "output_type": "stream",
     "text": [
      "┌ Info: Updating \u001b[34mMachine{NeuralNetworkClassifier{Short,…}} @873\u001b[39m.\n",
      "└ @ MLJBase /Users/anthony/.julia/packages/MLJBase/r3heT/src/machines.jl:318\n",
      "┌ Info: Loss is 1.011\n",
      "└ @ MLJFlux /Users/anthony/.julia/packages/MLJFlux/HxJNU/src/core.jl:95\n",
      "┌ Info: Loss is 0.9947\n",
      "└ @ MLJFlux /Users/anthony/.julia/packages/MLJFlux/HxJNU/src/core.jl:95\n",
      "┌ Info: Loss is 0.9859\n",
      "└ @ MLJFlux /Users/anthony/.julia/packages/MLJFlux/HxJNU/src/core.jl:95\n",
      "┌ Info: Loss is 0.9749\n",
      "└ @ MLJFlux /Users/anthony/.julia/packages/MLJFlux/HxJNU/src/core.jl:95\n"
     ]
    },
    {
     "data": {
      "text/plain": [
       "\u001b[34mMachine{NeuralNetworkClassifier{Short,…}} @873\u001b[39m trained 2 times.\n",
       "  args: \n",
       "    1:\t\u001b[34mSource @208\u001b[39m ⏎ `Table{AbstractArray{Continuous,1}}`\n",
       "    2:\t\u001b[34mSource @208\u001b[39m ⏎ `AbstractArray{Multiclass{3},1}`\n"
      ]
     },
     "execution_count": 44,
     "metadata": {},
     "output_type": "execute_result"
    }
   ],
   "source": [
    "model.epochs = model.epochs + 4\n",
    "fit!(mach, rows=train, verbosity=2)"
   ]
  },
  {
   "cell_type": "markdown",
   "metadata": {},
   "source": [
    "By default, we can also increase `:learning_rate` without a cold restart:"
   ]
  },
  {
   "cell_type": "code",
   "execution_count": 45,
   "metadata": {},
   "outputs": [
    {
     "name": "stderr",
     "output_type": "stream",
     "text": [
      "┌ Info: Updating \u001b[34mMachine{NeuralNetworkClassifier{Short,…}} @873\u001b[39m.\n",
      "└ @ MLJBase /Users/anthony/.julia/packages/MLJBase/r3heT/src/machines.jl:318\n",
      "┌ Info: Loss is 0.8565\n",
      "└ @ MLJFlux /Users/anthony/.julia/packages/MLJFlux/HxJNU/src/core.jl:95\n",
      "┌ Info: Loss is 0.7342\n",
      "└ @ MLJFlux /Users/anthony/.julia/packages/MLJFlux/HxJNU/src/core.jl:95\n",
      "┌ Info: Loss is 0.659\n",
      "└ @ MLJFlux /Users/anthony/.julia/packages/MLJFlux/HxJNU/src/core.jl:95\n",
      "┌ Info: Loss is 0.6001\n",
      "└ @ MLJFlux /Users/anthony/.julia/packages/MLJFlux/HxJNU/src/core.jl:95\n"
     ]
    },
    {
     "data": {
      "text/plain": [
       "\u001b[34mMachine{NeuralNetworkClassifier{Short,…}} @873\u001b[39m trained 3 times.\n",
       "  args: \n",
       "    1:\t\u001b[34mSource @208\u001b[39m ⏎ `Table{AbstractArray{Continuous,1}}`\n",
       "    2:\t\u001b[34mSource @208\u001b[39m ⏎ `AbstractArray{Multiclass{3},1}`\n"
      ]
     },
     "execution_count": 45,
     "metadata": {},
     "output_type": "execute_result"
    }
   ],
   "source": [
    "model.epochs = model.epochs + 4\n",
    "model.optimiser.eta = 10*model.optimiser.eta\n",
    "fit!(mach, rows=train, verbosity=2)"
   ]
  },
  {
   "cell_type": "markdown",
   "metadata": {},
   "source": [
    "However, change the regularization parameter and training will\n",
    "restart from scratch:"
   ]
  },
  {
   "cell_type": "code",
   "execution_count": 49,
   "metadata": {},
   "outputs": [
    {
     "name": "stderr",
     "output_type": "stream",
     "text": [
      "┌ Info: Not retraining \u001b[34mMachine{NeuralNetworkClassifier{Short,…}} @873\u001b[39m. Use `force=true` to force.\n",
      "└ @ MLJBase /Users/anthony/.julia/packages/MLJBase/r3heT/src/machines.jl:320\n"
     ]
    },
    {
     "data": {
      "text/plain": [
       "\u001b[34mMachine{NeuralNetworkClassifier{Short,…}} @873\u001b[39m trained 4 times.\n",
       "  args: \n",
       "    1:\t\u001b[34mSource @208\u001b[39m ⏎ `Table{AbstractArray{Continuous,1}}`\n",
       "    2:\t\u001b[34mSource @208\u001b[39m ⏎ `AbstractArray{Multiclass{3},1}`\n"
      ]
     },
     "execution_count": 49,
     "metadata": {},
     "output_type": "execute_result"
    }
   ],
   "source": [
    "model.lambda = 0.001\n",
    "fit!(mach, rows=train, verbosity=2)"
   ]
  },
  {
   "cell_type": "markdown",
   "metadata": {},
   "source": [
    "Let's train silently for a total of 50 epochs, and look at a prediction:"
   ]
  },
  {
   "cell_type": "code",
   "execution_count": 50,
   "metadata": {},
   "outputs": [
    {
     "name": "stderr",
     "output_type": "stream",
     "text": [
      "┌ Info: Updating \u001b[34mMachine{NeuralNetworkClassifier{Short,…}} @873\u001b[39m.\n",
      "└ @ MLJBase /Users/anthony/.julia/packages/MLJBase/r3heT/src/machines.jl:318\n",
      "\u001b[33mOptimising neural net:100%[=========================] Time: 0:00:00\u001b[39m\n"
     ]
    },
    {
     "data": {
      "text/plain": [
       "UnivariateFinite{Multiclass{3}}(Iris-setosa=>0.0771, Iris-versicolor=>0.657, Iris-virginica=>0.266)"
      ]
     },
     "execution_count": 50,
     "metadata": {},
     "output_type": "execute_result"
    }
   ],
   "source": [
    "model.epochs = 50\n",
    "fit!(mach, rows=train)\n",
    "yhat = predict(mach, X[test,:]); # or predict(mach, rows=test)\n",
    "yhat[1]"
   ]
  },
  {
   "cell_type": "markdown",
   "metadata": {},
   "source": [
    "What's going on here?"
   ]
  },
  {
   "cell_type": "code",
   "execution_count": 63,
   "metadata": {},
   "outputs": [
    {
     "data": {
      "text/plain": [
       ":probabilistic"
      ]
     },
     "execution_count": 63,
     "metadata": {},
     "output_type": "execute_result"
    }
   ],
   "source": [
    "info(model).prediction_type"
   ]
  },
  {
   "cell_type": "markdown",
   "metadata": {},
   "source": [
    "**Important**:\n",
    "- In MLJ, a model that can predict probabilities (and not just point values) will do so by default. (These models have supertype `Proababilistic`, while point-estimate predictors have supertype `Deterministic`.)\n",
    "- For most probabilistic predictors, the predicted object is a `Distributions.Distribution` object, supporting the `Distributions.jl` [API](https://juliastats.org/Distributions.jl/latest/extends/#Create-a-Distribution-1) for such objects. In particular, the methods `rand`,  `pdf`, `mode`, `median` and `mean` will apply, where appropriate."
   ]
  },
  {
   "cell_type": "markdown",
   "metadata": {},
   "source": [
    "So, to obtain the probability of \"Iris-virginica\" in the first test\n",
    "prediction, we do"
   ]
  },
  {
   "cell_type": "code",
   "execution_count": 64,
   "metadata": {},
   "outputs": [
    {
     "data": {
      "text/plain": [
       "0.25201705f0"
      ]
     },
     "execution_count": 64,
     "metadata": {},
     "output_type": "execute_result"
    }
   ],
   "source": [
    "pdf(yhat[1], \"Iris-virginica\")"
   ]
  },
  {
   "cell_type": "markdown",
   "metadata": {},
   "source": [
    "To get the most likely observation, we do"
   ]
  },
  {
   "cell_type": "code",
   "execution_count": 65,
   "metadata": {},
   "outputs": [
    {
     "data": {
      "text/plain": [
       "CategoricalValue{String,UInt32} \"Iris-versicolor\""
      ]
     },
     "execution_count": 65,
     "metadata": {},
     "output_type": "execute_result"
    }
   ],
   "source": [
    "mode(yhat[1])"
   ]
  },
  {
   "cell_type": "markdown",
   "metadata": {},
   "source": [
    "These can be broadcast over multiple predictions in the usual way:"
   ]
  },
  {
   "cell_type": "code",
   "execution_count": 51,
   "metadata": {},
   "outputs": [
    {
     "data": {
      "text/plain": [
       "4-element Array{Float32,1}:\n",
       " 0.656501\n",
       " 0.38027665\n",
       " 0.008672902\n",
       " 0.3383447"
      ]
     },
     "execution_count": 51,
     "metadata": {},
     "output_type": "execute_result"
    }
   ],
   "source": [
    "broadcast(pdf, yhat[1:4], \"Iris-versicolor\")"
   ]
  },
  {
   "cell_type": "code",
   "execution_count": 52,
   "metadata": {},
   "outputs": [
    {
     "data": {
      "text/plain": [
       "4-element CategoricalArray{String,1,UInt32}:\n",
       " \"Iris-versicolor\"\n",
       " \"Iris-virginica\"\n",
       " \"Iris-setosa\"\n",
       " \"Iris-virginica\""
      ]
     },
     "execution_count": 52,
     "metadata": {},
     "output_type": "execute_result"
    }
   ],
   "source": [
    "mode.(yhat[1:4])"
   ]
  },
  {
   "cell_type": "markdown",
   "metadata": {},
   "source": [
    "Or, alternatively, you can use the `predict_mode` operation instead\n",
    "of `predict`:"
   ]
  },
  {
   "cell_type": "code",
   "execution_count": 53,
   "metadata": {},
   "outputs": [
    {
     "data": {
      "text/plain": [
       "4-element CategoricalArray{String,1,UInt32}:\n",
       " \"Iris-versicolor\"\n",
       " \"Iris-virginica\"\n",
       " \"Iris-setosa\"\n",
       " \"Iris-virginica\""
      ]
     },
     "execution_count": 53,
     "metadata": {},
     "output_type": "execute_result"
    }
   ],
   "source": [
    "predict_mode(mach, X[test,:])[1:4] # or predict_mode(mach, rows=test)[1:4]"
   ]
  },
  {
   "cell_type": "markdown",
   "metadata": {},
   "source": [
    "For a more conventional matrix of probabilities you can do this:"
   ]
  },
  {
   "cell_type": "code",
   "execution_count": 54,
   "metadata": {},
   "outputs": [
    {
     "data": {
      "text/plain": [
       "4×3 Array{Float32,2}:\n",
       " 0.0770982  0.656501   0.266401\n",
       " 0.0322805  0.380277   0.587443\n",
       " 0.991327   0.0086729  7.61707f-14\n",
       " 0.0274174  0.338345   0.634238"
      ]
     },
     "execution_count": 54,
     "metadata": {},
     "output_type": "execute_result"
    }
   ],
   "source": [
    "L = levels(y)\n",
    "pdf(yhat, L)[1:4, :]"
   ]
  },
  {
   "cell_type": "markdown",
   "metadata": {},
   "source": [
    "However, in a typical MLJ workflow, this is not as useful as you\n",
    "might imagine. In particular, all probablistic performance measures\n",
    "in MLJ expect distribution objects in their first slot:"
   ]
  },
  {
   "cell_type": "code",
   "execution_count": 55,
   "metadata": {},
   "outputs": [
    {
     "data": {
      "text/plain": [
       "0.34889317f0"
      ]
     },
     "execution_count": 55,
     "metadata": {},
     "output_type": "execute_result"
    }
   ],
   "source": [
    "cross_entropy(yhat, y[test]) |> mean"
   ]
  },
  {
   "cell_type": "markdown",
   "metadata": {},
   "source": [
    "To apply a deterministic measure, we first need to obtain point-estimates:"
   ]
  },
  {
   "cell_type": "code",
   "execution_count": 56,
   "metadata": {},
   "outputs": [
    {
     "data": {
      "text/plain": [
       "0.06666666666666667"
      ]
     },
     "execution_count": 56,
     "metadata": {},
     "output_type": "execute_result"
    }
   ],
   "source": [
    "misclassification_rate(mode.(yhat), y[test])"
   ]
  },
  {
   "cell_type": "markdown",
   "metadata": {},
   "source": [
    "### Step 4. Evaluate the model performance"
   ]
  },
  {
   "cell_type": "markdown",
   "metadata": {},
   "source": [
    "Naturally, MLJ provides boilerplate code for carrying out a model\n",
    "evaluation with a lot less fuss. Let's repeat the performance\n",
    "evaluation above and add an extra measure, `brier_score`:"
   ]
  },
  {
   "cell_type": "code",
   "execution_count": 57,
   "metadata": {},
   "outputs": [
    {
     "data": {
      "text/plain": [
       "┌\u001b[0m──────────────────────────────\u001b[0m┬\u001b[0m───────────────\u001b[0m┬\u001b[0m─────────────────\u001b[0m┐\u001b[0m\n",
       "│\u001b[0m\u001b[22m _.measure                    \u001b[0m│\u001b[0m\u001b[22m _.measurement \u001b[0m│\u001b[0m\u001b[22m _.per_fold      \u001b[0m│\u001b[0m\n",
       "├\u001b[0m──────────────────────────────\u001b[0m┼\u001b[0m───────────────\u001b[0m┼\u001b[0m─────────────────\u001b[0m┤\u001b[0m\n",
       "│\u001b[0m cross_entropy                \u001b[0m│\u001b[0m 0.491         \u001b[0m│\u001b[0m Float32[0.491]  \u001b[0m│\u001b[0m\n",
       "│\u001b[0m BrierScore{UnivariateFinite} \u001b[0m│\u001b[0m -0.264        \u001b[0m│\u001b[0m Float32[-0.264] \u001b[0m│\u001b[0m\n",
       "└\u001b[0m──────────────────────────────\u001b[0m┴\u001b[0m───────────────\u001b[0m┴\u001b[0m─────────────────\u001b[0m┘\u001b[0m\n",
       "_.per_observation = [[[0.545, 0.544, ..., 0.544]], [[-0.295, -0.295, ..., -0.294]]]\n"
      ]
     },
     "execution_count": 57,
     "metadata": {},
     "output_type": "execute_result"
    }
   ],
   "source": [
    "evaluate!(mach, resampling=Holdout(fraction_train=0.8),\n",
    "          measures=[cross_entropy, brier_score])"
   ]
  },
  {
   "cell_type": "markdown",
   "metadata": {},
   "source": [
    "Or applying cross-validation instead:"
   ]
  },
  {
   "cell_type": "code",
   "execution_count": 58,
   "metadata": {},
   "outputs": [
    {
     "name": "stderr",
     "output_type": "stream",
     "text": [
      "\u001b[33mEvaluating over 6 folds: 100%[=========================] Time: 0:00:04\u001b[39m\n"
     ]
    },
    {
     "data": {
      "text/plain": [
       "┌\u001b[0m──────────────────────────────\u001b[0m┬\u001b[0m───────────────\u001b[0m┬\u001b[0m───────────────────────────────────────────────────────\u001b[0m┐\u001b[0m\n",
       "│\u001b[0m\u001b[22m _.measure                    \u001b[0m│\u001b[0m\u001b[22m _.measurement \u001b[0m│\u001b[0m\u001b[22m _.per_fold                                            \u001b[0m│\u001b[0m\n",
       "├\u001b[0m──────────────────────────────\u001b[0m┼\u001b[0m───────────────\u001b[0m┼\u001b[0m───────────────────────────────────────────────────────\u001b[0m┤\u001b[0m\n",
       "│\u001b[0m cross_entropy                \u001b[0m│\u001b[0m 0.333         \u001b[0m│\u001b[0m Float32[0.36, 0.234, 0.295, 0.486, 0.359, 0.262]      \u001b[0m│\u001b[0m\n",
       "│\u001b[0m BrierScore{UnivariateFinite} \u001b[0m│\u001b[0m -0.181        \u001b[0m│\u001b[0m Float32[-0.2, -0.123, -0.147, -0.269, -0.202, -0.143] \u001b[0m│\u001b[0m\n",
       "└\u001b[0m──────────────────────────────\u001b[0m┴\u001b[0m───────────────\u001b[0m┴\u001b[0m───────────────────────────────────────────────────────\u001b[0m┘\u001b[0m\n",
       "_.per_observation = [[[0.421, 0.525, ..., 0.0087], [0.00912, 0.489, ..., 0.00737], [0.0995, 0.465, ..., 0.0368], [0.483, 0.263, ..., 0.484], [0.341, 0.417, ..., 0.651], [0.0018, 0.267, ..., 0.00113]], [[-0.232, -0.256, ..., -0.00015], [-0.000165, -0.251, ..., -0.000108], [-0.0179, -0.25, ..., -0.00255], [-0.241, -0.107, ..., -0.242], [-0.125, -0.18, ..., -0.389], [-6.44e-6, -0.0842, ..., -2.5e-6]]]\n"
      ]
     },
     "execution_count": 58,
     "metadata": {},
     "output_type": "execute_result"
    }
   ],
   "source": [
    "evaluate!(mach, resampling=CV(nfolds=6),\n",
    "          measures=[cross_entropy, brier_score])"
   ]
  },
  {
   "cell_type": "markdown",
   "metadata": {},
   "source": [
    "Or, Monte-Carlo cross-validation (cross-validation repeated\n",
    "randomizied folds)"
   ]
  },
  {
   "cell_type": "code",
   "execution_count": 59,
   "metadata": {},
   "outputs": [
    {
     "name": "stderr",
     "output_type": "stream",
     "text": [
      "\u001b[33mEvaluating over 18 folds: 100%[=========================] Time: 0:00:11\u001b[39m\n"
     ]
    },
    {
     "data": {
      "text/plain": [
       "┌\u001b[0m──────────────────────────────\u001b[0m┬\u001b[0m───────────────\u001b[0m┬\u001b[0m─────────────────────────────────────────────────────────────────────────────────────────────────────────────────────────────────────────────────────────\u001b[0m┐\u001b[0m\n",
       "│\u001b[0m\u001b[22m _.measure                    \u001b[0m│\u001b[0m\u001b[22m _.measurement \u001b[0m│\u001b[0m\u001b[22m _.per_fold                                                                                                                                              \u001b[0m│\u001b[0m\n",
       "├\u001b[0m──────────────────────────────\u001b[0m┼\u001b[0m───────────────\u001b[0m┼\u001b[0m─────────────────────────────────────────────────────────────────────────────────────────────────────────────────────────────────────────────────────────\u001b[0m┤\u001b[0m\n",
       "│\u001b[0m cross_entropy                \u001b[0m│\u001b[0m 0.303         \u001b[0m│\u001b[0m Float32[0.21, 0.288, 0.311, 0.228, 0.371, 0.327, 0.284, 0.366, 0.339, 0.345, 0.335, 0.286, 0.314, 0.289, 0.258, 0.295, 0.272, 0.33]                     \u001b[0m│\u001b[0m\n",
       "│\u001b[0m BrierScore{UnivariateFinite} \u001b[0m│\u001b[0m -0.158        \u001b[0m│\u001b[0m Float32[-0.114, -0.156, -0.165, -0.0953, -0.219, -0.176, -0.152, -0.199, -0.162, -0.203, -0.188, -0.137, -0.17, -0.136, -0.121, -0.128, -0.139, -0.189] \u001b[0m│\u001b[0m\n",
       "└\u001b[0m──────────────────────────────\u001b[0m┴\u001b[0m───────────────\u001b[0m┴\u001b[0m─────────────────────────────────────────────────────────────────────────────────────────────────────────────────────────────────────────────────────────\u001b[0m┘\u001b[0m\n",
       "_.per_observation = [[[0.265, 0.0123, ..., 0.0117], [0.59, 0.391, ..., 0.527], [0.419, 0.436, ..., 0.00596], [0.171, 0.166, ..., 0.24], [0.619, 0.0088, ..., 0.00807], [0.007, 0.462, ..., 0.225], [0.132, 0.0357, ..., 0.128], [0.699, 0.697, ..., 0.0852], [0.373, 0.342, ..., 0.534], [0.00173, 0.592, ..., 0.514], [0.379, 0.00322, ..., 0.00523], [0.563, 0.0646, ..., 0.305], [0.449, 0.375, ..., 0.423], [0.318, 0.488, ..., 0.533], [0.378, 0.424, ..., 0.237], [0.173, 0.298, ..., 0.326], [0.00717, 0.00678, ..., 0.00664], [0.00183, 0.00107, ..., 0.264]], [[-0.0819, -0.0003, ..., -0.000269], [-0.368, -0.172, ..., -0.312], [-0.232, -0.248, ..., -7.06e-5], [-0.0398, -0.0402, ..., -0.0909], [-0.36, -0.000153, ..., -0.000129], [-9.74e-5, -0.254, ..., -0.0701], [-0.0304, -0.00209, ..., -0.0288], [-0.39, -0.46, ..., -0.013], [-0.162, -0.145, ..., -0.342], [-5.96e-6, -0.371, ..., -0.302], [-0.157, -2.06e-5, ..., -5.45e-5], [-0.366, -0.00784, ..., -0.138], [-0.259, -0.195, ..., -0.231], [-0.138, -0.292, ..., -0.339], [-0.184, -0.222, ..., -0.0701], [-0.0506, -0.117, ..., -0.154], [-0.000102, -9.12e-5, ..., -8.76e-5], [-5.6e-6, -2.03e-6, ..., -0.106]]]\n"
      ]
     },
     "execution_count": 59,
     "metadata": {},
     "output_type": "execute_result"
    }
   ],
   "source": [
    "e = evaluate!(mach, resampling=CV(nfolds=6, rng=123),\n",
    "                repeats=3,\n",
    "              measures=[cross_entropy, brier_score])"
   ]
  },
  {
   "cell_type": "markdown",
   "metadata": {},
   "source": [
    "One can access the following properties of the output `e` of an\n",
    "evaluation: `measure`, `measurement`, `per_fold` (measurement for\n",
    "each fold) and `per_observation` (measurement per observation, if\n",
    "reported)."
   ]
  },
  {
   "cell_type": "markdown",
   "metadata": {},
   "source": [
    "We finally note that you can restrict the rows of observations from\n",
    "which train and test folds are drawn, by specifying `rows=...`. For\n",
    "example, imagining the last 30% of target observations are `missing`\n",
    "you might have a workflow like this:"
   ]
  },
  {
   "cell_type": "code",
   "execution_count": 60,
   "metadata": {},
   "outputs": [
    {
     "name": "stderr",
     "output_type": "stream",
     "text": [
      "┌ Info: Creating subsamples from a subset of all rows. \n",
      "└ @ MLJBase /Users/anthony/.julia/packages/MLJBase/r3heT/src/resampling.jl:336\n",
      "\u001b[33mEvaluating over 6 folds: 100%[=========================] Time: 0:00:02\u001b[39m\n",
      "┌ Info: Training \u001b[34mMachine{NeuralNetworkClassifier{Short,…}} @804\u001b[39m.\n",
      "└ @ MLJBase /Users/anthony/.julia/packages/MLJBase/r3heT/src/machines.jl:317\n",
      "\u001b[33mOptimising neural net:100%[=========================] Time: 0:00:00\u001b[39m\n"
     ]
    }
   ],
   "source": [
    "train, test = partition(eachindex(y), 0.7)\n",
    "mach = machine(model, X, y)\n",
    "evaluate!(mach, resampling=CV(nfolds=6),\n",
    "          measures=[cross_entropy, brier_score],\n",
    "          rows=train)     # cv estimate, resampling from `train`\n",
    "fit!(mach, rows=train)    # re-train using all of `train` observations\n",
    "predict(mach, rows=test); # and predict missing targets"
   ]
  },
  {
   "cell_type": "markdown",
   "metadata": {},
   "source": [
    "### On learning curves"
   ]
  },
  {
   "cell_type": "markdown",
   "metadata": {},
   "source": [
    "Since our model is an iterative one, we might want to inspect the\n",
    "out-of-sample performance as a function of the iteration\n",
    "parameter. For this we can use the `learning_curve` function (which,\n",
    "incidentally can be applied to any model hyper-parameter). This\n",
    "starts by defining a one-dimensional range object for the parameter\n",
    "(more on this when we discuss tuning in Part 4):"
   ]
  },
  {
   "cell_type": "code",
   "execution_count": 61,
   "metadata": {},
   "outputs": [
    {
     "name": "stderr",
     "output_type": "stream",
     "text": [
      "┌ Info: Training \u001b[34mMachine{ProbabilisticTunedModel{Grid,…}} @590\u001b[39m.\n",
      "└ @ MLJBase /Users/anthony/.julia/packages/MLJBase/r3heT/src/machines.jl:317\n",
      "┌ Info: Attempting to evaluate 22 models.\n",
      "└ @ MLJTuning /Users/anthony/.julia/packages/MLJTuning/oLVRR/src/tuned_models.jl:474\n",
      "\u001b[33mEvaluating over 22 metamodels: 100%[=========================] Time: 0:00:01\u001b[39m\n"
     ]
    },
    {
     "data": {
      "image/png": "[encoded data removed]",
      "text/plain": [
       "PyPlot.Figure(PyObject <Figure size 600x400 with 1 Axes>)"
      ]
     },
     "metadata": {},
     "output_type": "display_data"
    }
   ],
   "source": [
    "r = range(model, :epochs, lower=1, upper=60, scale=:log)\n",
    "curve = learning_curve(mach,\n",
    "                       range=r,\n",
    "                       resampling=Holdout(fraction_train=0.7), # (default)\n",
    "                       measure=cross_entropy)\n",
    "\n",
    "using Plots\n",
    "pyplot()\n",
    "plt=plot(curve.parameter_values, curve.measurements)\n",
    "xlabel!(plt, \"epochs\")\n",
    "ylabel!(plt, \"cross entropy on holdout set\")\n",
    "savefig(\"iris_learning_curve.png\")"
   ]
  },
  {
   "cell_type": "markdown",
   "metadata": {},
   "source": [
    "### Exercises for Part 2"
   ]
  },
  {
   "cell_type": "markdown",
   "metadata": {},
   "source": [
    "#### Ex 4"
   ]
  },
  {
   "cell_type": "markdown",
   "metadata": {},
   "source": [
    "(a) Identify all supervised MLJ models that can be applied (without\n",
    "type coercion or one-hot encoding) to a supervised learning problem\n",
    "with input features `X4` and target `y4` defined below:"
   ]
  },
  {
   "cell_type": "code",
   "execution_count": 77,
   "metadata": {},
   "outputs": [
    {
     "data": {
      "text/plain": [
       "10-element Array{Int64,1}:\n",
       " 1\n",
       " 4\n",
       " 2\n",
       " 1\n",
       " 1\n",
       " 0\n",
       " 2\n",
       " 3\n",
       " 3\n",
       " 4"
      ]
     },
     "execution_count": 77,
     "metadata": {},
     "output_type": "execute_result"
    }
   ],
   "source": [
    "import Distributions\n",
    "poisson = Distributions.Poisson\n",
    "\n",
    "age = 18 .+ 60*rand(10);\n",
    "salary = coerce(rand([:small, :big, :huge], 10), OrderedFactor);\n",
    "levels!(salary, [:small, :big, :huge]);\n",
    "X4 = DataFrames.DataFrame(age=age, salary=salary)\n",
    "\n",
    "n_devices(salary) = salary > :small ? rand(poisson(1.3)) : rand(poisson(2.9))\n",
    "y4 = [n_devices(row.salary) for row in eachrow(X4)]"
   ]
  },
  {
   "cell_type": "markdown",
   "metadata": {},
   "source": [
    "(b) What models can be applied if you coerce the salary to a\n",
    "`Continuous` scitype?"
   ]
  },
  {
   "cell_type": "markdown",
   "metadata": {},
   "source": [
    "#### Ex 5 (unpack)"
   ]
  },
  {
   "cell_type": "markdown",
   "metadata": {},
   "source": [
    "After evaluating the following ..."
   ]
  },
  {
   "cell_type": "code",
   "execution_count": 78,
   "metadata": {},
   "outputs": [
    {
     "name": "stdout",
     "output_type": "stream",
     "text": [
      "┌───────┬───────────────────────┬────────────────────┬─────────────────────────────────┐\n",
      "│ a     │ b                     │ c                  │ d                               │\n",
      "│ Int64 │ Float64               │ Float64            │ CategoricalValue{String,UInt32} │\n",
      "│ Count │ Continuous            │ Continuous         │ OrderedFactor{2}                │\n",
      "├───────┼───────────────────────┼────────────────────┼─────────────────────────────────┤\n",
      "│ 1     │ 0.3438212558886624    │ 0.6935640305810773 │ male                            │\n",
      "│ 2     │ 0.2837422634821589    │ 0.8069806711377399 │ female                          │\n",
      "│ 3     │ 0.0038286450524995796 │ 0.8437662047218633 │ female                          │\n",
      "│ 4     │ 0.9038581683696969    │ 0.927215259780952  │ male                            │\n",
      "└───────┴───────────────────────┴────────────────────┴─────────────────────────────────┘\n"
     ]
    },
    {
     "data": {
      "text/plain": [
       "([1, 2, 3, 4], (b = [0.3438212558886624, 0.2837422634821589, 0.0038286450524995796, 0.9038581683696969], c = [0.6935640305810773, 0.8069806711377399, 0.8437662047218633, 0.927215259780952]), CategoricalValue{String,UInt32}[\"male\", \"female\", \"female\", \"male\"])"
      ]
     },
     "execution_count": 78,
     "metadata": {},
     "output_type": "execute_result"
    }
   ],
   "source": [
    "data = (a = [1, 2, 3, 4],\n",
    "     b = rand(4),\n",
    "     c = rand(4),\n",
    "     d = coerce([\"male\", \"female\", \"female\", \"male\"], OrderedFactor));\n",
    "pretty(data)\n",
    "\n",
    "using Tables\n",
    "y, X, w = unpack(data, ==(:a),\n",
    "                 name -> elscitype(Tables.getcolumn(data, name)) == Continuous,\n",
    "                 name -> true)"
   ]
  },
  {
   "cell_type": "markdown",
   "metadata": {},
   "source": [
    "...attempt to guess the evaluations of the following:"
   ]
  },
  {
   "cell_type": "code",
   "execution_count": 79,
   "metadata": {},
   "outputs": [
    {
     "data": {
      "text/plain": [
       "4-element Array{Int64,1}:\n",
       " 1\n",
       " 2\n",
       " 3\n",
       " 4"
      ]
     },
     "execution_count": 79,
     "metadata": {},
     "output_type": "execute_result"
    }
   ],
   "source": [
    "y"
   ]
  },
  {
   "cell_type": "code",
   "execution_count": 80,
   "metadata": {},
   "outputs": [
    {
     "name": "stdout",
     "output_type": "stream",
     "text": [
      "┌───────────────────────┬────────────────────┐\n",
      "│ b                     │ c                  │\n",
      "│ Float64               │ Float64            │\n",
      "│ Continuous            │ Continuous         │\n",
      "├───────────────────────┼────────────────────┤\n",
      "│ 0.3438212558886624    │ 0.6935640305810773 │\n",
      "│ 0.2837422634821589    │ 0.8069806711377399 │\n",
      "│ 0.0038286450524995796 │ 0.8437662047218633 │\n",
      "│ 0.9038581683696969    │ 0.927215259780952  │\n",
      "└───────────────────────┴────────────────────┘\n"
     ]
    }
   ],
   "source": [
    "pretty(X)"
   ]
  },
  {
   "cell_type": "code",
   "execution_count": 81,
   "metadata": {},
   "outputs": [
    {
     "data": {
      "text/plain": [
       "4-element CategoricalArray{String,1,UInt32}:\n",
       " \"male\"\n",
       " \"female\"\n",
       " \"female\"\n",
       " \"male\""
      ]
     },
     "execution_count": 81,
     "metadata": {},
     "output_type": "execute_result"
    }
   ],
   "source": [
    "w"
   ]
  },
  {
   "cell_type": "markdown",
   "metadata": {},
   "source": [
    "#### Ex 6 (horse data)"
   ]
  },
  {
   "cell_type": "markdown",
   "metadata": {},
   "source": [
    "(a) Suppose we want to use predict the `:outcome` variable in the\n",
    "Horse Colic study introduced in Part 1, based on the remaining\n",
    "variables that are `Continuous` (one-hot encoding categorical\n",
    "variables is discussed later in Part 3) *while ignoring the others*.\n",
    "Extract from the `horse` data set (defined in Part 1) appropriate\n",
    "input features `X` and target variable `y`? (Do not, however,\n",
    "randomize the obserations.)"
   ]
  },
  {
   "cell_type": "markdown",
   "metadata": {},
   "source": [
    "(b) Create a 70:30 `train`/`test` split of the data and train a\n",
    "`KNNClassifier` model on the `train` data, using `K = 20` and\n",
    "default values for the other hyper-parameters. (Although one would\n",
    "normally standardize (whiten) the continuous features for this\n",
    "model, do not do so here.) After training:"
   ]
  },
  {
   "cell_type": "markdown",
   "metadata": {},
   "source": [
    "- (i) Evaluate the `cross_entropy` performance on the `test`\n",
    "  observations."
   ]
  },
  {
   "cell_type": "markdown",
   "metadata": {},
   "source": [
    "- &star;(ii) In how many `test` observations does the predicted\n",
    "  probablility of the observed class exceed 50%?"
   ]
  },
  {
   "cell_type": "markdown",
   "metadata": {},
   "source": [
    "- &star;(iii) Find the `misclassification_rate` in the `test`\n",
    "  set. (*Hint.* As this measure is deterministic, you will either\n",
    "  need to broadcast `mode` or use `predict_mode` instead of\n",
    "  `predict`.)"
   ]
  },
  {
   "cell_type": "markdown",
   "metadata": {},
   "source": [
    "(c) Instead use a `RandomForestClassifier` model from the\n",
    "    `DecisionTree` package and:\n",
    "\n",
    "- (i) Generate an appropriate learning curve to\n",
    "  convince yourself that out-of-sample estimates of the\n",
    "  `cross_entropy` loss do not substatially improve for `n_trees >\n",
    "  50`. Use default values for all other hyper-parameters, and feel\n",
    "  free to use all available data to generate the curve."
   ]
  },
  {
   "cell_type": "markdown",
   "metadata": {},
   "source": [
    "- (ii) Fix `n_trees=90` and use `evaluate!` to obtain a 9-fold\n",
    "  cross-validation estimate of the `cross_entropy`, restricting\n",
    "  sub-sampling to the `train` observations."
   ]
  },
  {
   "cell_type": "markdown",
   "metadata": {},
   "source": [
    "- (iii) Now use *all* available data but set\n",
    "  `resampling=Holdout(fraction_train=0.7)` to obtain a score you can\n",
    "  compare with the `KNNClassifier` in part (b)(iii). Which model is\n",
    "  better?"
   ]
  },
  {
   "cell_type": "markdown",
   "metadata": {},
   "source": [
    "## Solutions to exercises"
   ]
  },
  {
   "cell_type": "markdown",
   "metadata": {},
   "source": [
    "#### Ex 2 solution"
   ]
  },
  {
   "cell_type": "code",
   "execution_count": 82,
   "metadata": {},
   "outputs": [
    {
     "name": "stdout",
     "output_type": "stream",
     "text": [
      "┌ Info: Trying to coerce from `Union{Missing, String}` to `OrderedFactor`.\n",
      "│ Coerced to `Union{Missing,OrderedFactor}` instead.\n",
      "└ @ MLJScientificTypes /Users/anthony/.julia/packages/MLJScientificTypes/wqfgN/src/convention/coerce.jl:126\n"
     ]
    },
    {
     "data": {
      "text/plain": [
       "Union{Missing, OrderedFactor{3}}"
      ]
     },
     "execution_count": 82,
     "metadata": {},
     "output_type": "execute_result"
    }
   ],
   "source": [
    "quality = coerce(quality, OrderedFactor);\n",
    "levels!(quality, [\"poor\", \"good\", \"excellent\"]);\n",
    "elscitype(quality)"
   ]
  },
  {
   "cell_type": "markdown",
   "metadata": {},
   "source": [
    "#### Ex 3 solution"
   ]
  },
  {
   "cell_type": "markdown",
   "metadata": {},
   "source": [
    "TODO"
   ]
  },
  {
   "cell_type": "markdown",
   "metadata": {},
   "source": [
    "#### Ex 4 solution"
   ]
  },
  {
   "cell_type": "markdown",
   "metadata": {},
   "source": [
    "4(a)"
   ]
  },
  {
   "cell_type": "markdown",
   "metadata": {},
   "source": [
    "There are *no* models that apply immediately:"
   ]
  },
  {
   "cell_type": "code",
   "execution_count": 83,
   "metadata": {},
   "outputs": [
    {
     "data": {
      "text/plain": [
       "0-element Array{NamedTuple{(:name, :package_name, :is_supervised, :docstring, :hyperparameter_ranges, :hyperparameter_types, :hyperparameters, :implemented_methods, :is_pure_julia, :is_wrapper, :load_path, :package_license, :package_url, :package_uuid, :prediction_type, :supports_online, :supports_weights, :input_scitype, :target_scitype, :output_scitype),T} where T<:Tuple,1}"
      ]
     },
     "execution_count": 83,
     "metadata": {},
     "output_type": "execute_result"
    }
   ],
   "source": [
    "models(matching(X4, y4))"
   ]
  },
  {
   "cell_type": "markdown",
   "metadata": {},
   "source": [
    "4(b)"
   ]
  },
  {
   "cell_type": "code",
   "execution_count": 84,
   "metadata": {},
   "outputs": [
    {
     "data": {
      "text/plain": [
       "4-element Array{NamedTuple{(:name, :package_name, :is_supervised, :docstring, :hyperparameter_ranges, :hyperparameter_types, :hyperparameters, :implemented_methods, :is_pure_julia, :is_wrapper, :load_path, :package_license, :package_url, :package_uuid, :prediction_type, :supports_online, :supports_weights, :input_scitype, :target_scitype, :output_scitype),T} where T<:Tuple,1}:\n",
       " (name = ConstantRegressor, package_name = MLJModels, ... )\n",
       " (name = DecisionTreeRegressor, package_name = DecisionTree, ... )\n",
       " (name = DeterministicConstantRegressor, package_name = MLJModels, ... )\n",
       " (name = RandomForestRegressor, package_name = DecisionTree, ... )"
      ]
     },
     "execution_count": 84,
     "metadata": {},
     "output_type": "execute_result"
    }
   ],
   "source": [
    "y4 = coerce(y4, Continuous);\n",
    "models(matching(X4, y4))"
   ]
  },
  {
   "cell_type": "markdown",
   "metadata": {},
   "source": [
    "#### Ex 6 solution"
   ]
  },
  {
   "cell_type": "markdown",
   "metadata": {},
   "source": [
    "6(a)"
   ]
  },
  {
   "cell_type": "code",
   "execution_count": 85,
   "metadata": {},
   "outputs": [],
   "source": [
    "y, X = unpack(horse,\n",
    "              ==(:outcome),\n",
    "              name -> elscitype(Tables.getcolumn(horse, name)) == Continuous);"
   ]
  },
  {
   "cell_type": "markdown",
   "metadata": {},
   "source": [
    "6(b)(i)"
   ]
  },
  {
   "cell_type": "code",
   "execution_count": 86,
   "metadata": {},
   "outputs": [
    {
     "name": "stdout",
     "output_type": "stream",
     "text": [
      "┌ Info: Training \u001b[34mMachine{KNNClassifier} @961\u001b[39m.\n",
      "└ @ MLJBase /Users/anthony/.julia/packages/MLJBase/r3heT/src/machines.jl:317\n"
     ]
    },
    {
     "data": {
      "text/plain": [
       "1.5025623288812562"
      ]
     },
     "execution_count": 86,
     "metadata": {},
     "output_type": "execute_result"
    }
   ],
   "source": [
    "model = @load KNNClassifier\n",
    "model.K = 20\n",
    "mach = machine(model, X, y)\n",
    "fit!(mach, rows=train)\n",
    "yhat = predict(mach, rows=test) # or predict(mach, X[test,:]);\n",
    "err = cross_entropy(yhat, y[test]) |> mean"
   ]
  },
  {
   "cell_type": "markdown",
   "metadata": {},
   "source": [
    "6(b)(ii)"
   ]
  },
  {
   "cell_type": "markdown",
   "metadata": {},
   "source": [
    "The predicted probabilities of the actual observations in the test\n",
    "are given by"
   ]
  },
  {
   "cell_type": "code",
   "execution_count": 87,
   "metadata": {},
   "outputs": [],
   "source": [
    "p = broadcast(pdf, yhat, y[test]);"
   ]
  },
  {
   "cell_type": "markdown",
   "metadata": {},
   "source": [
    "The number of times this probability exceeds 50% is:"
   ]
  },
  {
   "cell_type": "code",
   "execution_count": 88,
   "metadata": {},
   "outputs": [
    {
     "data": {
      "text/plain": [
       "26"
      ]
     },
     "execution_count": 88,
     "metadata": {},
     "output_type": "execute_result"
    }
   ],
   "source": [
    "n50 = filter(x -> x > 0.5, p) |> length"
   ]
  },
  {
   "cell_type": "markdown",
   "metadata": {},
   "source": [
    "Or, as a proportion:"
   ]
  },
  {
   "cell_type": "code",
   "execution_count": 89,
   "metadata": {},
   "outputs": [
    {
     "data": {
      "text/plain": [
       "0.5777777777777777"
      ]
     },
     "execution_count": 89,
     "metadata": {},
     "output_type": "execute_result"
    }
   ],
   "source": [
    "n50/length(test)"
   ]
  },
  {
   "cell_type": "markdown",
   "metadata": {},
   "source": [
    "6(c)(iii)"
   ]
  },
  {
   "cell_type": "code",
   "execution_count": 90,
   "metadata": {},
   "outputs": [
    {
     "data": {
      "text/plain": [
       "0.3333333333333333"
      ]
     },
     "execution_count": 90,
     "metadata": {},
     "output_type": "execute_result"
    }
   ],
   "source": [
    "misclassification_rate(mode.(yhat), y[test])"
   ]
  },
  {
   "cell_type": "markdown",
   "metadata": {},
   "source": [
    "6(c)(i)"
   ]
  },
  {
   "cell_type": "code",
   "execution_count": 91,
   "metadata": {},
   "outputs": [
    {
     "name": "stdout",
     "output_type": "stream",
     "text": [
      "\r",
      "Evaluating over 6 folds:  17%[====>                    ]  ETA: 0:00:00\u001b[K\r",
      "Evaluating over 6 folds:  33%[========>                ]  ETA: 0:00:00\u001b[K\r",
      "Evaluating over 6 folds:  50%[============>            ]  ETA: 0:00:00\u001b[K\r",
      "Evaluating over 6 folds:  67%[================>        ]  ETA: 0:00:00\u001b[K\r",
      "Evaluating over 6 folds:  83%[====================>    ]  ETA: 0:00:00\u001b[K\r",
      "Evaluating over 6 folds: 100%[=========================] Time: 0:00:00\u001b[K\n"
     ]
    },
    {
     "data": {
      "text/plain": [
       "MLJBase.NumericRange(Int64, :n_trees, ... )"
      ]
     },
     "execution_count": 91,
     "metadata": {},
     "output_type": "execute_result"
    }
   ],
   "source": [
    "model = @load RandomForestClassifier pkg=DecisionTree\n",
    "mach = machine(model, X, y)\n",
    "evaluate!(mach, resampling=CV(nfolds=6), measure=cross_entropy)\n",
    "\n",
    "r = range(model, :n_trees, lower=10, upper=70, scale=:log)"
   ]
  },
  {
   "cell_type": "markdown",
   "metadata": {},
   "source": [
    "Since random forests are inherently randomized, we generate multiple\n",
    "curves:"
   ]
  },
  {
   "cell_type": "code",
   "execution_count": 92,
   "metadata": {},
   "outputs": [
    {
     "name": "stdout",
     "output_type": "stream",
     "text": [
      "┌ Info: Training \u001b[34mMachine{ProbabilisticTunedModel{Grid,…}} @376\u001b[39m.\n",
      "└ @ MLJBase /Users/anthony/.julia/packages/MLJBase/r3heT/src/machines.jl:317\n",
      "┌ Info: Attempting to evaluate 29 models.\n",
      "└ @ MLJTuning /Users/anthony/.julia/packages/MLJTuning/oLVRR/src/tuned_models.jl:474\n",
      "\r",
      "Evaluating over 29 metamodels:   0%[>                        ]  ETA: N/A\u001b[K\r",
      "Evaluating over 29 metamodels:   3%[>                        ]  ETA: 0:00:00\u001b[K\r",
      "Evaluating over 29 metamodels:   7%[=>                       ]  ETA: 0:00:00\u001b[K\r",
      "Evaluating over 29 metamodels:  10%[==>                      ]  ETA: 0:00:00\u001b[K\r",
      "Evaluating over 29 metamodels:  14%[===>                     ]  ETA: 0:00:00\u001b[K\r",
      "Evaluating over 29 metamodels:  17%[====>                    ]  ETA: 0:00:00\u001b[K\r",
      "Evaluating over 29 metamodels:  21%[=====>                   ]  ETA: 0:00:00\u001b[K\r",
      "Evaluating over 29 metamodels:  24%[======>                  ]  ETA: 0:00:00\u001b[K\r",
      "Evaluating over 29 metamodels:  28%[======>                  ]  ETA: 0:00:00\u001b[K\r",
      "Evaluating over 29 metamodels:  31%[=======>                 ]  ETA: 0:00:00\u001b[K\r",
      "Evaluating over 29 metamodels:  34%[========>                ]  ETA: 0:00:00\u001b[K\r",
      "Evaluating over 29 metamodels:  38%[=========>               ]  ETA: 0:00:00\u001b[K\r",
      "Evaluating over 29 metamodels:  41%[==========>              ]  ETA: 0:00:00\u001b[K\r",
      "Evaluating over 29 metamodels:  45%[===========>             ]  ETA: 0:00:00\u001b[K\r",
      "Evaluating over 29 metamodels:  48%[============>            ]  ETA: 0:00:00\u001b[K\r",
      "Evaluating over 29 metamodels:  52%[============>            ]  ETA: 0:00:00\u001b[K\r",
      "Evaluating over 29 metamodels:  55%[=============>           ]  ETA: 0:00:00\u001b[K\r",
      "Evaluating over 29 metamodels:  59%[==============>          ]  ETA: 0:00:00\u001b[K\r",
      "Evaluating over 29 metamodels:  62%[===============>         ]  ETA: 0:00:00\u001b[K\r",
      "Evaluating over 29 metamodels:  66%[================>        ]  ETA: 0:00:00\u001b[K\r",
      "Evaluating over 29 metamodels:  69%[=================>       ]  ETA: 0:00:00\u001b[K\r",
      "Evaluating over 29 metamodels:  72%[==================>      ]  ETA: 0:00:00\u001b[K\r",
      "Evaluating over 29 metamodels:  76%[==================>      ]  ETA: 0:00:00\u001b[K\r",
      "Evaluating over 29 metamodels:  79%[===================>     ]  ETA: 0:00:00\u001b[K\r",
      "Evaluating over 29 metamodels:  83%[====================>    ]  ETA: 0:00:00\u001b[K\r",
      "Evaluating over 29 metamodels:  86%[=====================>   ]  ETA: 0:00:00\u001b[K\r",
      "Evaluating over 29 metamodels:  90%[======================>  ]  ETA: 0:00:00\u001b[K\r",
      "Evaluating over 29 metamodels:  93%[=======================> ]  ETA: 0:00:00\u001b[K\r",
      "Evaluating over 29 metamodels:  97%[========================>]  ETA: 0:00:00\u001b[K\r",
      "Evaluating over 29 metamodels: 100%[=========================] Time: 0:00:00\u001b[K\n",
      "┌ Info: Training \u001b[34mMachine{ProbabilisticTunedModel{Grid,…}} @244\u001b[39m.\n",
      "└ @ MLJBase /Users/anthony/.julia/packages/MLJBase/r3heT/src/machines.jl:317\n",
      "┌ Info: Attempting to evaluate 29 models.\n",
      "└ @ MLJTuning /Users/anthony/.julia/packages/MLJTuning/oLVRR/src/tuned_models.jl:474\n",
      "\r",
      "Evaluating over 29 metamodels:   0%[>                        ]  ETA: N/A\u001b[K\r",
      "Evaluating over 29 metamodels:   3%[>                        ]  ETA: 0:00:00\u001b[K\r",
      "Evaluating over 29 metamodels:   7%[=>                       ]  ETA: 0:00:00\u001b[K\r",
      "Evaluating over 29 metamodels:  10%[==>                      ]  ETA: 0:00:00\u001b[K\r",
      "Evaluating over 29 metamodels:  14%[===>                     ]  ETA: 0:00:00\u001b[K\r",
      "Evaluating over 29 metamodels:  17%[====>                    ]  ETA: 0:00:00\u001b[K\r",
      "Evaluating over 29 metamodels:  21%[=====>                   ]  ETA: 0:00:00\u001b[K\r",
      "Evaluating over 29 metamodels:  24%[======>                  ]  ETA: 0:00:00\u001b[K\r",
      "Evaluating over 29 metamodels:  28%[======>                  ]  ETA: 0:00:00\u001b[K\r",
      "Evaluating over 29 metamodels:  31%[=======>                 ]  ETA: 0:00:00\u001b[K\r",
      "Evaluating over 29 metamodels:  34%[========>                ]  ETA: 0:00:00\u001b[K\r",
      "Evaluating over 29 metamodels:  38%[=========>               ]  ETA: 0:00:00\u001b[K\r",
      "Evaluating over 29 metamodels:  41%[==========>              ]  ETA: 0:00:00\u001b[K\r",
      "Evaluating over 29 metamodels:  45%[===========>             ]  ETA: 0:00:00\u001b[K\r",
      "Evaluating over 29 metamodels:  48%[============>            ]  ETA: 0:00:00\u001b[K\r",
      "Evaluating over 29 metamodels:  52%[============>            ]  ETA: 0:00:00\u001b[K\r",
      "Evaluating over 29 metamodels:  55%[=============>           ]  ETA: 0:00:00\u001b[K\r",
      "Evaluating over 29 metamodels:  59%[==============>          ]  ETA: 0:00:00\u001b[K\r",
      "Evaluating over 29 metamodels:  62%[===============>         ]  ETA: 0:00:00\u001b[K\r",
      "Evaluating over 29 metamodels:  66%[================>        ]  ETA: 0:00:00\u001b[K\r",
      "Evaluating over 29 metamodels:  69%[=================>       ]  ETA: 0:00:00\u001b[K\r",
      "Evaluating over 29 metamodels:  72%[==================>      ]  ETA: 0:00:00\u001b[K\r",
      "Evaluating over 29 metamodels:  76%[==================>      ]  ETA: 0:00:00\u001b[K\r",
      "Evaluating over 29 metamodels:  79%[===================>     ]  ETA: 0:00:00\u001b[K\r",
      "Evaluating over 29 metamodels:  83%[====================>    ]  ETA: 0:00:00\u001b[K\r",
      "Evaluating over 29 metamodels:  86%[=====================>   ]  ETA: 0:00:00\u001b[K\r",
      "Evaluating over 29 metamodels:  90%[======================>  ]  ETA: 0:00:00\u001b[K\r",
      "Evaluating over 29 metamodels:  93%[=======================> ]  ETA: 0:00:00\u001b[K\r",
      "Evaluating over 29 metamodels:  97%[========================>]  ETA: 0:00:00\u001b[K\r",
      "Evaluating over 29 metamodels: 100%[=========================] Time: 0:00:00\u001b[K\n",
      "┌ Info: Training \u001b[34mMachine{ProbabilisticTunedModel{Grid,…}} @431\u001b[39m.\n",
      "└ @ MLJBase /Users/anthony/.julia/packages/MLJBase/r3heT/src/machines.jl:317\n",
      "┌ Info: Attempting to evaluate 29 models.\n",
      "└ @ MLJTuning /Users/anthony/.julia/packages/MLJTuning/oLVRR/src/tuned_models.jl:474\n",
      "\r",
      "Evaluating over 29 metamodels:   0%[>                        ]  ETA: N/A\u001b[K\r",
      "Evaluating over 29 metamodels:   3%[>                        ]  ETA: 0:00:00\u001b[K\r",
      "Evaluating over 29 metamodels:   7%[=>                       ]  ETA: 0:00:00\u001b[K\r",
      "Evaluating over 29 metamodels:  10%[==>                      ]  ETA: 0:00:00\u001b[K\r",
      "Evaluating over 29 metamodels:  14%[===>                     ]  ETA: 0:00:00\u001b[K\r",
      "Evaluating over 29 metamodels:  17%[====>                    ]  ETA: 0:00:00\u001b[K\r",
      "Evaluating over 29 metamodels:  21%[=====>                   ]  ETA: 0:00:00\u001b[K\r",
      "Evaluating over 29 metamodels:  24%[======>                  ]  ETA: 0:00:00\u001b[K\r",
      "Evaluating over 29 metamodels:  28%[======>                  ]  ETA: 0:00:00\u001b[K\r",
      "Evaluating over 29 metamodels:  31%[=======>                 ]  ETA: 0:00:00\u001b[K\r",
      "Evaluating over 29 metamodels:  34%[========>                ]  ETA: 0:00:00\u001b[K\r",
      "Evaluating over 29 metamodels:  38%[=========>               ]  ETA: 0:00:00\u001b[K\r",
      "Evaluating over 29 metamodels:  41%[==========>              ]  ETA: 0:00:00\u001b[K\r",
      "Evaluating over 29 metamodels:  45%[===========>             ]  ETA: 0:00:00\u001b[K\r",
      "Evaluating over 29 metamodels:  48%[============>            ]  ETA: 0:00:00\u001b[K\r",
      "Evaluating over 29 metamodels:  52%[============>            ]  ETA: 0:00:00\u001b[K\r",
      "Evaluating over 29 metamodels:  55%[=============>           ]  ETA: 0:00:00\u001b[K\r",
      "Evaluating over 29 metamodels:  59%[==============>          ]  ETA: 0:00:00\u001b[K\r",
      "Evaluating over 29 metamodels:  62%[===============>         ]  ETA: 0:00:00\u001b[K\r",
      "Evaluating over 29 metamodels:  66%[================>        ]  ETA: 0:00:00\u001b[K\r",
      "Evaluating over 29 metamodels:  69%[=================>       ]  ETA: 0:00:00\u001b[K\r",
      "Evaluating over 29 metamodels:  72%[==================>      ]  ETA: 0:00:00\u001b[K\r",
      "Evaluating over 29 metamodels:  76%[==================>      ]  ETA: 0:00:00\u001b[K\r",
      "Evaluating over 29 metamodels:  79%[===================>     ]  ETA: 0:00:00\u001b[K\r",
      "Evaluating over 29 metamodels:  83%[====================>    ]  ETA: 0:00:00\u001b[K\r",
      "Evaluating over 29 metamodels:  86%[=====================>   ]  ETA: 0:00:00\u001b[K\r",
      "Evaluating over 29 metamodels:  90%[======================>  ]  ETA: 0:00:00\u001b[K\r",
      "Evaluating over 29 metamodels:  93%[=======================> ]  ETA: 0:00:00\u001b[K\r",
      "Evaluating over 29 metamodels:  97%[========================>]  ETA: 0:00:00\u001b[K\r",
      "Evaluating over 29 metamodels: 100%[=========================] Time: 0:00:00\u001b[K\n",
      "┌ Info: Training \u001b[34mMachine{ProbabilisticTunedModel{Grid,…}} @673\u001b[39m.\n",
      "└ @ MLJBase /Users/anthony/.julia/packages/MLJBase/r3heT/src/machines.jl:317\n",
      "┌ Info: Attempting to evaluate 29 models.\n",
      "└ @ MLJTuning /Users/anthony/.julia/packages/MLJTuning/oLVRR/src/tuned_models.jl:474\n",
      "\r",
      "Evaluating over 29 metamodels:   0%[>                        ]  ETA: N/A\u001b[K\r",
      "Evaluating over 29 metamodels:   3%[>                        ]  ETA: 0:00:00\u001b[K\r",
      "Evaluating over 29 metamodels:   7%[=>                       ]  ETA: 0:00:00\u001b[K\r",
      "Evaluating over 29 metamodels:  10%[==>                      ]  ETA: 0:00:00\u001b[K\r",
      "Evaluating over 29 metamodels:  14%[===>                     ]  ETA: 0:00:00\u001b[K\r",
      "Evaluating over 29 metamodels:  17%[====>                    ]  ETA: 0:00:00\u001b[K\r",
      "Evaluating over 29 metamodels:  21%[=====>                   ]  ETA: 0:00:00\u001b[K\r",
      "Evaluating over 29 metamodels:  24%[======>                  ]  ETA: 0:00:00\u001b[K\r",
      "Evaluating over 29 metamodels:  28%[======>                  ]  ETA: 0:00:00\u001b[K\r",
      "Evaluating over 29 metamodels:  31%[=======>                 ]  ETA: 0:00:00\u001b[K\r",
      "Evaluating over 29 metamodels:  34%[========>                ]  ETA: 0:00:00\u001b[K\r",
      "Evaluating over 29 metamodels:  38%[=========>               ]  ETA: 0:00:00\u001b[K\r",
      "Evaluating over 29 metamodels:  41%[==========>              ]  ETA: 0:00:00\u001b[K\r",
      "Evaluating over 29 metamodels:  45%[===========>             ]  ETA: 0:00:00\u001b[K\r",
      "Evaluating over 29 metamodels:  48%[============>            ]  ETA: 0:00:00\u001b[K\r",
      "Evaluating over 29 metamodels:  52%[============>            ]  ETA: 0:00:00\u001b[K\r",
      "Evaluating over 29 metamodels:  55%[=============>           ]  ETA: 0:00:00\u001b[K\r",
      "Evaluating over 29 metamodels:  59%[==============>          ]  ETA: 0:00:00\u001b[K\r",
      "Evaluating over 29 metamodels:  62%[===============>         ]  ETA: 0:00:00\u001b[K\r",
      "Evaluating over 29 metamodels:  66%[================>        ]  ETA: 0:00:00\u001b[K\r",
      "Evaluating over 29 metamodels:  69%[=================>       ]  ETA: 0:00:00\u001b[K\r",
      "Evaluating over 29 metamodels:  72%[==================>      ]  ETA: 0:00:00\u001b[K\r",
      "Evaluating over 29 metamodels:  76%[==================>      ]  ETA: 0:00:00\u001b[K\r",
      "Evaluating over 29 metamodels:  79%[===================>     ]  ETA: 0:00:00\u001b[K\r",
      "Evaluating over 29 metamodels:  83%[====================>    ]  ETA: 0:00:00\u001b[K\r",
      "Evaluating over 29 metamodels:  86%[=====================>   ]  ETA: 0:00:00\u001b[K\r",
      "Evaluating over 29 metamodels:  90%[======================>  ]  ETA: 0:00:00\u001b[K\r",
      "Evaluating over 29 metamodels:  93%[=======================> ]  ETA: 0:00:00\u001b[K\r",
      "Evaluating over 29 metamodels:  97%[========================>]  ETA: 0:00:00\u001b[K\r",
      "Evaluating over 29 metamodels: 100%[=========================] Time: 0:00:00\u001b[K\n"
     ]
    },
    {
     "data": {
      "image/png": "[encoded data removed]",
      "image/svg+xml": [
       "<?xml version=\"1.0\" encoding=\"utf-8\" standalone=\"no\"?>\n",
       "<!DOCTYPE svg PUBLIC \"-//W3C//DTD SVG 1.1//EN\"\n",
       "  \"http://www.w3.org/Graphics/SVG/1.1/DTD/svg11.dtd\">\n",
       "<!-- Created with matplotlib (https://matplotlib.org/) -->\n",
       "<svg height=\"288pt\" version=\"1.1\" viewBox=\"0 0 432 288\" width=\"432pt\" xmlns=\"http://www.w3.org/2000/svg\" xmlns:xlink=\"http://www.w3.org/1999/xlink\">\n",
       " <defs>\n",
       "  <style type=\"text/css\">\n",
       "*{stroke-linecap:butt;stroke-linejoin:round;}\n",
       "  </style>\n",
       " </defs>\n",
       " <g id=\"figure_1\">\n",
       "  <g id=\"patch_1\">\n",
       "   <path d=\"M 0 288 \n",
       "L 432 288 \n",
       "L 432 0 \n",
       "L 0 0 \n",
       "z\n",
       "\" style=\"fill:#ffffff;\"/>\n",
       "  </g>\n",
       "  <g id=\"axes_1\">\n",
       "   <g id=\"patch_2\">\n",
       "    <path d=\"M 34.741356 257.719104 \n",
       "L 429.165354 257.719104 \n",
       "L 429.165354 2.834646 \n",
       "L 34.741356 2.834646 \n",
       "z\n",
       "\" style=\"fill:#ffffff;\"/>\n",
       "   </g>\n",
       "   <g id=\"matplotlib.axis_1\">\n",
       "    <g id=\"xtick_1\">\n",
       "     <g id=\"line2d_1\">\n",
       "      <path clip-path=\"url(#p918213d239)\" d=\"M 45.904299 257.719104 \n",
       "L 45.904299 2.834646 \n",
       "\" style=\"fill:none;stroke:#000000;stroke-linecap:square;stroke-opacity:0.1;stroke-width:0.5;\"/>\n",
       "     </g>\n",
       "     <g id=\"line2d_2\">\n",
       "      <defs>\n",
       "       <path d=\"M 0 0 \n",
       "L 0 -3.5 \n",
       "\" id=\"ma6804fc983\" style=\"stroke:#000000;stroke-width:0.5;\"/>\n",
       "      </defs>\n",
       "      <g>\n",
       "       <use style=\"stroke:#000000;stroke-width:0.5;\" x=\"45.904299\" xlink:href=\"#ma6804fc983\" y=\"257.719104\"/>\n",
       "      </g>\n",
       "     </g>\n",
       "     <g id=\"text_1\">\n",
       "      <!-- $10$ -->\n",
       "      <defs>\n",
       "       <path d=\"M 12.40625 8.296875 \n",
       "L 28.515625 8.296875 \n",
       "L 28.515625 63.921875 \n",
       "L 10.984375 60.40625 \n",
       "L 10.984375 69.390625 \n",
       "L 28.421875 72.90625 \n",
       "L 38.28125 72.90625 \n",
       "L 38.28125 8.296875 \n",
       "L 54.390625 8.296875 \n",
       "L 54.390625 0 \n",
       "L 12.40625 0 \n",
       "z\n",
       "\" id=\"DejaVuSans-49\"/>\n",
       "       <path d=\"M 31.78125 66.40625 \n",
       "Q 24.171875 66.40625 20.328125 58.90625 \n",
       "Q 16.5 51.421875 16.5 36.375 \n",
       "Q 16.5 21.390625 20.328125 13.890625 \n",
       "Q 24.171875 6.390625 31.78125 6.390625 \n",
       "Q 39.453125 6.390625 43.28125 13.890625 \n",
       "Q 47.125 21.390625 47.125 36.375 \n",
       "Q 47.125 51.421875 43.28125 58.90625 \n",
       "Q 39.453125 66.40625 31.78125 66.40625 \n",
       "z\n",
       "M 31.78125 74.21875 \n",
       "Q 44.046875 74.21875 50.515625 64.515625 \n",
       "Q 56.984375 54.828125 56.984375 36.375 \n",
       "Q 56.984375 17.96875 50.515625 8.265625 \n",
       "Q 44.046875 -1.421875 31.78125 -1.421875 \n",
       "Q 19.53125 -1.421875 13.0625 8.265625 \n",
       "Q 6.59375 17.96875 6.59375 36.375 \n",
       "Q 6.59375 54.828125 13.0625 64.515625 \n",
       "Q 19.53125 74.21875 31.78125 74.21875 \n",
       "z\n",
       "\" id=\"DejaVuSans-48\"/>\n",
       "      </defs>\n",
       "      <g transform=\"translate(40.784299 267.297854)scale(0.08 -0.08)\">\n",
       "       <use transform=\"translate(0 0.78125)\" xlink:href=\"#DejaVuSans-49\"/>\n",
       "       <use transform=\"translate(63.623047 0.78125)\" xlink:href=\"#DejaVuSans-48\"/>\n",
       "      </g>\n",
       "     </g>\n",
       "    </g>\n",
       "    <g id=\"xtick_2\">\n",
       "     <g id=\"line2d_3\">\n",
       "      <path clip-path=\"url(#p918213d239)\" d=\"M 107.920651 257.719104 \n",
       "L 107.920651 2.834646 \n",
       "\" style=\"fill:none;stroke:#000000;stroke-linecap:square;stroke-opacity:0.1;stroke-width:0.5;\"/>\n",
       "     </g>\n",
       "     <g id=\"line2d_4\">\n",
       "      <g>\n",
       "       <use style=\"stroke:#000000;stroke-width:0.5;\" x=\"107.920651\" xlink:href=\"#ma6804fc983\" y=\"257.719104\"/>\n",
       "      </g>\n",
       "     </g>\n",
       "     <g id=\"text_2\">\n",
       "      <!-- $20$ -->\n",
       "      <defs>\n",
       "       <path d=\"M 19.1875 8.296875 \n",
       "L 53.609375 8.296875 \n",
       "L 53.609375 0 \n",
       "L 7.328125 0 \n",
       "L 7.328125 8.296875 \n",
       "Q 12.9375 14.109375 22.625 23.890625 \n",
       "Q 32.328125 33.6875 34.8125 36.53125 \n",
       "Q 39.546875 41.84375 41.421875 45.53125 \n",
       "Q 43.3125 49.21875 43.3125 52.78125 \n",
       "Q 43.3125 58.59375 39.234375 62.25 \n",
       "Q 35.15625 65.921875 28.609375 65.921875 \n",
       "Q 23.96875 65.921875 18.8125 64.3125 \n",
       "Q 13.671875 62.703125 7.8125 59.421875 \n",
       "L 7.8125 69.390625 \n",
       "Q 13.765625 71.78125 18.9375 73 \n",
       "Q 24.125 74.21875 28.421875 74.21875 \n",
       "Q 39.75 74.21875 46.484375 68.546875 \n",
       "Q 53.21875 62.890625 53.21875 53.421875 \n",
       "Q 53.21875 48.921875 51.53125 44.890625 \n",
       "Q 49.859375 40.875 45.40625 35.40625 \n",
       "Q 44.1875 33.984375 37.640625 27.21875 \n",
       "Q 31.109375 20.453125 19.1875 8.296875 \n",
       "z\n",
       "\" id=\"DejaVuSans-50\"/>\n",
       "      </defs>\n",
       "      <g transform=\"translate(102.800651 267.297854)scale(0.08 -0.08)\">\n",
       "       <use transform=\"translate(0 0.78125)\" xlink:href=\"#DejaVuSans-50\"/>\n",
       "       <use transform=\"translate(63.623047 0.78125)\" xlink:href=\"#DejaVuSans-48\"/>\n",
       "      </g>\n",
       "     </g>\n",
       "    </g>\n",
       "    <g id=\"xtick_3\">\n",
       "     <g id=\"line2d_5\">\n",
       "      <path clip-path=\"url(#p918213d239)\" d=\"M 169.937003 257.719104 \n",
       "L 169.937003 2.834646 \n",
       "\" style=\"fill:none;stroke:#000000;stroke-linecap:square;stroke-opacity:0.1;stroke-width:0.5;\"/>\n",
       "     </g>\n",
       "     <g id=\"line2d_6\">\n",
       "      <g>\n",
       "       <use style=\"stroke:#000000;stroke-width:0.5;\" x=\"169.937003\" xlink:href=\"#ma6804fc983\" y=\"257.719104\"/>\n",
       "      </g>\n",
       "     </g>\n",
       "     <g id=\"text_3\">\n",
       "      <!-- $30$ -->\n",
       "      <defs>\n",
       "       <path d=\"M 40.578125 39.3125 \n",
       "Q 47.65625 37.796875 51.625 33 \n",
       "Q 55.609375 28.21875 55.609375 21.1875 \n",
       "Q 55.609375 10.40625 48.1875 4.484375 \n",
       "Q 40.765625 -1.421875 27.09375 -1.421875 \n",
       "Q 22.515625 -1.421875 17.65625 -0.515625 \n",
       "Q 12.796875 0.390625 7.625 2.203125 \n",
       "L 7.625 11.71875 \n",
       "Q 11.71875 9.328125 16.59375 8.109375 \n",
       "Q 21.484375 6.890625 26.8125 6.890625 \n",
       "Q 36.078125 6.890625 40.9375 10.546875 \n",
       "Q 45.796875 14.203125 45.796875 21.1875 \n",
       "Q 45.796875 27.640625 41.28125 31.265625 \n",
       "Q 36.765625 34.90625 28.71875 34.90625 \n",
       "L 20.21875 34.90625 \n",
       "L 20.21875 43.015625 \n",
       "L 29.109375 43.015625 \n",
       "Q 36.375 43.015625 40.234375 45.921875 \n",
       "Q 44.09375 48.828125 44.09375 54.296875 \n",
       "Q 44.09375 59.90625 40.109375 62.90625 \n",
       "Q 36.140625 65.921875 28.71875 65.921875 \n",
       "Q 24.65625 65.921875 20.015625 65.03125 \n",
       "Q 15.375 64.15625 9.8125 62.3125 \n",
       "L 9.8125 71.09375 \n",
       "Q 15.4375 72.65625 20.34375 73.4375 \n",
       "Q 25.25 74.21875 29.59375 74.21875 \n",
       "Q 40.828125 74.21875 47.359375 69.109375 \n",
       "Q 53.90625 64.015625 53.90625 55.328125 \n",
       "Q 53.90625 49.265625 50.4375 45.09375 \n",
       "Q 46.96875 40.921875 40.578125 39.3125 \n",
       "z\n",
       "\" id=\"DejaVuSans-51\"/>\n",
       "      </defs>\n",
       "      <g transform=\"translate(164.817003 267.297854)scale(0.08 -0.08)\">\n",
       "       <use transform=\"translate(0 0.78125)\" xlink:href=\"#DejaVuSans-51\"/>\n",
       "       <use transform=\"translate(63.623047 0.78125)\" xlink:href=\"#DejaVuSans-48\"/>\n",
       "      </g>\n",
       "     </g>\n",
       "    </g>\n",
       "    <g id=\"xtick_4\">\n",
       "     <g id=\"line2d_7\">\n",
       "      <path clip-path=\"url(#p918213d239)\" d=\"M 231.953355 257.719104 \n",
       "L 231.953355 2.834646 \n",
       "\" style=\"fill:none;stroke:#000000;stroke-linecap:square;stroke-opacity:0.1;stroke-width:0.5;\"/>\n",
       "     </g>\n",
       "     <g id=\"line2d_8\">\n",
       "      <g>\n",
       "       <use style=\"stroke:#000000;stroke-width:0.5;\" x=\"231.953355\" xlink:href=\"#ma6804fc983\" y=\"257.719104\"/>\n",
       "      </g>\n",
       "     </g>\n",
       "     <g id=\"text_4\">\n",
       "      <!-- $40$ -->\n",
       "      <defs>\n",
       "       <path d=\"M 37.796875 64.3125 \n",
       "L 12.890625 25.390625 \n",
       "L 37.796875 25.390625 \n",
       "z\n",
       "M 35.203125 72.90625 \n",
       "L 47.609375 72.90625 \n",
       "L 47.609375 25.390625 \n",
       "L 58.015625 25.390625 \n",
       "L 58.015625 17.1875 \n",
       "L 47.609375 17.1875 \n",
       "L 47.609375 0 \n",
       "L 37.796875 0 \n",
       "L 37.796875 17.1875 \n",
       "L 4.890625 17.1875 \n",
       "L 4.890625 26.703125 \n",
       "z\n",
       "\" id=\"DejaVuSans-52\"/>\n",
       "      </defs>\n",
       "      <g transform=\"translate(226.833355 267.297854)scale(0.08 -0.08)\">\n",
       "       <use transform=\"translate(0 0.78125)\" xlink:href=\"#DejaVuSans-52\"/>\n",
       "       <use transform=\"translate(63.623047 0.78125)\" xlink:href=\"#DejaVuSans-48\"/>\n",
       "      </g>\n",
       "     </g>\n",
       "    </g>\n",
       "    <g id=\"xtick_5\">\n",
       "     <g id=\"line2d_9\">\n",
       "      <path clip-path=\"url(#p918213d239)\" d=\"M 293.969707 257.719104 \n",
       "L 293.969707 2.834646 \n",
       "\" style=\"fill:none;stroke:#000000;stroke-linecap:square;stroke-opacity:0.1;stroke-width:0.5;\"/>\n",
       "     </g>\n",
       "     <g id=\"line2d_10\">\n",
       "      <g>\n",
       "       <use style=\"stroke:#000000;stroke-width:0.5;\" x=\"293.969707\" xlink:href=\"#ma6804fc983\" y=\"257.719104\"/>\n",
       "      </g>\n",
       "     </g>\n",
       "     <g id=\"text_5\">\n",
       "      <!-- $50$ -->\n",
       "      <defs>\n",
       "       <path d=\"M 10.796875 72.90625 \n",
       "L 49.515625 72.90625 \n",
       "L 49.515625 64.59375 \n",
       "L 19.828125 64.59375 \n",
       "L 19.828125 46.734375 \n",
       "Q 21.96875 47.46875 24.109375 47.828125 \n",
       "Q 26.265625 48.1875 28.421875 48.1875 \n",
       "Q 40.625 48.1875 47.75 41.5 \n",
       "Q 54.890625 34.8125 54.890625 23.390625 \n",
       "Q 54.890625 11.625 47.5625 5.09375 \n",
       "Q 40.234375 -1.421875 26.90625 -1.421875 \n",
       "Q 22.3125 -1.421875 17.546875 -0.640625 \n",
       "Q 12.796875 0.140625 7.71875 1.703125 \n",
       "L 7.71875 11.625 \n",
       "Q 12.109375 9.234375 16.796875 8.0625 \n",
       "Q 21.484375 6.890625 26.703125 6.890625 \n",
       "Q 35.15625 6.890625 40.078125 11.328125 \n",
       "Q 45.015625 15.765625 45.015625 23.390625 \n",
       "Q 45.015625 31 40.078125 35.4375 \n",
       "Q 35.15625 39.890625 26.703125 39.890625 \n",
       "Q 22.75 39.890625 18.8125 39.015625 \n",
       "Q 14.890625 38.140625 10.796875 36.28125 \n",
       "z\n",
       "\" id=\"DejaVuSans-53\"/>\n",
       "      </defs>\n",
       "      <g transform=\"translate(288.849707 267.297854)scale(0.08 -0.08)\">\n",
       "       <use transform=\"translate(0 0.78125)\" xlink:href=\"#DejaVuSans-53\"/>\n",
       "       <use transform=\"translate(63.623047 0.78125)\" xlink:href=\"#DejaVuSans-48\"/>\n",
       "      </g>\n",
       "     </g>\n",
       "    </g>\n",
       "    <g id=\"xtick_6\">\n",
       "     <g id=\"line2d_11\">\n",
       "      <path clip-path=\"url(#p918213d239)\" d=\"M 355.986059 257.719104 \n",
       "L 355.986059 2.834646 \n",
       "\" style=\"fill:none;stroke:#000000;stroke-linecap:square;stroke-opacity:0.1;stroke-width:0.5;\"/>\n",
       "     </g>\n",
       "     <g id=\"line2d_12\">\n",
       "      <g>\n",
       "       <use style=\"stroke:#000000;stroke-width:0.5;\" x=\"355.986059\" xlink:href=\"#ma6804fc983\" y=\"257.719104\"/>\n",
       "      </g>\n",
       "     </g>\n",
       "     <g id=\"text_6\">\n",
       "      <!-- $60$ -->\n",
       "      <defs>\n",
       "       <path d=\"M 33.015625 40.375 \n",
       "Q 26.375 40.375 22.484375 35.828125 \n",
       "Q 18.609375 31.296875 18.609375 23.390625 \n",
       "Q 18.609375 15.53125 22.484375 10.953125 \n",
       "Q 26.375 6.390625 33.015625 6.390625 \n",
       "Q 39.65625 6.390625 43.53125 10.953125 \n",
       "Q 47.40625 15.53125 47.40625 23.390625 \n",
       "Q 47.40625 31.296875 43.53125 35.828125 \n",
       "Q 39.65625 40.375 33.015625 40.375 \n",
       "z\n",
       "M 52.59375 71.296875 \n",
       "L 52.59375 62.3125 \n",
       "Q 48.875 64.0625 45.09375 64.984375 \n",
       "Q 41.3125 65.921875 37.59375 65.921875 \n",
       "Q 27.828125 65.921875 22.671875 59.328125 \n",
       "Q 17.53125 52.734375 16.796875 39.40625 \n",
       "Q 19.671875 43.65625 24.015625 45.921875 \n",
       "Q 28.375 48.1875 33.59375 48.1875 \n",
       "Q 44.578125 48.1875 50.953125 41.515625 \n",
       "Q 57.328125 34.859375 57.328125 23.390625 \n",
       "Q 57.328125 12.15625 50.6875 5.359375 \n",
       "Q 44.046875 -1.421875 33.015625 -1.421875 \n",
       "Q 20.359375 -1.421875 13.671875 8.265625 \n",
       "Q 6.984375 17.96875 6.984375 36.375 \n",
       "Q 6.984375 53.65625 15.1875 63.9375 \n",
       "Q 23.390625 74.21875 37.203125 74.21875 \n",
       "Q 40.921875 74.21875 44.703125 73.484375 \n",
       "Q 48.484375 72.75 52.59375 71.296875 \n",
       "z\n",
       "\" id=\"DejaVuSans-54\"/>\n",
       "      </defs>\n",
       "      <g transform=\"translate(350.866059 267.297854)scale(0.08 -0.08)\">\n",
       "       <use transform=\"translate(0 0.78125)\" xlink:href=\"#DejaVuSans-54\"/>\n",
       "       <use transform=\"translate(63.623047 0.78125)\" xlink:href=\"#DejaVuSans-48\"/>\n",
       "      </g>\n",
       "     </g>\n",
       "    </g>\n",
       "    <g id=\"xtick_7\">\n",
       "     <g id=\"line2d_13\">\n",
       "      <path clip-path=\"url(#p918213d239)\" d=\"M 418.002411 257.719104 \n",
       "L 418.002411 2.834646 \n",
       "\" style=\"fill:none;stroke:#000000;stroke-linecap:square;stroke-opacity:0.1;stroke-width:0.5;\"/>\n",
       "     </g>\n",
       "     <g id=\"line2d_14\">\n",
       "      <g>\n",
       "       <use style=\"stroke:#000000;stroke-width:0.5;\" x=\"418.002411\" xlink:href=\"#ma6804fc983\" y=\"257.719104\"/>\n",
       "      </g>\n",
       "     </g>\n",
       "     <g id=\"text_7\">\n",
       "      <!-- $70$ -->\n",
       "      <defs>\n",
       "       <path d=\"M 8.203125 72.90625 \n",
       "L 55.078125 72.90625 \n",
       "L 55.078125 68.703125 \n",
       "L 28.609375 0 \n",
       "L 18.3125 0 \n",
       "L 43.21875 64.59375 \n",
       "L 8.203125 64.59375 \n",
       "z\n",
       "\" id=\"DejaVuSans-55\"/>\n",
       "      </defs>\n",
       "      <g transform=\"translate(412.882411 267.297854)scale(0.08 -0.08)\">\n",
       "       <use transform=\"translate(0 0.78125)\" xlink:href=\"#DejaVuSans-55\"/>\n",
       "       <use transform=\"translate(63.623047 0.78125)\" xlink:href=\"#DejaVuSans-48\"/>\n",
       "      </g>\n",
       "     </g>\n",
       "    </g>\n",
       "    <g id=\"text_8\">\n",
       "     <!-- n_trees -->\n",
       "     <defs>\n",
       "      <path d=\"M 54.890625 33.015625 \n",
       "L 54.890625 0 \n",
       "L 45.90625 0 \n",
       "L 45.90625 32.71875 \n",
       "Q 45.90625 40.484375 42.875 44.328125 \n",
       "Q 39.84375 48.1875 33.796875 48.1875 \n",
       "Q 26.515625 48.1875 22.3125 43.546875 \n",
       "Q 18.109375 38.921875 18.109375 30.90625 \n",
       "L 18.109375 0 \n",
       "L 9.078125 0 \n",
       "L 9.078125 54.6875 \n",
       "L 18.109375 54.6875 \n",
       "L 18.109375 46.1875 \n",
       "Q 21.34375 51.125 25.703125 53.5625 \n",
       "Q 30.078125 56 35.796875 56 \n",
       "Q 45.21875 56 50.046875 50.171875 \n",
       "Q 54.890625 44.34375 54.890625 33.015625 \n",
       "z\n",
       "\" id=\"DejaVuSans-110\"/>\n",
       "      <path d=\"M 50.984375 -16.609375 \n",
       "L 50.984375 -23.578125 \n",
       "L -0.984375 -23.578125 \n",
       "L -0.984375 -16.609375 \n",
       "z\n",
       "\" id=\"DejaVuSans-95\"/>\n",
       "      <path d=\"M 18.3125 70.21875 \n",
       "L 18.3125 54.6875 \n",
       "L 36.8125 54.6875 \n",
       "L 36.8125 47.703125 \n",
       "L 18.3125 47.703125 \n",
       "L 18.3125 18.015625 \n",
       "Q 18.3125 11.328125 20.140625 9.421875 \n",
       "Q 21.96875 7.515625 27.59375 7.515625 \n",
       "L 36.8125 7.515625 \n",
       "L 36.8125 0 \n",
       "L 27.59375 0 \n",
       "Q 17.1875 0 13.234375 3.875 \n",
       "Q 9.28125 7.765625 9.28125 18.015625 \n",
       "L 9.28125 47.703125 \n",
       "L 2.6875 47.703125 \n",
       "L 2.6875 54.6875 \n",
       "L 9.28125 54.6875 \n",
       "L 9.28125 70.21875 \n",
       "z\n",
       "\" id=\"DejaVuSans-116\"/>\n",
       "      <path d=\"M 41.109375 46.296875 \n",
       "Q 39.59375 47.171875 37.8125 47.578125 \n",
       "Q 36.03125 48 33.890625 48 \n",
       "Q 26.265625 48 22.1875 43.046875 \n",
       "Q 18.109375 38.09375 18.109375 28.8125 \n",
       "L 18.109375 0 \n",
       "L 9.078125 0 \n",
       "L 9.078125 54.6875 \n",
       "L 18.109375 54.6875 \n",
       "L 18.109375 46.1875 \n",
       "Q 20.953125 51.171875 25.484375 53.578125 \n",
       "Q 30.03125 56 36.53125 56 \n",
       "Q 37.453125 56 38.578125 55.875 \n",
       "Q 39.703125 55.765625 41.0625 55.515625 \n",
       "z\n",
       "\" id=\"DejaVuSans-114\"/>\n",
       "      <path d=\"M 56.203125 29.59375 \n",
       "L 56.203125 25.203125 \n",
       "L 14.890625 25.203125 \n",
       "Q 15.484375 15.921875 20.484375 11.0625 \n",
       "Q 25.484375 6.203125 34.421875 6.203125 \n",
       "Q 39.59375 6.203125 44.453125 7.46875 \n",
       "Q 49.3125 8.734375 54.109375 11.28125 \n",
       "L 54.109375 2.78125 \n",
       "Q 49.265625 0.734375 44.1875 -0.34375 \n",
       "Q 39.109375 -1.421875 33.890625 -1.421875 \n",
       "Q 20.796875 -1.421875 13.15625 6.1875 \n",
       "Q 5.515625 13.8125 5.515625 26.8125 \n",
       "Q 5.515625 40.234375 12.765625 48.109375 \n",
       "Q 20.015625 56 32.328125 56 \n",
       "Q 43.359375 56 49.78125 48.890625 \n",
       "Q 56.203125 41.796875 56.203125 29.59375 \n",
       "z\n",
       "M 47.21875 32.234375 \n",
       "Q 47.125 39.59375 43.09375 43.984375 \n",
       "Q 39.0625 48.390625 32.421875 48.390625 \n",
       "Q 24.90625 48.390625 20.390625 44.140625 \n",
       "Q 15.875 39.890625 15.1875 32.171875 \n",
       "z\n",
       "\" id=\"DejaVuSans-101\"/>\n",
       "      <path d=\"M 44.28125 53.078125 \n",
       "L 44.28125 44.578125 \n",
       "Q 40.484375 46.53125 36.375 47.5 \n",
       "Q 32.28125 48.484375 27.875 48.484375 \n",
       "Q 21.1875 48.484375 17.84375 46.4375 \n",
       "Q 14.5 44.390625 14.5 40.28125 \n",
       "Q 14.5 37.15625 16.890625 35.375 \n",
       "Q 19.28125 33.59375 26.515625 31.984375 \n",
       "L 29.59375 31.296875 \n",
       "Q 39.15625 29.25 43.1875 25.515625 \n",
       "Q 47.21875 21.78125 47.21875 15.09375 \n",
       "Q 47.21875 7.46875 41.1875 3.015625 \n",
       "Q 35.15625 -1.421875 24.609375 -1.421875 \n",
       "Q 20.21875 -1.421875 15.453125 -0.5625 \n",
       "Q 10.6875 0.296875 5.421875 2 \n",
       "L 5.421875 11.28125 \n",
       "Q 10.40625 8.6875 15.234375 7.390625 \n",
       "Q 20.0625 6.109375 24.8125 6.109375 \n",
       "Q 31.15625 6.109375 34.5625 8.28125 \n",
       "Q 37.984375 10.453125 37.984375 14.40625 \n",
       "Q 37.984375 18.0625 35.515625 20.015625 \n",
       "Q 33.0625 21.96875 24.703125 23.78125 \n",
       "L 21.578125 24.515625 \n",
       "Q 13.234375 26.265625 9.515625 29.90625 \n",
       "Q 5.8125 33.546875 5.8125 39.890625 \n",
       "Q 5.8125 47.609375 11.28125 51.796875 \n",
       "Q 16.75 56 26.8125 56 \n",
       "Q 31.78125 56 36.171875 55.265625 \n",
       "Q 40.578125 54.546875 44.28125 53.078125 \n",
       "z\n",
       "\" id=\"DejaVuSans-115\"/>\n",
       "     </defs>\n",
       "     <g transform=\"translate(211.790699 281.013948)scale(0.11 -0.11)\">\n",
       "      <use xlink:href=\"#DejaVuSans-110\"/>\n",
       "      <use x=\"63.378906\" xlink:href=\"#DejaVuSans-95\"/>\n",
       "      <use x=\"113.378906\" xlink:href=\"#DejaVuSans-116\"/>\n",
       "      <use x=\"152.587891\" xlink:href=\"#DejaVuSans-114\"/>\n",
       "      <use x=\"191.451172\" xlink:href=\"#DejaVuSans-101\"/>\n",
       "      <use x=\"252.974609\" xlink:href=\"#DejaVuSans-101\"/>\n",
       "      <use x=\"314.498047\" xlink:href=\"#DejaVuSans-115\"/>\n",
       "     </g>\n",
       "    </g>\n",
       "   </g>\n",
       "   <g id=\"matplotlib.axis_2\">\n",
       "    <g id=\"ytick_1\">\n",
       "     <g id=\"line2d_15\">\n",
       "      <path clip-path=\"url(#p918213d239)\" d=\"M 34.741356 218.52903 \n",
       "L 429.165354 218.52903 \n",
       "\" style=\"fill:none;stroke:#000000;stroke-linecap:square;stroke-opacity:0.1;stroke-width:0.5;\"/>\n",
       "     </g>\n",
       "     <g id=\"line2d_16\">\n",
       "      <defs>\n",
       "       <path d=\"M 0 0 \n",
       "L 3.5 0 \n",
       "\" id=\"ma70c2640df\" style=\"stroke:#000000;stroke-width:0.5;\"/>\n",
       "      </defs>\n",
       "      <g>\n",
       "       <use style=\"stroke:#000000;stroke-width:0.5;\" x=\"34.741356\" xlink:href=\"#ma70c2640df\" y=\"218.52903\"/>\n",
       "      </g>\n",
       "     </g>\n",
       "     <g id=\"text_9\">\n",
       "      <!-- $1.0$ -->\n",
       "      <defs>\n",
       "       <path d=\"M 10.6875 12.40625 \n",
       "L 21 12.40625 \n",
       "L 21 0 \n",
       "L 10.6875 0 \n",
       "z\n",
       "\" id=\"DejaVuSans-46\"/>\n",
       "      </defs>\n",
       "      <g transform=\"translate(18.441356 221.568405)scale(0.08 -0.08)\">\n",
       "       <use transform=\"translate(0 0.78125)\" xlink:href=\"#DejaVuSans-49\"/>\n",
       "       <use transform=\"translate(63.623047 0.78125)\" xlink:href=\"#DejaVuSans-46\"/>\n",
       "       <use transform=\"translate(95.410156 0.78125)\" xlink:href=\"#DejaVuSans-48\"/>\n",
       "      </g>\n",
       "     </g>\n",
       "    </g>\n",
       "    <g id=\"ytick_2\">\n",
       "     <g id=\"line2d_17\">\n",
       "      <path clip-path=\"url(#p918213d239)\" d=\"M 34.741356 169.477436 \n",
       "L 429.165354 169.477436 \n",
       "\" style=\"fill:none;stroke:#000000;stroke-linecap:square;stroke-opacity:0.1;stroke-width:0.5;\"/>\n",
       "     </g>\n",
       "     <g id=\"line2d_18\">\n",
       "      <g>\n",
       "       <use style=\"stroke:#000000;stroke-width:0.5;\" x=\"34.741356\" xlink:href=\"#ma70c2640df\" y=\"169.477436\"/>\n",
       "      </g>\n",
       "     </g>\n",
       "     <g id=\"text_10\">\n",
       "      <!-- $1.5$ -->\n",
       "      <g transform=\"translate(18.441356 172.516811)scale(0.08 -0.08)\">\n",
       "       <use transform=\"translate(0 0.09375)\" xlink:href=\"#DejaVuSans-49\"/>\n",
       "       <use transform=\"translate(63.623047 0.09375)\" xlink:href=\"#DejaVuSans-46\"/>\n",
       "       <use transform=\"translate(95.410156 0.09375)\" xlink:href=\"#DejaVuSans-53\"/>\n",
       "      </g>\n",
       "     </g>\n",
       "    </g>\n",
       "    <g id=\"ytick_3\">\n",
       "     <g id=\"line2d_19\">\n",
       "      <path clip-path=\"url(#p918213d239)\" d=\"M 34.741356 120.425842 \n",
       "L 429.165354 120.425842 \n",
       "\" style=\"fill:none;stroke:#000000;stroke-linecap:square;stroke-opacity:0.1;stroke-width:0.5;\"/>\n",
       "     </g>\n",
       "     <g id=\"line2d_20\">\n",
       "      <g>\n",
       "       <use style=\"stroke:#000000;stroke-width:0.5;\" x=\"34.741356\" xlink:href=\"#ma70c2640df\" y=\"120.425842\"/>\n",
       "      </g>\n",
       "     </g>\n",
       "     <g id=\"text_11\">\n",
       "      <!-- $2.0$ -->\n",
       "      <g transform=\"translate(18.441356 123.465217)scale(0.08 -0.08)\">\n",
       "       <use transform=\"translate(0 0.78125)\" xlink:href=\"#DejaVuSans-50\"/>\n",
       "       <use transform=\"translate(63.623047 0.78125)\" xlink:href=\"#DejaVuSans-46\"/>\n",
       "       <use transform=\"translate(95.410156 0.78125)\" xlink:href=\"#DejaVuSans-48\"/>\n",
       "      </g>\n",
       "     </g>\n",
       "    </g>\n",
       "    <g id=\"ytick_4\">\n",
       "     <g id=\"line2d_21\">\n",
       "      <path clip-path=\"url(#p918213d239)\" d=\"M 34.741356 71.374248 \n",
       "L 429.165354 71.374248 \n",
       "\" style=\"fill:none;stroke:#000000;stroke-linecap:square;stroke-opacity:0.1;stroke-width:0.5;\"/>\n",
       "     </g>\n",
       "     <g id=\"line2d_22\">\n",
       "      <g>\n",
       "       <use style=\"stroke:#000000;stroke-width:0.5;\" x=\"34.741356\" xlink:href=\"#ma70c2640df\" y=\"71.374248\"/>\n",
       "      </g>\n",
       "     </g>\n",
       "     <g id=\"text_12\">\n",
       "      <!-- $2.5$ -->\n",
       "      <g transform=\"translate(18.441356 74.413623)scale(0.08 -0.08)\">\n",
       "       <use transform=\"translate(0 0.78125)\" xlink:href=\"#DejaVuSans-50\"/>\n",
       "       <use transform=\"translate(63.623047 0.78125)\" xlink:href=\"#DejaVuSans-46\"/>\n",
       "       <use transform=\"translate(95.410156 0.78125)\" xlink:href=\"#DejaVuSans-53\"/>\n",
       "      </g>\n",
       "     </g>\n",
       "    </g>\n",
       "    <g id=\"ytick_5\">\n",
       "     <g id=\"line2d_23\">\n",
       "      <path clip-path=\"url(#p918213d239)\" d=\"M 34.741356 22.322654 \n",
       "L 429.165354 22.322654 \n",
       "\" style=\"fill:none;stroke:#000000;stroke-linecap:square;stroke-opacity:0.1;stroke-width:0.5;\"/>\n",
       "     </g>\n",
       "     <g id=\"line2d_24\">\n",
       "      <g>\n",
       "       <use style=\"stroke:#000000;stroke-width:0.5;\" x=\"34.741356\" xlink:href=\"#ma70c2640df\" y=\"22.322654\"/>\n",
       "      </g>\n",
       "     </g>\n",
       "     <g id=\"text_13\">\n",
       "      <!-- $3.0$ -->\n",
       "      <g transform=\"translate(18.441356 25.362029)scale(0.08 -0.08)\">\n",
       "       <use transform=\"translate(0 0.78125)\" xlink:href=\"#DejaVuSans-51\"/>\n",
       "       <use transform=\"translate(63.623047 0.78125)\" xlink:href=\"#DejaVuSans-46\"/>\n",
       "       <use transform=\"translate(95.410156 0.78125)\" xlink:href=\"#DejaVuSans-48\"/>\n",
       "      </g>\n",
       "     </g>\n",
       "    </g>\n",
       "    <g id=\"text_14\">\n",
       "     <!-- cross entropy -->\n",
       "     <defs>\n",
       "      <path d=\"M 48.78125 52.59375 \n",
       "L 48.78125 44.1875 \n",
       "Q 44.96875 46.296875 41.140625 47.34375 \n",
       "Q 37.3125 48.390625 33.40625 48.390625 \n",
       "Q 24.65625 48.390625 19.8125 42.84375 \n",
       "Q 14.984375 37.3125 14.984375 27.296875 \n",
       "Q 14.984375 17.28125 19.8125 11.734375 \n",
       "Q 24.65625 6.203125 33.40625 6.203125 \n",
       "Q 37.3125 6.203125 41.140625 7.25 \n",
       "Q 44.96875 8.296875 48.78125 10.40625 \n",
       "L 48.78125 2.09375 \n",
       "Q 45.015625 0.34375 40.984375 -0.53125 \n",
       "Q 36.96875 -1.421875 32.421875 -1.421875 \n",
       "Q 20.0625 -1.421875 12.78125 6.34375 \n",
       "Q 5.515625 14.109375 5.515625 27.296875 \n",
       "Q 5.515625 40.671875 12.859375 48.328125 \n",
       "Q 20.21875 56 33.015625 56 \n",
       "Q 37.15625 56 41.109375 55.140625 \n",
       "Q 45.0625 54.296875 48.78125 52.59375 \n",
       "z\n",
       "\" id=\"DejaVuSans-99\"/>\n",
       "      <path d=\"M 30.609375 48.390625 \n",
       "Q 23.390625 48.390625 19.1875 42.75 \n",
       "Q 14.984375 37.109375 14.984375 27.296875 \n",
       "Q 14.984375 17.484375 19.15625 11.84375 \n",
       "Q 23.34375 6.203125 30.609375 6.203125 \n",
       "Q 37.796875 6.203125 41.984375 11.859375 \n",
       "Q 46.1875 17.53125 46.1875 27.296875 \n",
       "Q 46.1875 37.015625 41.984375 42.703125 \n",
       "Q 37.796875 48.390625 30.609375 48.390625 \n",
       "z\n",
       "M 30.609375 56 \n",
       "Q 42.328125 56 49.015625 48.375 \n",
       "Q 55.71875 40.765625 55.71875 27.296875 \n",
       "Q 55.71875 13.875 49.015625 6.21875 \n",
       "Q 42.328125 -1.421875 30.609375 -1.421875 \n",
       "Q 18.84375 -1.421875 12.171875 6.21875 \n",
       "Q 5.515625 13.875 5.515625 27.296875 \n",
       "Q 5.515625 40.765625 12.171875 48.375 \n",
       "Q 18.84375 56 30.609375 56 \n",
       "z\n",
       "\" id=\"DejaVuSans-111\"/>\n",
       "      <path id=\"DejaVuSans-32\"/>\n",
       "      <path d=\"M 18.109375 8.203125 \n",
       "L 18.109375 -20.796875 \n",
       "L 9.078125 -20.796875 \n",
       "L 9.078125 54.6875 \n",
       "L 18.109375 54.6875 \n",
       "L 18.109375 46.390625 \n",
       "Q 20.953125 51.265625 25.265625 53.625 \n",
       "Q 29.59375 56 35.59375 56 \n",
       "Q 45.5625 56 51.78125 48.09375 \n",
       "Q 58.015625 40.1875 58.015625 27.296875 \n",
       "Q 58.015625 14.40625 51.78125 6.484375 \n",
       "Q 45.5625 -1.421875 35.59375 -1.421875 \n",
       "Q 29.59375 -1.421875 25.265625 0.953125 \n",
       "Q 20.953125 3.328125 18.109375 8.203125 \n",
       "z\n",
       "M 48.6875 27.296875 \n",
       "Q 48.6875 37.203125 44.609375 42.84375 \n",
       "Q 40.53125 48.484375 33.40625 48.484375 \n",
       "Q 26.265625 48.484375 22.1875 42.84375 \n",
       "Q 18.109375 37.203125 18.109375 27.296875 \n",
       "Q 18.109375 17.390625 22.1875 11.75 \n",
       "Q 26.265625 6.109375 33.40625 6.109375 \n",
       "Q 40.53125 6.109375 44.609375 11.75 \n",
       "Q 48.6875 17.390625 48.6875 27.296875 \n",
       "z\n",
       "\" id=\"DejaVuSans-112\"/>\n",
       "      <path d=\"M 32.171875 -5.078125 \n",
       "Q 28.375 -14.84375 24.75 -17.8125 \n",
       "Q 21.140625 -20.796875 15.09375 -20.796875 \n",
       "L 7.90625 -20.796875 \n",
       "L 7.90625 -13.28125 \n",
       "L 13.1875 -13.28125 \n",
       "Q 16.890625 -13.28125 18.9375 -11.515625 \n",
       "Q 21 -9.765625 23.484375 -3.21875 \n",
       "L 25.09375 0.875 \n",
       "L 2.984375 54.6875 \n",
       "L 12.5 54.6875 \n",
       "L 29.59375 11.921875 \n",
       "L 46.6875 54.6875 \n",
       "L 56.203125 54.6875 \n",
       "z\n",
       "\" id=\"DejaVuSans-121\"/>\n",
       "     </defs>\n",
       "     <g transform=\"translate(12.1537 167.557422)rotate(-90)scale(0.11 -0.11)\">\n",
       "      <use xlink:href=\"#DejaVuSans-99\"/>\n",
       "      <use x=\"54.980469\" xlink:href=\"#DejaVuSans-114\"/>\n",
       "      <use x=\"93.84375\" xlink:href=\"#DejaVuSans-111\"/>\n",
       "      <use x=\"155.025391\" xlink:href=\"#DejaVuSans-115\"/>\n",
       "      <use x=\"207.125\" xlink:href=\"#DejaVuSans-115\"/>\n",
       "      <use x=\"259.224609\" xlink:href=\"#DejaVuSans-32\"/>\n",
       "      <use x=\"291.011719\" xlink:href=\"#DejaVuSans-101\"/>\n",
       "      <use x=\"352.535156\" xlink:href=\"#DejaVuSans-110\"/>\n",
       "      <use x=\"415.914062\" xlink:href=\"#DejaVuSans-116\"/>\n",
       "      <use x=\"455.123047\" xlink:href=\"#DejaVuSans-114\"/>\n",
       "      <use x=\"493.986328\" xlink:href=\"#DejaVuSans-111\"/>\n",
       "      <use x=\"555.167969\" xlink:href=\"#DejaVuSans-112\"/>\n",
       "      <use x=\"618.644531\" xlink:href=\"#DejaVuSans-121\"/>\n",
       "     </g>\n",
       "    </g>\n",
       "   </g>\n",
       "   <g id=\"line2d_25\">\n",
       "    <path clip-path=\"url(#p918213d239)\" d=\"M 45.904299 133.810619 \n",
       "L 52.105934 103.092457 \n",
       "L 58.30757 135.916808 \n",
       "L 64.509205 133.182949 \n",
       "L 70.71084 163.865104 \n",
       "L 76.912475 191.177443 \n",
       "L 83.11411 193.090819 \n",
       "L 89.315746 161.76419 \n",
       "L 95.517381 98.194009 \n",
       "L 107.920651 193.686807 \n",
       "L 114.122286 163.996737 \n",
       "L 120.323922 163.989447 \n",
       "L 132.727192 157.152303 \n",
       "L 145.130462 162.202271 \n",
       "L 151.332098 160.07371 \n",
       "L 163.735368 187.688269 \n",
       "L 176.138638 161.888297 \n",
       "L 188.541909 189.459394 \n",
       "L 207.146814 163.334659 \n",
       "L 219.550085 190.42329 \n",
       "L 238.15499 161.844445 \n",
       "L 256.759896 187.831123 \n",
       "L 275.364801 190.465099 \n",
       "L 293.969707 161.183258 \n",
       "L 318.776248 193.57492 \n",
       "L 337.381153 192.876924 \n",
       "L 362.187694 162.191609 \n",
       "L 386.994235 189.428205 \n",
       "L 418.002411 192.225633 \n",
       "\" style=\"fill:none;stroke:#009afa;\"/>\n",
       "   </g>\n",
       "   <g id=\"line2d_26\">\n",
       "    <path clip-path=\"url(#p918213d239)\" d=\"M 45.904299 129.269492 \n",
       "L 52.105934 106.365532 \n",
       "L 58.30757 162.763594 \n",
       "L 64.509205 133.210005 \n",
       "L 70.71084 131.603105 \n",
       "L 76.912475 100.273876 \n",
       "L 83.11411 100.552022 \n",
       "L 89.315746 160.924171 \n",
       "L 95.517381 162.906996 \n",
       "L 107.920651 161.80584 \n",
       "L 114.122286 134.699965 \n",
       "L 120.323922 160.337308 \n",
       "L 132.727192 161.159538 \n",
       "L 145.130462 192.647845 \n",
       "L 151.332098 133.267351 \n",
       "L 163.735368 131.319798 \n",
       "L 176.138638 188.182259 \n",
       "L 188.541909 161.374637 \n",
       "L 207.146814 191.539214 \n",
       "L 219.550085 162.088771 \n",
       "L 238.15499 249.888076 \n",
       "L 256.759896 190.928956 \n",
       "L 275.364801 220.378648 \n",
       "L 293.969707 222.485535 \n",
       "L 318.776248 164.224827 \n",
       "L 337.381153 222.386178 \n",
       "L 362.187694 190.243548 \n",
       "L 386.994235 192.553624 \n",
       "L 418.002411 189.989126 \n",
       "\" style=\"fill:none;stroke:#e36f47;\"/>\n",
       "   </g>\n",
       "   <g id=\"patch_3\">\n",
       "    <path d=\"M 34.741356 257.719104 \n",
       "L 34.741356 2.834646 \n",
       "\" style=\"fill:none;stroke:#000000;stroke-linecap:square;stroke-linejoin:miter;\"/>\n",
       "   </g>\n",
       "   <g id=\"patch_4\">\n",
       "    <path d=\"M 34.741356 257.719104 \n",
       "L 429.165354 257.719104 \n",
       "\" style=\"fill:none;stroke:#000000;stroke-linecap:square;stroke-linejoin:miter;\"/>\n",
       "   </g>\n",
       "   <g id=\"line2d_27\">\n",
       "    <path clip-path=\"url(#p918213d239)\" d=\"M 45.904299 194.856082 \n",
       "L 52.105934 42.947457 \n",
       "L 58.30757 70.406459 \n",
       "L 64.509205 69.67012 \n",
       "L 70.71084 99.919588 \n",
       "L 76.912475 128.87977 \n",
       "L 83.11411 132.712298 \n",
       "L 89.315746 129.837624 \n",
       "L 95.517381 159.743493 \n",
       "L 107.920651 194.340165 \n",
       "L 114.122286 132.76052 \n",
       "L 120.323922 102.027631 \n",
       "L 132.727192 131.448138 \n",
       "L 145.130462 191.759353 \n",
       "L 151.332098 186.589717 \n",
       "L 163.735368 163.011958 \n",
       "L 176.138638 191.013482 \n",
       "L 188.541909 163.055251 \n",
       "L 207.146814 131.052183 \n",
       "L 219.550085 158.097685 \n",
       "L 238.15499 164.446546 \n",
       "L 256.759896 220.522612 \n",
       "L 275.364801 189.056973 \n",
       "L 293.969707 193.949045 \n",
       "L 318.776248 163.026896 \n",
       "L 337.381153 191.194365 \n",
       "L 362.187694 223.670957 \n",
       "L 386.994235 194.348919 \n",
       "L 418.002411 250.505393 \n",
       "\" style=\"fill:none;stroke:#3ea44e;\"/>\n",
       "   </g>\n",
       "   <g id=\"line2d_28\">\n",
       "    <path clip-path=\"url(#p918213d239)\" d=\"M 45.904299 10.048357 \n",
       "L 52.105934 68.178961 \n",
       "L 58.30757 110.188055 \n",
       "L 64.509205 130.844566 \n",
       "L 70.71084 103.816243 \n",
       "L 76.912475 159.964398 \n",
       "L 83.11411 162.78624 \n",
       "L 89.315746 128.89733 \n",
       "L 95.517381 132.522718 \n",
       "L 107.920651 158.22351 \n",
       "L 114.122286 192.612183 \n",
       "L 120.323922 192.287752 \n",
       "L 132.727192 127.139634 \n",
       "L 145.130462 132.459193 \n",
       "L 151.332098 192.947844 \n",
       "L 163.735368 216.128199 \n",
       "L 176.138638 163.773921 \n",
       "L 188.541909 193.251181 \n",
       "L 207.146814 160.94372 \n",
       "L 219.550085 222.025106 \n",
       "L 238.15499 188.541543 \n",
       "L 256.759896 191.981656 \n",
       "L 275.364801 219.117792 \n",
       "L 293.969707 162.389227 \n",
       "L 318.776248 194.596034 \n",
       "L 337.381153 163.837358 \n",
       "L 362.187694 221.112382 \n",
       "L 386.994235 191.940135 \n",
       "L 418.002411 250.257552 \n",
       "\" style=\"fill:none;stroke:#c371d2;\"/>\n",
       "   </g>\n",
       "   <g id=\"legend_1\">\n",
       "    <g id=\"patch_5\">\n",
       "     <path d=\"M 380.140354 62.604646 \n",
       "L 425.165354 62.604646 \n",
       "L 425.165354 6.834646 \n",
       "L 380.140354 6.834646 \n",
       "z\n",
       "\" style=\"fill:#ffffff;stroke:#000000;stroke-linejoin:miter;\"/>\n",
       "    </g>\n",
       "    <g id=\"line2d_29\">\n",
       "     <path d=\"M 386.540354 16.513396 \n",
       "L 402.540354 16.513396 \n",
       "\" style=\"fill:none;stroke:#009afa;stroke-linejoin:miter;\"/>\n",
       "    </g>\n",
       "    <g id=\"line2d_30\"/>\n",
       "    <g id=\"text_15\">\n",
       "     <!-- y1 -->\n",
       "     <g transform=\"translate(408.940354 19.313396)scale(0.08 -0.08)\">\n",
       "      <use xlink:href=\"#DejaVuSans-121\"/>\n",
       "      <use x=\"59.179688\" xlink:href=\"#DejaVuSans-49\"/>\n",
       "     </g>\n",
       "    </g>\n",
       "    <g id=\"line2d_31\">\n",
       "     <path d=\"M 386.540354 28.255896 \n",
       "L 402.540354 28.255896 \n",
       "\" style=\"fill:none;stroke:#e36f47;stroke-linejoin:miter;\"/>\n",
       "    </g>\n",
       "    <g id=\"line2d_32\"/>\n",
       "    <g id=\"text_16\">\n",
       "     <!-- y2 -->\n",
       "     <g transform=\"translate(408.940354 31.055896)scale(0.08 -0.08)\">\n",
       "      <use xlink:href=\"#DejaVuSans-121\"/>\n",
       "      <use x=\"59.179688\" xlink:href=\"#DejaVuSans-50\"/>\n",
       "     </g>\n",
       "    </g>\n",
       "    <g id=\"line2d_33\">\n",
       "     <path d=\"M 386.540354 39.998396 \n",
       "L 402.540354 39.998396 \n",
       "\" style=\"fill:none;stroke:#3ea44e;stroke-linejoin:miter;\"/>\n",
       "    </g>\n",
       "    <g id=\"line2d_34\"/>\n",
       "    <g id=\"text_17\">\n",
       "     <!-- y3 -->\n",
       "     <g transform=\"translate(408.940354 42.798396)scale(0.08 -0.08)\">\n",
       "      <use xlink:href=\"#DejaVuSans-121\"/>\n",
       "      <use x=\"59.179688\" xlink:href=\"#DejaVuSans-51\"/>\n",
       "     </g>\n",
       "    </g>\n",
       "    <g id=\"line2d_35\">\n",
       "     <path d=\"M 386.540354 51.740896 \n",
       "L 402.540354 51.740896 \n",
       "\" style=\"fill:none;stroke:#c371d2;stroke-linejoin:miter;\"/>\n",
       "    </g>\n",
       "    <g id=\"line2d_36\"/>\n",
       "    <g id=\"text_18\">\n",
       "     <!-- y4 -->\n",
       "     <g transform=\"translate(408.940354 54.540896)scale(0.08 -0.08)\">\n",
       "      <use xlink:href=\"#DejaVuSans-121\"/>\n",
       "      <use x=\"59.179688\" xlink:href=\"#DejaVuSans-52\"/>\n",
       "     </g>\n",
       "    </g>\n",
       "   </g>\n",
       "  </g>\n",
       " </g>\n",
       " <defs>\n",
       "  <clipPath id=\"p918213d239\">\n",
       "   <rect height=\"254.884459\" width=\"394.423998\" x=\"34.741356\" y=\"2.834646\"/>\n",
       "  </clipPath>\n",
       " </defs>\n",
       "</svg>\n"
      ],
      "text/html": [
       "<img src=\"data:image/png;base64,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\" />"
      ],
      "text/plain": [
       "Plot{Plots.PyPlotBackend() n=4}"
      ]
     },
     "execution_count": 92,
     "metadata": {},
     "output_type": "execute_result"
    }
   ],
   "source": [
    "plt = plot()\n",
    "for i in 1:4\n",
    "    curve = learning_curve(mach,\n",
    "                           range=r,\n",
    "                           resampling=Holdout(),\n",
    "                           measure=cross_entropy)\n",
    "    plt=plot!(curve.parameter_values, curve.measurements)\n",
    "end\n",
    "xlabel!(plt, \"n_trees\")\n",
    "ylabel!(plt, \"cross entropy\")"
   ]
  },
  {
   "cell_type": "markdown",
   "metadata": {},
   "source": [
    "6(c)(ii)"
   ]
  },
  {
   "cell_type": "code",
   "execution_count": 93,
   "metadata": {},
   "outputs": [
    {
     "name": "stdout",
     "output_type": "stream",
     "text": [
      "┌ Info: Creating subsamples from a subset of all rows. \n",
      "└ @ MLJBase /Users/anthony/.julia/packages/MLJBase/r3heT/src/resampling.jl:336\n",
      "\r",
      "Evaluating over 9 folds:  11%[==>                      ]  ETA: 0:00:00\u001b[K\r",
      "Evaluating over 9 folds:  22%[=====>                   ]  ETA: 0:00:00\u001b[K\r",
      "Evaluating over 9 folds:  33%[========>                ]  ETA: 0:00:00\u001b[K\r",
      "Evaluating over 9 folds:  44%[===========>             ]  ETA: 0:00:00\u001b[K\r",
      "Evaluating over 9 folds:  56%[=============>           ]  ETA: 0:00:00\u001b[K\r",
      "Evaluating over 9 folds:  67%[================>        ]  ETA: 0:00:00\u001b[K\r",
      "Evaluating over 9 folds:  78%[===================>     ]  ETA: 0:00:00\u001b[K\r",
      "Evaluating over 9 folds:  89%[======================>  ]  ETA: 0:00:00\u001b[K\r",
      "Evaluating over 9 folds: 100%[=========================] Time: 0:00:00\u001b[K\n"
     ]
    },
    {
     "data": {
      "text/plain": [
       "90"
      ]
     },
     "execution_count": 93,
     "metadata": {},
     "output_type": "execute_result"
    }
   ],
   "source": [
    "evaluate!(mach, resampling=CV(nfolds=9),\n",
    "                measure=cross_entropy,\n",
    "                rows=train).measurement[1]\n",
    "\n",
    "model.n_trees = 90"
   ]
  },
  {
   "cell_type": "markdown",
   "metadata": {},
   "source": [
    "6(c)(iii)"
   ]
  },
  {
   "cell_type": "code",
   "execution_count": 94,
   "metadata": {},
   "outputs": [
    {
     "data": {
      "text/plain": [
       "1.563353844275659"
      ]
     },
     "execution_count": 94,
     "metadata": {},
     "output_type": "execute_result"
    }
   ],
   "source": [
    "err_forest = evaluate!(mach, resampling=Holdout(),\n",
    "                       measure=cross_entropy).measurement[1]"
   ]
  },
  {
   "cell_type": "markdown",
   "metadata": {},
   "source": [
    "---\n",
    "\n",
    "*This notebook was generated using [Literate.jl](https://github.com/fredrikekre/Literate.jl).*"
   ]
  }
 ],
 "metadata": {
  "kernelspec": {
   "display_name": "Julia 1.4.2",
   "language": "julia",
   "name": "julia-1.4"
  },
  "language_info": {
   "file_extension": ".jl",
   "mimetype": "application/julia",
   "name": "julia",
   "version": "1.4.2"
  }
 },
 "nbformat": 4,
 "nbformat_minor": 3
}
