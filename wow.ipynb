{
 "cells": [
  {
   "cell_type": "markdown",
   "metadata": {},
   "source": [
    "# State-of-the-art model composition in MLJ (Machine Learning in Julia)"
   ]
  },
  {
   "cell_type": "markdown",
   "metadata": {},
   "source": [
    "In this script we use [model\n",
    "stacking](https://alan-turing-institute.github.io/DataScienceTutorials.jl/getting-started/stacking/)\n",
    "to demonstrate the ease with which machine learning models can be\n",
    "combined in sophisticated ways using MLJ. In the future MLJ will\n",
    "have a canned version of stacking. For now we show how to stack\n",
    "using MLJ's generic model composition syntax, which is an extension\n",
    "of the normal fit/predict syntax."
   ]
  },
  {
   "cell_type": "code",
   "execution_count": 24,
   "metadata": {},
   "outputs": [
    {
     "name": "stderr",
     "output_type": "stream",
     "text": [
      "\u001b[32m\u001b[1m Activating\u001b[22m\u001b[39m environment at `~/Dropbox/Julia7/MLJ/MachineLearningInJulia2020/Project.toml`\n"
     ]
    }
   ],
   "source": [
    "DIR = @__DIR__\n",
    "include(joinpath(DIR, \"setup.jl\"))"
   ]
  },
  {
   "cell_type": "markdown",
   "metadata": {},
   "source": [
    "## Stacking is hard"
   ]
  },
  {
   "cell_type": "markdown",
   "metadata": {},
   "source": [
    "[Model\n",
    "stacking](https://alan-turing-institute.github.io/DataScienceTutorials.jl/getting-started/stacking/),\n",
    "popular in Kaggle data science competitions, is a sophisticated way\n",
    "to blend the predictions of multiple models."
   ]
  },
  {
   "cell_type": "markdown",
   "metadata": {},
   "source": [
    "With the python toolbox\n",
    "[scikit-learn](https://scikit-learn.org/stable/) (or its [julia\n",
    "wrap](https://github.com/cstjean/ScikitLearn.jl)) you can use\n",
    "pipelines to combine composite models in simple ways but (automated)\n",
    "stacking is beyond its capabilities."
   ]
  },
  {
   "cell_type": "markdown",
   "metadata": {},
   "source": [
    "One python alternative is to use\n",
    "[vecstack](https://github.com/vecxoz/vecstack). The [core\n",
    "algorithm](https://github.com/vecxoz/vecstack/blob/master/vecstack/core.py)\n",
    "is about eight pages (without the scikit-learn interface):"
   ]
  },
  {
   "cell_type": "markdown",
   "metadata": {},
   "source": [
    "![](vecstack.png)."
   ]
  },
  {
   "cell_type": "markdown",
   "metadata": {},
   "source": [
    "## Stacking is easy (in MLJ)"
   ]
  },
  {
   "cell_type": "markdown",
   "metadata": {},
   "source": [
    "Using MLJ's [generic model composition\n",
    "API](https://alan-turing-institute.github.io/MLJ.jl/dev/composing_models/)\n",
    "you can build a stack in about a page."
   ]
  },
  {
   "cell_type": "markdown",
   "metadata": {},
   "source": [
    "Here's the complete code needed to define a new model type that\n",
    "stacks two base regressors and one adjudicator in MLJ.  Here we use\n",
    "three folds to create the base-learner [out-of-sample\n",
    "predictions](https://alan-turing-institute.github.io/DataScienceTutorials.jl/getting-started/stacking/)\n",
    "to make it easier to read. You can make this generic with little fuss."
   ]
  },
  {
   "cell_type": "code",
   "execution_count": 25,
   "metadata": {},
   "outputs": [
    {
     "data": {
      "text/plain": [
       "MyStack(\n",
       "    regressor1 = LinearRegressor(\n",
       "            fit_intercept = true,\n",
       "            solver = nothing),\n",
       "    regressor2 = LinearRegressor(\n",
       "            fit_intercept = true,\n",
       "            solver = nothing),\n",
       "    judge = LinearRegressor(\n",
       "            fit_intercept = true,\n",
       "            solver = nothing))\u001b[34m @218\u001b[39m"
      ]
     },
     "execution_count": 25,
     "metadata": {},
     "output_type": "execute_result"
    }
   ],
   "source": [
    "using MLJ\n",
    "\n",
    "folds(data, nfolds) =\n",
    "    partition(1:nrows(data), (1/nfolds for i in 1:(nfolds-1))...);\n",
    "\n",
    "model1 = @load LinearRegressor pkg=MLJLinearModels\n",
    "model2 = @load LinearRegressor pkg=MLJLinearModels\n",
    "judge = @load LinearRegressor pkg=MLJLinearModels\n",
    "\n",
    "X = source()\n",
    "y = source()\n",
    "\n",
    "folds(X::AbstractNode, nfolds) = node(XX->folds(XX, nfolds), X)\n",
    "MLJ.restrict(X::AbstractNode, f::AbstractNode, i) =\n",
    "    node((XX, ff) -> restrict(XX, ff, i), X, f);\n",
    "MLJ.corestrict(X::AbstractNode, f::AbstractNode, i) =\n",
    "    node((XX, ff) -> corestrict(XX, ff, i), X, f);\n",
    "\n",
    "f = folds(X, 3)\n",
    "\n",
    "m11 = machine(model1, corestrict(X, f, 1), corestrict(y, f, 1))\n",
    "m12 = machine(model1, corestrict(X, f, 2), corestrict(y, f, 2))\n",
    "m13 = machine(model1, corestrict(X, f, 3), corestrict(y, f, 3))\n",
    "\n",
    "y11 = predict(m11, restrict(X, f, 1));\n",
    "y12 = predict(m12, restrict(X, f, 2));\n",
    "y13 = predict(m13, restrict(X, f, 3));\n",
    "\n",
    "m21 = machine(model2, corestrict(X, f, 1), corestrict(y, f, 1))\n",
    "m22 = machine(model2, corestrict(X, f, 2), corestrict(y, f, 2))\n",
    "m23 = machine(model2, corestrict(X, f, 3), corestrict(y, f, 3))\n",
    "\n",
    "y21 = predict(m21, restrict(X, f, 1));\n",
    "y22 = predict(m22, restrict(X, f, 2));\n",
    "y23 = predict(m23, restrict(X, f, 3));\n",
    "\n",
    "y1_oos = vcat(y11, y12, y13);\n",
    "y2_oos = vcat(y21, y22, y23);\n",
    "\n",
    "X_oos = MLJ.table(hcat(y1_oos, y2_oos))\n",
    "\n",
    "m_judge = machine(judge, X_oos, y)\n",
    "\n",
    "m1 = machine(model1, X, y)\n",
    "m2 = machine(model2, X, y)\n",
    "\n",
    "y1 = predict(m1, X);\n",
    "y2 = predict(m2, X);\n",
    "\n",
    "X_judge = MLJ.table(hcat(y1, y2))\n",
    "yhat = predict(m_judge, X_judge)\n",
    "\n",
    "@from_network machine(Deterministic(), X, y; predict=yhat) begin\n",
    "    mutable struct MyStack\n",
    "        regressor1=model1\n",
    "        regressor2=model2\n",
    "        judge=judge\n",
    "    end\n",
    "end\n",
    "\n",
    "my_stack = MyStack()"
   ]
  },
  {
   "cell_type": "markdown",
   "metadata": {},
   "source": [
    "For the curious: Only the last block defines the new model type. The\n",
    "rest defines a *[learning network]()* - a kind of working prototype\n",
    "or blueprint for the type. If the source nodes `X` and `y` wrap some\n",
    "data (instead of nothing) then the network can be trained and tested\n",
    "as you build it."
   ]
  },
  {
   "cell_type": "markdown",
   "metadata": {},
   "source": [
    "## Composition plays well with other work-flows"
   ]
  },
  {
   "cell_type": "markdown",
   "metadata": {},
   "source": [
    "We did not include standardization of inputs and target (with\n",
    "post-prediction inversion) in our stack. However, we can add these\n",
    "now, using MLJ's canned pipeline composition:"
   ]
  },
  {
   "cell_type": "code",
   "execution_count": 26,
   "metadata": {},
   "outputs": [
    {
     "name": "stderr",
     "output_type": "stream",
     "text": [
      "┌ Info: Treating pipeline as a `Deterministic` predictor.\n",
      "│ To override, specify `prediction_type=...` (options: :deterministic, :probabilistic, :interval). \n",
      "└ @ MLJBase /Users/anthony/Dropbox/Julia7/MLJ/MLJBase/src/composition/models/pipelines.jl:397\n"
     ]
    },
    {
     "data": {
      "text/plain": [
       "Pipeline422(\n",
       "    standardizer = Standardizer(\n",
       "            features = Symbol[],\n",
       "            ignore = false,\n",
       "            ordered_factor = false,\n",
       "            count = false),\n",
       "    my_stack = MyStack(\n",
       "            regressor1 = \u001b[34mLinearRegressor @677\u001b[39m,\n",
       "            regressor2 = \u001b[34mLinearRegressor @565\u001b[39m,\n",
       "            judge = \u001b[34mLinearRegressor @217\u001b[39m),\n",
       "    target = Standardizer(\n",
       "            features = Symbol[],\n",
       "            ignore = false,\n",
       "            ordered_factor = false,\n",
       "            count = false))\u001b[34m @953\u001b[39m"
      ]
     },
     "execution_count": 26,
     "metadata": {},
     "output_type": "execute_result"
    }
   ],
   "source": [
    "pipe = @pipeline Standardizer my_stack target=Standardizer"
   ]
  },
  {
   "cell_type": "markdown",
   "metadata": {},
   "source": [
    "Want to change a base learner and adjudicator?"
   ]
  },
  {
   "cell_type": "code",
   "execution_count": 27,
   "metadata": {},
   "outputs": [
    {
     "data": {
      "text/plain": [
       "KNNRegressor(\n",
       "    K = 5,\n",
       "    algorithm = :kdtree,\n",
       "    metric = Distances.Euclidean(0.0),\n",
       "    leafsize = 10,\n",
       "    reorder = true,\n",
       "    weights = :uniform)\u001b[34m @284\u001b[39m"
      ]
     },
     "execution_count": 27,
     "metadata": {},
     "output_type": "execute_result"
    }
   ],
   "source": [
    "pipe.my_stack.regressor2 = @load DecisionTreeRegressor pkg=DecisionTree\n",
    "pipe.my_stack.judge = @load KNNRegressor"
   ]
  },
  {
   "cell_type": "markdown",
   "metadata": {},
   "source": [
    "Want a CV estimate of performance of the complete model on some data?"
   ]
  },
  {
   "cell_type": "code",
   "execution_count": 29,
   "metadata": {},
   "outputs": [
    {
     "name": "stderr",
     "output_type": "stream",
     "text": [
      "\u001b[33mEvaluating over 6 folds: 100%[=========================] Time: 0:00:00\u001b[39m\n"
     ]
    },
    {
     "data": {
      "text/plain": [
       "┌\u001b[0m───────────\u001b[0m┬\u001b[0m───────────────\u001b[0m┬\u001b[0m──────────────────────────────────────\u001b[0m┐\u001b[0m\n",
       "│\u001b[0m\u001b[22m _.measure \u001b[0m│\u001b[0m\u001b[22m _.measurement \u001b[0m│\u001b[0m\u001b[22m _.per_fold                           \u001b[0m│\u001b[0m\n",
       "├\u001b[0m───────────\u001b[0m┼\u001b[0m───────────────\u001b[0m┼\u001b[0m──────────────────────────────────────\u001b[0m┤\u001b[0m\n",
       "│\u001b[0m mae       \u001b[0m│\u001b[0m 4.06          \u001b[0m│\u001b[0m [3.31, 3.28, 3.64, 3.55, 6.44, 4.13] \u001b[0m│\u001b[0m\n",
       "│\u001b[0m rms       \u001b[0m│\u001b[0m 5.89          \u001b[0m│\u001b[0m [4.32, 4.89, 4.85, 4.96, 9.58, 5.03] \u001b[0m│\u001b[0m\n",
       "└\u001b[0m───────────\u001b[0m┴\u001b[0m───────────────\u001b[0m┴\u001b[0m──────────────────────────────────────\u001b[0m┘\u001b[0m\n",
       "_.per_observation = [missing, missing]\n"
      ]
     },
     "execution_count": 29,
     "metadata": {},
     "output_type": "execute_result"
    }
   ],
   "source": [
    "X, y = @load_boston;\n",
    "mach = machine(pipe, X, y)\n",
    "evaluate!(mach, resampling=CV(), measure=[mae, rms])"
   ]
  },
  {
   "cell_type": "markdown",
   "metadata": {},
   "source": [
    "Want to inspect the learned parameters of the adjudicator?"
   ]
  },
  {
   "cell_type": "code",
   "execution_count": 30,
   "metadata": {},
   "outputs": [
    {
     "data": {
      "text/plain": [
       "(tree = NearestNeighbors.KDTree{StaticArrays.SArray{Tuple{2},Float64,1,2},Distances.Euclidean,Float64}\n",
       "  Number of points: 422\n",
       "  Dimensions: 2\n",
       "  Metric: Distances.Euclidean(0.0)\n",
       "  Reordered: true,)"
      ]
     },
     "execution_count": 30,
     "metadata": {},
     "output_type": "execute_result"
    }
   ],
   "source": [
    "fp =  fitted_params(mach);\n",
    "fp.my_stack.judge"
   ]
  },
  {
   "cell_type": "markdown",
   "metadata": {},
   "source": [
    "What about the first base-learner of the stack? There are four sets\n",
    "of learned parameters!  One for each fold to make an out-of-sample\n",
    "prediction, and one trained on all the data:"
   ]
  },
  {
   "cell_type": "code",
   "execution_count": 20,
   "metadata": {},
   "outputs": [
    {
     "data": {
      "text/plain": [
       "4-element Array{NamedTuple{(:coefs, :intercept),Tuple{Array{Pair{Symbol,Float64},1},Float64}},1}:\n",
       " (coefs = [:Crim => 1.1605866400904383, :Zn => 0.054971600449223744, :Indus => 0.02679415363476178, :NOx => -0.11882912390701086, :Rm => 0.7099308244638554, :Age => -0.15003532248300558, :Dis => -0.23597596607622465, :Rad => 0.15657046673826053, :Tax => -0.22095734307413317, :PTRatio => -0.15611589791781352, :Black => 0.11404720779902852, :LStat => -0.08676129694168858], intercept = 0.32302143144754664)\n",
       " (coefs = [:Crim => -0.14920933046037121, :Zn => 0.1100647268676245, :Indus => 0.07992127689382282, :NOx => -0.4407313025855353, :Rm => 0.09242117837895152, :Age => 0.15677762272569415, :Dis => -0.2554734741178306, :Rad => 0.4362130102822997, :Tax => -0.21204285221704688, :PTRatio => -0.13572824900462058, :Black => -0.006387836232192633, :LStat => -0.5803226361244977], intercept = -0.15468607583299843)\n",
       " (coefs = [:Crim => -0.15264857459778866, :Zn => 0.16933996101212634, :Indus => 0.09817393701370102, :NOx => -0.2915017253633691, :Rm => 0.29035597589106715, :Age => 0.04933337270371607, :Dis => -0.4223092758606594, :Rad => 0.29115481204819815, :Tax => -0.22197931055356784, :PTRatio => -0.18778875536955122, :Black => 0.013283327549796971, :LStat => -0.4851160536910278], intercept = 0.04798473638537437)\n",
       " (coefs = [:Crim => -0.14989998505050764, :Zn => 0.1245103072593434, :Indus => 0.04572315240214006, :NOx => -0.20952000821515018, :Rm => 0.3338868272921798, :Age => 0.031026429052889663, :Dis => -0.32010092389552863, :Rad => 0.36244871669752143, :Tax => -0.2558650060206066, :PTRatio => -0.21238284522551104, :Black => 0.010390650033101599, :LStat => -0.4295189896332337], intercept = -2.5091739277862323e-16)"
      ]
     },
     "execution_count": 20,
     "metadata": {},
     "output_type": "execute_result"
    }
   ],
   "source": [
    "fp.my_stack.regressor1"
   ]
  },
  {
   "cell_type": "code",
   "execution_count": 21,
   "metadata": {},
   "outputs": [
    {
     "data": {
      "text/plain": [
       "12-element Array{Pair{Symbol,Float64},1}:\n",
       "    :Crim => 1.1605866400904383\n",
       "      :Zn => 0.054971600449223744\n",
       "   :Indus => 0.02679415363476178\n",
       "     :NOx => -0.11882912390701086\n",
       "      :Rm => 0.7099308244638554\n",
       "     :Age => -0.15003532248300558\n",
       "     :Dis => -0.23597596607622465\n",
       "     :Rad => 0.15657046673826053\n",
       "     :Tax => -0.22095734307413317\n",
       " :PTRatio => -0.15611589791781352\n",
       "   :Black => 0.11404720779902852\n",
       "   :LStat => -0.08676129694168858"
      ]
     },
     "execution_count": 21,
     "metadata": {},
     "output_type": "execute_result"
    }
   ],
   "source": [
    "fp.my_stack.regressor1[1].coefs"
   ]
  },
  {
   "cell_type": "markdown",
   "metadata": {},
   "source": [
    "Want to tune multiple (nested) hyperparameters in the stack? Tuning is a\n",
    "model wrapper (for better composition!):"
   ]
  },
  {
   "cell_type": "code",
   "execution_count": 31,
   "metadata": {},
   "outputs": [
    {
     "name": "stderr",
     "output_type": "stream",
     "text": [
      "┌ Info: Training \u001b[34mMachine{DeterministicTunedModel{RandomSearch,…}} @054\u001b[39m.\n",
      "└ @ MLJBase /Users/anthony/Dropbox/Julia7/MLJ/MLJBase/src/machines.jl:317\n",
      "┌ Info: Attempting to evaluate 100 models.\n",
      "└ @ MLJTuning /Users/anthony/Dropbox/Julia7/MLJ/MLJTuning/src/tuned_models.jl:474\n",
      "\u001b[33mEvaluating over 100 metamodels: 100%[=========================] Time: 0:00:06\u001b[39m\n"
     ]
    },
    {
     "name": "stdout",
     "output_type": "stream",
     "text": [
      "K = 20\n",
      "max_depth = 19\n"
     ]
    }
   ],
   "source": [
    "r1 = range(pipe, :(my_stack.regressor2.max_depth), lower = 1, upper = 25)\n",
    "r2 = range(pipe, :(my_stack.judge.K), lower=1, origin=10, unit=10)\n",
    "\n",
    "import Distributions.Poisson\n",
    "\n",
    "tuned_pipe = TunedModel(model=pipe,\n",
    "                         ranges=[r1, (r2, Poisson)],\n",
    "                         tuning=RandomSearch(),\n",
    "                         resampling=CV(),\n",
    "                         measure=rms,\n",
    "                         n=100)\n",
    "mach = machine(tuned_pipe, X, y) |> fit!\n",
    "best_model = fitted_params(mach).best_model\n",
    "K = fitted_params(mach).best_model.my_stack.judge.K;\n",
    "max_depth = fitted_params(mach).best_model.my_stack.regressor2.max_depth\n",
    "@show K max_depth;"
   ]
  },
  {
   "cell_type": "markdown",
   "metadata": {},
   "source": [
    "Visualize tuning results:"
   ]
  },
  {
   "cell_type": "code",
   "execution_count": 32,
   "metadata": {},
   "outputs": [
    {
     "name": "stderr",
     "output_type": "stream",
     "text": [
      "┌ Warning: scale log is unsupported with Plots.PyPlotBackend().  Choose from: [:identity, :ln, :log2, :log10]\n",
      "└ @ Plots /Users/anthony/.julia/packages/Plots/VA7Vx/src/args.jl:1195\n"
     ]
    },
    {
     "data": {
      "image/png": "[encoded data removed]"
     },
     "execution_count": 32,
     "metadata": {},
     "output_type": "execute_result"
    }
   ],
   "source": [
    "using Plots\n",
    "pyplot()\n",
    "plot(mach)"
   ]
  },
  {
   "cell_type": "markdown",
   "metadata": {},
   "source": [
    "---\n",
    "\n",
    "*This notebook was generated using [Literate.jl](https://github.com/fredrikekre/Literate.jl).*"
   ]
  }
 ],
 "metadata": {
  "kernelspec": {
   "display_name": "Julia 1.4.2",
   "language": "julia",
   "name": "julia-1.4"
  },
  "language_info": {
   "file_extension": ".jl",
   "mimetype": "application/julia",
   "name": "julia",
   "version": "1.4.2"
  }
 },
 "nbformat": 4,
 "nbformat_minor": 3
}
